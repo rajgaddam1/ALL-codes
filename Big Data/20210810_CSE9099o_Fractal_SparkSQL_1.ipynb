{
 "cells": [
  {
   "cell_type": "markdown",
   "metadata": {},
   "source": [
    "### In this activity we will understand\n",
    "- What are DataFrames in Spark ?\n",
    "- Different ways to create a DataFrames\n",
    "- What are Spark Transformations & Actions\n",
    "- Verify Summary Statistics\n",
    "- Spark SQL\n",
    "- Performance Comparison of Spark DataFrame and Spark SQL\n",
    "- Column References\n",
    "- Converting to Spark Types - Literals\n",
    "- Add/Rename/Remove Columns\n",
    "- TypeCasting\n",
    "- Column differences\n",
    "- Pair-wise frequencies\n",
    "- Remove duplicates\n",
    "- Working with Nulls\n",
    "- Filtering the rows\n",
    "- Aggregations\n",
    "- Joins\n",
    "- Random Samples\n",
    "- Random Splits\n",
    "- Map Transformations\n",
    "- Sorting\n",
    "- Union\n",
    "- String Manipulations\n",
    "- Regular Expressions\n",
    "- Working with Dates and Time Stamp\n",
    "- User Defined Functions\n",
    "- Broadcase variables and Accumulators\n",
    "- Handling Different Data Sources\n",
    "- Enabling for Conversion to/from Pandas\n",
    "- Pandas UDFs (a.k.a. Vectorized UDFs)\n",
    "- Scalar\n",
    "- Grouped Map"
   ]
  },
  {
   "cell_type": "code",
   "execution_count": 1,
   "metadata": {
    "id": "DXMmwQMGxFPG"
   },
   "outputs": [],
   "source": [
    "!pip install -q findspark"
   ]
  },
  {
   "cell_type": "code",
   "execution_count": 1,
   "metadata": {
    "id": "Q0RIn1sQxJgC"
   },
   "outputs": [],
   "source": [
    "import os\n",
    "os.environ[\"SPARK_HOME\"] = \"/usr/share/spark-3.1.1-bin-hadoop3.2\""
   ]
  },
  {
   "cell_type": "code",
   "execution_count": 2,
   "metadata": {
    "id": "gej34IvmIMtZ"
   },
   "outputs": [],
   "source": [
    "import findspark\n",
    "findspark.init()"
   ]
  },
  {
   "cell_type": "code",
   "execution_count": 3,
   "metadata": {
    "id": "o1EYsWgmxRY0"
   },
   "outputs": [],
   "source": [
    "import pyspark\n",
    "from pyspark.sql import SparkSession"
   ]
  },
  {
   "cell_type": "code",
   "execution_count": 4,
   "metadata": {
    "id": "UnA-PixxIBtu"
   },
   "outputs": [],
   "source": [
    "#spark = SparkSession.builder.appName('SparkSQL_UseCase').master('spark://172.16.0.118:7077').getOrCreate()\n",
    "spark = SparkSession.builder.appName('SparkSQL_UseCase').master('local[2]').getOrCreate()"
   ]
  },
  {
   "cell_type": "code",
   "execution_count": 5,
   "metadata": {
    "colab": {
     "base_uri": "https://localhost:8080/",
     "height": 216
    },
    "id": "L5IhBbEFIhc0",
    "outputId": "5f17e69e-7aa9-4cba-dd0b-e6e66e414aee"
   },
   "outputs": [
    {
     "data": {
      "text/html": [
       "\n",
       "            <div>\n",
       "                <p><b>SparkSession - in-memory</b></p>\n",
       "                \n",
       "        <div>\n",
       "            <p><b>SparkContext</b></p>\n",
       "\n",
       "            <p><a href=\"http://172.16.0.68:4042\">Spark UI</a></p>\n",
       "\n",
       "            <dl>\n",
       "              <dt>Version</dt>\n",
       "                <dd><code>v3.1.1</code></dd>\n",
       "              <dt>Master</dt>\n",
       "                <dd><code>local[2]</code></dd>\n",
       "              <dt>AppName</dt>\n",
       "                <dd><code>SparkSQL_UseCase</code></dd>\n",
       "            </dl>\n",
       "        </div>\n",
       "        \n",
       "            </div>\n",
       "        "
      ],
      "text/plain": [
       "<pyspark.sql.session.SparkSession at 0x7f2e4fcd0ad0>"
      ]
     },
     "execution_count": 5,
     "metadata": {},
     "output_type": "execute_result"
    }
   ],
   "source": [
    "spark"
   ]
  },
  {
   "cell_type": "code",
   "execution_count": 6,
   "metadata": {
    "id": "psiTQ6A4Ijl2"
   },
   "outputs": [],
   "source": [
    "myRangeDF = spark.range(100).toDF('number')"
   ]
  },
  {
   "cell_type": "code",
   "execution_count": 7,
   "metadata": {
    "colab": {
     "base_uri": "https://localhost:8080/"
    },
    "id": "g9eNg5V0LZxZ",
    "outputId": "92f0e69b-49ee-478c-9fe0-cd75561ef014"
   },
   "outputs": [
    {
     "data": {
      "text/plain": [
       "DataFrame[number: bigint]"
      ]
     },
     "execution_count": 7,
     "metadata": {},
     "output_type": "execute_result"
    }
   ],
   "source": [
    "myRangeDF"
   ]
  },
  {
   "cell_type": "code",
   "execution_count": 8,
   "metadata": {
    "colab": {
     "base_uri": "https://localhost:8080/"
    },
    "id": "VFUkG0n6LcPe",
    "outputId": "506d783f-851e-49cb-aa96-c2c29ea240d2"
   },
   "outputs": [
    {
     "name": "stdout",
     "output_type": "stream",
     "text": [
      "+------+\n",
      "|number|\n",
      "+------+\n",
      "|     0|\n",
      "|     1|\n",
      "|     2|\n",
      "|     3|\n",
      "+------+\n",
      "only showing top 4 rows\n",
      "\n"
     ]
    }
   ],
   "source": [
    "myRangeDF.show(4)"
   ]
  },
  {
   "cell_type": "code",
   "execution_count": 9,
   "metadata": {
    "id": "q_-aTEYXLgJl"
   },
   "outputs": [],
   "source": [
    "nameDF = spark.createDataFrame([[1,'Alice',30],\n",
    "                                [2,'Beneth',28],\n",
    "                                [3,'Charlie',29],\n",
    "                                [4,'Aligarh',31]],['Id','Name','Age'])"
   ]
  },
  {
   "cell_type": "code",
   "execution_count": 10,
   "metadata": {
    "colab": {
     "base_uri": "https://localhost:8080/"
    },
    "id": "09s5sMOhMGoh",
    "outputId": "cd51ac86-c3e8-40e1-a9fa-5e142b282aaf"
   },
   "outputs": [
    {
     "name": "stdout",
     "output_type": "stream",
     "text": [
      "+---+-------+---+\n",
      "| Id|   Name|Age|\n",
      "+---+-------+---+\n",
      "|  1|  Alice| 30|\n",
      "|  2| Beneth| 28|\n",
      "|  3|Charlie| 29|\n",
      "+---+-------+---+\n",
      "only showing top 3 rows\n",
      "\n"
     ]
    }
   ],
   "source": [
    "nameDF.show(3)"
   ]
  },
  {
   "cell_type": "code",
   "execution_count": 11,
   "metadata": {
    "colab": {
     "base_uri": "https://localhost:8080/"
    },
    "id": "10GEMoz4MIZe",
    "outputId": "322ac5dc-e382-4b99-e772-2f3a568f04ae"
   },
   "outputs": [
    {
     "data": {
      "text/plain": [
       "100"
      ]
     },
     "execution_count": 11,
     "metadata": {},
     "output_type": "execute_result"
    }
   ],
   "source": [
    "myRangeDF.count()"
   ]
  },
  {
   "cell_type": "code",
   "execution_count": 12,
   "metadata": {
    "id": "vOENZZxnMeFw"
   },
   "outputs": [],
   "source": [
    "evenDF = myRangeDF.where('number % 2 == 0')"
   ]
  },
  {
   "cell_type": "code",
   "execution_count": 13,
   "metadata": {
    "colab": {
     "base_uri": "https://localhost:8080/"
    },
    "id": "H3RqDEopNBJo",
    "outputId": "75b32657-331c-44d3-e34d-344ea9aa0cfc"
   },
   "outputs": [
    {
     "data": {
      "text/plain": [
       "DataFrame[number: bigint]"
      ]
     },
     "execution_count": 13,
     "metadata": {},
     "output_type": "execute_result"
    }
   ],
   "source": [
    "evenDF"
   ]
  },
  {
   "cell_type": "code",
   "execution_count": 14,
   "metadata": {
    "colab": {
     "base_uri": "https://localhost:8080/"
    },
    "id": "UkfY7jW1Mvm8",
    "outputId": "cbc51715-15cd-4da4-efa3-ca0dec08e0fe"
   },
   "outputs": [
    {
     "name": "stdout",
     "output_type": "stream",
     "text": [
      "+------+\n",
      "|number|\n",
      "+------+\n",
      "|     0|\n",
      "|     2|\n",
      "|     4|\n",
      "+------+\n",
      "only showing top 3 rows\n",
      "\n"
     ]
    }
   ],
   "source": [
    "evenDF.show(3)"
   ]
  },
  {
   "cell_type": "code",
   "execution_count": 15,
   "metadata": {
    "colab": {
     "base_uri": "https://localhost:8080/"
    },
    "id": "ejyxuy2MMxMb",
    "outputId": "0cc2d8e9-81fd-4bdd-b0b9-74323069aec7"
   },
   "outputs": [
    {
     "data": {
      "text/plain": [
       "50"
      ]
     },
     "execution_count": 15,
     "metadata": {},
     "output_type": "execute_result"
    }
   ],
   "source": [
    "evenDF.count()"
   ]
  },
  {
   "cell_type": "code",
   "execution_count": 6,
   "metadata": {
    "id": "HUpesMjEMz-9"
   },
   "outputs": [],
   "source": [
    "sc = spark.sparkContext"
   ]
  },
  {
   "cell_type": "code",
   "execution_count": 7,
   "metadata": {
    "colab": {
     "base_uri": "https://localhost:8080/",
     "height": 193
    },
    "id": "531MJYOwNkgW",
    "outputId": "eed21348-424e-4dc8-cb2a-4fc82432a4e4"
   },
   "outputs": [
    {
     "data": {
      "text/html": [
       "\n",
       "        <div>\n",
       "            <p><b>SparkContext</b></p>\n",
       "\n",
       "            <p><a href=\"http://172.16.0.68:4042\">Spark UI</a></p>\n",
       "\n",
       "            <dl>\n",
       "              <dt>Version</dt>\n",
       "                <dd><code>v3.1.1</code></dd>\n",
       "              <dt>Master</dt>\n",
       "                <dd><code>local[2]</code></dd>\n",
       "              <dt>AppName</dt>\n",
       "                <dd><code>SparkSQL_UseCase</code></dd>\n",
       "            </dl>\n",
       "        </div>\n",
       "        "
      ],
      "text/plain": [
       "<SparkContext master=local[2] appName=SparkSQL_UseCase>"
      ]
     },
     "execution_count": 7,
     "metadata": {},
     "output_type": "execute_result"
    }
   ],
   "source": [
    "sc"
   ]
  },
  {
   "cell_type": "markdown",
   "metadata": {
    "id": "3Bbnpj0IONxr"
   },
   "source": [
    "#### Infer Schema by using RDDs"
   ]
  },
  {
   "cell_type": "code",
   "execution_count": 10,
   "metadata": {
    "id": "GTXzr2nuNx-6"
   },
   "outputs": [],
   "source": [
    "#tempRDD = sc.textFile('hdfs://172.16.0.115:8020/user/insofe/datasets/temp_data.txt')\n",
    "tempRDD = sc.textFile('/home/jayantm/Spark/SparkSQL/Data/temp_data.txt')"
   ]
  },
  {
   "cell_type": "code",
   "execution_count": 11,
   "metadata": {
    "colab": {
     "base_uri": "https://localhost:8080/"
    },
    "id": "qMzWtlGhN8z7",
    "outputId": "5d846650-0b50-4766-e03e-636dc934c678"
   },
   "outputs": [
    {
     "data": {
      "text/plain": [
       "13131"
      ]
     },
     "execution_count": 11,
     "metadata": {},
     "output_type": "execute_result"
    }
   ],
   "source": [
    "tempRDD.count()"
   ]
  },
  {
   "cell_type": "code",
   "execution_count": 12,
   "metadata": {
    "colab": {
     "base_uri": "https://localhost:8080/"
    },
    "id": "LKwAM6DPN-a9",
    "outputId": "18a87658-d876-425c-8027-835b5df6975f"
   },
   "outputs": [
    {
     "data": {
      "text/plain": [
       "pyspark.rdd.RDD"
      ]
     },
     "execution_count": 12,
     "metadata": {},
     "output_type": "execute_result"
    }
   ],
   "source": [
    "type(tempRDD)"
   ]
  },
  {
   "cell_type": "code",
   "execution_count": 13,
   "metadata": {
    "colab": {
     "base_uri": "https://localhost:8080/"
    },
    "id": "-aRviTEZOKrM",
    "outputId": "a3c86c52-8bc5-4067-e7d2-80e358412c9a"
   },
   "outputs": [
    {
     "data": {
      "text/plain": [
       "['1901\\t-78\\t1', '1901\\t-72\\t1', '1901\\t-94\\t1']"
      ]
     },
     "execution_count": 13,
     "metadata": {},
     "output_type": "execute_result"
    }
   ],
   "source": [
    "tempRDD.take(3)"
   ]
  },
  {
   "cell_type": "code",
   "execution_count": 14,
   "metadata": {
    "colab": {
     "base_uri": "https://localhost:8080/"
    },
    "id": "Ll242V4tOX8k",
    "outputId": "8aac108f-d926-42ad-9998-48819f8174d6"
   },
   "outputs": [
    {
     "data": {
      "text/plain": [
       "[['1901', '-78', '1'], ['1901', '-72', '1'], ['1901', '-94', '1']]"
      ]
     },
     "execution_count": 14,
     "metadata": {},
     "output_type": "execute_result"
    }
   ],
   "source": [
    "splitRDD = tempRDD.map(lambda record : record.split('\\t'))\n",
    "splitRDD.take(3)"
   ]
  },
  {
   "cell_type": "code",
   "execution_count": 15,
   "metadata": {
    "id": "eBnLU1UMOvS4"
   },
   "outputs": [],
   "source": [
    "from pyspark.sql import Row"
   ]
  },
  {
   "cell_type": "code",
   "execution_count": 16,
   "metadata": {
    "id": "LdeApIxlO5G3"
   },
   "outputs": [],
   "source": [
    "schemaRDD = splitRDD.map(lambda line : Row(year=line[0],temp=int(line[1]),status=int(line[2])))"
   ]
  },
  {
   "cell_type": "code",
   "execution_count": 17,
   "metadata": {
    "colab": {
     "base_uri": "https://localhost:8080/"
    },
    "id": "MU_U1R2oPR45",
    "outputId": "44d3f570-b947-4fa9-a560-f80329795ff5"
   },
   "outputs": [
    {
     "data": {
      "text/plain": [
       "[Row(year='1901', temp=-78, status=1),\n",
       " Row(year='1901', temp=-72, status=1),\n",
       " Row(year='1901', temp=-94, status=1)]"
      ]
     },
     "execution_count": 17,
     "metadata": {},
     "output_type": "execute_result"
    }
   ],
   "source": [
    "schemaRDD.take(3)"
   ]
  },
  {
   "cell_type": "code",
   "execution_count": 18,
   "metadata": {
    "colab": {
     "base_uri": "https://localhost:8080/"
    },
    "id": "SHOqpE8ZPVWS",
    "outputId": "97d2899e-e695-4785-f197-c1e559c6ac19"
   },
   "outputs": [
    {
     "name": "stdout",
     "output_type": "stream",
     "text": [
      "+----+----+------+\n",
      "|year|temp|status|\n",
      "+----+----+------+\n",
      "|1901| -78|     1|\n",
      "|1901| -72|     1|\n",
      "|1901| -94|     1|\n",
      "+----+----+------+\n",
      "only showing top 3 rows\n",
      "\n"
     ]
    }
   ],
   "source": [
    "tempDF = spark.createDataFrame(schemaRDD)\n",
    "tempDF.show(3)"
   ]
  },
  {
   "cell_type": "code",
   "execution_count": 19,
   "metadata": {
    "colab": {
     "base_uri": "https://localhost:8080/"
    },
    "id": "4mGEsKqePpq4",
    "outputId": "3c14a234-8e6e-481f-c654-794b471b0454"
   },
   "outputs": [
    {
     "name": "stdout",
     "output_type": "stream",
     "text": [
      "root\n",
      " |-- year: string (nullable = true)\n",
      " |-- temp: long (nullable = true)\n",
      " |-- status: long (nullable = true)\n",
      "\n"
     ]
    }
   ],
   "source": [
    "tempDF.printSchema()"
   ]
  },
  {
   "cell_type": "code",
   "execution_count": 8,
   "metadata": {
    "colab": {
     "base_uri": "https://localhost:8080/"
    },
    "id": "oDDDesu7P3yU",
    "outputId": "3fcdf592-3584-4b1a-8344-017a9cbfbcc5"
   },
   "outputs": [
    {
     "data": {
      "text/plain": [
       "233600"
      ]
     },
     "execution_count": 8,
     "metadata": {},
     "output_type": "execute_result"
    }
   ],
   "source": [
    "### Read test.csv as Rdd and convert it to Dataframe\n",
    "#testRDD = sc.textFile('hdfs://172.16.0.115:8020/user/insofe/datasets/test.csv')\n",
    "testRDD = sc.textFile('/home/jayantm/Spark/SparkSQL/Data/test.csv')\n",
    "testRDD.count()"
   ]
  },
  {
   "cell_type": "code",
   "execution_count": 9,
   "metadata": {
    "colab": {
     "base_uri": "https://localhost:8080/"
    },
    "id": "-_0ujAcQRdQq",
    "outputId": "4aabccd0-f6a6-45eb-dc66-f292068fee03"
   },
   "outputs": [
    {
     "data": {
      "text/plain": [
       "['User_ID,Product_ID,Gender,Age,Occupation,City_Category,Stay_In_Current_City_Years,Marital_Status,Product_Category_1,Product_Category_2,Product_Category_3',\n",
       " '1000004,P00128942,M,46-50,7,B,2,1,1,11,']"
      ]
     },
     "execution_count": 9,
     "metadata": {},
     "output_type": "execute_result"
    }
   ],
   "source": [
    "testRDD.take(2)"
   ]
  },
  {
   "cell_type": "code",
   "execution_count": 10,
   "metadata": {
    "colab": {
     "base_uri": "https://localhost:8080/",
     "height": 52
    },
    "id": "gG4w0XrgRmMW",
    "outputId": "172dcc7b-4b18-4674-8cf0-ba1b448c5530"
   },
   "outputs": [
    {
     "name": "stdout",
     "output_type": "stream",
     "text": [
      "After the header record is removed \n"
     ]
    },
    {
     "data": {
      "text/plain": [
       "'1000004,P00128942,M,46-50,7,B,2,1,1,11,'"
      ]
     },
     "execution_count": 10,
     "metadata": {},
     "output_type": "execute_result"
    }
   ],
   "source": [
    "header = testRDD.first()\n",
    "testRDD = testRDD.filter(lambda line : line != header)\n",
    "print('After the header record is removed ')\n",
    "testRDD.first()"
   ]
  },
  {
   "cell_type": "code",
   "execution_count": 11,
   "metadata": {
    "colab": {
     "base_uri": "https://localhost:8080/"
    },
    "id": "U53YvvAeSA3A",
    "outputId": "34678dee-5e51-43c4-c6f7-215f1e617b3d"
   },
   "outputs": [
    {
     "name": "stdout",
     "output_type": "stream",
     "text": [
      "Afer splitting the records are : \n",
      "\n"
     ]
    },
    {
     "data": {
      "text/plain": [
       "[['1000004', 'P00128942', 'M', '46-50', '7', 'B', '2', '1', '1', '11', ''],\n",
       " ['1000009', 'P00113442', 'M', '26-35', '17', 'C', '0', '0', '3', '5', '']]"
      ]
     },
     "execution_count": 11,
     "metadata": {},
     "output_type": "execute_result"
    }
   ],
   "source": [
    "### Split the data based on the separator - ','\n",
    "splitRDD = testRDD.map(lambda line : line.split(','))\n",
    "print(\"Afer splitting the records are : \\n\")\n",
    "splitRDD.take(2)"
   ]
  },
  {
   "cell_type": "code",
   "execution_count": 12,
   "metadata": {
    "id": "S5hRg2JMSafP"
   },
   "outputs": [],
   "source": [
    "from pyspark.sql.types import * \n",
    "testRDDSchema = StructType([\n",
    "      StructField('User_Id',StringType(),True),\n",
    "      StructField('ProductId',StringType(),True),\n",
    "      StructField('Gender',StringType(),True),\n",
    "      StructField('Age',StringType(),True),\n",
    "      StructField('Occupation',StringType(),True),\n",
    "      StructField('City_Category',StringType(),True),\n",
    "      StructField('Stay_In_Current_City_Years',StringType(),True),\n",
    "      StructField('Marital_Status',StringType(),True),\n",
    "      StructField('Product_Category_1',StringType(),True),\n",
    "      StructField('Product_Category_2',StringType(),True),\n",
    "      StructField('Product_Category_3',StringType(),True),\n",
    "])"
   ]
  },
  {
   "cell_type": "code",
   "execution_count": 13,
   "metadata": {
    "id": "c87N8WEpUI8i"
   },
   "outputs": [],
   "source": [
    "testDF = spark.createDataFrame(data=splitRDD,schema=testRDDSchema)"
   ]
  },
  {
   "cell_type": "code",
   "execution_count": 14,
   "metadata": {
    "colab": {
     "base_uri": "https://localhost:8080/"
    },
    "id": "_PEZdTzxUjgG",
    "outputId": "13755230-25da-43ba-e644-7b33bf9d041f"
   },
   "outputs": [
    {
     "name": "stdout",
     "output_type": "stream",
     "text": [
      "+-------+---------+------+-----+----------+-------------+--------------------------+--------------+------------------+------------------+------------------+\n",
      "|User_Id|ProductId|Gender|  Age|Occupation|City_Category|Stay_In_Current_City_Years|Marital_Status|Product_Category_1|Product_Category_2|Product_Category_3|\n",
      "+-------+---------+------+-----+----------+-------------+--------------------------+--------------+------------------+------------------+------------------+\n",
      "|1000004|P00128942|     M|46-50|         7|            B|                         2|             1|                 1|                11|                  |\n",
      "|1000009|P00113442|     M|26-35|        17|            C|                         0|             0|                 3|                 5|                  |\n",
      "|1000010|P00288442|     F|36-45|         1|            B|                        4+|             1|                 5|                14|                  |\n",
      "+-------+---------+------+-----+----------+-------------+--------------------------+--------------+------------------+------------------+------------------+\n",
      "only showing top 3 rows\n",
      "\n"
     ]
    }
   ],
   "source": [
    "testDF.show(3)"
   ]
  },
  {
   "cell_type": "code",
   "execution_count": 15,
   "metadata": {
    "colab": {
     "base_uri": "https://localhost:8080/"
    },
    "id": "L1y93XXPUnO3",
    "outputId": "32e69f4b-8e5e-4d4c-c864-7209e5ffa5da",
    "scrolled": true
   },
   "outputs": [
    {
     "data": {
      "text/plain": [
       "233599"
      ]
     },
     "execution_count": 15,
     "metadata": {},
     "output_type": "execute_result"
    }
   ],
   "source": [
    "testDF.count()"
   ]
  },
  {
   "cell_type": "code",
   "execution_count": 16,
   "metadata": {
    "id": "AzstTg84U_W0"
   },
   "outputs": [],
   "source": [
    "testSample = testDF.sample(False,0.1,33)"
   ]
  },
  {
   "cell_type": "code",
   "execution_count": 17,
   "metadata": {
    "colab": {
     "base_uri": "https://localhost:8080/"
    },
    "id": "6_Kqi0XfVNj7",
    "outputId": "1f19a90c-26d9-4feb-c127-75c81de1b60b"
   },
   "outputs": [
    {
     "data": {
      "text/plain": [
       "23221"
      ]
     },
     "execution_count": 17,
     "metadata": {},
     "output_type": "execute_result"
    }
   ],
   "source": [
    "testSample.count()"
   ]
  },
  {
   "cell_type": "code",
   "execution_count": 18,
   "metadata": {
    "id": "AW5dXQu-VP0a"
   },
   "outputs": [],
   "source": [
    "trainDF = spark.read.format('csv').option('header','true').option('inferSchema','true').load('/home/jayantm/Spark/SparkSQL/Data/train.csv')"
   ]
  },
  {
   "cell_type": "code",
   "execution_count": 19,
   "metadata": {
    "colab": {
     "base_uri": "https://localhost:8080/"
    },
    "id": "BCJTg-0NV5zp",
    "outputId": "ea233652-990a-479e-d41a-a169f17fce2c"
   },
   "outputs": [
    {
     "data": {
      "text/plain": [
       "DataFrame[User_ID: int, Product_ID: string, Gender: string, Age: string, Occupation: int, City_Category: string, Stay_In_Current_City_Years: string, Marital_Status: int, Product_Category_1: int, Product_Category_2: int, Product_Category_3: int, Purchase: int]"
      ]
     },
     "execution_count": 19,
     "metadata": {},
     "output_type": "execute_result"
    }
   ],
   "source": [
    "trainDF"
   ]
  },
  {
   "cell_type": "code",
   "execution_count": 20,
   "metadata": {
    "colab": {
     "base_uri": "https://localhost:8080/"
    },
    "id": "0nbCLX4lWA6u",
    "outputId": "c3ff97bf-b353-4e79-ecab-5828884ec0b7"
   },
   "outputs": [
    {
     "name": "stdout",
     "output_type": "stream",
     "text": [
      "+-------+----------+------+----+----------+-------------+--------------------------+--------------+------------------+------------------+------------------+--------+\n",
      "|User_ID|Product_ID|Gender| Age|Occupation|City_Category|Stay_In_Current_City_Years|Marital_Status|Product_Category_1|Product_Category_2|Product_Category_3|Purchase|\n",
      "+-------+----------+------+----+----------+-------------+--------------------------+--------------+------------------+------------------+------------------+--------+\n",
      "|1000001| P00069042|     F|0-17|        10|            A|                         2|             0|                 3|              null|              null|    8370|\n",
      "|1000001| P00248942|     F|0-17|        10|            A|                         2|             0|                 1|                 6|                14|   15200|\n",
      "|1000001| P00087842|     F|0-17|        10|            A|                         2|             0|                12|              null|              null|    1422|\n",
      "+-------+----------+------+----+----------+-------------+--------------------------+--------------+------------------+------------------+------------------+--------+\n",
      "only showing top 3 rows\n",
      "\n"
     ]
    }
   ],
   "source": [
    "trainDF.show(3)"
   ]
  },
  {
   "cell_type": "code",
   "execution_count": 21,
   "metadata": {
    "colab": {
     "base_uri": "https://localhost:8080/"
    },
    "id": "lOp8rqDjWCab",
    "outputId": "b7156a26-8f54-487a-b5e1-561255c84f01",
    "scrolled": true
   },
   "outputs": [
    {
     "data": {
      "text/plain": [
       "55007"
      ]
     },
     "execution_count": 21,
     "metadata": {},
     "output_type": "execute_result"
    }
   ],
   "source": [
    "trainSample = trainDF.sample(False,0.1,435)\n",
    "trainSample.count()"
   ]
  },
  {
   "cell_type": "code",
   "execution_count": 22,
   "metadata": {
    "id": "tmKMHJboWkQv"
   },
   "outputs": [
    {
     "name": "stdout",
     "output_type": "stream",
     "text": [
      "<class 'pyspark.sql.dataframe.DataFrame'>\n",
      "<class 'pandas.core.frame.DataFrame'>\n"
     ]
    }
   ],
   "source": [
    "trainSamplePD = trainSample.toPandas()\n",
    "print(type(trainSample))\n",
    "print(type(trainSamplePD))"
   ]
  },
  {
   "cell_type": "code",
   "execution_count": 23,
   "metadata": {},
   "outputs": [],
   "source": [
    "trainSamplePD.to_csv('./Data/15072021_train_sample.csv')"
   ]
  },
  {
   "cell_type": "code",
   "execution_count": 24,
   "metadata": {
    "colab": {
     "base_uri": "https://localhost:8080/"
    },
    "id": "PjN4x-ADW0-G",
    "outputId": "2a1e04d9-6265-4a60-dff1-3844844dddf2"
   },
   "outputs": [
    {
     "name": "stdout",
     "output_type": "stream",
     "text": [
      "root\n",
      " |-- User_ID: integer (nullable = true)\n",
      " |-- Product_ID: string (nullable = true)\n",
      " |-- Gender: string (nullable = true)\n",
      " |-- Age: string (nullable = true)\n",
      " |-- Occupation: integer (nullable = true)\n",
      " |-- City_Category: string (nullable = true)\n",
      " |-- Stay_In_Current_City_Years: string (nullable = true)\n",
      " |-- Marital_Status: integer (nullable = true)\n",
      " |-- Product_Category_1: integer (nullable = true)\n",
      " |-- Product_Category_2: integer (nullable = true)\n",
      " |-- Product_Category_3: integer (nullable = true)\n",
      " |-- Purchase: integer (nullable = true)\n",
      "\n"
     ]
    }
   ],
   "source": [
    "trainDF.printSchema()"
   ]
  },
  {
   "cell_type": "code",
   "execution_count": 25,
   "metadata": {
    "colab": {
     "base_uri": "https://localhost:8080/"
    },
    "id": "xeoPKcv2W_J_",
    "outputId": "0dd164be-9302-4c23-b12f-58454d24d3c5"
   },
   "outputs": [
    {
     "data": {
      "text/plain": [
       "[Row(User_ID=1000001, Product_ID='P00069042', Gender='F', Age='0-17', Occupation=10, City_Category='A', Stay_In_Current_City_Years='2', Marital_Status=0, Product_Category_1=3, Product_Category_2=None, Product_Category_3=None, Purchase=8370),\n",
       " Row(User_ID=1000001, Product_ID='P00248942', Gender='F', Age='0-17', Occupation=10, City_Category='A', Stay_In_Current_City_Years='2', Marital_Status=0, Product_Category_1=1, Product_Category_2=6, Product_Category_3=14, Purchase=15200)]"
      ]
     },
     "execution_count": 25,
     "metadata": {},
     "output_type": "execute_result"
    }
   ],
   "source": [
    "trainDF.head(2)"
   ]
  },
  {
   "cell_type": "code",
   "execution_count": 26,
   "metadata": {
    "colab": {
     "base_uri": "https://localhost:8080/"
    },
    "id": "uT-baSERXVen",
    "outputId": "5dc6d716-22e1-4ec7-92f4-3c99653527cb",
    "scrolled": true
   },
   "outputs": [
    {
     "name": "stdout",
     "output_type": "stream",
     "text": [
      "+-------+----------+------+----+----------+-------------+--------------------------+--------------+------------------+------------------+------------------+--------+\n",
      "|User_ID|Product_ID|Gender| Age|Occupation|City_Category|Stay_In_Current_City_Years|Marital_Status|Product_Category_1|Product_Category_2|Product_Category_3|Purchase|\n",
      "+-------+----------+------+----+----------+-------------+--------------------------+--------------+------------------+------------------+------------------+--------+\n",
      "|1000001| P00069042|     F|0-17|        10|            A|                         2|             0|                 3|              null|              null|    8370|\n",
      "|1000001| P00248942|     F|0-17|        10|            A|                         2|             0|                 1|                 6|                14|   15200|\n",
      "+-------+----------+------+----+----------+-------------+--------------------------+--------------+------------------+------------------+------------------+--------+\n",
      "only showing top 2 rows\n",
      "\n"
     ]
    }
   ],
   "source": [
    "trainDF.show(2)"
   ]
  },
  {
   "cell_type": "code",
   "execution_count": 27,
   "metadata": {
    "colab": {
     "base_uri": "https://localhost:8080/"
    },
    "id": "sRy6sjjRXX9z",
    "outputId": "2026145b-bfa1-486d-e3da-8eb02247a476"
   },
   "outputs": [
    {
     "name": "stdout",
     "output_type": "stream",
     "text": [
      "Number of records in training dataset 550068\n",
      "\n",
      "Number of records in testing dataset 233599\n",
      "\n"
     ]
    }
   ],
   "source": [
    "print('Number of records in training dataset {}\\n'.format(trainDF.count()))\n",
    "print('Number of records in testing dataset {}\\n'.format(testDF.count()))"
   ]
  },
  {
   "cell_type": "code",
   "execution_count": 28,
   "metadata": {
    "colab": {
     "base_uri": "https://localhost:8080/"
    },
    "id": "fOwtKaVhXso1",
    "outputId": "d09c0b14-f053-4e87-82a0-ad207b929f06"
   },
   "outputs": [
    {
     "name": "stdout",
     "output_type": "stream",
     "text": [
      "+-------+------------------+----------+------+------+-----------------+-------------+--------------------------+-------------------+------------------+------------------+------------------+-----------------+\n",
      "|summary|           User_ID|Product_ID|Gender|   Age|       Occupation|City_Category|Stay_In_Current_City_Years|     Marital_Status|Product_Category_1|Product_Category_2|Product_Category_3|         Purchase|\n",
      "+-------+------------------+----------+------+------+-----------------+-------------+--------------------------+-------------------+------------------+------------------+------------------+-----------------+\n",
      "|  count|            550068|    550068|550068|550068|           550068|       550068|                    550068|             550068|            550068|            376430|            166821|           550068|\n",
      "|   mean|1003028.8424013031|      null|  null|  null|8.076706879876669|         null|         1.468494139793958|0.40965298835780306| 5.404270017525106| 9.842329251122386|12.668243206790512|9263.968712959126|\n",
      "| stddev|1727.5915855313747|      null|  null|  null|6.522660487341741|         null|        0.9890866807573103| 0.4917701263173315| 3.936211369201365| 5.086589648693497| 4.125337631575274|5023.065393820575|\n",
      "|    min|           1000001| P00000142|     F|  0-17|                0|            A|                         0|                  0|                 1|                 2|                 3|               12|\n",
      "|    max|           1006040|  P0099942|     M|   55+|               20|            C|                        4+|                  1|                20|                18|                18|            23961|\n",
      "+-------+------------------+----------+------+------+-----------------+-------------+--------------------------+-------------------+------------------+------------------+------------------+-----------------+\n",
      "\n"
     ]
    }
   ],
   "source": [
    "trainDF.describe().show()"
   ]
  },
  {
   "cell_type": "code",
   "execution_count": 29,
   "metadata": {
    "colab": {
     "base_uri": "https://localhost:8080/"
    },
    "id": "aSy7c0dgYLqZ",
    "outputId": "a4ab6037-3a63-4ae5-8457-e0a2d2a9c4a1"
   },
   "outputs": [
    {
     "name": "stdout",
     "output_type": "stream",
     "text": [
      "+-------+------------------+---------+------+------+-----------------+-------------+--------------------------+------------------+------------------+------------------+------------------+\n",
      "|summary|           User_Id|ProductId|Gender|   Age|       Occupation|City_Category|Stay_In_Current_City_Years|    Marital_Status|Product_Category_1|Product_Category_2|Product_Category_3|\n",
      "+-------+------------------+---------+------+------+-----------------+-------------+--------------------------+------------------+------------------+------------------+------------------+\n",
      "|  count|            233599|   233599|233599|233599|           233599|       233599|                    233599|            233599|            233599|            233599|            233599|\n",
      "|   mean|1003029.3568594044|     null|  null|  null|8.085407043694536|         null|        1.4682778997642345|0.4100702485883929| 5.276542279718663| 9.849586059346997|12.669453946534905|\n",
      "| stddev|  1726.50496799554|     null|  null|  null|6.521146481494506|         null|        0.9859464965736936|0.4918472073772924|  3.73638011226564| 5.094942849775061| 4.125944373515665|\n",
      "|    min|           1000001|P00000142|     F|  0-17|                0|            A|                         0|                 0|                 1|                  |                  |\n",
      "|    max|           1006040| P0099942|     M|   55+|                9|            C|                        4+|                 1|                 9|                 9|                 9|\n",
      "+-------+------------------+---------+------+------+-----------------+-------------+--------------------------+------------------+------------------+------------------+------------------+\n",
      "\n"
     ]
    }
   ],
   "source": [
    "testDF.describe().show()"
   ]
  },
  {
   "cell_type": "code",
   "execution_count": 30,
   "metadata": {
    "colab": {
     "base_uri": "https://localhost:8080/"
    },
    "id": "c5SgHUhoYck5",
    "outputId": "6c8c3898-dc3f-4cfb-af62-a9a756f5fb34"
   },
   "outputs": [
    {
     "name": "stdout",
     "output_type": "stream",
     "text": [
      "+-------+-----------------+\n",
      "|summary|         Purchase|\n",
      "+-------+-----------------+\n",
      "|  count|           550068|\n",
      "|   mean|9263.968712959126|\n",
      "| stddev|5023.065393820575|\n",
      "|    min|               12|\n",
      "|    max|            23961|\n",
      "+-------+-----------------+\n",
      "\n"
     ]
    }
   ],
   "source": [
    "trainDF.describe('Purchase').show()"
   ]
  },
  {
   "cell_type": "code",
   "execution_count": 31,
   "metadata": {
    "id": "JX7XS5WMYlHz"
   },
   "outputs": [],
   "source": [
    "trainDF.createOrReplaceTempView('trainDFTable')"
   ]
  },
  {
   "cell_type": "code",
   "execution_count": 32,
   "metadata": {
    "colab": {
     "base_uri": "https://localhost:8080/"
    },
    "id": "81ujwcgkZQnJ",
    "outputId": "5de0b6d1-027f-438c-e84c-3c079aa4f4a5",
    "scrolled": true
   },
   "outputs": [
    {
     "name": "stdout",
     "output_type": "stream",
     "text": [
      "+-------+----------+------+----+----------+-------------+--------------------------+--------------+------------------+------------------+------------------+--------+\n",
      "|User_ID|Product_ID|Gender| Age|Occupation|City_Category|Stay_In_Current_City_Years|Marital_Status|Product_Category_1|Product_Category_2|Product_Category_3|Purchase|\n",
      "+-------+----------+------+----+----------+-------------+--------------------------+--------------+------------------+------------------+------------------+--------+\n",
      "|1000001| P00069042|     F|0-17|        10|            A|                         2|             0|                 3|              null|              null|    8370|\n",
      "|1000001| P00248942|     F|0-17|        10|            A|                         2|             0|                 1|                 6|                14|   15200|\n",
      "+-------+----------+------+----+----------+-------------+--------------------------+--------------+------------------+------------------+------------------+--------+\n",
      "only showing top 2 rows\n",
      "\n"
     ]
    }
   ],
   "source": [
    "trainDF.show(2)"
   ]
  },
  {
   "cell_type": "code",
   "execution_count": 33,
   "metadata": {
    "colab": {
     "base_uri": "https://localhost:8080/"
    },
    "id": "nNcd5bRzZVgt",
    "outputId": "43c1b50d-cc90-4a42-9280-c171639a391e"
   },
   "outputs": [
    {
     "data": {
      "text/plain": [
       "DataFrame[User_ID: int, Product_ID: string, Gender: string, Age: string, Occupation: int, City_Category: string, Stay_In_Current_City_Years: string, Marital_Status: int, Product_Category_1: int, Product_Category_2: int, Product_Category_3: int, Purchase: int]"
      ]
     },
     "execution_count": 33,
     "metadata": {},
     "output_type": "execute_result"
    }
   ],
   "source": [
    "#rdd1.map().flatMap.reduceByKey()\n",
    "spark.sql(\"SELECT * FROM trainDFTable LIMIT 2\")"
   ]
  },
  {
   "cell_type": "code",
   "execution_count": 34,
   "metadata": {
    "colab": {
     "base_uri": "https://localhost:8080/"
    },
    "id": "zU19rf72ZhT9",
    "outputId": "52a74a3a-8414-475f-db2a-621992391b67",
    "scrolled": true
   },
   "outputs": [
    {
     "name": "stdout",
     "output_type": "stream",
     "text": [
      "+-------+----------+------+----+----------+-------------+--------------------------+--------------+------------------+------------------+------------------+--------+\n",
      "|User_ID|Product_ID|Gender| Age|Occupation|City_Category|Stay_In_Current_City_Years|Marital_Status|Product_Category_1|Product_Category_2|Product_Category_3|Purchase|\n",
      "+-------+----------+------+----+----------+-------------+--------------------------+--------------+------------------+------------------+------------------+--------+\n",
      "|1000001| P00069042|     F|0-17|        10|            A|                         2|             0|                 3|              null|              null|    8370|\n",
      "|1000001| P00248942|     F|0-17|        10|            A|                         2|             0|                 1|                 6|                14|   15200|\n",
      "+-------+----------+------+----+----------+-------------+--------------------------+--------------+------------------+------------------+------------------+--------+\n",
      "\n"
     ]
    }
   ],
   "source": [
    "spark.sql(\"SELECT * FROM trainDFTable LIMIT 2\").show()"
   ]
  },
  {
   "cell_type": "code",
   "execution_count": 35,
   "metadata": {
    "id": "n7DhPCcEZlj2"
   },
   "outputs": [],
   "source": [
    "#### Physical plan being executed using Spark DataFrame vs Spark SQL\n",
    "dataFrameWay = trainDF.groupBy('Age').count()"
   ]
  },
  {
   "cell_type": "code",
   "execution_count": 36,
   "metadata": {
    "colab": {
     "base_uri": "https://localhost:8080/"
    },
    "id": "zIV4x7vud1N_",
    "outputId": "94769a0a-9174-4c75-cc52-beba6d0e3ba0",
    "scrolled": true
   },
   "outputs": [
    {
     "name": "stdout",
     "output_type": "stream",
     "text": [
      "== Physical Plan ==\n",
      "*(2) HashAggregate(keys=[Age#118], functions=[count(1)])\n",
      "+- Exchange hashpartitioning(Age#118, 200), ENSURE_REQUIREMENTS, [id=#289]\n",
      "   +- *(1) HashAggregate(keys=[Age#118], functions=[partial_count(1)])\n",
      "      +- FileScan csv [Age#118] Batched: false, DataFilters: [], Format: CSV, Location: InMemoryFileIndex[file:/home/jayantm/Spark/SparkSQL/Data/train.csv], PartitionFilters: [], PushedFilters: [], ReadSchema: struct<Age:string>\n",
      "\n",
      "\n"
     ]
    }
   ],
   "source": [
    "dataFrameWay.explain()"
   ]
  },
  {
   "cell_type": "code",
   "execution_count": 37,
   "metadata": {
    "id": "qPEMd7DFd4gX"
   },
   "outputs": [],
   "source": [
    "sqlWay = spark.sql(\"SELECT Age,count(1) from trainDFTable GROUP BY Age\")\n"
   ]
  },
  {
   "cell_type": "code",
   "execution_count": 38,
   "metadata": {
    "colab": {
     "base_uri": "https://localhost:8080/"
    },
    "id": "kC9R3kjeeLvv",
    "outputId": "5d4c2c45-d882-4a37-f233-379c8f92e9c8"
   },
   "outputs": [
    {
     "name": "stdout",
     "output_type": "stream",
     "text": [
      "== Physical Plan ==\n",
      "*(2) HashAggregate(keys=[Age#118], functions=[count(1)])\n",
      "+- Exchange hashpartitioning(Age#118, 200), ENSURE_REQUIREMENTS, [id=#308]\n",
      "   +- *(1) HashAggregate(keys=[Age#118], functions=[partial_count(1)])\n",
      "      +- FileScan csv [Age#118] Batched: false, DataFilters: [], Format: CSV, Location: InMemoryFileIndex[file:/home/jayantm/Spark/SparkSQL/Data/train.csv], PartitionFilters: [], PushedFilters: [], ReadSchema: struct<Age:string>\n",
      "\n",
      "\n"
     ]
    }
   ],
   "source": [
    "sqlWay.explain()"
   ]
  },
  {
   "cell_type": "code",
   "execution_count": 39,
   "metadata": {
    "id": "79gAskWEeNqR"
   },
   "outputs": [],
   "source": [
    "from pyspark.sql.functions import expr,col,column\n",
    "dfWay = trainDF.filter(col('Age') != '0-17').groupBy('Age').count()"
   ]
  },
  {
   "cell_type": "code",
   "execution_count": 40,
   "metadata": {
    "colab": {
     "base_uri": "https://localhost:8080/"
    },
    "id": "oabPZ-zMeyO1",
    "outputId": "54ea595c-29e0-45c5-e3c3-5d6e417ba12e",
    "scrolled": true
   },
   "outputs": [
    {
     "name": "stdout",
     "output_type": "stream",
     "text": [
      "+-----+------+\n",
      "|  Age| count|\n",
      "+-----+------+\n",
      "|18-25| 99660|\n",
      "|26-35|219587|\n",
      "|46-50| 45701|\n",
      "|51-55| 38501|\n",
      "|36-45|110013|\n",
      "|  55+| 21504|\n",
      "+-----+------+\n",
      "\n"
     ]
    }
   ],
   "source": [
    "dfWay.show()"
   ]
  },
  {
   "cell_type": "code",
   "execution_count": 42,
   "metadata": {
    "colab": {
     "base_uri": "https://localhost:8080/"
    },
    "id": "eWcN64YCez-p",
    "outputId": "13b1f2f1-b0d7-4d8e-a33b-1a8e18ede7c4"
   },
   "outputs": [
    {
     "name": "stdout",
     "output_type": "stream",
     "text": [
      "+-------+-------+-------+\n",
      "| userID|User_ID|User_ID|\n",
      "+-------+-------+-------+\n",
      "|1000001|1000001|1000001|\n",
      "|1000001|1000001|1000001|\n",
      "|1000001|1000001|1000001|\n",
      "+-------+-------+-------+\n",
      "only showing top 3 rows\n",
      "\n"
     ]
    }
   ],
   "source": [
    "trainDF.select(expr(\"User_ID AS userID\"),col(\"User_ID\"),\"User_ID\").show(3)"
   ]
  },
  {
   "cell_type": "code",
   "execution_count": 86,
   "metadata": {
    "colab": {
     "base_uri": "https://localhost:8080/"
    },
    "id": "LqNxfu_QfVqq",
    "outputId": "d28390a4-7ea2-43fa-c6e0-cd6ce8df3b0d",
    "scrolled": true
   },
   "outputs": [
    {
     "name": "stdout",
     "output_type": "stream",
     "text": [
      "+-------+\n",
      "| userID|\n",
      "+-------+\n",
      "|1000001|\n",
      "|1000001|\n",
      "+-------+\n",
      "only showing top 2 rows\n",
      "\n"
     ]
    }
   ],
   "source": [
    "trainDF.select(expr(\"User_ID as userID\")).show(2)"
   ]
  },
  {
   "cell_type": "code",
   "execution_count": 89,
   "metadata": {
    "colab": {
     "base_uri": "https://localhost:8080/"
    },
    "id": "IxPhyLmygAFn",
    "outputId": "1b7c6072-bbee-434f-84bc-328b876bb283",
    "scrolled": true
   },
   "outputs": [
    {
     "name": "stdout",
     "output_type": "stream",
     "text": [
      "+-------+\n",
      "| userID|\n",
      "+-------+\n",
      "|1000001|\n",
      "|1000001|\n",
      "+-------+\n",
      "only showing top 2 rows\n",
      "\n"
     ]
    }
   ],
   "source": [
    "spark.sql(\"SELECT User_ID as userID FROM trainDFTable\").show(2)"
   ]
  },
  {
   "cell_type": "code",
   "execution_count": 90,
   "metadata": {
    "colab": {
     "base_uri": "https://localhost:8080/"
    },
    "id": "vKA8FayBgveX",
    "outputId": "9c16d708-bf34-4032-c94c-55e4494ec7ec",
    "scrolled": true
   },
   "outputs": [
    {
     "name": "stdout",
     "output_type": "stream",
     "text": [
      "+-------+---------+\n",
      "| userId|productID|\n",
      "+-------+---------+\n",
      "|1000001|P00069042|\n",
      "|1000001|P00248942|\n",
      "+-------+---------+\n",
      "only showing top 2 rows\n",
      "\n"
     ]
    }
   ],
   "source": [
    "trainDF.selectExpr('User_ID as userId','Product_ID as productID').show(2)"
   ]
  },
  {
   "cell_type": "code",
   "execution_count": 91,
   "metadata": {
    "colab": {
     "base_uri": "https://localhost:8080/"
    },
    "id": "5j2OfDRPg6UB",
    "outputId": "9f6873fd-34b0-400f-a26a-6fac39a20fea",
    "scrolled": true
   },
   "outputs": [
    {
     "name": "stdout",
     "output_type": "stream",
     "text": [
      "+-------+----------+----+\n",
      "|User_ID|Product_ID| Age|\n",
      "+-------+----------+----+\n",
      "|1000001| P00069042|0-17|\n",
      "|1000001| P00248942|0-17|\n",
      "|1000001| P00087842|0-17|\n",
      "+-------+----------+----+\n",
      "only showing top 3 rows\n",
      "\n"
     ]
    }
   ],
   "source": [
    "trainDF.select(\"User_ID\",\"Product_ID\",\"Age\").show(3)"
   ]
  },
  {
   "cell_type": "code",
   "execution_count": 43,
   "metadata": {
    "colab": {
     "base_uri": "https://localhost:8080/"
    },
    "id": "tkWzOaa6hDRV",
    "outputId": "2456226d-5b13-4f25-c70a-d61da3c9bf54"
   },
   "outputs": [
    {
     "name": "stdout",
     "output_type": "stream",
     "text": [
      "+-------+----------+------+----+----------+-------------+--------------------------+--------------+------------------+------------------+------------------+--------+-----------+\n",
      "|User_ID|Product_ID|Gender| Age|Occupation|City_Category|Stay_In_Current_City_Years|Marital_Status|Product_Category_1|Product_Category_2|Product_Category_3|Purchase|ConstantOne|\n",
      "+-------+----------+------+----+----------+-------------+--------------------------+--------------+------------------+------------------+------------------+--------+-----------+\n",
      "|1000001| P00069042|     F|0-17|        10|            A|                         2|             0|                 3|              null|              null|    8370|          1|\n",
      "|1000001| P00248942|     F|0-17|        10|            A|                         2|             0|                 1|                 6|                14|   15200|          1|\n",
      "|1000001| P00087842|     F|0-17|        10|            A|                         2|             0|                12|              null|              null|    1422|          1|\n",
      "+-------+----------+------+----+----------+-------------+--------------------------+--------------+------------------+------------------+------------------+--------+-----------+\n",
      "only showing top 3 rows\n",
      "\n"
     ]
    }
   ],
   "source": [
    "from pyspark.sql.functions import lit \n",
    "trainDF.select(\"*\",lit(1).alias(\"ConstantOne\")).show(3)"
   ]
  },
  {
   "cell_type": "code",
   "execution_count": 44,
   "metadata": {
    "colab": {
     "base_uri": "https://localhost:8080/"
    },
    "id": "SLfaQn9phpcs",
    "outputId": "a69a4eb9-e612-4bc2-ca66-ff077b709f73",
    "scrolled": true
   },
   "outputs": [
    {
     "name": "stdout",
     "output_type": "stream",
     "text": [
      "+-------+----------+------+----+----------+-------------+--------------------------+--------------+------------------+------------------+------------------+--------+-----------+\n",
      "|User_ID|Product_ID|Gender| Age|Occupation|City_Category|Stay_In_Current_City_Years|Marital_Status|Product_Category_1|Product_Category_2|Product_Category_3|Purchase|ConstatnOne|\n",
      "+-------+----------+------+----+----------+-------------+--------------------------+--------------+------------------+------------------+------------------+--------+-----------+\n",
      "|1000001| P00069042|     F|0-17|        10|            A|                         2|             0|                 3|              null|              null|    8370|          1|\n",
      "|1000001| P00248942|     F|0-17|        10|            A|                         2|             0|                 1|                 6|                14|   15200|          1|\n",
      "|1000001| P00087842|     F|0-17|        10|            A|                         2|             0|                12|              null|              null|    1422|          1|\n",
      "+-------+----------+------+----+----------+-------------+--------------------------+--------------+------------------+------------------+------------------+--------+-----------+\n",
      "\n"
     ]
    }
   ],
   "source": [
    "## In Spark SQL - added constant value\n",
    "spark.sql(\"SELECT *, 1 as ConstatnOne FROM trainDFTable LIMIT 3\").show()"
   ]
  },
  {
   "cell_type": "code",
   "execution_count": 45,
   "metadata": {},
   "outputs": [
    {
     "name": "stdout",
     "output_type": "stream",
     "text": [
      "+-------+----------+------+----+----------+-------------+--------------------------+--------------+------------------+------------------+------------------+--------+\n",
      "|User_ID|Product_ID|Gender| Age|Occupation|City_Category|Stay_In_Current_City_Years|Marital_Status|Product_Category_1|Product_Category_2|Product_Category_3|Purchase|\n",
      "+-------+----------+------+----+----------+-------------+--------------------------+--------------+------------------+------------------+------------------+--------+\n",
      "|1000001| P00069042|     F|0-17|        10|            A|                         2|             0|                 3|              null|              null|    8370|\n",
      "|1000001| P00248942|     F|0-17|        10|            A|                         2|             0|                 1|                 6|                14|   15200|\n",
      "|1000001| P00087842|     F|0-17|        10|            A|                         2|             0|                12|              null|              null|    1422|\n",
      "+-------+----------+------+----+----------+-------------+--------------------------+--------------+------------------+------------------+------------------+--------+\n",
      "only showing top 3 rows\n",
      "\n"
     ]
    }
   ],
   "source": [
    "trainDF.show(3)"
   ]
  },
  {
   "cell_type": "code",
   "execution_count": 46,
   "metadata": {
    "colab": {
     "base_uri": "https://localhost:8080/"
    },
    "id": "xWRIKthkiDpI",
    "outputId": "385af326-858f-4076-cee0-fb2c81b56511",
    "scrolled": true
   },
   "outputs": [
    {
     "name": "stdout",
     "output_type": "stream",
     "text": [
      "+-------+----------+------+----+----------+-------------+--------------------------+--------------+------------------+------------------+------------------+--------+-----------+\n",
      "|User_ID|Product_ID|Gender| Age|Occupation|City_Category|Stay_In_Current_City_Years|Marital_Status|Product_Category_1|Product_Category_2|Product_Category_3|Purchase|ConstantOne|\n",
      "+-------+----------+------+----+----------+-------------+--------------------------+--------------+------------------+------------------+------------------+--------+-----------+\n",
      "|1000001| P00069042|     F|0-17|        10|            A|                         2|             0|                 3|              null|              null|    8370|          1|\n",
      "|1000001| P00248942|     F|0-17|        10|            A|                         2|             0|                 1|                 6|                14|   15200|          1|\n",
      "|1000001| P00087842|     F|0-17|        10|            A|                         2|             0|                12|              null|              null|    1422|          1|\n",
      "+-------+----------+------+----+----------+-------------+--------------------------+--------------+------------------+------------------+------------------+--------+-----------+\n",
      "only showing top 3 rows\n",
      "\n"
     ]
    }
   ],
   "source": [
    "trainDF = trainDF.withColumn(\"ConstantOne\",lit(1))\n",
    "trainDF.show(3)"
   ]
  },
  {
   "cell_type": "code",
   "execution_count": null,
   "metadata": {
    "colab": {
     "base_uri": "https://localhost:8080/"
    },
    "id": "YroZz_rRigW2",
    "outputId": "cab0105a-9007-4334-fa2f-30ff75d455bb",
    "scrolled": true
   },
   "outputs": [
    {
     "name": "stdout",
     "output_type": "stream",
     "text": [
      "+-------+----------+------+-----+----------+-------------+--------------------------+--------------+------------------+------------------+------------------+--------+-----------+-------------+\n",
      "|User_ID|Product_ID|Gender|  Age|Occupation|City_Category|Stay_In_Current_City_Years|Marital_Status|Product_Category_1|Product_Category_2|Product_Category_3|Purchase|ConstantOne|OccupationOne|\n",
      "+-------+----------+------+-----+----------+-------------+--------------------------+--------------+------------------+------------------+------------------+--------+-----------+-------------+\n",
      "|1000001| P00069042|     F| 0-17|        10|            A|                         2|             0|                 3|              null|              null|    8370|          1|           11|\n",
      "|1000001| P00248942|     F| 0-17|        10|            A|                         2|             0|                 1|                 6|                14|   15200|          1|           11|\n",
      "|1000001| P00087842|     F| 0-17|        10|            A|                         2|             0|                12|              null|              null|    1422|          1|           11|\n",
      "|1000001| P00085442|     F| 0-17|        10|            A|                         2|             0|                12|                14|              null|    1057|          1|           11|\n",
      "|1000002| P00285442|     M|  55+|        16|            C|                        4+|             0|                 8|              null|              null|    7969|          1|           17|\n",
      "|1000003| P00193542|     M|26-35|        15|            A|                         3|             0|                 1|                 2|              null|   15227|          1|           16|\n",
      "|1000004| P00184942|     M|46-50|         7|            B|                         2|             1|                 1|                 8|                17|   19215|          1|            8|\n",
      "|1000004| P00346142|     M|46-50|         7|            B|                         2|             1|                 1|                15|              null|   15854|          1|            8|\n",
      "|1000004|  P0097242|     M|46-50|         7|            B|                         2|             1|                 1|                16|              null|   15686|          1|            8|\n",
      "|1000005| P00274942|     M|26-35|        20|            A|                         1|             1|                 8|              null|              null|    7871|          1|           21|\n",
      "|1000005| P00251242|     M|26-35|        20|            A|                         1|             1|                 5|                11|              null|    5254|          1|           21|\n",
      "|1000005| P00014542|     M|26-35|        20|            A|                         1|             1|                 8|              null|              null|    3957|          1|           21|\n",
      "|1000005| P00031342|     M|26-35|        20|            A|                         1|             1|                 8|              null|              null|    6073|          1|           21|\n",
      "|1000005| P00145042|     M|26-35|        20|            A|                         1|             1|                 1|                 2|                 5|   15665|          1|           21|\n",
      "|1000006| P00231342|     F|51-55|         9|            A|                         1|             0|                 5|                 8|                14|    5378|          1|           10|\n",
      "|1000006| P00190242|     F|51-55|         9|            A|                         1|             0|                 4|                 5|              null|    2079|          1|           10|\n",
      "|1000006|  P0096642|     F|51-55|         9|            A|                         1|             0|                 2|                 3|                 4|   13055|          1|           10|\n",
      "|1000006| P00058442|     F|51-55|         9|            A|                         1|             0|                 5|                14|              null|    8851|          1|           10|\n",
      "|1000007| P00036842|     M|36-45|         1|            B|                         1|             1|                 1|                14|                16|   11788|          1|            2|\n",
      "|1000008| P00249542|     M|26-35|        12|            C|                        4+|             1|                 1|                 5|                15|   19614|          1|           13|\n",
      "+-------+----------+------+-----+----------+-------------+--------------------------+--------------+------------------+------------------+------------------+--------+-----------+-------------+\n",
      "only showing top 20 rows\n",
      "\n"
     ]
    }
   ],
   "source": [
    "trainDF.withColumn(\"OccupationOne\",trainDF.Occupation + 1).show()"
   ]
  },
  {
   "cell_type": "code",
   "execution_count": 47,
   "metadata": {
    "colab": {
     "base_uri": "https://localhost:8080/"
    },
    "id": "fPE2d64Xiz48",
    "outputId": "c68f05e2-3565-4099-ce01-1bf8f8083dd1",
    "scrolled": true
   },
   "outputs": [
    {
     "name": "stdout",
     "output_type": "stream",
     "text": [
      "+-------+----------+------+----+----------+-------------+--------------------------+--------------+------------------+------------------+------------------+--------+-----------+----------------+\n",
      "|User_ID|Product_ID|Gender| Age|Occupation|City_Category|Stay_In_Current_City_Years|Marital_Status|Product_Category_1|Product_Category_2|Product_Category_3|Purchase|ConstantOne|SameCategoryCode|\n",
      "+-------+----------+------+----+----------+-------------+--------------------------+--------------+------------------+------------------+------------------+--------+-----------+----------------+\n",
      "|1000001| P00069042|     F|0-17|        10|            A|                         2|             0|                 3|              null|              null|    8370|          1|            null|\n",
      "|1000001| P00248942|     F|0-17|        10|            A|                         2|             0|                 1|                 6|                14|   15200|          1|           false|\n",
      "|1000001| P00087842|     F|0-17|        10|            A|                         2|             0|                12|              null|              null|    1422|          1|            null|\n",
      "+-------+----------+------+----+----------+-------------+--------------------------+--------------+------------------+------------------+------------------+--------+-----------+----------------+\n",
      "only showing top 3 rows\n",
      "\n"
     ]
    }
   ],
   "source": [
    "tempDF = trainDF.withColumn('SameCategoryCode',\n",
    "         trainDF['Product_Category_1'] == trainDF['Product_Category_2'])\n",
    "tempDF.show(3)"
   ]
  },
  {
   "cell_type": "code",
   "execution_count": 48,
   "metadata": {},
   "outputs": [
    {
     "data": {
      "text/plain": [
       "[('User_ID', 'int'),\n",
       " ('Product_ID', 'string'),\n",
       " ('Gender', 'string'),\n",
       " ('Age', 'string'),\n",
       " ('Occupation', 'int'),\n",
       " ('City_Category', 'string'),\n",
       " ('Stay_In_Current_City_Years', 'string'),\n",
       " ('Marital_Status', 'int'),\n",
       " ('Product_Category_1', 'int'),\n",
       " ('Product_Category_2', 'int'),\n",
       " ('Product_Category_3', 'int'),\n",
       " ('Purchase', 'int'),\n",
       " ('ConstantOne', 'int'),\n",
       " ('SameCategoryCode', 'boolean')]"
      ]
     },
     "execution_count": 48,
     "metadata": {},
     "output_type": "execute_result"
    }
   ],
   "source": [
    "tempDF.dtypes"
   ]
  },
  {
   "cell_type": "code",
   "execution_count": 50,
   "metadata": {},
   "outputs": [
    {
     "name": "stdout",
     "output_type": "stream",
     "text": [
      "+-------+----------+------+-----+----------+-------------+--------------------------+--------------+------------------+------------------+------------------+--------+-----------+----------------+\n",
      "|User_ID|Product_ID|Gender|  Age|Occupation|City_Category|Stay_In_Current_City_Years|Marital_Status|Product_Category_1|Product_Category_2|Product_Category_3|Purchase|ConstantOne|SameCategoryCode|\n",
      "+-------+----------+------+-----+----------+-------------+--------------------------+--------------+------------------+------------------+------------------+--------+-----------+----------------+\n",
      "|1000001| P00248942|     F| 0-17|        10|            A|                         2|             0|                 1|                 6|                14|   15200|          1|           false|\n",
      "|1000001| P00085442|     F| 0-17|        10|            A|                         2|             0|                12|                14|              null|    1057|          1|           false|\n",
      "|1000003| P00193542|     M|26-35|        15|            A|                         3|             0|                 1|                 2|              null|   15227|          1|           false|\n",
      "+-------+----------+------+-----+----------+-------------+--------------------------+--------------+------------------+------------------+------------------+--------+-----------+----------------+\n",
      "only showing top 3 rows\n",
      "\n"
     ]
    }
   ],
   "source": [
    "tempDF.filter(col('SameCategoryCode')== False).show(3)"
   ]
  },
  {
   "cell_type": "code",
   "execution_count": 51,
   "metadata": {
    "colab": {
     "base_uri": "https://localhost:8080/"
    },
    "id": "ml5RltQnjlNp",
    "outputId": "bf5679fe-fbcd-49d9-8ad5-d2d67f82be92",
    "scrolled": true
   },
   "outputs": [
    {
     "name": "stdout",
     "output_type": "stream",
     "text": [
      "+-------+----------+------+-----+----------+-------------+--------------------------+--------------+------------------+------------------+------------------+--------+-----------+-------------------+\n",
      "|User_ID|Product_ID|Gender|  Age|Occupation|City_Category|Stay_In_Current_City_Years|Marital_Status|Product_Category_1|Product_Category_2|Product_Category_3|Purchase|ConstantOne|SimilarCategroyCode|\n",
      "+-------+----------+------+-----+----------+-------------+--------------------------+--------------+------------------+------------------+------------------+--------+-----------+-------------------+\n",
      "|1000001| P00069042|     F| 0-17|        10|            A|                         2|             0|                 3|              null|              null|    8370|          1|               null|\n",
      "|1000001| P00248942|     F| 0-17|        10|            A|                         2|             0|                 1|                 6|                14|   15200|          1|              false|\n",
      "|1000001| P00087842|     F| 0-17|        10|            A|                         2|             0|                12|              null|              null|    1422|          1|               null|\n",
      "|1000001| P00085442|     F| 0-17|        10|            A|                         2|             0|                12|                14|              null|    1057|          1|              false|\n",
      "|1000002| P00285442|     M|  55+|        16|            C|                        4+|             0|                 8|              null|              null|    7969|          1|               null|\n",
      "|1000003| P00193542|     M|26-35|        15|            A|                         3|             0|                 1|                 2|              null|   15227|          1|              false|\n",
      "|1000004| P00184942|     M|46-50|         7|            B|                         2|             1|                 1|                 8|                17|   19215|          1|              false|\n",
      "|1000004| P00346142|     M|46-50|         7|            B|                         2|             1|                 1|                15|              null|   15854|          1|              false|\n",
      "|1000004|  P0097242|     M|46-50|         7|            B|                         2|             1|                 1|                16|              null|   15686|          1|              false|\n",
      "|1000005| P00274942|     M|26-35|        20|            A|                         1|             1|                 8|              null|              null|    7871|          1|               null|\n",
      "|1000005| P00251242|     M|26-35|        20|            A|                         1|             1|                 5|                11|              null|    5254|          1|              false|\n",
      "|1000005| P00014542|     M|26-35|        20|            A|                         1|             1|                 8|              null|              null|    3957|          1|               null|\n",
      "|1000005| P00031342|     M|26-35|        20|            A|                         1|             1|                 8|              null|              null|    6073|          1|               null|\n",
      "|1000005| P00145042|     M|26-35|        20|            A|                         1|             1|                 1|                 2|                 5|   15665|          1|              false|\n",
      "|1000006| P00231342|     F|51-55|         9|            A|                         1|             0|                 5|                 8|                14|    5378|          1|              false|\n",
      "|1000006| P00190242|     F|51-55|         9|            A|                         1|             0|                 4|                 5|              null|    2079|          1|              false|\n",
      "|1000006|  P0096642|     F|51-55|         9|            A|                         1|             0|                 2|                 3|                 4|   13055|          1|              false|\n",
      "|1000006| P00058442|     F|51-55|         9|            A|                         1|             0|                 5|                14|              null|    8851|          1|              false|\n",
      "|1000007| P00036842|     M|36-45|         1|            B|                         1|             1|                 1|                14|                16|   11788|          1|              false|\n",
      "|1000008| P00249542|     M|26-35|        12|            C|                        4+|             1|                 1|                 5|                15|   19614|          1|              false|\n",
      "+-------+----------+------+-----+----------+-------------+--------------------------+--------------+------------------+------------------+------------------+--------+-----------+-------------------+\n",
      "only showing top 20 rows\n",
      "\n"
     ]
    }
   ],
   "source": [
    "tempDF.withColumnRenamed('SameCategoryCode','SimilarCategroyCode').show()"
   ]
  },
  {
   "cell_type": "code",
   "execution_count": 52,
   "metadata": {
    "colab": {
     "base_uri": "https://localhost:8080/"
    },
    "id": "2twrsyJ3j8Ac",
    "outputId": "581a8ab4-92f2-4664-a074-457d6adc0e0e",
    "scrolled": true
   },
   "outputs": [
    {
     "name": "stdout",
     "output_type": "stream",
     "text": [
      "+-------+----------+------+----+----------+-------------+--------------------------+--------------+------------------+------------------+------------------+--------+-----------+----------------+\n",
      "|User_ID|Product_ID|Gender| Age|Occupation|City_Category|Stay_In_Current_City_Years|Marital_Status|Product_Category_1|Product_Category_2|Product_Category_3|Purchase|ConstantOne|SameCategoryCode|\n",
      "+-------+----------+------+----+----------+-------------+--------------------------+--------------+------------------+------------------+------------------+--------+-----------+----------------+\n",
      "|1000001| P00069042|     F|0-17|        10|            A|                         2|             0|                 3|              null|              null|    8370|          1|            null|\n",
      "|1000001| P00248942|     F|0-17|        10|            A|                         2|             0|                 1|                 6|                14|   15200|          1|           false|\n",
      "|1000001| P00087842|     F|0-17|        10|            A|                         2|             0|                12|              null|              null|    1422|          1|            null|\n",
      "+-------+----------+------+----+----------+-------------+--------------------------+--------------+------------------+------------------+------------------+--------+-----------+----------------+\n",
      "only showing top 3 rows\n",
      "\n"
     ]
    }
   ],
   "source": [
    "tempDF.show(3)"
   ]
  },
  {
   "cell_type": "code",
   "execution_count": 53,
   "metadata": {
    "colab": {
     "base_uri": "https://localhost:8080/"
    },
    "id": "H9M8meUNkE4M",
    "outputId": "5ae817de-ab92-4c83-96a6-24abb61fa467"
   },
   "outputs": [
    {
     "name": "stdout",
     "output_type": "stream",
     "text": [
      "+-------+----------+------+----+----------+-------------+--------------------------+--------------+------------------+------------------+------------------+--------+-----------+\n",
      "|User_ID|Product_ID|Gender| Age|Occupation|City_Category|Stay_In_Current_City_Years|Marital_Status|Product_Category_1|Product_Category_2|Product_Category_3|Purchase|ConstantOne|\n",
      "+-------+----------+------+----+----------+-------------+--------------------------+--------------+------------------+------------------+------------------+--------+-----------+\n",
      "|1000001| P00069042|     F|0-17|        10|            A|                         2|             0|                 3|              null|              null|    8370|          1|\n",
      "|1000001| P00248942|     F|0-17|        10|            A|                         2|             0|                 1|                 6|                14|   15200|          1|\n",
      "|1000001| P00087842|     F|0-17|        10|            A|                         2|             0|                12|              null|              null|    1422|          1|\n",
      "+-------+----------+------+----+----------+-------------+--------------------------+--------------+------------------+------------------+------------------+--------+-----------+\n",
      "only showing top 3 rows\n",
      "\n"
     ]
    }
   ],
   "source": [
    "tempDF.drop('SameCategoryCode').show(3)"
   ]
  },
  {
   "cell_type": "code",
   "execution_count": 54,
   "metadata": {
    "colab": {
     "base_uri": "https://localhost:8080/"
    },
    "id": "iCE846TtkL5t",
    "outputId": "a8d4b659-3275-4de0-9c84-eebfae34d0ab",
    "scrolled": true
   },
   "outputs": [
    {
     "name": "stdout",
     "output_type": "stream",
     "text": [
      "+-------+----------+------+----+----------+-------------+--------------------------+--------------+------------------+------------------+------------------+--------+-----------+----------------+\n",
      "|User_ID|Product_ID|Gender| Age|Occupation|City_Category|Stay_In_Current_City_Years|Marital_Status|Product_Category_1|Product_Category_2|Product_Category_3|Purchase|ConstantOne|SameCategoryCode|\n",
      "+-------+----------+------+----+----------+-------------+--------------------------+--------------+------------------+------------------+------------------+--------+-----------+----------------+\n",
      "|1000001| P00069042|     F|0-17|        10|            A|                         2|             0|                 3|              null|              null|    8370|          1|            null|\n",
      "|1000001| P00248942|     F|0-17|        10|            A|                         2|             0|                 1|                 6|                14|   15200|          1|           false|\n",
      "+-------+----------+------+----+----------+-------------+--------------------------+--------------+------------------+------------------+------------------+--------+-----------+----------------+\n",
      "only showing top 2 rows\n",
      "\n"
     ]
    }
   ],
   "source": [
    "tempDF.show(2)"
   ]
  },
  {
   "cell_type": "code",
   "execution_count": 55,
   "metadata": {
    "colab": {
     "base_uri": "https://localhost:8080/"
    },
    "id": "wu30wLqekOeQ",
    "outputId": "d60cfc0b-9772-41ea-8ff4-d75c98a34e07"
   },
   "outputs": [
    {
     "name": "stdout",
     "output_type": "stream",
     "text": [
      "root\n",
      " |-- User_ID: integer (nullable = true)\n",
      " |-- Product_ID: string (nullable = true)\n",
      " |-- Gender: string (nullable = true)\n",
      " |-- Age: string (nullable = true)\n",
      " |-- Occupation: integer (nullable = true)\n",
      " |-- City_Category: string (nullable = true)\n",
      " |-- Stay_In_Current_City_Years: string (nullable = true)\n",
      " |-- Marital_Status: integer (nullable = true)\n",
      " |-- Product_Category_1: integer (nullable = true)\n",
      " |-- Product_Category_2: integer (nullable = true)\n",
      " |-- Product_Category_3: integer (nullable = true)\n",
      " |-- Purchase: integer (nullable = true)\n",
      " |-- ConstantOne: integer (nullable = false)\n",
      " |-- SameCategoryCode: boolean (nullable = true)\n",
      "\n"
     ]
    }
   ],
   "source": [
    "tempDF.printSchema()"
   ]
  },
  {
   "cell_type": "code",
   "execution_count": 56,
   "metadata": {
    "colab": {
     "base_uri": "https://localhost:8080/"
    },
    "id": "b9dmlv0fkgTI",
    "outputId": "3ac92865-849d-4dda-dcbd-7f12a2c00145"
   },
   "outputs": [
    {
     "name": "stdout",
     "output_type": "stream",
     "text": [
      "root\n",
      " |-- User_ID: integer (nullable = true)\n",
      " |-- Product_ID: string (nullable = true)\n",
      " |-- Gender: string (nullable = true)\n",
      " |-- Age: string (nullable = true)\n",
      " |-- Occupation: integer (nullable = true)\n",
      " |-- City_Category: string (nullable = true)\n",
      " |-- Stay_In_Current_City_Years: string (nullable = true)\n",
      " |-- Marital_Status: integer (nullable = true)\n",
      " |-- Product_Category_1: integer (nullable = true)\n",
      " |-- Product_Category_2: integer (nullable = true)\n",
      " |-- Product_Category_3: integer (nullable = true)\n",
      " |-- Purchase: string (nullable = true)\n",
      " |-- ConstantOne: integer (nullable = false)\n",
      " |-- SameCategoryCode: boolean (nullable = true)\n",
      "\n"
     ]
    }
   ],
   "source": [
    "tempDF.withColumn(\"Purchase\",col(\"Purchase\").cast(\"String\")).printSchema()"
   ]
  },
  {
   "cell_type": "code",
   "execution_count": 57,
   "metadata": {
    "colab": {
     "base_uri": "https://localhost:8080/"
    },
    "id": "jGpDvwhLk1bs",
    "outputId": "434e9b07-b2b1-4421-cd51-3e04ef5ed554"
   },
   "outputs": [
    {
     "data": {
      "text/plain": [
       "3631"
      ]
     },
     "execution_count": 57,
     "metadata": {},
     "output_type": "execute_result"
    }
   ],
   "source": [
    "trainDF.select('Product_ID').distinct().count()"
   ]
  },
  {
   "cell_type": "code",
   "execution_count": 58,
   "metadata": {
    "id": "HSVWaL5LljV5"
   },
   "outputs": [],
   "source": [
    "testDF = testDF.withColumn('Product_ID',col('ProductID'))"
   ]
  },
  {
   "cell_type": "code",
   "execution_count": 59,
   "metadata": {
    "colab": {
     "base_uri": "https://localhost:8080/"
    },
    "id": "RKq6XaThlRMg",
    "outputId": "02b053eb-b71e-4751-edcb-bb957b24d857"
   },
   "outputs": [
    {
     "data": {
      "text/plain": [
       "3491"
      ]
     },
     "execution_count": 59,
     "metadata": {},
     "output_type": "execute_result"
    }
   ],
   "source": [
    "testDF.select('Product_ID').distinct().count()"
   ]
  },
  {
   "cell_type": "code",
   "execution_count": 61,
   "metadata": {
    "colab": {
     "base_uri": "https://localhost:8080/"
    },
    "id": "UMcelLGzlaSF",
    "outputId": "b93819ec-51d6-47e2-a755-2332a95a26bc"
   },
   "outputs": [
    {
     "data": {
      "text/plain": [
       "46"
      ]
     },
     "execution_count": 61,
     "metadata": {},
     "output_type": "execute_result"
    }
   ],
   "source": [
    "diff_cat_in_test_train = testDF.select('Product_ID').subtract(trainDF.select('Product_ID'))\n",
    "diff_cat_in_test_train.count()"
   ]
  },
  {
   "cell_type": "code",
   "execution_count": null,
   "metadata": {},
   "outputs": [],
   "source": []
  },
  {
   "cell_type": "code",
   "execution_count": 64,
   "metadata": {
    "colab": {
     "base_uri": "https://localhost:8080/"
    },
    "id": "cYD9xYQ8mRUU",
    "outputId": "8ad2d4c8-42af-4d1e-a367-4288608a3b49"
   },
   "outputs": [
    {
     "data": {
      "text/plain": [
       "186"
      ]
     },
     "execution_count": 64,
     "metadata": {},
     "output_type": "execute_result"
    }
   ],
   "source": [
    "diff_cat_in_train_test = trainDF.select('Product_ID').subtract(testDF.select('Product_ID'))\n",
    "diff_cat_in_train_test.count()"
   ]
  },
  {
   "cell_type": "code",
   "execution_count": null,
   "metadata": {
    "colab": {
     "base_uri": "https://localhost:8080/"
    },
    "id": "MYpa6QjWmh1Q",
    "outputId": "53a9df55-fddc-44fa-b451-0e23526ed3f7"
   },
   "outputs": [
    {
     "name": "stdout",
     "output_type": "stream",
     "text": [
      "+----------+-----+------+\n",
      "|Age_Gender|    F|     M|\n",
      "+----------+-----+------+\n",
      "|      0-17| 5083| 10019|\n",
      "|     46-50|13199| 32502|\n",
      "|     18-25|24628| 75032|\n",
      "|     36-45|27170| 82843|\n",
      "|       55+| 5083| 16421|\n",
      "|     51-55| 9894| 28607|\n",
      "|     26-35|50752|168835|\n",
      "+----------+-----+------+\n",
      "\n"
     ]
    }
   ],
   "source": [
    "trainDF.crosstab('Age','Gender').show()"
   ]
  },
  {
   "cell_type": "code",
   "execution_count": null,
   "metadata": {
    "colab": {
     "base_uri": "https://localhost:8080/"
    },
    "id": "lAx7AJR1nMmv",
    "outputId": "45cb49af-b6b7-477d-9e8b-6e8a9d4fb315"
   },
   "outputs": [
    {
     "name": "stdout",
     "output_type": "stream",
     "text": [
      "+----------+-----+-----+------+-----+-----+-----+-----+\n",
      "|Gender_Age| 0-17|18-25| 26-35|36-45|46-50|51-55|  55+|\n",
      "+----------+-----+-----+------+-----+-----+-----+-----+\n",
      "|         M|10019|75032|168835|82843|32502|28607|16421|\n",
      "|         F| 5083|24628| 50752|27170|13199| 9894| 5083|\n",
      "+----------+-----+-----+------+-----+-----+-----+-----+\n",
      "\n"
     ]
    }
   ],
   "source": [
    "trainDF.crosstab('Gender','Age').show()"
   ]
  },
  {
   "cell_type": "code",
   "execution_count": null,
   "metadata": {
    "colab": {
     "base_uri": "https://localhost:8080/"
    },
    "id": "YWzHIZjjnbY3",
    "outputId": "91ced7c6-fafb-4398-e081-54f1045c33ef"
   },
   "outputs": [
    {
     "name": "stdout",
     "output_type": "stream",
     "text": [
      "+-----+------+------+\n",
      "|  Age|Gender| count|\n",
      "+-----+------+------+\n",
      "|51-55|     F|  9894|\n",
      "|18-25|     M| 75032|\n",
      "| 0-17|     F|  5083|\n",
      "|46-50|     M| 32502|\n",
      "|18-25|     F| 24628|\n",
      "|  55+|     M| 16421|\n",
      "|  55+|     F|  5083|\n",
      "|36-45|     M| 82843|\n",
      "|26-35|     F| 50752|\n",
      "| 0-17|     M| 10019|\n",
      "|36-45|     F| 27170|\n",
      "|51-55|     M| 28607|\n",
      "|26-35|     M|168835|\n",
      "|46-50|     F| 13199|\n",
      "+-----+------+------+\n",
      "\n"
     ]
    }
   ],
   "source": [
    "trainDF.groupBy('Age','Gender').count().show()"
   ]
  },
  {
   "cell_type": "code",
   "execution_count": null,
   "metadata": {
    "colab": {
     "base_uri": "https://localhost:8080/"
    },
    "id": "K7OPEZR3nuvk",
    "outputId": "b28665c0-b6a9-47c6-b6f2-7279602a78d4"
   },
   "outputs": [
    {
     "name": "stdout",
     "output_type": "stream",
     "text": [
      "+------+-----+------+\n",
      "|Gender|  Age| count|\n",
      "+------+-----+------+\n",
      "|     F|46-50| 13199|\n",
      "|     M| 0-17| 10019|\n",
      "|     M|26-35|168835|\n",
      "|     M|51-55| 28607|\n",
      "|     M|18-25| 75032|\n",
      "|     M|  55+| 16421|\n",
      "|     F|51-55|  9894|\n",
      "|     F|36-45| 27170|\n",
      "|     F|18-25| 24628|\n",
      "|     F|  55+|  5083|\n",
      "|     M|36-45| 82843|\n",
      "|     F| 0-17|  5083|\n",
      "|     M|46-50| 32502|\n",
      "|     F|26-35| 50752|\n",
      "+------+-----+------+\n",
      "\n"
     ]
    }
   ],
   "source": [
    "trainDF.groupBy('Gender','Age').count().show()"
   ]
  },
  {
   "cell_type": "code",
   "execution_count": null,
   "metadata": {
    "colab": {
     "base_uri": "https://localhost:8080/"
    },
    "id": "IfDEkevhn1n-",
    "outputId": "782af357-2144-4f4c-9d67-c3a2f7b34882",
    "scrolled": true
   },
   "outputs": [
    {
     "name": "stdout",
     "output_type": "stream",
     "text": [
      "+-----+------+------+\n",
      "|  Age|Female|  Male|\n",
      "+-----+------+------+\n",
      "|18-25| 24628| 75032|\n",
      "|26-35| 50752|168835|\n",
      "| 0-17|  5083| 10019|\n",
      "|46-50| 13199| 32502|\n",
      "|51-55|  9894| 28607|\n",
      "|36-45| 27170| 82843|\n",
      "|  55+|  5083| 16421|\n",
      "+-----+------+------+\n",
      "\n"
     ]
    }
   ],
   "source": [
    "spark.sql(\"\"\" SELECT Age,\n",
    "      sum(case when Gender = 'F' then 1 else 0 end) Female,\n",
    "      sum(case when Gender = 'M' then 1 else 0 end) Male\n",
    "       from trainDFTable\n",
    "       group by Age \n",
    "\"\"\").show()"
   ]
  },
  {
   "cell_type": "code",
   "execution_count": null,
   "metadata": {
    "colab": {
     "base_uri": "https://localhost:8080/"
    },
    "id": "WnjKDV_somyq",
    "outputId": "96c50015-03ff-42dd-90bc-9900bb05d808"
   },
   "outputs": [
    {
     "name": "stdout",
     "output_type": "stream",
     "text": [
      "+-----+------+\n",
      "|  Age|Gender|\n",
      "+-----+------+\n",
      "| 0-17|     F|\n",
      "| 0-17|     F|\n",
      "| 0-17|     F|\n",
      "| 0-17|     F|\n",
      "|  55+|     M|\n",
      "|26-35|     M|\n",
      "|46-50|     M|\n",
      "|46-50|     M|\n",
      "|46-50|     M|\n",
      "|26-35|     M|\n",
      "|26-35|     M|\n",
      "|26-35|     M|\n",
      "|26-35|     M|\n",
      "|26-35|     M|\n",
      "|51-55|     F|\n",
      "|51-55|     F|\n",
      "|51-55|     F|\n",
      "|51-55|     F|\n",
      "|36-45|     M|\n",
      "|26-35|     M|\n",
      "+-----+------+\n",
      "only showing top 20 rows\n",
      "\n"
     ]
    }
   ],
   "source": [
    "trainDF.select('Age','Gender').show(20)"
   ]
  },
  {
   "cell_type": "code",
   "execution_count": null,
   "metadata": {
    "colab": {
     "base_uri": "https://localhost:8080/"
    },
    "id": "3ocWKEKSpC_3",
    "outputId": "6be0f3d0-9b06-483b-ebb7-305bd3d810c8"
   },
   "outputs": [
    {
     "name": "stdout",
     "output_type": "stream",
     "text": [
      "+-----+------+\n",
      "|  Age|Gender|\n",
      "+-----+------+\n",
      "|51-55|     F|\n",
      "|18-25|     M|\n",
      "| 0-17|     F|\n",
      "|46-50|     M|\n",
      "|18-25|     F|\n",
      "|  55+|     M|\n",
      "|  55+|     F|\n",
      "|36-45|     M|\n",
      "|26-35|     F|\n",
      "| 0-17|     M|\n",
      "|36-45|     F|\n",
      "|51-55|     M|\n",
      "|26-35|     M|\n",
      "|46-50|     F|\n",
      "+-----+------+\n",
      "\n"
     ]
    }
   ],
   "source": [
    "trainDF.select('Age','Gender').dropDuplicates().show(20)"
   ]
  },
  {
   "cell_type": "code",
   "execution_count": null,
   "metadata": {
    "colab": {
     "base_uri": "https://localhost:8080/"
    },
    "id": "8elgpX9GpKPl",
    "outputId": "9c2dfd85-bfc5-44d4-ac6a-f6c35462f377",
    "scrolled": true
   },
   "outputs": [
    {
     "data": {
      "text/plain": [
       "166821"
      ]
     },
     "execution_count": 90,
     "metadata": {
      "tags": []
     },
     "output_type": "execute_result"
    }
   ],
   "source": [
    "trainDF.dropna().count()"
   ]
  },
  {
   "cell_type": "code",
   "execution_count": null,
   "metadata": {
    "colab": {
     "base_uri": "https://localhost:8080/"
    },
    "id": "k6b_gx7cpYAF",
    "outputId": "e71121c8-7e65-4839-9d49-49d697b205cc",
    "scrolled": true
   },
   "outputs": [
    {
     "data": {
      "text/plain": [
       "166821"
      ]
     },
     "execution_count": 91,
     "metadata": {
      "tags": []
     },
     "output_type": "execute_result"
    }
   ],
   "source": [
    "trainDF.na.drop('any').count()"
   ]
  },
  {
   "cell_type": "code",
   "execution_count": null,
   "metadata": {
    "colab": {
     "base_uri": "https://localhost:8080/"
    },
    "id": "m2LDq4_npkAz",
    "outputId": "bad2463c-339c-423f-ab22-e93679e4094b",
    "scrolled": true
   },
   "outputs": [
    {
     "data": {
      "text/plain": [
       "166821"
      ]
     },
     "execution_count": 93,
     "metadata": {
      "tags": []
     },
     "output_type": "execute_result"
    }
   ],
   "source": [
    "trainDF.na.drop().count()"
   ]
  },
  {
   "cell_type": "code",
   "execution_count": null,
   "metadata": {
    "colab": {
     "base_uri": "https://localhost:8080/"
    },
    "id": "NTUxd5Popt7d",
    "outputId": "cc25299a-68fc-4ea8-ad01-8a7a6bb6f9c0",
    "scrolled": true
   },
   "outputs": [
    {
     "name": "stdout",
     "output_type": "stream",
     "text": [
      "+-------+----------+------+----+----------+-------------+--------------------------+--------------+------------------+------------------+------------------+--------+-----------+\n",
      "|User_ID|Product_ID|Gender| Age|Occupation|City_Category|Stay_In_Current_City_Years|Marital_Status|Product_Category_1|Product_Category_2|Product_Category_3|Purchase|ConstantOne|\n",
      "+-------+----------+------+----+----------+-------------+--------------------------+--------------+------------------+------------------+------------------+--------+-----------+\n",
      "|1000001| P00069042|     F|0-17|        10|            A|                         2|             0|                 3|                -1|                -1|    8370|          1|\n",
      "|1000001| P00248942|     F|0-17|        10|            A|                         2|             0|                 1|                 6|                14|   15200|          1|\n",
      "|1000001| P00087842|     F|0-17|        10|            A|                         2|             0|                12|                -1|                -1|    1422|          1|\n",
      "+-------+----------+------+----+----------+-------------+--------------------------+--------------+------------------+------------------+------------------+--------+-----------+\n",
      "only showing top 3 rows\n",
      "\n"
     ]
    }
   ],
   "source": [
    "trainDF.fillna(-1).show(3)"
   ]
  },
  {
   "cell_type": "code",
   "execution_count": null,
   "metadata": {
    "colab": {
     "base_uri": "https://localhost:8080/"
    },
    "id": "SQI8mhGhqD5m",
    "outputId": "de560089-8d78-4b22-b93a-8dc4d8b1d747"
   },
   "outputs": [
    {
     "name": "stdout",
     "output_type": "stream",
     "text": [
      "+-------+----------+------+----+----------+-------------+--------------------------+--------------+------------------+------------------+------------------+--------+-----------+\n",
      "|User_ID|Product_ID|Gender| Age|Occupation|City_Category|Stay_In_Current_City_Years|Marital_Status|Product_Category_1|Product_Category_2|Product_Category_3|Purchase|ConstantOne|\n",
      "+-------+----------+------+----+----------+-------------+--------------------------+--------------+------------------+------------------+------------------+--------+-----------+\n",
      "|1000001| P00069042|     F|0-17|        10|            A|                         2|             0|                 3|              null|                -1|    8370|          1|\n",
      "|1000001| P00248942|     F|0-17|        10|            A|                         2|             0|                 1|                 6|                14|   15200|          1|\n",
      "|1000001| P00087842|     F|0-17|        10|            A|                         2|             0|                12|              null|                -1|    1422|          1|\n",
      "+-------+----------+------+----+----------+-------------+--------------------------+--------------+------------------+------------------+------------------+--------+-----------+\n",
      "only showing top 3 rows\n",
      "\n"
     ]
    }
   ],
   "source": [
    "fill_col_vals = {\n",
    "    'Gender':'M',\n",
    "    'Purchase':999999,\n",
    "    'Product_Category_3': -1\n",
    "}\n",
    "trainDF.na.fill(fill_col_vals).show(3)"
   ]
  },
  {
   "cell_type": "code",
   "execution_count": null,
   "metadata": {
    "colab": {
     "base_uri": "https://localhost:8080/"
    },
    "id": "bOFBbv4vqq-r",
    "outputId": "1be78a89-020d-44ea-8834-c9e8035e5074",
    "scrolled": true
   },
   "outputs": [
    {
     "data": {
      "text/plain": [
       "550068"
      ]
     },
     "execution_count": 96,
     "metadata": {
      "tags": []
     },
     "output_type": "execute_result"
    }
   ],
   "source": [
    "trainDF.na.replace([\"\"],[\"UNKNOWN\"],\"Gender\").count()"
   ]
  },
  {
   "cell_type": "code",
   "execution_count": 65,
   "metadata": {
    "colab": {
     "base_uri": "https://localhost:8080/"
    },
    "id": "5lqLZhgjrG81",
    "outputId": "a4935600-21d3-46b3-8106-9dc689f5894e"
   },
   "outputs": [
    {
     "name": "stdout",
     "output_type": "stream",
     "text": [
      "Purchase amount greater than 15000 110523\n"
     ]
    }
   ],
   "source": [
    "print('Purchase amount greater than 15000 {}'.format(trainDF.filter(trainDF.Purchase > 15000).count()))"
   ]
  },
  {
   "cell_type": "code",
   "execution_count": 66,
   "metadata": {
    "colab": {
     "base_uri": "https://localhost:8080/"
    },
    "id": "HAZy9MCNvNrK",
    "outputId": "aac1f90c-a291-4867-c67e-688fc36ff88b"
   },
   "outputs": [
    {
     "name": "stdout",
     "output_type": "stream",
     "text": [
      "Purchase amount greater than 15000 110523\n"
     ]
    }
   ],
   "source": [
    "print('Purchase amount greater than 15000 {}'.format(trainDF.filter(col('Purchase') > 15000).count()))"
   ]
  },
  {
   "cell_type": "code",
   "execution_count": 68,
   "metadata": {
    "colab": {
     "base_uri": "https://localhost:8080/"
    },
    "id": "Uz6TQpEivc48",
    "outputId": "22c29e2b-2199-4654-9b6a-1433ed4ded35"
   },
   "outputs": [],
   "source": [
    "#print('Purchase amount greater than 15000 {}'.format(trainDF.filter(column('Purchase') > 15000).count()))"
   ]
  },
  {
   "cell_type": "code",
   "execution_count": null,
   "metadata": {
    "colab": {
     "base_uri": "https://localhost:8080/"
    },
    "id": "UfWGQCzVvhOl",
    "outputId": "abbf23f6-3592-46d5-b080-e27293d70aab"
   },
   "outputs": [
    {
     "name": "stdout",
     "output_type": "stream",
     "text": [
      "Purchase amount greater than 15000 110523\n"
     ]
    }
   ],
   "source": [
    "print('Purchase amount greater than 15000 {}'.format(trainDF.filter(expr('Purchase') > 15000).count()))"
   ]
  },
  {
   "cell_type": "code",
   "execution_count": 69,
   "metadata": {
    "colab": {
     "base_uri": "https://localhost:8080/"
    },
    "id": "QqpZreTZvljh",
    "outputId": "142a9465-5667-457e-ebeb-835f386e94c2"
   },
   "outputs": [
    {
     "name": "stdout",
     "output_type": "stream",
     "text": [
      "Purchase amount greater than 15000 110523\n"
     ]
    }
   ],
   "source": [
    "print('Purchase amount greater than 15000 {}'.format(trainDF.filter(trainDF[\"Purchase\"] > 15000).count()))"
   ]
  },
  {
   "cell_type": "code",
   "execution_count": 70,
   "metadata": {
    "colab": {
     "base_uri": "https://localhost:8080/"
    },
    "id": "TAV5VJ-TvrZC",
    "outputId": "71a57185-a22a-4cb2-fe62-e6980e59f4f7"
   },
   "outputs": [
    {
     "name": "stdout",
     "output_type": "stream",
     "text": [
      "+------+\n",
      "| Count|\n",
      "+------+\n",
      "|110523|\n",
      "+------+\n",
      "\n"
     ]
    }
   ],
   "source": [
    "spark.sql(\"\"\"\n",
    "    SELECT COUNT(*) AS Count \n",
    "    FROM trainDFTable WHERE Purchase > 15000\n",
    "\"\"\").show(3)"
   ]
  },
  {
   "cell_type": "code",
   "execution_count": null,
   "metadata": {
    "colab": {
     "base_uri": "https://localhost:8080/"
    },
    "id": "L4RcOvJuv85G",
    "outputId": "41c2c95e-c690-486a-8ccd-4a13f445af4f"
   },
   "outputs": [
    {
     "data": {
      "text/plain": [
       "21429"
      ]
     },
     "execution_count": 103,
     "metadata": {
      "tags": []
     },
     "output_type": "execute_result"
    }
   ],
   "source": [
    "trainDF.where((trainDF.Purchase > 15000) & (trainDF.Gender == 'F')).count()"
   ]
  },
  {
   "cell_type": "code",
   "execution_count": null,
   "metadata": {
    "colab": {
     "base_uri": "https://localhost:8080/"
    },
    "id": "hLtjA7KGwNBk",
    "outputId": "1c1afc67-d90f-48f8-a0d0-3093c709cac1",
    "scrolled": true
   },
   "outputs": [
    {
     "data": {
      "text/plain": [
       "21429"
      ]
     },
     "execution_count": 104,
     "metadata": {
      "tags": []
     },
     "output_type": "execute_result"
    }
   ],
   "source": [
    "trainDF.where(\"Purchase > 15000\").where(\"Gender = 'F'\").count()"
   ]
  },
  {
   "cell_type": "code",
   "execution_count": null,
   "metadata": {
    "colab": {
     "base_uri": "https://localhost:8080/"
    },
    "id": "1LfQlNl6wgrD",
    "outputId": "421ce14e-b5ef-4374-ca53-ace007f653f8"
   },
   "outputs": [
    {
     "data": {
      "text/plain": [
       "21429"
      ]
     },
     "execution_count": 105,
     "metadata": {
      "tags": []
     },
     "output_type": "execute_result"
    }
   ],
   "source": [
    "trainDF.filter(\"Purchase > 15000\").where(\"Gender = 'F'\").count()"
   ]
  },
  {
   "cell_type": "code",
   "execution_count": null,
   "metadata": {
    "colab": {
     "base_uri": "https://localhost:8080/"
    },
    "id": "N2kHxdqKwrKf",
    "outputId": "c0cd03c3-176e-4e6d-a696-7b37075268be"
   },
   "outputs": [
    {
     "data": {
      "text/plain": [
       "21429"
      ]
     },
     "execution_count": 106,
     "metadata": {
      "tags": []
     },
     "output_type": "execute_result"
    }
   ],
   "source": [
    "trainDF.where((col(\"Purchase\") > 15000) & (col(\"Gender\") == 'F')).count()"
   ]
  },
  {
   "cell_type": "code",
   "execution_count": null,
   "metadata": {
    "colab": {
     "base_uri": "https://localhost:8080/"
    },
    "id": "BDjpFPF2w6xy",
    "outputId": "b8d07d81-4969-4572-d224-9ddb3f0a0a06",
    "scrolled": true
   },
   "outputs": [
    {
     "data": {
      "text/plain": [
       "21429"
      ]
     },
     "execution_count": 107,
     "metadata": {
      "tags": []
     },
     "output_type": "execute_result"
    }
   ],
   "source": [
    "trainDF.filter((col(\"Purchase\") > 15000) & (col(\"Gender\") == 'F')).count()"
   ]
  },
  {
   "cell_type": "code",
   "execution_count": null,
   "metadata": {
    "colab": {
     "base_uri": "https://localhost:8080/"
    },
    "id": "iEejUUX7xDgW",
    "outputId": "1c2df13c-42d2-4c83-af30-8771e982e590"
   },
   "outputs": [
    {
     "data": {
      "text/plain": [
       "21429"
      ]
     },
     "execution_count": 108,
     "metadata": {
      "tags": []
     },
     "output_type": "execute_result"
    }
   ],
   "source": [
    "spark.sql(\"SELECT * FROM trainDFTable where Purchase > 15000 AND GENDER ='F'\").count()"
   ]
  },
  {
   "cell_type": "code",
   "execution_count": null,
   "metadata": {
    "colab": {
     "base_uri": "https://localhost:8080/"
    },
    "id": "s0u8_eJixSyo",
    "outputId": "2482b613-1821-48ef-c040-9a9dd2bfda9a",
    "scrolled": true
   },
   "outputs": [
    {
     "name": "stdout",
     "output_type": "stream",
     "text": [
      "+------------+\n",
      "|DISTINCT_Age|\n",
      "+------------+\n",
      "|           7|\n",
      "+------------+\n",
      "\n"
     ]
    }
   ],
   "source": [
    "from pyspark.sql.functions import countDistinct\n",
    "trainDF.select(countDistinct(\"Age\").alias(\"DISTINCT_Age\")).show()"
   ]
  },
  {
   "cell_type": "code",
   "execution_count": null,
   "metadata": {
    "colab": {
     "base_uri": "https://localhost:8080/"
    },
    "id": "UEfoN07Ax3MD",
    "outputId": "c0b63e9c-a472-48d3-95d5-04fc15e4edf9"
   },
   "outputs": [
    {
     "name": "stdout",
     "output_type": "stream",
     "text": [
      "+------------+\n",
      "|DISTINCT_Age|\n",
      "+------------+\n",
      "|           7|\n",
      "+------------+\n",
      "\n"
     ]
    }
   ],
   "source": [
    "trainDF.agg(countDistinct(\"Age\").alias(\"DISTINCT_Age\")).show()"
   ]
  },
  {
   "cell_type": "code",
   "execution_count": 71,
   "metadata": {
    "id": "707MoRKiyG78"
   },
   "outputs": [],
   "source": [
    "from pyspark.sql import functions as func "
   ]
  },
  {
   "cell_type": "code",
   "execution_count": 72,
   "metadata": {
    "colab": {
     "base_uri": "https://localhost:8080/"
    },
    "id": "GY6LVQPAyTzz",
    "outputId": "89de5602-875f-49b9-f7b9-204bf27c8cf4",
    "scrolled": true
   },
   "outputs": [
    {
     "name": "stdout",
     "output_type": "stream",
     "text": [
      "+-------+----------+------+----+----------+-------------+--------------------------+--------------+------------------+------------------+------------------+--------+-----------+\n",
      "|User_ID|Product_ID|Gender| Age|Occupation|City_Category|Stay_In_Current_City_Years|Marital_Status|Product_Category_1|Product_Category_2|Product_Category_3|Purchase|ConstantOne|\n",
      "+-------+----------+------+----+----------+-------------+--------------------------+--------------+------------------+------------------+------------------+--------+-----------+\n",
      "|1000001| P00069042|     F|0-17|        10|            A|                         2|             0|                 3|              null|              null|    8370|          1|\n",
      "|1000001| P00248942|     F|0-17|        10|            A|                         2|             0|                 1|                 6|                14|   15200|          1|\n",
      "+-------+----------+------+----+----------+-------------+--------------------------+--------------+------------------+------------------+------------------+--------+-----------+\n",
      "only showing top 2 rows\n",
      "\n"
     ]
    }
   ],
   "source": [
    "trainDF.show(2)"
   ]
  },
  {
   "cell_type": "code",
   "execution_count": null,
   "metadata": {
    "colab": {
     "base_uri": "https://localhost:8080/"
    },
    "id": "kSRzGB02ycTw",
    "outputId": "f2644d9e-23be-4aef-9c15-8f846a18b52d",
    "scrolled": true
   },
   "outputs": [
    {
     "name": "stdout",
     "output_type": "stream",
     "text": [
      "+--------+-----------------+\n",
      "|min(Age)|    avg(Purchase)|\n",
      "+--------+-----------------+\n",
      "|    0-17|9263.968712959126|\n",
      "+--------+-----------------+\n",
      "\n"
     ]
    }
   ],
   "source": [
    "trainDF.agg(func.min('Age'),func.avg('Purchase')).show()"
   ]
  },
  {
   "cell_type": "code",
   "execution_count": null,
   "metadata": {
    "colab": {
     "base_uri": "https://localhost:8080/"
    },
    "id": "QukxKN3Fylm8",
    "outputId": "e6ff1359-0033-4acd-e6aa-55649a95eeac",
    "scrolled": true
   },
   "outputs": [
    {
     "name": "stdout",
     "output_type": "stream",
     "text": [
      "+-----+------+\n",
      "|  Age| count|\n",
      "+-----+------+\n",
      "|18-25| 99660|\n",
      "|26-35|219587|\n",
      "| 0-17| 15102|\n",
      "|46-50| 45701|\n",
      "|51-55| 38501|\n",
      "|36-45|110013|\n",
      "|  55+| 21504|\n",
      "+-----+------+\n",
      "\n"
     ]
    }
   ],
   "source": [
    "trainDF.groupby('Age').count().show()"
   ]
  },
  {
   "cell_type": "code",
   "execution_count": 73,
   "metadata": {
    "id": "jTocg6sfy3O1"
   },
   "outputs": [],
   "source": [
    "from pyspark.sql.functions import approx_count_distinct"
   ]
  },
  {
   "cell_type": "code",
   "execution_count": null,
   "metadata": {
    "id": "zdxxgcG1J_xg"
   },
   "outputs": [],
   "source": []
  },
  {
   "cell_type": "code",
   "execution_count": null,
   "metadata": {
    "id": "EtBz1H4DzNVe"
   },
   "outputs": [],
   "source": [
    "?approx_count_distinct"
   ]
  },
  {
   "cell_type": "code",
   "execution_count": null,
   "metadata": {
    "colab": {
     "base_uri": "https://localhost:8080/"
    },
    "id": "HE_-flclzPXT",
    "outputId": "0030715b-7c78-48be-a9a5-4cfbdb5e253f",
    "scrolled": true
   },
   "outputs": [
    {
     "name": "stdout",
     "output_type": "stream",
     "text": [
      "+--------------------------+\n",
      "|approx_count_distinct(Age)|\n",
      "+--------------------------+\n",
      "|                         7|\n",
      "+--------------------------+\n",
      "\n"
     ]
    }
   ],
   "source": [
    "trainDF.select(approx_count_distinct(\"Age\",0.1)).show()"
   ]
  },
  {
   "cell_type": "code",
   "execution_count": 74,
   "metadata": {
    "colab": {
     "base_uri": "https://localhost:8080/"
    },
    "id": "EOy-n8HQznsQ",
    "outputId": "da745389-fe96-42c1-b058-8484de46f31c",
    "scrolled": true
   },
   "outputs": [
    {
     "name": "stdout",
     "output_type": "stream",
     "text": [
      "+-----------------+----------------+\n",
      "|first(Product_ID)|last(Product_ID)|\n",
      "+-----------------+----------------+\n",
      "|        P00069042|       P00371644|\n",
      "+-----------------+----------------+\n",
      "\n"
     ]
    }
   ],
   "source": [
    "from pyspark.sql.functions import first,last \n",
    "trainDF.select(first(\"Product_ID\"),last(\"Product_ID\")).show()"
   ]
  },
  {
   "cell_type": "code",
   "execution_count": 75,
   "metadata": {
    "colab": {
     "base_uri": "https://localhost:8080/"
    },
    "id": "WhPs29uV0Kkc",
    "outputId": "f84d018c-6561-4e81-bf22-8a1d883c18c3"
   },
   "outputs": [
    {
     "name": "stdout",
     "output_type": "stream",
     "text": [
      "+-------------+-------------+\n",
      "|min(Purchase)|max(Purchase)|\n",
      "+-------------+-------------+\n",
      "|           12|        23961|\n",
      "+-------------+-------------+\n",
      "\n"
     ]
    }
   ],
   "source": [
    "from pyspark.sql.functions import min,max\n",
    "trainDF.select(min(\"Purchase\"),max(\"Purchase\")).show()"
   ]
  },
  {
   "cell_type": "code",
   "execution_count": 76,
   "metadata": {
    "colab": {
     "base_uri": "https://localhost:8080/"
    },
    "id": "YQ3H2GmI0ZjL",
    "outputId": "dfcfc7b0-0ef1-4559-ffcf-2a5b1017df9c",
    "scrolled": true
   },
   "outputs": [
    {
     "name": "stdout",
     "output_type": "stream",
     "text": [
      "+-------------+\n",
      "|sum(Purchase)|\n",
      "+-------------+\n",
      "|   5095812742|\n",
      "+-------------+\n",
      "\n"
     ]
    }
   ],
   "source": [
    "from pyspark.sql.functions import sum\n",
    "trainDF.select(sum(\"Purchase\")).show()"
   ]
  },
  {
   "cell_type": "code",
   "execution_count": 77,
   "metadata": {
    "colab": {
     "base_uri": "https://localhost:8080/"
    },
    "id": "1JgKh20H0kNy",
    "outputId": "219b8449-b13e-40e1-f722-bd4837d61999",
    "scrolled": true
   },
   "outputs": [
    {
     "name": "stdout",
     "output_type": "stream",
     "text": [
      "+----------------------+\n",
      "|sum(DISTINCT Purchase)|\n",
      "+----------------------+\n",
      "|             208520914|\n",
      "+----------------------+\n",
      "\n"
     ]
    }
   ],
   "source": [
    "from pyspark.sql.functions import sumDistinct\n",
    "trainDF.select(sumDistinct(\"Purchase\")).show()"
   ]
  },
  {
   "cell_type": "code",
   "execution_count": 78,
   "metadata": {
    "colab": {
     "base_uri": "https://localhost:8080/"
    },
    "id": "akXQoztD0wth",
    "outputId": "4a5d32da-ec05-4fbd-eef5-79dc9bac5e9a"
   },
   "outputs": [
    {
     "name": "stdout",
     "output_type": "stream",
     "text": [
      "+--------------------------------------+-----------------+-----------------+\n",
      "|(total_purchases / total_transactions)|    avg_purchases|   mean_Purchases|\n",
      "+--------------------------------------+-----------------+-----------------+\n",
      "|                     9263.968712959126|9263.968712959126|9263.968712959126|\n",
      "+--------------------------------------+-----------------+-----------------+\n",
      "\n"
     ]
    }
   ],
   "source": [
    "from pyspark.sql.functions import sum,count,avg,expr\n",
    "trainDF.select(\n",
    "     count(\"Purchase\").alias(\"total_transactions\"),\n",
    "     sum(\"Purchase\").alias(\"total_purchases\"),\n",
    "     avg(\"Purchase\").alias(\"avg_purchases\"),\n",
    "     expr(\"mean(Purchase)\").alias(\"mean_Purchases\")\n",
    ").selectExpr(\n",
    "    \"total_purchases/total_transactions\",\n",
    "    \"avg_purchases\",\n",
    "    \"mean_Purchases\"\n",
    "    ).show()"
   ]
  },
  {
   "cell_type": "code",
   "execution_count": null,
   "metadata": {
    "colab": {
     "base_uri": "https://localhost:8080/"
    },
    "id": "fcMDYVnJ1B8x",
    "outputId": "ee99b928-10f9-4ca8-f030-f703d53b3c9d"
   },
   "outputs": [
    {
     "name": "stdout",
     "output_type": "stream",
     "text": [
      "+--------------------+-------------------+--------------------+---------------------+\n",
      "|   var_pop(Purchase)| var_samp(Purchase)|stddev_pop(Purchase)|stddev_samp(Purchase)|\n",
      "+--------------------+-------------------+--------------------+---------------------+\n",
      "|2.5231140081385408E7|2.523118595059785E7|   5023.060827959921|    5023.065393820575|\n",
      "+--------------------+-------------------+--------------------+---------------------+\n",
      "\n"
     ]
    }
   ],
   "source": [
    "from pyspark.sql.functions import var_pop,var_samp,stddev_pop,stddev_samp\n",
    "trainDF.select(var_pop('Purchase'),var_samp('Purchase'),stddev_pop('Purchase'),stddev_samp('Purchase')).show()"
   ]
  },
  {
   "cell_type": "code",
   "execution_count": null,
   "metadata": {
    "colab": {
     "base_uri": "https://localhost:8080/"
    },
    "id": "EfCpF6282rtD",
    "outputId": "c1178539-8b42-473f-a9f8-d65a3d20e668"
   },
   "outputs": [
    {
     "name": "stdout",
     "output_type": "stream",
     "text": [
      "+------------------+-------------------+\n",
      "|skewness(Purchase)| kurtosis(Purchase)|\n",
      "+------------------+-------------------+\n",
      "|0.6001383671643392|-0.3383853975360327|\n",
      "+------------------+-------------------+\n",
      "\n"
     ]
    }
   ],
   "source": [
    "from pyspark.sql.functions import skewness,kurtosis\n",
    "trainDF.select(skewness(\"Purchase\"),kurtosis(\"Purchase\")).show()"
   ]
  },
  {
   "cell_type": "code",
   "execution_count": null,
   "metadata": {
    "colab": {
     "base_uri": "https://localhost:8080/"
    },
    "id": "TnLUuYF_3Q5F",
    "outputId": "a95694df-7e79-4cb6-e415-4ab6e9c41260"
   },
   "outputs": [
    {
     "name": "stdout",
     "output_type": "stream",
     "text": [
      "+----------------------------------+----------------------------------+\n",
      "|skewness(CAST(Purchase AS DOUBLE))|kurtosis(CAST(Purchase AS DOUBLE))|\n",
      "+----------------------------------+----------------------------------+\n",
      "|                0.6001383671643392|               -0.3383853975360327|\n",
      "+----------------------------------+----------------------------------+\n",
      "\n"
     ]
    }
   ],
   "source": [
    "spark.sql(\"SELECT skewness(Purchase), kurtosis(Purchase) FROM trainDFTable\").show()"
   ]
  },
  {
   "cell_type": "code",
   "execution_count": null,
   "metadata": {
    "colab": {
     "base_uri": "https://localhost:8080/"
    },
    "id": "S2owVhGY3nmI",
    "outputId": "37ac993f-709d-4e2a-f319-3663896a27ae"
   },
   "outputs": [
    {
     "name": "stdout",
     "output_type": "stream",
     "text": [
      "+----------------------------------+----------------------------------------+---------------------------------------+\n",
      "|corr(Purchase, Product_Category_1)|covar_samp(Purchase, Product_Category_1)|covar_pop(Purchase, Product_Category_1)|\n",
      "+----------------------------------+----------------------------------------+---------------------------------------+\n",
      "|               -0.3437033459199084|                      -6795.650007204535|                     -6795.637653004677|\n",
      "+----------------------------------+----------------------------------------+---------------------------------------+\n",
      "\n"
     ]
    }
   ],
   "source": [
    "from pyspark.sql.functions import corr, covar_pop,covar_samp\n",
    "trainDF.select(corr(\"Purchase\",\"Product_Category_1\"),covar_samp(\"Purchase\",\"Product_Category_1\"),\n",
    "               covar_pop(\"Purchase\",\"Product_Category_1\")).show()"
   ]
  },
  {
   "cell_type": "code",
   "execution_count": 79,
   "metadata": {
    "colab": {
     "base_uri": "https://localhost:8080/"
    },
    "id": "wdapma2p4S1w",
    "outputId": "aaac2538-bd2f-4a4d-ff30-5aaf56ee3d68"
   },
   "outputs": [
    {
     "name": "stdout",
     "output_type": "stream",
     "text": [
      "+--------------------+--------------------+\n",
      "|    collect_set(Age)|   collect_list(Age)|\n",
      "+--------------------+--------------------+\n",
      "|[55+, 51-55, 0-17...|[0-17, 0-17, 0-17...|\n",
      "+--------------------+--------------------+\n",
      "\n"
     ]
    }
   ],
   "source": [
    "from pyspark.sql.functions import collect_list,collect_set\n",
    "trainDF.agg(collect_set(\"Age\"),collect_list(\"Age\")).show()"
   ]
  },
  {
   "cell_type": "code",
   "execution_count": 80,
   "metadata": {
    "colab": {
     "base_uri": "https://localhost:8080/"
    },
    "id": "EBwkUhOWReUx",
    "outputId": "80b95e84-d842-4118-e830-88525d901355"
   },
   "outputs": [
    {
     "name": "stdout",
     "output_type": "stream",
     "text": [
      "+--------------------+--------------------+\n",
      "|    collect_set(Age)|   collect_list(Age)|\n",
      "+--------------------+--------------------+\n",
      "|[55+, 51-55, 0-17...|[0-17, 0-17, 0-17...|\n",
      "+--------------------+--------------------+\n",
      "\n"
     ]
    }
   ],
   "source": [
    "spark.sql(\"SELECT collect_set(Age), collect_list(Age) FROM trainDFTable\").show() "
   ]
  },
  {
   "cell_type": "code",
   "execution_count": 81,
   "metadata": {
    "colab": {
     "base_uri": "https://localhost:8080/"
    },
    "id": "ZVxgGKTgRykS",
    "outputId": "ee194fc3-187f-4f38-e131-84d6c10923b4"
   },
   "outputs": [
    {
     "name": "stdout",
     "output_type": "stream",
     "text": [
      "+-----+------+---------------+\n",
      "|  Age|  quan|count(Purchase)|\n",
      "+-----+------+---------------+\n",
      "|18-25| 99660|          99660|\n",
      "|26-35|219587|         219587|\n",
      "| 0-17| 15102|          15102|\n",
      "|46-50| 45701|          45701|\n",
      "|51-55| 38501|          38501|\n",
      "|36-45|110013|         110013|\n",
      "|  55+| 21504|          21504|\n",
      "+-----+------+---------------+\n",
      "\n"
     ]
    }
   ],
   "source": [
    "trainDF.groupBy('Age').agg(count(\"Purchase\").alias(\"quan\")\n",
    "                       ,expr(\"count(Purchase)\")).show()"
   ]
  },
  {
   "cell_type": "code",
   "execution_count": null,
   "metadata": {
    "colab": {
     "base_uri": "https://localhost:8080/"
    },
    "id": "XrJ7-hdUSc3y",
    "outputId": "aec1f7a1-f5a0-45aa-fbbc-e744039951c7",
    "scrolled": true
   },
   "outputs": [
    {
     "name": "stdout",
     "output_type": "stream",
     "text": [
      "+-----+-----------------+--------------------+\n",
      "|  Age|    Avg(Purchase)|stddev_pop(Purchase)|\n",
      "+-----+-----------------+--------------------+\n",
      "|18-25|9169.663606261289|  5034.2967396277945|\n",
      "|26-35|9252.690632869888|   5010.515894010154|\n",
      "| 0-17|8933.464640444974|   5110.944823427661|\n",
      "|46-50|9208.625697468327|   4967.162022122706|\n",
      "|51-55|9534.808030960236|   5087.302011173869|\n",
      "|36-45|9331.350694917874|   5022.901050378538|\n",
      "|  55+|9336.280459449405|    5011.37746955577|\n",
      "+-----+-----------------+--------------------+\n",
      "\n"
     ]
    }
   ],
   "source": [
    "trainDF.groupBy('Age').agg(expr('Avg(Purchase)'),expr(\"stddev_pop(Purchase)\")).show()"
   ]
  },
  {
   "cell_type": "code",
   "execution_count": null,
   "metadata": {
    "colab": {
     "base_uri": "https://localhost:8080/"
    },
    "id": "VGeeHzRgS140",
    "outputId": "27c28a09-1cd3-4b46-b32b-ed9767ef45a8",
    "scrolled": true
   },
   "outputs": [
    {
     "name": "stdout",
     "output_type": "stream",
     "text": [
      "+-----+-----------------+\n",
      "|  Age|    avg(Purchase)|\n",
      "+-----+-----------------+\n",
      "|18-25|9169.663606261289|\n",
      "|26-35|9252.690632869888|\n",
      "| 0-17|8933.464640444974|\n",
      "|46-50|9208.625697468327|\n",
      "|51-55|9534.808030960236|\n",
      "|36-45|9331.350694917874|\n",
      "|  55+|9336.280459449405|\n",
      "+-----+-----------------+\n",
      "\n"
     ]
    }
   ],
   "source": [
    "trainDF.groupBy('Age').agg({'Purchase':'mean'}).show()"
   ]
  },
  {
   "cell_type": "code",
   "execution_count": null,
   "metadata": {
    "colab": {
     "base_uri": "https://localhost:8080/"
    },
    "id": "mwVm2CZeTQhO",
    "outputId": "12b4b988-945a-4a8c-c48d-d67ce4b6ae6f",
    "scrolled": true
   },
   "outputs": [
    {
     "name": "stdout",
     "output_type": "stream",
     "text": [
      "+-----+-------------+\n",
      "|  Age|sum(Purchase)|\n",
      "+-----+-------------+\n",
      "|18-25|    913848675|\n",
      "|26-35|   2031770578|\n",
      "| 0-17|    134913183|\n",
      "|46-50|    420843403|\n",
      "|51-55|    367099644|\n",
      "|36-45|   1026569884|\n",
      "|  55+|    200767375|\n",
      "+-----+-------------+\n",
      "\n"
     ]
    }
   ],
   "source": [
    "trainDF.groupBy('Age').agg({'Purchase':'sum'}).show()"
   ]
  },
  {
   "cell_type": "code",
   "execution_count": 82,
   "metadata": {
    "colab": {
     "base_uri": "https://localhost:8080/"
    },
    "id": "QS1snPQXTkMs",
    "outputId": "624ef733-8070-4692-ab6e-0d4e165d3736"
   },
   "outputs": [
    {
     "name": "stdout",
     "output_type": "stream",
     "text": [
      "+-----+------------------+-----------------------+-------------------+-------------+------------+---------------+-------------------------------+-----------------------+--------+----------------+-----------+-----------------------+---------------+\n",
      "|  Age|sum(City_Category)|sum(Product_Category_3)|sum(Marital_Status)|sum(Purchase)|sum(User_ID)|sum(Occupation)|sum(Stay_In_Current_City_Years)|sum(Product_Category_1)|sum(Age)|sum(ConstantOne)|sum(Gender)|sum(Product_Category_2)|sum(Product_ID)|\n",
      "+-----+------------------+-----------------------+-------------------+-------------+------------+---------------+-------------------------------+-----------------------+--------+----------------+-----------+-----------------------+---------------+\n",
      "|18-25|              null|                 388041|              21116|    913848675| 99939196632|         671348|                       116997.0|                 509371|    null|           99660|       null|                 654936|           null|\n",
      "|26-35|              null|                 846624|              86291|   2031770578|220270500414|        1734073|                       275611.0|                1166945|    null|          219587|       null|                1473278|           null|\n",
      "| 0-17|              null|                  57725|                  0|    134913183| 15143112813|         132309|                        20320.0|                  76775|    null|           15102|       null|                  96155|           null|\n",
      "|46-50|              null|                 173059|              33011|    420843403| 45846804203|         389239|                        51742.0|                 262424|    null|           45701|       null|                 315572|           null|\n",
      "|51-55|              null|                 146334|              27662|    367099644| 38615925320|         339198|                        44243.0|                 222313|    null|           38501|       null|                 267570|           null|\n",
      "|36-45|              null|                 424412|              43636|   1026569884|110350311441|         972225|                       148162.0|                 604438|    null|          110013|       null|                 750081|           null|\n",
      "|  55+|              null|                  77134|              13621|    200767375| 21568218459|         204346|                        26277.0|                 130450|    null|           21504|       null|                 147356|           null|\n",
      "+-----+------------------+-----------------------+-------------------+-------------+------------+---------------+-------------------------------+-----------------------+--------+----------------+-----------+-----------------------+---------------+\n",
      "\n"
     ]
    }
   ],
   "source": [
    "exprs = {x : 'sum' for x in trainDF.columns}\n",
    "trainDF.groupBy('Age').agg(exprs).show()"
   ]
  },
  {
   "cell_type": "code",
   "execution_count": 83,
   "metadata": {
    "id": "EWCbMMJFUOaL"
   },
   "outputs": [],
   "source": [
    "###Joins\n",
    "person = spark.createDataFrame(\n",
    "    [(0,\"Dr Dakshina Murthy\",0,[250,100]),\n",
    "     (1,\"Dr Sridhar Pappu\",1,[500,250,100]),\n",
    "     (2,\"Dr Manoj Duse\",2,[100])  \n",
    "    ]\n",
    ").toDF(\"id\",\"name\",\"graduate_program\",\"role_status\")"
   ]
  },
  {
   "cell_type": "code",
   "execution_count": 84,
   "metadata": {
    "colab": {
     "base_uri": "https://localhost:8080/"
    },
    "id": "cAhcy1iaYP_h",
    "outputId": "0c1045df-0d9f-4075-9fea-51b8ca402b35"
   },
   "outputs": [
    {
     "data": {
      "text/plain": [
       "DataFrame[id: bigint, name: string, graduate_program: bigint, role_status: array<bigint>]"
      ]
     },
     "execution_count": 84,
     "metadata": {},
     "output_type": "execute_result"
    }
   ],
   "source": [
    "person"
   ]
  },
  {
   "cell_type": "code",
   "execution_count": 85,
   "metadata": {
    "colab": {
     "base_uri": "https://localhost:8080/"
    },
    "id": "EQ24Ese-YRS4",
    "outputId": "ad1a9401-8e03-4e0a-e903-638f5dcd9477"
   },
   "outputs": [
    {
     "name": "stdout",
     "output_type": "stream",
     "text": [
      "+---+------------------+----------------+---------------+\n",
      "| id|              name|graduate_program|    role_status|\n",
      "+---+------------------+----------------+---------------+\n",
      "|  0|Dr Dakshina Murthy|               0|     [250, 100]|\n",
      "|  1|  Dr Sridhar Pappu|               1|[500, 250, 100]|\n",
      "|  2|     Dr Manoj Duse|               2|          [100]|\n",
      "+---+------------------+----------------+---------------+\n",
      "\n"
     ]
    }
   ],
   "source": [
    "person.show()"
   ]
  },
  {
   "cell_type": "code",
   "execution_count": 86,
   "metadata": {
    "id": "WqDiWTCCYZ99"
   },
   "outputs": [],
   "source": [
    "graduateProgram = spark.createDataFrame([\n",
    "                   (0,\"Ph.D\",\"School of Information\",\"Carnegie Mellon University\"),\n",
    "                   (1,\"Ph.D\",\"The University of Texas\",\"El Paso\"),\n",
    "                   (2,\"Ph.D\",\"School Of Information\",\"Oklhama University\"),\n",
    "                                          \n",
    "\n",
    "]).toDF(\"id\",\"degree\",\"dept\",\"school\")"
   ]
  },
  {
   "cell_type": "code",
   "execution_count": 89,
   "metadata": {
    "colab": {
     "base_uri": "https://localhost:8080/"
    },
    "id": "sO5AqyDaZN_j",
    "outputId": "8b6b0f67-ca78-429d-d9cd-34b4dfafe486"
   },
   "outputs": [
    {
     "name": "stdout",
     "output_type": "stream",
     "text": [
      "+---+------+-----------------------+--------------------------+\n",
      "|id |degree|dept                   |school                    |\n",
      "+---+------+-----------------------+--------------------------+\n",
      "|0  |Ph.D  |School of Information  |Carnegie Mellon University|\n",
      "|1  |Ph.D  |The University of Texas|El Paso                   |\n",
      "|2  |Ph.D  |School Of Information  |Oklhama University        |\n",
      "+---+------+-----------------------+--------------------------+\n",
      "\n"
     ]
    }
   ],
   "source": [
    "graduateProgram.show(truncate=False)"
   ]
  },
  {
   "cell_type": "code",
   "execution_count": 90,
   "metadata": {
    "id": "kWOCsFBSZPgA"
   },
   "outputs": [],
   "source": [
    "roleStatus = spark.createDataFrame([\n",
    "               (500,\"President\"),\n",
    "               (250,\"Founder\"),\n",
    "               (100,\"Mentor\")                                   \n",
    "]).toDF(\"id\",\"status\")"
   ]
  },
  {
   "cell_type": "code",
   "execution_count": 91,
   "metadata": {
    "colab": {
     "base_uri": "https://localhost:8080/"
    },
    "id": "A_kv6txxZsbX",
    "outputId": "44aa22d5-bad8-4b43-b882-699174ddf9c5"
   },
   "outputs": [
    {
     "name": "stdout",
     "output_type": "stream",
     "text": [
      "+---+---------+\n",
      "| id|   status|\n",
      "+---+---------+\n",
      "|500|President|\n",
      "|250|  Founder|\n",
      "|100|   Mentor|\n",
      "+---+---------+\n",
      "\n"
     ]
    }
   ],
   "source": [
    "roleStatus.show()"
   ]
  },
  {
   "cell_type": "code",
   "execution_count": 92,
   "metadata": {
    "id": "0I7neLtgZuML"
   },
   "outputs": [],
   "source": [
    "person.createOrReplaceTempView(\"personTbl\")\n",
    "graduateProgram.createOrReplaceTempView(\"graduateProgramTbl\")\n",
    "roleStatus.createOrReplaceTempView(\"roleStatusTbl\")"
   ]
  },
  {
   "cell_type": "code",
   "execution_count": 93,
   "metadata": {
    "colab": {
     "base_uri": "https://localhost:8080/"
    },
    "id": "3f2xhMR_aboU",
    "outputId": "d32749aa-ac00-4c9e-cfb9-bbafa8faa56f"
   },
   "outputs": [
    {
     "name": "stdout",
     "output_type": "stream",
     "text": [
      "+---+------------------+----------------+---------------+---+------+-----------------------+--------------------------+\n",
      "|id |name              |graduate_program|role_status    |id |degree|dept                   |school                    |\n",
      "+---+------------------+----------------+---------------+---+------+-----------------------+--------------------------+\n",
      "|0  |Dr Dakshina Murthy|0               |[250, 100]     |0  |Ph.D  |School of Information  |Carnegie Mellon University|\n",
      "|1  |Dr Sridhar Pappu  |1               |[500, 250, 100]|1  |Ph.D  |The University of Texas|El Paso                   |\n",
      "|2  |Dr Manoj Duse     |2               |[100]          |2  |Ph.D  |School Of Information  |Oklhama University        |\n",
      "+---+------------------+----------------+---------------+---+------+-----------------------+--------------------------+\n",
      "\n"
     ]
    }
   ],
   "source": [
    "joinExpression = person[\"graduate_program\"] == graduateProgram[\"id\"]\n",
    "person.join(graduateProgram,joinExpression).show(truncate=False)"
   ]
  },
  {
   "cell_type": "code",
   "execution_count": 94,
   "metadata": {
    "colab": {
     "base_uri": "https://localhost:8080/"
    },
    "id": "5UXzenItaxbG",
    "outputId": "2101a002-7b9e-4947-bae6-58a986c71530"
   },
   "outputs": [
    {
     "name": "stdout",
     "output_type": "stream",
     "text": [
      "+---+------------------+----------------+---------------+---+------+-----------------------+--------------------------+\n",
      "|id |name              |graduate_program|role_status    |id |degree|dept                   |school                    |\n",
      "+---+------------------+----------------+---------------+---+------+-----------------------+--------------------------+\n",
      "|0  |Dr Dakshina Murthy|0               |[250, 100]     |0  |Ph.D  |School of Information  |Carnegie Mellon University|\n",
      "|1  |Dr Sridhar Pappu  |1               |[500, 250, 100]|1  |Ph.D  |The University of Texas|El Paso                   |\n",
      "|2  |Dr Manoj Duse     |2               |[100]          |2  |Ph.D  |School Of Information  |Oklhama University        |\n",
      "+---+------------------+----------------+---------------+---+------+-----------------------+--------------------------+\n",
      "\n"
     ]
    }
   ],
   "source": [
    "spark.sql(\"\"\"SELECT * FROM personTbl JOIN graduateProgramTbl \n",
    "ON personTbl.graduate_program = graduateProgramTbl.id \"\"\").show(truncate=False)"
   ]
  },
  {
   "cell_type": "code",
   "execution_count": 95,
   "metadata": {
    "colab": {
     "base_uri": "https://localhost:8080/"
    },
    "id": "XuKWOlfqbTNM",
    "outputId": "55c20594-8279-40f2-c088-7266d5f7dec0"
   },
   "outputs": [
    {
     "name": "stdout",
     "output_type": "stream",
     "text": [
      "+---+------------------+----------------+---------------+---+------+-----------------------+--------------------------+\n",
      "|id |name              |graduate_program|role_status    |id |degree|dept                   |school                    |\n",
      "+---+------------------+----------------+---------------+---+------+-----------------------+--------------------------+\n",
      "|0  |Dr Dakshina Murthy|0               |[250, 100]     |0  |Ph.D  |School of Information  |Carnegie Mellon University|\n",
      "|1  |Dr Sridhar Pappu  |1               |[500, 250, 100]|1  |Ph.D  |The University of Texas|El Paso                   |\n",
      "|2  |Dr Manoj Duse     |2               |[100]          |2  |Ph.D  |School Of Information  |Oklhama University        |\n",
      "+---+------------------+----------------+---------------+---+------+-----------------------+--------------------------+\n",
      "\n"
     ]
    }
   ],
   "source": [
    "joinType = \"inner\"\n",
    "person.join(graduateProgram,joinExpression,joinType).show(truncate=False)"
   ]
  },
  {
   "cell_type": "code",
   "execution_count": null,
   "metadata": {
    "colab": {
     "base_uri": "https://localhost:8080/"
    },
    "id": "O-nDt0w5c_xX",
    "outputId": "5d36373e-1cfd-45c1-c6f8-a4b436f6bb6e"
   },
   "outputs": [
    {
     "name": "stdout",
     "output_type": "stream",
     "text": [
      "+---+------------------+----------------+---------------+---+------+-----------------------+--------------------------+\n",
      "|id |name              |graduate_program|role_status    |id |degree|dept                   |school                    |\n",
      "+---+------------------+----------------+---------------+---+------+-----------------------+--------------------------+\n",
      "|0  |Dr Dakshina Murthy|0               |[250, 100]     |0  |Ph.D  |School of Information  |Carnegie Mellon University|\n",
      "|1  |Dr Sridhar Pappu  |1               |[500, 250, 100]|1  |Ph.D  |The University of Texas|El Paso                   |\n",
      "|2  |Dr Manoj Duse     |2               |[100]          |2  |Ph.D  |School Of Information  |Oklhama University        |\n",
      "+---+------------------+----------------+---------------+---+------+-----------------------+--------------------------+\n",
      "\n"
     ]
    }
   ],
   "source": [
    "joinType = \"outer\"\n",
    "person.join(graduateProgram,joinExpression,joinType).show(truncate=False)"
   ]
  },
  {
   "cell_type": "code",
   "execution_count": null,
   "metadata": {
    "colab": {
     "base_uri": "https://localhost:8080/"
    },
    "id": "HAxbkVqFdOGJ",
    "outputId": "77663d15-2188-4925-cfc8-9beebd06d4e3"
   },
   "outputs": [
    {
     "name": "stdout",
     "output_type": "stream",
     "text": [
      "+---+------------------+----------------+---------------+---+------+-----------------------+--------------------------+\n",
      "|id |name              |graduate_program|role_status    |id |degree|dept                   |school                    |\n",
      "+---+------------------+----------------+---------------+---+------+-----------------------+--------------------------+\n",
      "|0  |Dr Dakshina Murthy|0               |[250, 100]     |0  |Ph.D  |School of Information  |Carnegie Mellon University|\n",
      "|1  |Dr Sridhar Pappu  |1               |[500, 250, 100]|1  |Ph.D  |The University of Texas|El Paso                   |\n",
      "|2  |Dr Manoj Duse     |2               |[100]          |2  |Ph.D  |School Of Information  |Oklhama University        |\n",
      "+---+------------------+----------------+---------------+---+------+-----------------------+--------------------------+\n",
      "\n"
     ]
    }
   ],
   "source": [
    "spark.sql(\"\"\"SELECT * FROM personTbl INNER JOIN graduateProgramTbl \n",
    "ON personTbl.graduate_program = graduateProgramTbl.id \"\"\").show(truncate=False)"
   ]
  },
  {
   "cell_type": "code",
   "execution_count": null,
   "metadata": {
    "colab": {
     "base_uri": "https://localhost:8080/"
    },
    "id": "uJa42xD5dfE2",
    "outputId": "8a1a5298-d3d0-49a1-f5bd-7c8a879848db"
   },
   "outputs": [
    {
     "name": "stdout",
     "output_type": "stream",
     "text": [
      "+---+------------------+----------------+---------------+---+------+-----------------------+--------------------------+\n",
      "|id |name              |graduate_program|role_status    |id |degree|dept                   |school                    |\n",
      "+---+------------------+----------------+---------------+---+------+-----------------------+--------------------------+\n",
      "|0  |Dr Dakshina Murthy|0               |[250, 100]     |0  |Ph.D  |School of Information  |Carnegie Mellon University|\n",
      "|1  |Dr Sridhar Pappu  |1               |[500, 250, 100]|1  |Ph.D  |The University of Texas|El Paso                   |\n",
      "|2  |Dr Manoj Duse     |2               |[100]          |2  |Ph.D  |School Of Information  |Oklhama University        |\n",
      "+---+------------------+----------------+---------------+---+------+-----------------------+--------------------------+\n",
      "\n"
     ]
    }
   ],
   "source": [
    "joinType = \"left_outer\"\n",
    "person.join(graduateProgram,joinExpression,joinType).show(truncate=False)"
   ]
  },
  {
   "cell_type": "code",
   "execution_count": null,
   "metadata": {
    "colab": {
     "base_uri": "https://localhost:8080/"
    },
    "id": "Hg_Nm7e9dsU-",
    "outputId": "f628390f-a59d-4c26-af89-20b6c10df659"
   },
   "outputs": [
    {
     "name": "stdout",
     "output_type": "stream",
     "text": [
      "+---+------------------+----------------+---------------+---+------+-----------------------+--------------------------+\n",
      "|id |name              |graduate_program|role_status    |id |degree|dept                   |school                    |\n",
      "+---+------------------+----------------+---------------+---+------+-----------------------+--------------------------+\n",
      "|0  |Dr Dakshina Murthy|0               |[250, 100]     |0  |Ph.D  |School of Information  |Carnegie Mellon University|\n",
      "|1  |Dr Sridhar Pappu  |1               |[500, 250, 100]|1  |Ph.D  |The University of Texas|El Paso                   |\n",
      "|2  |Dr Manoj Duse     |2               |[100]          |2  |Ph.D  |School Of Information  |Oklhama University        |\n",
      "+---+------------------+----------------+---------------+---+------+-----------------------+--------------------------+\n",
      "\n"
     ]
    }
   ],
   "source": [
    "joinType = \"right_outer\"\n",
    "person.join(graduateProgram,joinExpression,joinType).show(truncate=False)"
   ]
  },
  {
   "cell_type": "code",
   "execution_count": null,
   "metadata": {
    "colab": {
     "base_uri": "https://localhost:8080/"
    },
    "id": "3F94dwIndukI",
    "outputId": "7468d50e-959b-4d3a-d581-2dae3e2a7886"
   },
   "outputs": [
    {
     "name": "stdout",
     "output_type": "stream",
     "text": [
      "+---+------------------+----------------+---------------+---+------+-----------------------+--------------------------+\n",
      "|id |name              |graduate_program|role_status    |id |degree|dept                   |school                    |\n",
      "+---+------------------+----------------+---------------+---+------+-----------------------+--------------------------+\n",
      "|0  |Dr Dakshina Murthy|0               |[250, 100]     |0  |Ph.D  |School of Information  |Carnegie Mellon University|\n",
      "|1  |Dr Sridhar Pappu  |1               |[500, 250, 100]|1  |Ph.D  |The University of Texas|El Paso                   |\n",
      "|2  |Dr Manoj Duse     |2               |[100]          |2  |Ph.D  |School Of Information  |Oklhama University        |\n",
      "+---+------------------+----------------+---------------+---+------+-----------------------+--------------------------+\n",
      "\n"
     ]
    }
   ],
   "source": [
    "spark.sql(\"\"\"SELECT * FROM personTbl LEFT OUTER JOIN graduateProgramTbl \n",
    "ON personTbl.graduate_program = graduateProgramTbl.id \"\"\").show(truncate=False)"
   ]
  },
  {
   "cell_type": "code",
   "execution_count": null,
   "metadata": {
    "colab": {
     "base_uri": "https://localhost:8080/"
    },
    "id": "CfgKVFy0d1s7",
    "outputId": "0563aa36-ba37-4fdc-a477-3efe0b44bbb9"
   },
   "outputs": [
    {
     "name": "stdout",
     "output_type": "stream",
     "text": [
      "+---+------------------+----------------+---------------+---+------+-----------------------+--------------------------+\n",
      "|id |name              |graduate_program|role_status    |id |degree|dept                   |school                    |\n",
      "+---+------------------+----------------+---------------+---+------+-----------------------+--------------------------+\n",
      "|0  |Dr Dakshina Murthy|0               |[250, 100]     |0  |Ph.D  |School of Information  |Carnegie Mellon University|\n",
      "|1  |Dr Sridhar Pappu  |1               |[500, 250, 100]|1  |Ph.D  |The University of Texas|El Paso                   |\n",
      "|2  |Dr Manoj Duse     |2               |[100]          |2  |Ph.D  |School Of Information  |Oklhama University        |\n",
      "+---+------------------+----------------+---------------+---+------+-----------------------+--------------------------+\n",
      "\n"
     ]
    }
   ],
   "source": [
    "spark.sql(\"\"\"SELECT * FROM personTbl RIGHT OUTER JOIN graduateProgramTbl \n",
    "ON personTbl.graduate_program = graduateProgramTbl.id \"\"\").show(truncate=False)"
   ]
  },
  {
   "cell_type": "code",
   "execution_count": null,
   "metadata": {
    "colab": {
     "base_uri": "https://localhost:8080/"
    },
    "id": "mjKPr3qwd4VI",
    "outputId": "1759b532-9c5a-4665-8321-96665d557991"
   },
   "outputs": [
    {
     "name": "stdout",
     "output_type": "stream",
     "text": [
      "+---+------------------+----------------+---------------+---+------+-----------------------+--------------------------+\n",
      "|id |name              |graduate_program|role_status    |id |degree|dept                   |school                    |\n",
      "+---+------------------+----------------+---------------+---+------+-----------------------+--------------------------+\n",
      "|0  |Dr Dakshina Murthy|0               |[250, 100]     |0  |Ph.D  |School of Information  |Carnegie Mellon University|\n",
      "|1  |Dr Sridhar Pappu  |1               |[500, 250, 100]|1  |Ph.D  |The University of Texas|El Paso                   |\n",
      "|2  |Dr Manoj Duse     |2               |[100]          |2  |Ph.D  |School Of Information  |Oklhama University        |\n",
      "+---+------------------+----------------+---------------+---+------+-----------------------+--------------------------+\n",
      "\n"
     ]
    }
   ],
   "source": [
    "joinType = \"cross\"\n",
    "person.join(graduateProgram,joinExpression,joinType).show(truncate=False)"
   ]
  },
  {
   "cell_type": "code",
   "execution_count": null,
   "metadata": {
    "colab": {
     "base_uri": "https://localhost:8080/"
    },
    "id": "hzbo3d63eKi-",
    "outputId": "a6f6a83e-ae28-4db8-ed75-9aa51d4b2ed0"
   },
   "outputs": [
    {
     "name": "stdout",
     "output_type": "stream",
     "text": [
      "+---+------------------+----------------+---------------+---+------+-----------------------+--------------------------+\n",
      "|id |name              |graduate_program|role_status    |id |degree|dept                   |school                    |\n",
      "+---+------------------+----------------+---------------+---+------+-----------------------+--------------------------+\n",
      "|0  |Dr Dakshina Murthy|0               |[250, 100]     |0  |Ph.D  |School of Information  |Carnegie Mellon University|\n",
      "|1  |Dr Sridhar Pappu  |1               |[500, 250, 100]|1  |Ph.D  |The University of Texas|El Paso                   |\n",
      "|2  |Dr Manoj Duse     |2               |[100]          |2  |Ph.D  |School Of Information  |Oklhama University        |\n",
      "+---+------------------+----------------+---------------+---+------+-----------------------+--------------------------+\n",
      "\n"
     ]
    }
   ],
   "source": [
    "spark.sql(\"\"\"SELECT * FROM personTbl CROSS JOIN graduateProgramTbl \n",
    "ON personTbl.graduate_program = graduateProgramTbl.id \"\"\").show(truncate=False)"
   ]
  },
  {
   "cell_type": "code",
   "execution_count": 96,
   "metadata": {
    "colab": {
     "base_uri": "https://localhost:8080/"
    },
    "id": "l2lgymOJePFA",
    "outputId": "366dc416-8731-4df8-d066-794e45090c1b"
   },
   "outputs": [
    {
     "name": "stdout",
     "output_type": "stream",
     "text": [
      "+--------+------------------+----------------+---------------+---+---------+\n",
      "|personId|              name|graduate_program|    role_status| id|   status|\n",
      "+--------+------------------+----------------+---------------+---+---------+\n",
      "|       0|Dr Dakshina Murthy|               0|     [250, 100]|250|  Founder|\n",
      "|       0|Dr Dakshina Murthy|               0|     [250, 100]|100|   Mentor|\n",
      "|       1|  Dr Sridhar Pappu|               1|[500, 250, 100]|500|President|\n",
      "|       1|  Dr Sridhar Pappu|               1|[500, 250, 100]|250|  Founder|\n",
      "|       1|  Dr Sridhar Pappu|               1|[500, 250, 100]|100|   Mentor|\n",
      "|       2|     Dr Manoj Duse|               2|          [100]|100|   Mentor|\n",
      "+--------+------------------+----------------+---------------+---+---------+\n",
      "\n"
     ]
    }
   ],
   "source": [
    "from pyspark.sql.functions import expr\n",
    "person.withColumnRenamed(\"id\",\"personId\").join(roleStatus,expr(\"array_contains(role_status,id)\")).show()"
   ]
  },
  {
   "cell_type": "code",
   "execution_count": 97,
   "metadata": {
    "colab": {
     "base_uri": "https://localhost:8080/"
    },
    "id": "AS6Gw1s_e7uP",
    "outputId": "8ffee2c4-f1ec-4748-e363-0028c17fe884"
   },
   "outputs": [
    {
     "name": "stdout",
     "output_type": "stream",
     "text": [
      "+--------+------------------+----------------+---------------+---+---------+\n",
      "|personId|              name|graduate_program|    role_status| id|   status|\n",
      "+--------+------------------+----------------+---------------+---+---------+\n",
      "|       0|Dr Dakshina Murthy|               0|     [250, 100]|250|  Founder|\n",
      "|       0|Dr Dakshina Murthy|               0|     [250, 100]|100|   Mentor|\n",
      "|       1|  Dr Sridhar Pappu|               1|[500, 250, 100]|500|President|\n",
      "|       1|  Dr Sridhar Pappu|               1|[500, 250, 100]|250|  Founder|\n",
      "|       1|  Dr Sridhar Pappu|               1|[500, 250, 100]|100|   Mentor|\n",
      "|       2|     Dr Manoj Duse|               2|          [100]|100|   Mentor|\n",
      "+--------+------------------+----------------+---------------+---+---------+\n",
      "\n"
     ]
    }
   ],
   "source": [
    "spark.sql(\"\"\" SELECT * FROM \n",
    "    (select id as personId, name,graduate_program,role_status FROM personTbl)\n",
    "    INNER JOIN roleStatusTbl ON array_contains(role_status,id)\n",
    "\"\"\").show()"
   ]
  },
  {
   "cell_type": "code",
   "execution_count": 98,
   "metadata": {
    "colab": {
     "base_uri": "https://localhost:8080/"
    },
    "id": "VP4R8zRefnj1",
    "outputId": "23d7fdb6-a8f8-4786-8107-63731dceb8ed"
   },
   "outputs": [
    {
     "data": {
      "text/plain": [
       "550068"
      ]
     },
     "execution_count": 98,
     "metadata": {},
     "output_type": "execute_result"
    }
   ],
   "source": [
    "trainDF.count()"
   ]
  },
  {
   "cell_type": "code",
   "execution_count": 99,
   "metadata": {
    "id": "KERgEp_Jf_CV"
   },
   "outputs": [],
   "source": [
    "sample1 = trainDF.sample(False,0.1,1234)\n",
    "sample2 = trainDF.sample(False,0.1,2345)"
   ]
  },
  {
   "cell_type": "code",
   "execution_count": 100,
   "metadata": {
    "colab": {
     "base_uri": "https://localhost:8080/"
    },
    "id": "FWe96ZANg-fu",
    "outputId": "83dab4d0-2837-495d-856b-5941b15a82c9"
   },
   "outputs": [
    {
     "data": {
      "text/plain": [
       "55488"
      ]
     },
     "execution_count": 100,
     "metadata": {},
     "output_type": "execute_result"
    }
   ],
   "source": [
    "sample1.count()"
   ]
  },
  {
   "cell_type": "code",
   "execution_count": 101,
   "metadata": {
    "colab": {
     "base_uri": "https://localhost:8080/"
    },
    "id": "iv6sGCUthAa7",
    "outputId": "f9550c00-f71a-43b8-d6a7-ef7b05ae5072"
   },
   "outputs": [
    {
     "data": {
      "text/plain": [
       "54712"
      ]
     },
     "execution_count": 101,
     "metadata": {},
     "output_type": "execute_result"
    }
   ],
   "source": [
    "sample2.count()"
   ]
  },
  {
   "cell_type": "code",
   "execution_count": 102,
   "metadata": {
    "id": "jUHRn46ChB-U"
   },
   "outputs": [],
   "source": [
    "splitDF = trainDF.randomSplit([0.7,0.3],seed=8787)"
   ]
  },
  {
   "cell_type": "code",
   "execution_count": 103,
   "metadata": {
    "colab": {
     "base_uri": "https://localhost:8080/"
    },
    "id": "j0JpeWXmh_Mb",
    "outputId": "0f068893-ade5-4d4b-dba6-949d6d891e58"
   },
   "outputs": [
    {
     "data": {
      "text/plain": [
       "list"
      ]
     },
     "execution_count": 103,
     "metadata": {},
     "output_type": "execute_result"
    }
   ],
   "source": [
    "type(splitDF)"
   ]
  },
  {
   "cell_type": "code",
   "execution_count": 104,
   "metadata": {
    "colab": {
     "base_uri": "https://localhost:8080/"
    },
    "id": "ggJlP0xxiBN_",
    "outputId": "cb57f71f-d339-49d1-e9d5-cb2321e3779e"
   },
   "outputs": [
    {
     "data": {
      "text/plain": [
       "[DataFrame[User_ID: int, Product_ID: string, Gender: string, Age: string, Occupation: int, City_Category: string, Stay_In_Current_City_Years: string, Marital_Status: int, Product_Category_1: int, Product_Category_2: int, Product_Category_3: int, Purchase: int, ConstantOne: int],\n",
       " DataFrame[User_ID: int, Product_ID: string, Gender: string, Age: string, Occupation: int, City_Category: string, Stay_In_Current_City_Years: string, Marital_Status: int, Product_Category_1: int, Product_Category_2: int, Product_Category_3: int, Purchase: int, ConstantOne: int]]"
      ]
     },
     "execution_count": 104,
     "metadata": {},
     "output_type": "execute_result"
    }
   ],
   "source": [
    "splitDF"
   ]
  },
  {
   "cell_type": "code",
   "execution_count": 106,
   "metadata": {
    "colab": {
     "base_uri": "https://localhost:8080/"
    },
    "id": "nKf4e3BWiCgi",
    "outputId": "74d6233b-442b-43cb-e6af-87ce08760da7"
   },
   "outputs": [
    {
     "name": "stdout",
     "output_type": "stream",
     "text": [
      "385109\n",
      "164959\n"
     ]
    }
   ],
   "source": [
    "print(splitDF[0].count())\n",
    "print(splitDF[1].count())"
   ]
  },
  {
   "cell_type": "code",
   "execution_count": null,
   "metadata": {
    "colab": {
     "base_uri": "https://localhost:8080/"
    },
    "id": "if3CR3Ldlo0H",
    "outputId": "5acab25d-ef59-4193-e837-5ba196709661"
   },
   "outputs": [
    {
     "data": {
      "text/plain": [
       "[(Row(User_ID=1000001), 1),\n",
       " (Row(User_ID=1000001), 1),\n",
       " (Row(User_ID=1000001), 1),\n",
       " (Row(User_ID=1000001), 1),\n",
       " (Row(User_ID=1000002), 1)]"
      ]
     },
     "execution_count": 214,
     "metadata": {
      "tags": []
     },
     "output_type": "execute_result"
    }
   ],
   "source": [
    "trainDF.select('User_ID').rdd.map(lambda x : (x,1)).take(5)"
   ]
  },
  {
   "cell_type": "code",
   "execution_count": null,
   "metadata": {
    "colab": {
     "base_uri": "https://localhost:8080/"
    },
    "id": "mM-BxXZ4iJNm",
    "outputId": "1e72385b-b34d-47f2-f8e1-2dcb0587367d"
   },
   "outputs": [
    {
     "name": "stdout",
     "output_type": "stream",
     "text": [
      "+-------+----------+------+-----+----------+-------------+--------------------------+--------------+------------------+------------------+------------------+--------+\n",
      "|User_ID|Product_ID|Gender|  Age|Occupation|City_Category|Stay_In_Current_City_Years|Marital_Status|Product_Category_1|Product_Category_2|Product_Category_3|Purchase|\n",
      "+-------+----------+------+-----+----------+-------------+--------------------------+--------------+------------------+------------------+------------------+--------+\n",
      "|1002272| P00052842|     M|26-35|         0|            C|                         1|             0|                10|                15|              null|   23961|\n",
      "|1003160| P00052842|     M|26-35|        17|            C|                         3|             0|                10|                15|              null|   23961|\n",
      "|1001474| P00052842|     M|26-35|         4|            A|                         2|             1|                10|                15|              null|   23961|\n",
      "|1003045| P00052842|     M|46-50|         1|            B|                         2|             1|                10|                15|              null|   23960|\n",
      "|1005848| P00119342|     M|51-55|        20|            A|                         0|             1|                10|                13|              null|   23960|\n",
      "|1001577| P00052842|     M|  55+|         0|            C|                         1|             1|                10|                15|              null|   23960|\n",
      "|1005596| P00117642|     M|36-45|        12|            B|                         1|             0|                10|                16|              null|   23960|\n",
      "|1003947| P00116142|     M|26-35|         0|            C|                         3|             0|                10|                13|                16|   23959|\n",
      "|1001387| P00086242|     F|51-55|        13|            B|                         1|             1|                10|              null|              null|   23959|\n",
      "|1001178| P00116142|     M|  55+|         0|            C|                         1|             1|                10|                13|                16|   23958|\n",
      "|1005367| P00085342|     M|18-25|         4|            A|                         1|             0|                10|                13|              null|   23958|\n",
      "|1003511| P00085342|     M|51-55|         0|            C|                         2|             1|                10|                13|              null|   23958|\n",
      "|1004117| P00161842|     M|18-25|         4|            B|                        4+|             0|                10|                13|                16|   23958|\n",
      "|1005102| P00052842|     M|26-35|        12|            C|                         2|             0|                10|                15|              null|   23956|\n",
      "|1005716| P00052842|     M| 0-17|        10|            C|                        4+|             0|                10|                15|              null|   23955|\n",
      "|1002359| P00085342|     M|  55+|        13|            C|                         1|             1|                10|                13|              null|   23955|\n",
      "|1003301| P00086242|     F|26-35|         2|            B|                         3|             0|                10|              null|              null|   23955|\n",
      "|1002788| P00085342|     M|  55+|         1|            B|                         0|             1|                10|                13|              null|   23954|\n",
      "|1002274| P00052842|     M|18-25|         2|            B|                         3|             0|                10|                15|              null|   23954|\n",
      "|1004520| P00116142|     M|26-35|         4|            C|                         1|             1|                10|                13|                16|   23953|\n",
      "+-------+----------+------+-----+----------+-------------+--------------------------+--------------+------------------+------------------+------------------+--------+\n",
      "only showing top 20 rows\n",
      "\n"
     ]
    }
   ],
   "source": [
    "trainDF.orderBy(trainDF.Purchase.desc()).show()"
   ]
  },
  {
   "cell_type": "code",
   "execution_count": 107,
   "metadata": {
    "colab": {
     "base_uri": "https://localhost:8080/"
    },
    "id": "L3EYe3fDmLOr",
    "outputId": "41bdd467-807d-463d-f125-94828b6fd98f"
   },
   "outputs": [
    {
     "data": {
      "text/plain": [
       "2"
      ]
     },
     "execution_count": 107,
     "metadata": {},
     "output_type": "execute_result"
    }
   ],
   "source": [
    "trainDF.rdd.getNumPartitions()"
   ]
  },
  {
   "cell_type": "code",
   "execution_count": 108,
   "metadata": {
    "colab": {
     "base_uri": "https://localhost:8080/"
    },
    "id": "jijG8BG5mcqm",
    "outputId": "5981b762-34ae-42d9-f252-a924e3f0fbc3"
   },
   "outputs": [
    {
     "data": {
      "text/plain": [
       "10"
      ]
     },
     "execution_count": 108,
     "metadata": {},
     "output_type": "execute_result"
    }
   ],
   "source": [
    "trainDF.repartition(10).rdd.getNumPartitions()"
   ]
  },
  {
   "cell_type": "code",
   "execution_count": 109,
   "metadata": {
    "colab": {
     "base_uri": "https://localhost:8080/"
    },
    "id": "Isk0-PpTml37",
    "outputId": "c6cbd6d7-b293-49c3-c610-564e763d84ef"
   },
   "outputs": [
    {
     "data": {
      "text/plain": [
       "5"
      ]
     },
     "execution_count": 109,
     "metadata": {},
     "output_type": "execute_result"
    }
   ],
   "source": [
    "trainDF.repartition(5,col('Purchase')).rdd.getNumPartitions()"
   ]
  },
  {
   "cell_type": "code",
   "execution_count": 110,
   "metadata": {
    "colab": {
     "base_uri": "https://localhost:8080/"
    },
    "id": "LQaI3uK1my9Z",
    "outputId": "ac7c9aa7-afd2-4a48-d914-c983383ccbc4"
   },
   "outputs": [
    {
     "data": {
      "text/plain": [
       "2"
      ]
     },
     "execution_count": 110,
     "metadata": {},
     "output_type": "execute_result"
    }
   ],
   "source": [
    "trainDF.repartition(5,col('Purchase')).coalesce(2).rdd.getNumPartitions()   "
   ]
  },
  {
   "cell_type": "code",
   "execution_count": 111,
   "metadata": {
    "colab": {
     "base_uri": "https://localhost:8080/"
    },
    "id": "ePDERlI_nEm2",
    "outputId": "6bbd3c09-e2cf-4cb2-9a37-db22e5f64428"
   },
   "outputs": [
    {
     "name": "stdout",
     "output_type": "stream",
     "text": [
      "+--------+------------+\n",
      "|Purchase|Purchase_new|\n",
      "+--------+------------+\n",
      "|    8370|      4185.0|\n",
      "|   15200|      7600.0|\n",
      "|    1422|       711.0|\n",
      "|    1057|       528.5|\n",
      "|    7969|      3984.5|\n",
      "|   15227|      7613.5|\n",
      "|   19215|      9607.5|\n",
      "|   15854|      7927.0|\n",
      "|   15686|      7843.0|\n",
      "|    7871|      3935.5|\n",
      "|    5254|      2627.0|\n",
      "|    3957|      1978.5|\n",
      "|    6073|      3036.5|\n",
      "|   15665|      7832.5|\n",
      "|    5378|      2689.0|\n",
      "|    2079|      1039.5|\n",
      "|   13055|      6527.5|\n",
      "|    8851|      4425.5|\n",
      "|   11788|      5894.0|\n",
      "|   19614|      9807.0|\n",
      "+--------+------------+\n",
      "only showing top 20 rows\n",
      "\n"
     ]
    }
   ],
   "source": [
    "trainDF.withColumn(\"Purchase_new\",trainDF.Purchase/2.0).select('Purchase','Purchase_new').show()"
   ]
  },
  {
   "cell_type": "code",
   "execution_count": 112,
   "metadata": {
    "colab": {
     "base_uri": "https://localhost:8080/"
    },
    "id": "orXrH8OHoFkV",
    "outputId": "6c62b1cc-a238-499f-d0b6-770cb194a3af"
   },
   "outputs": [
    {
     "data": {
      "text/plain": [
       "DataFrame[Product_ID: string]"
      ]
     },
     "execution_count": 112,
     "metadata": {},
     "output_type": "execute_result"
    }
   ],
   "source": [
    "diff_cat_in_train_test"
   ]
  },
  {
   "cell_type": "code",
   "execution_count": 113,
   "metadata": {
    "colab": {
     "base_uri": "https://localhost:8080/"
    },
    "id": "8Xa4O0eEohfH",
    "outputId": "9b17c285-5dd8-4236-8e44-27e265a17ab3"
   },
   "outputs": [
    {
     "data": {
      "text/plain": [
       "186"
      ]
     },
     "execution_count": 113,
     "metadata": {},
     "output_type": "execute_result"
    }
   ],
   "source": [
    "diff_cat_in_train_test.count()"
   ]
  },
  {
   "cell_type": "code",
   "execution_count": 114,
   "metadata": {
    "colab": {
     "base_uri": "https://localhost:8080/"
    },
    "id": "3wP9WuLjojaQ",
    "outputId": "f8b329f8-a29e-44f3-c402-a89064a7fec2"
   },
   "outputs": [
    {
     "data": {
      "text/plain": [
       "DataFrame[Product_ID: string]"
      ]
     },
     "execution_count": 114,
     "metadata": {},
     "output_type": "execute_result"
    }
   ],
   "source": [
    "diff_cat_in_test_train"
   ]
  },
  {
   "cell_type": "code",
   "execution_count": 115,
   "metadata": {
    "colab": {
     "base_uri": "https://localhost:8080/"
    },
    "id": "mPdyHU6LonbO",
    "outputId": "34ba1092-722c-43fb-c6bb-11810a63ad96"
   },
   "outputs": [
    {
     "data": {
      "text/plain": [
       "46"
      ]
     },
     "execution_count": 115,
     "metadata": {},
     "output_type": "execute_result"
    }
   ],
   "source": [
    "diff_cat_in_test_train.count()"
   ]
  },
  {
   "cell_type": "code",
   "execution_count": 116,
   "metadata": {
    "colab": {
     "base_uri": "https://localhost:8080/"
    },
    "id": "i_P6XmhRopxf",
    "outputId": "47573b76-affd-4147-eb6b-56904d179670"
   },
   "outputs": [
    {
     "name": "stdout",
     "output_type": "stream",
     "text": [
      "+----------+\n",
      "|Product_ID|\n",
      "+----------+\n",
      "| P00322642|\n",
      "| P00300142|\n",
      "+----------+\n",
      "only showing top 2 rows\n",
      "\n"
     ]
    }
   ],
   "source": [
    "diff_cat_in_test_train.show(2)"
   ]
  },
  {
   "cell_type": "code",
   "execution_count": 117,
   "metadata": {
    "id": "iYS2pF6zou8d"
   },
   "outputs": [],
   "source": [
    "not_count_cat = diff_cat_in_test_train.rdd.map(lambda x : x[0]).collect()"
   ]
  },
  {
   "cell_type": "code",
   "execution_count": 118,
   "metadata": {
    "colab": {
     "base_uri": "https://localhost:8080/"
    },
    "id": "u6EW2UFVo5cM",
    "outputId": "62cee49c-b031-42b7-efd3-5ad6c84e26f1"
   },
   "outputs": [
    {
     "data": {
      "text/plain": [
       "['P00322642',\n",
       " 'P00300142',\n",
       " 'P00077642',\n",
       " 'P00249942',\n",
       " 'P00294942',\n",
       " 'P00106242',\n",
       " 'P00239542',\n",
       " 'P00074942',\n",
       " 'P00092742',\n",
       " 'P00082142',\n",
       " 'P00030342',\n",
       " 'P00062542',\n",
       " 'P00063942',\n",
       " 'P00013042',\n",
       " 'P00279042',\n",
       " 'P00227242',\n",
       " 'P00359842',\n",
       " 'P00061642',\n",
       " 'P00042642',\n",
       " 'P0099542',\n",
       " 'P00306842',\n",
       " 'P00140842',\n",
       " 'P00165542',\n",
       " 'P00322842',\n",
       " 'P00268942',\n",
       " 'P00236842',\n",
       " 'P00038942',\n",
       " 'P00172942',\n",
       " 'P00012642',\n",
       " 'P00270342',\n",
       " 'P00312642',\n",
       " 'P00336842',\n",
       " 'P00105742',\n",
       " 'P00309842',\n",
       " 'P00166542',\n",
       " 'P00082642',\n",
       " 'P00253842',\n",
       " 'P00062242',\n",
       " 'P00100242',\n",
       " 'P00315342',\n",
       " 'P00058842',\n",
       " 'P00168242',\n",
       " 'P00156942',\n",
       " 'P00039042',\n",
       " 'P00056942',\n",
       " 'P00204642']"
      ]
     },
     "execution_count": 118,
     "metadata": {},
     "output_type": "execute_result"
    }
   ],
   "source": [
    "not_count_cat"
   ]
  },
  {
   "cell_type": "code",
   "execution_count": 119,
   "metadata": {
    "id": "mqrcumHco8R-"
   },
   "outputs": [],
   "source": [
    "from pyspark.sql.functions import udf\n",
    "from pyspark.sql.types import StringType\n",
    "Function1 = udf(lambda x : '-1' if x in not_count_cat else x, StringType())"
   ]
  },
  {
   "cell_type": "code",
   "execution_count": 120,
   "metadata": {
    "id": "am1IeMWNp47C"
   },
   "outputs": [],
   "source": [
    "k = testDF.withColumn(\"NewProductId\",Function1(testDF[\"ProductId\"])).select(\"NewProductId\")"
   ]
  },
  {
   "cell_type": "code",
   "execution_count": 121,
   "metadata": {
    "colab": {
     "base_uri": "https://localhost:8080/"
    },
    "id": "yLyU7CGcqPuI",
    "outputId": "c55f54a4-f47f-4ec3-f850-cdbdd947c8e3"
   },
   "outputs": [
    {
     "name": "stdout",
     "output_type": "stream",
     "text": [
      "+------------+\n",
      "|NewProductId|\n",
      "+------------+\n",
      "|          -1|\n",
      "|          -1|\n",
      "|          -1|\n",
      "+------------+\n",
      "only showing top 3 rows\n",
      "\n"
     ]
    }
   ],
   "source": [
    "k.where(k[\"NewProductId\"] == -1).show(3)"
   ]
  },
  {
   "cell_type": "code",
   "execution_count": null,
   "metadata": {
    "colab": {
     "base_uri": "https://localhost:8080/"
    },
    "id": "w64_Oezdqjr8",
    "outputId": "8f42d826-ccc1-447b-f0dd-9d791ae57e8d"
   },
   "outputs": [
    {
     "name": "stdout",
     "output_type": "stream",
     "text": [
      "+-------------+--------------+\n",
      "|round(2.5, 0)|bround(2.5, 0)|\n",
      "+-------------+--------------+\n",
      "|          3.0|           2.0|\n",
      "|          3.0|           2.0|\n",
      "+-------------+--------------+\n",
      "only showing top 2 rows\n",
      "\n"
     ]
    }
   ],
   "source": [
    "from pyspark.sql.functions import lit,round,bround\n",
    "trainDF.select(round(lit(\"2.5\")),bround(lit(2.5))).show(2)"
   ]
  },
  {
   "cell_type": "code",
   "execution_count": 122,
   "metadata": {
    "colab": {
     "base_uri": "https://localhost:8080/"
    },
    "id": "zpj5AyIsrblF",
    "outputId": "2f5a2895-85e4-4187-95c1-f5789b5fc233"
   },
   "outputs": [
    {
     "name": "stdout",
     "output_type": "stream",
     "text": [
      "+-------------+-------------+--------------+--------------+\n",
      "|round(2.9, 0)|round(2.5, 0)|bround(2.4, 0)|bround(2.9, 0)|\n",
      "+-------------+-------------+--------------+--------------+\n",
      "|            3|            3|             2|             3|\n",
      "+-------------+-------------+--------------+--------------+\n",
      "\n"
     ]
    }
   ],
   "source": [
    "spark.sql(\"SELECT round(2.9), round(2.5), bround(2.4),bround(2.9)\").show(3)"
   ]
  },
  {
   "cell_type": "code",
   "execution_count": 123,
   "metadata": {
    "colab": {
     "base_uri": "https://localhost:8080/"
    },
    "id": "E2DxAULKrlRY",
    "outputId": "08ce1c82-921d-4638-d45b-5f3cccca0708"
   },
   "outputs": [
    {
     "name": "stdout",
     "output_type": "stream",
     "text": [
      "+-------------+--------------+\n",
      "|round(2.5, 0)|bround(2.5, 0)|\n",
      "+-------------+--------------+\n",
      "|            3|             2|\n",
      "+-------------+--------------+\n",
      "\n"
     ]
    }
   ],
   "source": [
    "spark.sql(\"SELECT round(2.5), bround(2.5)\").show(2)"
   ]
  },
  {
   "cell_type": "code",
   "execution_count": null,
   "metadata": {
    "id": "sy4jJZVkru8g"
   },
   "outputs": [],
   "source": [
    "### String manipulations"
   ]
  },
  {
   "cell_type": "code",
   "execution_count": 124,
   "metadata": {
    "colab": {
     "base_uri": "https://localhost:8080/"
    },
    "id": "e0VpaGirsHl1",
    "outputId": "267dcb6f-092d-443d-e7b5-d96afb7272e1"
   },
   "outputs": [
    {
     "name": "stdout",
     "output_type": "stream",
     "text": [
      "+------+------+-----+-------+-------+\n",
      "| ltrim| rtrim| trim|   lpad|   rpad|\n",
      "+------+------+-----+-------+-------+\n",
      "|HELLO | HELLO|HELLO|  HELLO|HELLO  |\n",
      "|HELLO | HELLO|HELLO|  HELLO|HELLO  |\n",
      "+------+------+-----+-------+-------+\n",
      "only showing top 2 rows\n",
      "\n"
     ]
    }
   ],
   "source": [
    "from pyspark.sql.functions import lit,ltrim,rtrim,lpad,rpad,trim\n",
    "trainDF.select(\n",
    "   ltrim(lit(\" HELLO \")).alias(\"ltrim\"),\n",
    "   rtrim(lit(\" HELLO \")).alias(\"rtrim\"),\n",
    "   trim(lit(\" HELLO \")).alias(\"trim\"),\n",
    "   lpad(lit(\"HELLO\"),7,\" \").alias(\"lpad\"),\n",
    "   rpad(lit(\"HELLO\"),7, \" \").alias(\"rpad\") \n",
    ").show(2)"
   ]
  },
  {
   "cell_type": "code",
   "execution_count": 125,
   "metadata": {
    "colab": {
     "base_uri": "https://localhost:8080/"
    },
    "id": "9YIIWv6Ds-aF",
    "outputId": "ccac8020-38d1-4d6d-9ec9-d5994615d103"
   },
   "outputs": [
    {
     "name": "stdout",
     "output_type": "stream",
     "text": [
      "+-------------------+-------------------+------------------+-----------------+-------------------+\n",
      "|ltrim(  HELLLOO   )|rtrim(  HELLLOO   )|trim(  HELLLOO   )|lpad(HELLO, 3,  )|rpad(HELLO , 10,  )|\n",
      "+-------------------+-------------------+------------------+-----------------+-------------------+\n",
      "|         HELLLOO   |            HELLLOO|           HELLLOO|              HEL|         HELLO     |\n",
      "|         HELLLOO   |            HELLLOO|           HELLLOO|              HEL|         HELLO     |\n",
      "|         HELLLOO   |            HELLLOO|           HELLLOO|              HEL|         HELLO     |\n",
      "+-------------------+-------------------+------------------+-----------------+-------------------+\n",
      "only showing top 3 rows\n",
      "\n"
     ]
    }
   ],
   "source": [
    "spark.sql(\"\"\"SELECT\n",
    "ltrim('  HELLLOO   '),\n",
    "rtrim('  HELLLOO   '),\n",
    "trim('  HELLLOO   '),\n",
    "lpad('HELLO',3,' '),\n",
    "rpad('HELLO ',10,' ')\n",
    "FROM trainDFTable\n",
    "\"\"\").show(3)"
   ]
  },
  {
   "cell_type": "code",
   "execution_count": null,
   "metadata": {
    "colab": {
     "base_uri": "https://localhost:8080/"
    },
    "id": "mlS1DsT9t64c",
    "outputId": "6267bc09-cf95-4a87-e717-c331b2482aec"
   },
   "outputs": [
    {
     "name": "stdout",
     "output_type": "stream",
     "text": [
      "+--------------+------+\n",
      "| GENDER_DECODE|GENDER|\n",
      "+--------------+------+\n",
      "|MALE_OR_FEMALE|     F|\n",
      "|MALE_OR_FEMALE|     F|\n",
      "|MALE_OR_FEMALE|     F|\n",
      "|MALE_OR_FEMALE|     F|\n",
      "|MALE_OR_FEMALE|     M|\n",
      "+--------------+------+\n",
      "only showing top 5 rows\n",
      "\n"
     ]
    }
   ],
   "source": [
    "from pyspark.sql.functions import regexp_replace\n",
    "regex_string = \"F|M\"\n",
    "\n",
    "trainDF.select(\n",
    "regexp_replace(col(\"Gender\"),regex_string,\"MALE_OR_FEMALE\")\n",
    ".alias(\"GENDER_DECODE\"),\n",
    "col(\"GENDER\")   \n",
    "\n",
    ").show(5)"
   ]
  },
  {
   "cell_type": "code",
   "execution_count": 126,
   "metadata": {
    "colab": {
     "base_uri": "https://localhost:8080/"
    },
    "id": "wkHEiEyNu2AN",
    "outputId": "931f69e4-9584-4037-cfa2-85bd9e05a556"
   },
   "outputs": [
    {
     "name": "stdout",
     "output_type": "stream",
     "text": [
      "+--------------+------+\n",
      "| DECODE_GENDER|GENDER|\n",
      "+--------------+------+\n",
      "|MALE_OR_FEMALE|     F|\n",
      "|MALE_OR_FEMALE|     F|\n",
      "|MALE_OR_FEMALE|     F|\n",
      "|MALE_OR_FEMALE|     F|\n",
      "+--------------+------+\n",
      "only showing top 4 rows\n",
      "\n"
     ]
    }
   ],
   "source": [
    "spark.sql(\"\"\"\n",
    "SELECT \n",
    "regexp_replace(Gender,'F|M', 'MALE_OR_FEMALE') AS DECODE_GENDER, GENDER FROM trainDFTable\n",
    "\"\"\").show(4)"
   ]
  },
  {
   "cell_type": "code",
   "execution_count": 127,
   "metadata": {
    "colab": {
     "base_uri": "https://localhost:8080/"
    },
    "id": "_vV7Z5GhvamU",
    "outputId": "d74c0bfb-e027-4376-c427-25db8b0d76c2"
   },
   "outputs": [
    {
     "name": "stdout",
     "output_type": "stream",
     "text": [
      "+-------------------------+------+\n",
      "|translate(Gender, FM, 01)|Gender|\n",
      "+-------------------------+------+\n",
      "|                        0|     F|\n",
      "|                        0|     F|\n",
      "|                        0|     F|\n",
      "|                        0|     F|\n",
      "|                        1|     M|\n",
      "|                        1|     M|\n",
      "|                        1|     M|\n",
      "|                        1|     M|\n",
      "|                        1|     M|\n",
      "|                        1|     M|\n",
      "+-------------------------+------+\n",
      "only showing top 10 rows\n",
      "\n"
     ]
    }
   ],
   "source": [
    "from pyspark.sql.functions import translate\n",
    "trainDF.select(\n",
    "    translate(col(\"Gender\"),\"FM\",\"01\"),\n",
    "    col(\"Gender\")\n",
    ").show(10)"
   ]
  },
  {
   "cell_type": "code",
   "execution_count": 128,
   "metadata": {
    "colab": {
     "base_uri": "https://localhost:8080/"
    },
    "id": "44qp3YAAwLwL",
    "outputId": "b1e50f0a-ddbc-4f74-f305-446d8d3ada13"
   },
   "outputs": [
    {
     "name": "stdout",
     "output_type": "stream",
     "text": [
      "+-------------------------+------+\n",
      "|translate(Gender, FM, 01)|Gender|\n",
      "+-------------------------+------+\n",
      "|                        0|     F|\n",
      "|                        0|     F|\n",
      "|                        0|     F|\n",
      "|                        0|     F|\n",
      "|                        1|     M|\n",
      "|                        1|     M|\n",
      "|                        1|     M|\n",
      "|                        1|     M|\n",
      "|                        1|     M|\n",
      "|                        1|     M|\n",
      "+-------------------------+------+\n",
      "only showing top 10 rows\n",
      "\n"
     ]
    }
   ],
   "source": [
    "spark.sql(\"\"\"\n",
    "SELECT \n",
    "translate(Gender,'FM','01'),\n",
    "Gender\n",
    "FROM \n",
    "trainDFTable\n",
    "\"\"\").show(10)"
   ]
  },
  {
   "cell_type": "code",
   "execution_count": 129,
   "metadata": {
    "colab": {
     "base_uri": "https://localhost:8080/"
    },
    "id": "34nvfbG-wkRL",
    "outputId": "509a25ea-ef9e-4d46-a0c5-30973b01c5ea"
   },
   "outputs": [
    {
     "name": "stdout",
     "output_type": "stream",
     "text": [
      "+---+----------+--------------------+\n",
      "| id|     today|                 now|\n",
      "+---+----------+--------------------+\n",
      "|  0|2021-07-16|2021-07-16 12:54:...|\n",
      "|  1|2021-07-16|2021-07-16 12:54:...|\n",
      "|  2|2021-07-16|2021-07-16 12:54:...|\n",
      "+---+----------+--------------------+\n",
      "only showing top 3 rows\n",
      "\n"
     ]
    }
   ],
   "source": [
    "from pyspark.sql.functions import current_date, current_timestamp\n",
    "df_date = spark.range(10).withColumn(\"today\",current_date()).withColumn(\"now\",current_timestamp())\n",
    "df_date.show(3)"
   ]
  },
  {
   "cell_type": "code",
   "execution_count": 130,
   "metadata": {
    "id": "fDvHedNzx0Nk"
   },
   "outputs": [],
   "source": [
    "df_date.createOrReplaceTempView(\"dataDFTable\")"
   ]
  },
  {
   "cell_type": "code",
   "execution_count": 131,
   "metadata": {
    "colab": {
     "base_uri": "https://localhost:8080/"
    },
    "id": "8P69i1v7yJb5",
    "outputId": "10170845-9827-4b52-cfde-af8f91791344"
   },
   "outputs": [
    {
     "name": "stdout",
     "output_type": "stream",
     "text": [
      "root\n",
      " |-- id: long (nullable = false)\n",
      " |-- today: date (nullable = false)\n",
      " |-- now: timestamp (nullable = false)\n",
      "\n"
     ]
    }
   ],
   "source": [
    "df_date.printSchema()"
   ]
  },
  {
   "cell_type": "code",
   "execution_count": 132,
   "metadata": {
    "colab": {
     "base_uri": "https://localhost:8080/"
    },
    "id": "eoTVeazOyLYo",
    "outputId": "c5ddfa8a-4807-4053-bf13-398163e02694"
   },
   "outputs": [
    {
     "name": "stdout",
     "output_type": "stream",
     "text": [
      "+------------------+------------------+\n",
      "|date_sub(today, 5)|date_add(today, 5)|\n",
      "+------------------+------------------+\n",
      "|        2021-07-11|        2021-07-21|\n",
      "|        2021-07-11|        2021-07-21|\n",
      "|        2021-07-11|        2021-07-21|\n",
      "|        2021-07-11|        2021-07-21|\n",
      "|        2021-07-11|        2021-07-21|\n",
      "+------------------+------------------+\n",
      "only showing top 5 rows\n",
      "\n"
     ]
    }
   ],
   "source": [
    "from pyspark.sql.functions import date_add,date_sub\n",
    "df_date.select(date_sub(col(\"today\"),5),date_add(col(\"today\"),5)).show(5)"
   ]
  },
  {
   "cell_type": "code",
   "execution_count": 133,
   "metadata": {
    "colab": {
     "base_uri": "https://localhost:8080/"
    },
    "id": "vcdSKE9rylzx",
    "outputId": "6641e049-5c9a-4e7e-9f50-969b2953651f"
   },
   "outputs": [
    {
     "name": "stdout",
     "output_type": "stream",
     "text": [
      "+------------------+------------------+\n",
      "|date_sub(today, 5)|date_add(today, 5)|\n",
      "+------------------+------------------+\n",
      "|        2021-07-11|        2021-07-21|\n",
      "|        2021-07-11|        2021-07-21|\n",
      "|        2021-07-11|        2021-07-21|\n",
      "|        2021-07-11|        2021-07-21|\n",
      "|        2021-07-11|        2021-07-21|\n",
      "|        2021-07-11|        2021-07-21|\n",
      "|        2021-07-11|        2021-07-21|\n",
      "|        2021-07-11|        2021-07-21|\n",
      "|        2021-07-11|        2021-07-21|\n",
      "|        2021-07-11|        2021-07-21|\n",
      "+------------------+------------------+\n",
      "\n"
     ]
    }
   ],
   "source": [
    "spark.sql(\"\"\"\n",
    "SELECT \n",
    "date_sub(today,5),\n",
    "date_add(today,5)\n",
    "FROM \n",
    "dataDFTable\n",
    "\"\"\").show()"
   ]
  },
  {
   "cell_type": "code",
   "execution_count": 134,
   "metadata": {
    "colab": {
     "base_uri": "https://localhost:8080/"
    },
    "id": "bqyoktH_y4Zs",
    "outputId": "48517443-670d-462b-fa85-7b2d52986ec0"
   },
   "outputs": [
    {
     "name": "stdout",
     "output_type": "stream",
     "text": [
      "+-------------------------+\n",
      "|datediff(week_ago, today)|\n",
      "+-------------------------+\n",
      "|                       -7|\n",
      "|                       -7|\n",
      "|                       -7|\n",
      "|                       -7|\n",
      "+-------------------------+\n",
      "only showing top 4 rows\n",
      "\n"
     ]
    }
   ],
   "source": [
    "from pyspark.sql.functions import datediff,months_between,to_date\n",
    "df_date.withColumn(\"week_ago\",date_sub(col(\"today\"),7))\\\n",
    ".select(datediff(col(\"week_ago\"),col(\"today\")))\\\n",
    ".show(4)"
   ]
  },
  {
   "cell_type": "code",
   "execution_count": 135,
   "metadata": {
    "colab": {
     "base_uri": "https://localhost:8080/"
    },
    "id": "aYMT_6EE0IfI",
    "outputId": "7ea0c464-43e3-4c72-a237-6c2448fb98ca"
   },
   "outputs": [
    {
     "name": "stdout",
     "output_type": "stream",
     "text": [
      "+--------------------------------+\n",
      "|months_between(start, end, true)|\n",
      "+--------------------------------+\n",
      "|                    -20.67741935|\n",
      "|                    -20.67741935|\n",
      "|                    -20.67741935|\n",
      "|                    -20.67741935|\n",
      "|                    -20.67741935|\n",
      "+--------------------------------+\n",
      "only showing top 5 rows\n",
      "\n"
     ]
    }
   ],
   "source": [
    "from pyspark.sql.functions import lit \n",
    "df_date.select(\n",
    "    to_date(lit(\"2019-02-20\")).alias(\"start\"),\n",
    "    to_date(lit(\"2020-11-10\")).alias(\"end\"))\\\n",
    "    .select(months_between(col(\"start\"),col(\"end\"))).show(5)\n"
   ]
  },
  {
   "cell_type": "code",
   "execution_count": 136,
   "metadata": {
    "colab": {
     "base_uri": "https://localhost:8080/"
    },
    "id": "Y_2TVqRl09pD",
    "outputId": "6fad3991-01b8-44a2-dc44-81b346a2f89b"
   },
   "outputs": [
    {
     "name": "stdout",
     "output_type": "stream",
     "text": [
      "+-------------------+----------------------------------------------------------------------------------+------------------------------------------------------------+\n",
      "|to_date(2019-02-20)|months_between(CAST(2019-02-20 AS TIMESTAMP), CAST(2020-11-10 AS TIMESTAMP), true)|datediff(CAST(2020-02-20 AS DATE), CAST(2020-11-10 AS DATE))|\n",
      "+-------------------+----------------------------------------------------------------------------------+------------------------------------------------------------+\n",
      "|         2019-02-20|                                                                      -20.67741935|                                                        -264|\n",
      "|         2019-02-20|                                                                      -20.67741935|                                                        -264|\n",
      "|         2019-02-20|                                                                      -20.67741935|                                                        -264|\n",
      "|         2019-02-20|                                                                      -20.67741935|                                                        -264|\n",
      "|         2019-02-20|                                                                      -20.67741935|                                                        -264|\n",
      "+-------------------+----------------------------------------------------------------------------------+------------------------------------------------------------+\n",
      "only showing top 5 rows\n",
      "\n"
     ]
    }
   ],
   "source": [
    "spark.sql(\"\"\"\n",
    "   SELECT \n",
    "   to_date('2019-02-20'),\n",
    "   months_between('2019-02-20','2020-11-10'),\n",
    "   datediff('2020-02-20','2020-11-10')\n",
    "   FROM \n",
    "   dataDFTable\n",
    "\"\"\").show(5)"
   ]
  },
  {
   "cell_type": "code",
   "execution_count": null,
   "metadata": {
    "colab": {
     "base_uri": "https://localhost:8080/"
    },
    "id": "WnmlzLKW1ptV",
    "outputId": "3ab7fa39-6c34-41f2-e1de-b0dfac30d2ee"
   },
   "outputs": [
    {
     "name": "stdout",
     "output_type": "stream",
     "text": [
      "+---------------------+---------------------+\n",
      "|to_date('2020-20-11')|to_date('2020-11-20')|\n",
      "+---------------------+---------------------+\n",
      "|                 null|           2020-11-20|\n",
      "|                 null|           2020-11-20|\n",
      "+---------------------+---------------------+\n",
      "only showing top 2 rows\n",
      "\n"
     ]
    }
   ],
   "source": [
    "df_date.select(to_date(lit('2020-20-11')),to_date(lit('2020-11-20'))).show(2)\n",
    "### year-month-day to year-day-month"
   ]
  },
  {
   "cell_type": "code",
   "execution_count": null,
   "metadata": {
    "id": "6iL_XOy-6FHZ"
   },
   "outputs": [],
   "source": [
    "yyyy-MM-dd -> yyyy-dd-MM"
   ]
  },
  {
   "cell_type": "code",
   "execution_count": 137,
   "metadata": {
    "id": "s7M1Sg8G2PBK"
   },
   "outputs": [],
   "source": [
    "from pyspark.sql.functions import unix_timestamp, from_unixtime\n",
    "dateFormat = \"yyyy-dd-MM\"\n",
    "cleanDateDF = spark.range(1).select(to_date(unix_timestamp(lit(\"2020-12-11\"),dateFormat).cast(\"timestamp\"))\\\n",
    ".alias(\"date\"),\n",
    "to_date(unix_timestamp(lit('2020-20-11'),dateFormat).cast(\"timestamp\")).alias(\"date_2\")\n",
    ")"
   ]
  },
  {
   "cell_type": "code",
   "execution_count": 138,
   "metadata": {
    "colab": {
     "base_uri": "https://localhost:8080/"
    },
    "id": "MpxMgOJn7uLm",
    "outputId": "22ccdd61-acd1-4f32-e4e5-9026ae3e2086"
   },
   "outputs": [
    {
     "name": "stdout",
     "output_type": "stream",
     "text": [
      "+----------+----------+\n",
      "|      date|    date_2|\n",
      "+----------+----------+\n",
      "|2020-11-12|2020-11-20|\n",
      "+----------+----------+\n",
      "\n"
     ]
    }
   ],
   "source": [
    "cleanDateDF.show()"
   ]
  },
  {
   "cell_type": "code",
   "execution_count": 139,
   "metadata": {
    "colab": {
     "base_uri": "https://localhost:8080/"
    },
    "id": "amVZWQBd8R1b",
    "outputId": "daffef01-ae77-4a43-bbc4-c322186dbee4"
   },
   "outputs": [
    {
     "name": "stdout",
     "output_type": "stream",
     "text": [
      "root\n",
      " |-- date: date (nullable = true)\n",
      " |-- date_2: date (nullable = true)\n",
      "\n"
     ]
    }
   ],
   "source": [
    "cleanDateDF.printSchema()"
   ]
  },
  {
   "cell_type": "code",
   "execution_count": 140,
   "metadata": {
    "id": "zwkxMOUe8nlA"
   },
   "outputs": [],
   "source": [
    "from pyspark.sql.functions import month,year, dayofweek\n",
    "cleanDF = cleanDateDF.withColumn(\"month_col\",month(\"date_2\")).withColumn(\"year_col\",year(\"date_2\")).withColumn(\"dayOftheWeek\",dayofweek(\"date_2\"))"
   ]
  },
  {
   "cell_type": "code",
   "execution_count": 141,
   "metadata": {
    "colab": {
     "base_uri": "https://localhost:8080/"
    },
    "id": "Twv4V-W19Wf2",
    "outputId": "62b27d7e-a10e-4d41-91ff-292f0231472e"
   },
   "outputs": [
    {
     "name": "stdout",
     "output_type": "stream",
     "text": [
      "+----------+----------+---------+--------+------------+\n",
      "|      date|    date_2|month_col|year_col|dayOftheWeek|\n",
      "+----------+----------+---------+--------+------------+\n",
      "|2020-11-12|2020-11-20|       11|    2020|           6|\n",
      "+----------+----------+---------+--------+------------+\n",
      "\n"
     ]
    }
   ],
   "source": [
    "cleanDF.show()"
   ]
  },
  {
   "cell_type": "code",
   "execution_count": 142,
   "metadata": {
    "colab": {
     "base_uri": "https://localhost:8080/"
    },
    "id": "9cEQQWQ69YBK",
    "outputId": "91333ffd-4dbc-474c-b262-7c4f11aa3a61"
   },
   "outputs": [
    {
     "name": "stdout",
     "output_type": "stream",
     "text": [
      "+--------------------------------------------------------------+-------------+\n",
      "|to_date(CAST(unix_timestamp(date_2, yyyy-dd-MM) AS TIMESTAMP))|to_date(date)|\n",
      "+--------------------------------------------------------------+-------------+\n",
      "|                                                    2020-11-20|   2020-11-12|\n",
      "+--------------------------------------------------------------+-------------+\n",
      "\n"
     ]
    }
   ],
   "source": [
    "cleanDF.createOrReplaceTempView(\"dateTable2\")\n",
    "spark.sql(\"\"\"\n",
    " SELECT \n",
    "  to_date(cast(unix_timestamp(date_2,'yyyy-dd-MM') as timestamp)),\n",
    "  to_date(date)\n",
    "  FROM \n",
    "  dateTable2\n",
    "\"\"\").show()"
   ]
  },
  {
   "cell_type": "code",
   "execution_count": null,
   "metadata": {
    "id": "oHNezBUI9wq9"
   },
   "outputs": [],
   "source": [
    "textDF = spark.range(10).withColumn(\"Description\",lit(\"We have a long sentence to be broken\"))"
   ]
  },
  {
   "cell_type": "code",
   "execution_count": null,
   "metadata": {
    "colab": {
     "base_uri": "https://localhost:8080/"
    },
    "id": "-qHH9roG-1eb",
    "outputId": "57316955-b109-4873-bce8-5e94660938a6"
   },
   "outputs": [
    {
     "name": "stdout",
     "output_type": "stream",
     "text": [
      "+---+------------------------------------+\n",
      "|id |Description                         |\n",
      "+---+------------------------------------+\n",
      "|0  |We have a long sentence to be broken|\n",
      "|1  |We have a long sentence to be broken|\n",
      "|2  |We have a long sentence to be broken|\n",
      "|3  |We have a long sentence to be broken|\n",
      "|4  |We have a long sentence to be broken|\n",
      "|5  |We have a long sentence to be broken|\n",
      "|6  |We have a long sentence to be broken|\n",
      "|7  |We have a long sentence to be broken|\n",
      "|8  |We have a long sentence to be broken|\n",
      "|9  |We have a long sentence to be broken|\n",
      "+---+------------------------------------+\n",
      "\n"
     ]
    }
   ],
   "source": [
    "textDF.show(truncate=False)"
   ]
  },
  {
   "cell_type": "code",
   "execution_count": null,
   "metadata": {
    "colab": {
     "base_uri": "https://localhost:8080/"
    },
    "id": "2gw8XtNq-6oI",
    "outputId": "1680ce38-4452-4386-84ac-6cac5134fe14"
   },
   "outputs": [
    {
     "name": "stdout",
     "output_type": "stream",
     "text": [
      "+---------------------+\n",
      "|split(Description,  )|\n",
      "+---------------------+\n",
      "| [We, have, a, lon...|\n",
      "| [We, have, a, lon...|\n",
      "| [We, have, a, lon...|\n",
      "| [We, have, a, lon...|\n",
      "| [We, have, a, lon...|\n",
      "| [We, have, a, lon...|\n",
      "| [We, have, a, lon...|\n",
      "| [We, have, a, lon...|\n",
      "| [We, have, a, lon...|\n",
      "| [We, have, a, lon...|\n",
      "+---------------------+\n",
      "\n"
     ]
    }
   ],
   "source": [
    "from pyspark.sql.functions import split\n",
    "textDF.select(split(col(\"Description\"),\" \")).show()"
   ]
  },
  {
   "cell_type": "code",
   "execution_count": null,
   "metadata": {
    "id": "07RSvhor_Q4r"
   },
   "outputs": [],
   "source": [
    "textDF.createOrReplaceTempView(\"textDFTable\")"
   ]
  },
  {
   "cell_type": "code",
   "execution_count": null,
   "metadata": {
    "colab": {
     "base_uri": "https://localhost:8080/"
    },
    "id": "XA7Apbr9_gA0",
    "outputId": "c44e5d7a-525f-40d9-b02b-1677bc064afe"
   },
   "outputs": [
    {
     "name": "stdout",
     "output_type": "stream",
     "text": [
      "+---------------------+\n",
      "|split(Description,  )|\n",
      "+---------------------+\n",
      "| [We, have, a, lon...|\n",
      "| [We, have, a, lon...|\n",
      "| [We, have, a, lon...|\n",
      "| [We, have, a, lon...|\n",
      "| [We, have, a, lon...|\n",
      "| [We, have, a, lon...|\n",
      "| [We, have, a, lon...|\n",
      "| [We, have, a, lon...|\n",
      "| [We, have, a, lon...|\n",
      "| [We, have, a, lon...|\n",
      "+---------------------+\n",
      "\n"
     ]
    }
   ],
   "source": [
    "spark.sql(\"\"\"\n",
    "SELECT \n",
    "split(Description,' ')\n",
    "FROM \n",
    "textDFTable\n",
    "\"\"\").show()"
   ]
  },
  {
   "cell_type": "code",
   "execution_count": 143,
   "metadata": {
    "id": "yLcPj40w_ron"
   },
   "outputs": [],
   "source": [
    "my_collection = \"Postgraduate program in Data Science and Optimization\".split(\" \")\n",
    "words = spark.sparkContext.parallelize(my_collection)"
   ]
  },
  {
   "cell_type": "code",
   "execution_count": 144,
   "metadata": {
    "colab": {
     "base_uri": "https://localhost:8080/"
    },
    "id": "aIq2lQhvAVmu",
    "outputId": "74f92c41-f959-43f8-cf28-e9066b9f79e2"
   },
   "outputs": [
    {
     "data": {
      "text/plain": [
       "['Postgraduate', 'program', 'in']"
      ]
     },
     "execution_count": 144,
     "metadata": {},
     "output_type": "execute_result"
    }
   ],
   "source": [
    "words.take(3)"
   ]
  },
  {
   "cell_type": "code",
   "execution_count": 145,
   "metadata": {
    "id": "CGQ_rwJWA07T"
   },
   "outputs": [],
   "source": [
    "supplementData = {\"Postgraduate\":100,\"program\":250,\"Data\":225,\"Optimization\":-100,\"Science\":1220}\n"
   ]
  },
  {
   "cell_type": "code",
   "execution_count": 146,
   "metadata": {
    "id": "FreHZdx9BGpE"
   },
   "outputs": [],
   "source": [
    "suppleBroadcast = spark.sparkContext.broadcast(supplementData)"
   ]
  },
  {
   "cell_type": "code",
   "execution_count": 147,
   "metadata": {
    "colab": {
     "base_uri": "https://localhost:8080/"
    },
    "id": "lwGGg6GPBSE5",
    "outputId": "7f0ed7db-4563-4d59-96e2-e9cb9b74656d"
   },
   "outputs": [
    {
     "data": {
      "text/plain": [
       "{'Postgraduate': 100,\n",
       " 'program': 250,\n",
       " 'Data': 225,\n",
       " 'Optimization': -100,\n",
       " 'Science': 1220}"
      ]
     },
     "execution_count": 147,
     "metadata": {},
     "output_type": "execute_result"
    }
   ],
   "source": [
    "suppleBroadcast.value"
   ]
  },
  {
   "cell_type": "code",
   "execution_count": 148,
   "metadata": {
    "colab": {
     "base_uri": "https://localhost:8080/"
    },
    "id": "3sftyBpZBVGk",
    "outputId": "49cae9bf-54dd-4a90-918a-fb05facb1d3b"
   },
   "outputs": [
    {
     "data": {
      "text/plain": [
       "[('Optimization', -100),\n",
       " ('in', 0),\n",
       " ('and', 0),\n",
       " ('Postgraduate', 100),\n",
       " ('Data', 225),\n",
       " ('program', 250),\n",
       " ('Science', 1220)]"
      ]
     },
     "execution_count": 148,
     "metadata": {},
     "output_type": "execute_result"
    }
   ],
   "source": [
    "words.map(lambda x : (x,suppleBroadcast.value.get(x,0))).sortBy(lambda wordPair: wordPair[1]).collect()"
   ]
  },
  {
   "cell_type": "code",
   "execution_count": 149,
   "metadata": {
    "colab": {
     "base_uri": "https://localhost:8080/",
     "height": 216
    },
    "id": "zQ3TU1UeCvQW",
    "outputId": "7212fd08-dcb5-4325-d598-54e757141bdc"
   },
   "outputs": [
    {
     "data": {
      "text/html": [
       "\n",
       "            <div>\n",
       "                <p><b>SparkSession - in-memory</b></p>\n",
       "                \n",
       "        <div>\n",
       "            <p><b>SparkContext</b></p>\n",
       "\n",
       "            <p><a href=\"http://172.16.0.68:4042\">Spark UI</a></p>\n",
       "\n",
       "            <dl>\n",
       "              <dt>Version</dt>\n",
       "                <dd><code>v3.1.1</code></dd>\n",
       "              <dt>Master</dt>\n",
       "                <dd><code>local[2]</code></dd>\n",
       "              <dt>AppName</dt>\n",
       "                <dd><code>SparkSQL_UseCase</code></dd>\n",
       "            </dl>\n",
       "        </div>\n",
       "        \n",
       "            </div>\n",
       "        "
      ],
      "text/plain": [
       "<pyspark.sql.session.SparkSession at 0x7f2e4fcd0ad0>"
      ]
     },
     "execution_count": 149,
     "metadata": {},
     "output_type": "execute_result"
    }
   ],
   "source": [
    "spark"
   ]
  },
  {
   "cell_type": "code",
   "execution_count": 150,
   "metadata": {
    "id": "q57-FCMISnpo"
   },
   "outputs": [],
   "source": [
    "cwgDF = spark.read.format('csv').option('header','true').option('inferSchema','true').load(\"./Data/XXI_Commonwealth_Games.csv\")"
   ]
  },
  {
   "cell_type": "code",
   "execution_count": 151,
   "metadata": {
    "colab": {
     "base_uri": "https://localhost:8080/"
    },
    "id": "y4fSo8QQUp8T",
    "outputId": "ebe6aee3-c1b6-4903-8cd0-28ba6eaee98f"
   },
   "outputs": [
    {
     "name": "stdout",
     "output_type": "stream",
     "text": [
      "+---+----------+----------+----+------+------+-----+\n",
      "|Seq|NationCode|NationName|Gold|Silver|Bronze|Total|\n",
      "+---+----------+----------+----+------+------+-----+\n",
      "|  1|       AUS| Australia|  60|    45|    46|  151|\n",
      "|  2|       ENG|   England|  28|    31|    24|   83|\n",
      "+---+----------+----------+----+------+------+-----+\n",
      "only showing top 2 rows\n",
      "\n"
     ]
    }
   ],
   "source": [
    "cwgDF.show(2)"
   ]
  },
  {
   "cell_type": "code",
   "execution_count": 152,
   "metadata": {
    "colab": {
     "base_uri": "https://localhost:8080/"
    },
    "id": "zbxyvjISUywh",
    "outputId": "0e971efc-a1ae-4af7-a148-4fca63f08acd"
   },
   "outputs": [
    {
     "name": "stdout",
     "output_type": "stream",
     "text": [
      "root\n",
      " |-- Seq: integer (nullable = true)\n",
      " |-- NationCode: string (nullable = true)\n",
      " |-- NationName: string (nullable = true)\n",
      " |-- Gold: integer (nullable = true)\n",
      " |-- Silver: integer (nullable = true)\n",
      " |-- Bronze: integer (nullable = true)\n",
      " |-- Total: integer (nullable = true)\n",
      "\n"
     ]
    }
   ],
   "source": [
    "cwgDF.printSchema()"
   ]
  },
  {
   "cell_type": "code",
   "execution_count": 153,
   "metadata": {
    "colab": {
     "base_uri": "https://localhost:8080/"
    },
    "id": "6A8LJGcKWrJY",
    "outputId": "84df06dc-0233-4760-871a-e1b21034f957"
   },
   "outputs": [
    {
     "name": "stdout",
     "output_type": "stream",
     "text": [
      "+---+----------+------------+----+------+------+-----+\n",
      "|Seq|NationCode|  NationName|Gold|Silver|Bronze|Total|\n",
      "+---+----------+------------+----+------+------+-----+\n",
      "|  1|       AUS|   Australia|  60|    45|    46|  151|\n",
      "|  2|       ENG|     England|  28|    31|    24|   83|\n",
      "|  3|       IND|       India|  14|     6|     9|   29|\n",
      "|  4|       CAN|      Canada|  11|    26|    19|   56|\n",
      "|  5|       RSA|South Africa|  11|     9|    12|   32|\n",
      "+---+----------+------------+----+------+------+-----+\n",
      "only showing top 5 rows\n",
      "\n"
     ]
    }
   ],
   "source": [
    "cwgDF.show(5)"
   ]
  },
  {
   "cell_type": "code",
   "execution_count": 154,
   "metadata": {
    "id": "9A9FdnTxW94b"
   },
   "outputs": [],
   "source": [
    "accInd = spark.sparkContext.accumulator(0)"
   ]
  },
  {
   "cell_type": "code",
   "execution_count": 155,
   "metadata": {
    "colab": {
     "base_uri": "https://localhost:8080/"
    },
    "id": "yptFQcXzXQG4",
    "outputId": "f2dd22b7-6096-4ba7-efa7-3ecf62c4bedf"
   },
   "outputs": [
    {
     "data": {
      "text/plain": [
       "0"
      ]
     },
     "execution_count": 155,
     "metadata": {},
     "output_type": "execute_result"
    }
   ],
   "source": [
    "accInd.value"
   ]
  },
  {
   "cell_type": "code",
   "execution_count": 156,
   "metadata": {
    "id": "JLq_n-ltXTas"
   },
   "outputs": [],
   "source": [
    "def accIndFunc(each_row):\n",
    "  countryCD = each_row[\"NationCode\"]\n",
    "  list_ctrys = ['IND','PAK','SRI','BAN']\n",
    "  if countryCD in list_ctrys:\n",
    "    accInd.add(each_row['Total'])"
   ]
  },
  {
   "cell_type": "code",
   "execution_count": 157,
   "metadata": {
    "id": "pjjjGJErX28L"
   },
   "outputs": [],
   "source": [
    "cwgDF.foreach(lambda each_row:accIndFunc(each_row))"
   ]
  },
  {
   "cell_type": "code",
   "execution_count": 158,
   "metadata": {
    "colab": {
     "base_uri": "https://localhost:8080/"
    },
    "id": "r21trRVWYDn1",
    "outputId": "98a08ac2-c026-4f1d-de94-3e6ecb64fe7c"
   },
   "outputs": [
    {
     "data": {
      "text/plain": [
       "38"
      ]
     },
     "execution_count": 158,
     "metadata": {},
     "output_type": "execute_result"
    }
   ],
   "source": [
    "accInd.value"
   ]
  },
  {
   "cell_type": "code",
   "execution_count": 159,
   "metadata": {
    "id": "b5Y8U_QeYLdS"
   },
   "outputs": [],
   "source": [
    "tcs_bo_df = spark.read.format('csv')\\\n",
    ".option('header','true')\\\n",
    ".option('inferSchema','true')\\\n",
    ".load(\"./Data/TCS_BO.csv\")"
   ]
  },
  {
   "cell_type": "code",
   "execution_count": 160,
   "metadata": {
    "colab": {
     "base_uri": "https://localhost:8080/"
    },
    "id": "7RUPulOgZC78",
    "outputId": "49a488dc-62f6-4804-83fd-48049ab0293e"
   },
   "outputs": [
    {
     "name": "stdout",
     "output_type": "stream",
     "text": [
      "+----------+---------+---------+---------+---------+---------+------+\n",
      "|      Date|     Open|     High|      Low|    Close|Adj Close|Volume|\n",
      "+----------+---------+---------+---------+---------+---------+------+\n",
      "|2002-01-14|38.500000|39.500000|38.062500|38.400002|20.948002| 83688|\n",
      "|2002-01-15|38.112499|38.724998|37.150002|37.412498|20.409311| 47496|\n",
      "|2002-01-16|38.049999|38.500000|37.125000|37.700001|20.566145| 51624|\n",
      "|2002-01-17|36.250000|38.750000|36.250000|38.337502|20.913918| 85840|\n",
      "|2002-01-18|38.750000|39.974998|38.150002|38.549999|21.029835| 78928|\n",
      "+----------+---------+---------+---------+---------+---------+------+\n",
      "only showing top 5 rows\n",
      "\n"
     ]
    }
   ],
   "source": [
    "tcs_bo_df.show(5)"
   ]
  },
  {
   "cell_type": "code",
   "execution_count": 161,
   "metadata": {
    "colab": {
     "base_uri": "https://localhost:8080/"
    },
    "id": "7AYdC_q8ZFG8",
    "outputId": "a8cf2053-3032-47b9-8078-3fd982f75fb6"
   },
   "outputs": [
    {
     "name": "stdout",
     "output_type": "stream",
     "text": [
      "root\n",
      " |-- Date: string (nullable = true)\n",
      " |-- Open: string (nullable = true)\n",
      " |-- High: string (nullable = true)\n",
      " |-- Low: string (nullable = true)\n",
      " |-- Close: string (nullable = true)\n",
      " |-- Adj Close: string (nullable = true)\n",
      " |-- Volume: string (nullable = true)\n",
      "\n"
     ]
    }
   ],
   "source": [
    "tcs_bo_df.printSchema()"
   ]
  },
  {
   "cell_type": "code",
   "execution_count": 162,
   "metadata": {
    "id": "3oDjrbODZRQH"
   },
   "outputs": [],
   "source": [
    "tcs_bo_df = tcs_bo_df.select(col('Date').cast('date'),\n",
    "                             col('Open').cast('double'),\n",
    "                             col('High').cast('double'),\n",
    "                             col('Low').cast('double'),\n",
    "                             col('Close').cast('double'),\n",
    "                             col('Adj Close').cast('double'),\n",
    "                             col('Volume').cast(\"int\"))"
   ]
  },
  {
   "cell_type": "code",
   "execution_count": 163,
   "metadata": {
    "colab": {
     "base_uri": "https://localhost:8080/"
    },
    "id": "JNfWF0EtaZnW",
    "outputId": "a553cff5-fdd9-4db7-ab11-9433dea038fd"
   },
   "outputs": [
    {
     "name": "stdout",
     "output_type": "stream",
     "text": [
      "root\n",
      " |-- Date: date (nullable = true)\n",
      " |-- Open: double (nullable = true)\n",
      " |-- High: double (nullable = true)\n",
      " |-- Low: double (nullable = true)\n",
      " |-- Close: double (nullable = true)\n",
      " |-- Adj Close: double (nullable = true)\n",
      " |-- Volume: integer (nullable = true)\n",
      "\n"
     ]
    }
   ],
   "source": [
    "tcs_bo_df.printSchema()"
   ]
  },
  {
   "cell_type": "code",
   "execution_count": 164,
   "metadata": {
    "id": "XXq4QZcUacMX"
   },
   "outputs": [],
   "source": [
    "tcs_bo_df = tcs_bo_df.withColumnRenamed(\"Adj Close\",\"AdjClose\")\n",
    "tcs_bo_df = tcs_bo_df.withColumnRenamed(\"date\",\"Stock_Date\")"
   ]
  },
  {
   "cell_type": "code",
   "execution_count": 165,
   "metadata": {
    "id": "g5UpCUcwarwy"
   },
   "outputs": [],
   "source": [
    "tcs_bo_df.write.format('json').mode('overwrite').save('./Data/tcs_bo.json')"
   ]
  },
  {
   "cell_type": "code",
   "execution_count": 166,
   "metadata": {
    "id": "2AOmKmgNa-Y2"
   },
   "outputs": [],
   "source": [
    "tcs_bo_df.write.format('parquet').mode('overwrite').save('./Data/tcs_bo.parquet')"
   ]
  },
  {
   "cell_type": "code",
   "execution_count": 167,
   "metadata": {
    "id": "YSlKAbcqbJ4h"
   },
   "outputs": [],
   "source": [
    "tcs_bo_json_df = spark.read.format(\"json\")\\\n",
    ".option('inferSchema','true')\\\n",
    ".load(\"./Data/tcs_bo.json\")"
   ]
  },
  {
   "cell_type": "code",
   "execution_count": 169,
   "metadata": {
    "colab": {
     "base_uri": "https://localhost:8080/"
    },
    "id": "uGeqaGWUbmIw",
    "outputId": "4a229255-b39b-4467-f02d-0835ac028928"
   },
   "outputs": [
    {
     "name": "stdout",
     "output_type": "stream",
     "text": [
      "+---------+---------+---------+---------+---------+----------+------+\n",
      "| AdjClose|    Close|     High|      Low|     Open|Stock_Date|Volume|\n",
      "+---------+---------+---------+---------+---------+----------+------+\n",
      "|20.948002|38.400002|     39.5|  38.0625|     38.5|2002-01-14| 83688|\n",
      "|20.409311|37.412498|38.724998|37.150002|38.112499|2002-01-15| 47496|\n",
      "|20.566145|37.700001|     38.5|   37.125|38.049999|2002-01-16| 51624|\n",
      "|20.913918|38.337502|    38.75|    36.25|    36.25|2002-01-17| 85840|\n",
      "|21.029835|38.549999|39.974998|38.150002|    38.75|2002-01-18| 78928|\n",
      "+---------+---------+---------+---------+---------+----------+------+\n",
      "only showing top 5 rows\n",
      "\n"
     ]
    }
   ],
   "source": [
    "tcs_bo_json_df.show(5)"
   ]
  },
  {
   "cell_type": "markdown",
   "metadata": {
    "id": "mWWptWAscvIL"
   },
   "source": [
    "### Connect to mysql database"
   ]
  },
  {
   "cell_type": "code",
   "execution_count": 5,
   "metadata": {},
   "outputs": [],
   "source": [
    "userDetails = {'userName':'fai1001','pwd':'csf&231@kj'}\n",
    "import pyspark\n",
    "from pyspark.sql import SparkSession\n",
    "spark = SparkSession.builder.config(\"spark.jars\", \"/home/jayantm/Spark/SparkSQL/mysql-connector-java-8.0.22.jar\") \\\n",
    "    .master(\"local\").appName(\"PySpark_MySQL_test\").getOrCreate()\n",
    "\n",
    "products_df = spark.read.format(\"jdbc\").option(\"url\", \"jdbc:mysql://125.99.159.93:6033/insofe_productsDB\") \\\n",
    "    .option(\"driver\", \"com.mysql.jdbc.Driver\").option(\"dbtable\", \"products\") \\\n",
    "    .option(\"user\", userDetails['userName']).option(\"password\", userDetails['pwd']).load()"
   ]
  },
  {
   "cell_type": "code",
   "execution_count": 6,
   "metadata": {},
   "outputs": [
    {
     "name": "stdout",
     "output_type": "stream",
     "text": [
      "+---------+-----------+---------+--------+-----+\n",
      "|productID|productCode|     name|quantity|price|\n",
      "+---------+-----------+---------+--------+-----+\n",
      "|     1001|        PEN|  Pen Red|    4950| 1.23|\n",
      "|     1002|        PEN| Pen Blue|    8000| 1.13|\n",
      "|     1003|        PEN|Pen Black|    2000| 1.13|\n",
      "+---------+-----------+---------+--------+-----+\n",
      "only showing top 3 rows\n",
      "\n"
     ]
    }
   ],
   "source": [
    "products_df.show(3)"
   ]
  },
  {
   "cell_type": "code",
   "execution_count": null,
   "metadata": {},
   "outputs": [],
   "source": []
  }
 ],
 "metadata": {
  "colab": {
   "name": "20201110_Batch88_CSE7246o_SparkSQL_1.ipynb",
   "provenance": []
  },
  "kernelspec": {
   "display_name": "Python 3",
   "language": "python",
   "name": "python3"
  },
  "language_info": {
   "codemirror_mode": {
    "name": "ipython",
    "version": 3
   },
   "file_extension": ".py",
   "mimetype": "text/x-python",
   "name": "python",
   "nbconvert_exporter": "python",
   "pygments_lexer": "ipython3",
   "version": "3.8.8"
  }
 },
 "nbformat": 4,
 "nbformat_minor": 4
}
