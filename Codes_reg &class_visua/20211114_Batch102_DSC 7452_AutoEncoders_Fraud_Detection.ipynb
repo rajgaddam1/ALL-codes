{
 "cells": [
  {
   "cell_type": "markdown",
   "id": "77uagh1jrSSB",
   "metadata": {
    "id": "77uagh1jrSSB"
   },
   "source": [
    "**Anomaly Detection** \n",
    "\n",
    "Abnormalities like fraud detection differ from the regular data in terms of patterns. An important characteristic of any anomaly dataset is class imbalance. To train a supervised model on such imbalanced dataset will not lead to promising results. The concept is that we train an unsupervised autoencoder on normal data, so all the feature generations that it will learn will be based on the characteristics of normal data and hence the reconstruction error will be low for non-fraud data.\n",
    "\n",
    "After the training is done, take a fraud record and pass itinto the autoencoder network and calculate the reconstruction error. This will be high because none of the features that the model learnt can explain this fraud. \n",
    "\n",
    "So, we can identify whether a particular datapoint is fraud or not based on the error. All samples for which the reconstruction error is small are similar to normal data. Those samples for which the reconstruction error is high are the anomalies.\n",
    "\n",
    "Similar thing can be applied to train cat and dog problem. Let’s say we train an autoencoder on cats, the only features it learns is about cats. After the training is done let us say we pass a dog to the autoencoder network, the construction looks like a cat because the network doesn’t know anything about the dog and the reconstruction error will be high."
   ]
  },
  {
   "cell_type": "markdown",
   "id": "9b0172f9",
   "metadata": {
    "id": "9b0172f9"
   },
   "source": [
    "#### Loading required libraries"
   ]
  },
  {
   "cell_type": "code",
   "execution_count": 1,
   "id": "aklS3jwM7GaG",
   "metadata": {
    "colab": {
     "base_uri": "https://localhost:8080/"
    },
    "id": "aklS3jwM7GaG",
    "outputId": "9ffff2ed-707d-416f-8bd4-4d1c10191579"
   },
   "outputs": [
    {
     "name": "stdout",
     "output_type": "stream",
     "text": [
      "Mounted at /content/drive\n"
     ]
    }
   ],
   "source": [
    "from google.colab import drive\n",
    "drive.mount('/content/drive')"
   ]
  },
  {
   "cell_type": "code",
   "execution_count": 2,
   "id": "154d4d84",
   "metadata": {
    "id": "154d4d84"
   },
   "outputs": [],
   "source": [
    "import pandas as pd\n",
    "import numpy as np\n",
    "\n",
    "from sklearn.model_selection import train_test_split\n",
    "\n",
    "from keras.layers import Input, Dense, Dropout\n",
    "from keras.models import Model\n",
    "\n",
    "import matplotlib.pyplot as plt\n",
    "%matplotlib inline"
   ]
  },
  {
   "cell_type": "markdown",
   "id": "625ca916",
   "metadata": {
    "id": "625ca916"
   },
   "source": [
    "#### Reading and Understanding the data"
   ]
  },
  {
   "cell_type": "code",
   "execution_count": 3,
   "id": "ALmUksa87Und",
   "metadata": {
    "id": "ALmUksa87Und"
   },
   "outputs": [],
   "source": [
    "import os\n",
    "os.chdir(r\"/content/drive/MyDrive/autoencoders\")"
   ]
  },
  {
   "cell_type": "code",
   "execution_count": 4,
   "id": "87423b54",
   "metadata": {
    "id": "87423b54"
   },
   "outputs": [],
   "source": [
    "data = pd.read_csv(\"Fraud_data_amtstd.csv\")"
   ]
  },
  {
   "cell_type": "code",
   "execution_count": 5,
   "id": "65822a95",
   "metadata": {
    "colab": {
     "base_uri": "https://localhost:8080/"
    },
    "id": "65822a95",
    "outputId": "37e5c0a8-0cd7-4819-f459-ee7af33d3fd3"
   },
   "outputs": [
    {
     "data": {
      "text/plain": [
       "(64456, 30)"
      ]
     },
     "execution_count": 5,
     "metadata": {},
     "output_type": "execute_result"
    }
   ],
   "source": [
    "# dimensions\n",
    "data.shape"
   ]
  },
  {
   "cell_type": "code",
   "execution_count": 6,
   "id": "7a8b9a10",
   "metadata": {
    "colab": {
     "base_uri": "https://localhost:8080/",
     "height": 224
    },
    "id": "7a8b9a10",
    "outputId": "6b60ad9a-61ef-4ba8-d0a0-4ee51843e11b"
   },
   "outputs": [
    {
     "data": {
      "text/html": [
       "<div>\n",
       "<style scoped>\n",
       "    .dataframe tbody tr th:only-of-type {\n",
       "        vertical-align: middle;\n",
       "    }\n",
       "\n",
       "    .dataframe tbody tr th {\n",
       "        vertical-align: top;\n",
       "    }\n",
       "\n",
       "    .dataframe thead th {\n",
       "        text-align: right;\n",
       "    }\n",
       "</style>\n",
       "<table border=\"1\" class=\"dataframe\">\n",
       "  <thead>\n",
       "    <tr style=\"text-align: right;\">\n",
       "      <th></th>\n",
       "      <th>V1</th>\n",
       "      <th>V2</th>\n",
       "      <th>V3</th>\n",
       "      <th>V4</th>\n",
       "      <th>V5</th>\n",
       "      <th>V6</th>\n",
       "      <th>V7</th>\n",
       "      <th>V8</th>\n",
       "      <th>V9</th>\n",
       "      <th>V10</th>\n",
       "      <th>V11</th>\n",
       "      <th>V12</th>\n",
       "      <th>V13</th>\n",
       "      <th>V14</th>\n",
       "      <th>V15</th>\n",
       "      <th>V16</th>\n",
       "      <th>V17</th>\n",
       "      <th>V18</th>\n",
       "      <th>V19</th>\n",
       "      <th>V20</th>\n",
       "      <th>V21</th>\n",
       "      <th>V22</th>\n",
       "      <th>V23</th>\n",
       "      <th>V24</th>\n",
       "      <th>V25</th>\n",
       "      <th>V26</th>\n",
       "      <th>V27</th>\n",
       "      <th>V28</th>\n",
       "      <th>Amount</th>\n",
       "      <th>Class</th>\n",
       "    </tr>\n",
       "  </thead>\n",
       "  <tbody>\n",
       "    <tr>\n",
       "      <th>0</th>\n",
       "      <td>1.836500</td>\n",
       "      <td>-0.545419</td>\n",
       "      <td>-0.462979</td>\n",
       "      <td>0.537174</td>\n",
       "      <td>-0.426143</td>\n",
       "      <td>-0.100606</td>\n",
       "      <td>-0.584764</td>\n",
       "      <td>-0.103956</td>\n",
       "      <td>2.268429</td>\n",
       "      <td>-0.365185</td>\n",
       "      <td>0.122337</td>\n",
       "      <td>-2.117327</td>\n",
       "      <td>2.261481</td>\n",
       "      <td>1.287914</td>\n",
       "      <td>0.197872</td>\n",
       "      <td>0.495713</td>\n",
       "      <td>0.043528</td>\n",
       "      <td>0.317547</td>\n",
       "      <td>-0.662213</td>\n",
       "      <td>0.013151</td>\n",
       "      <td>0.085111</td>\n",
       "      <td>0.410736</td>\n",
       "      <td>0.137625</td>\n",
       "      <td>0.602906</td>\n",
       "      <td>-0.350260</td>\n",
       "      <td>0.464407</td>\n",
       "      <td>-0.070917</td>\n",
       "      <td>-0.030486</td>\n",
       "      <td>0.049882</td>\n",
       "      <td>0.0</td>\n",
       "    </tr>\n",
       "    <tr>\n",
       "      <th>1</th>\n",
       "      <td>-4.289880</td>\n",
       "      <td>-2.576061</td>\n",
       "      <td>-0.092256</td>\n",
       "      <td>1.976405</td>\n",
       "      <td>2.810033</td>\n",
       "      <td>-2.669128</td>\n",
       "      <td>-0.981883</td>\n",
       "      <td>-0.470310</td>\n",
       "      <td>-0.025692</td>\n",
       "      <td>0.099528</td>\n",
       "      <td>0.803329</td>\n",
       "      <td>-0.042235</td>\n",
       "      <td>0.047051</td>\n",
       "      <td>-1.413220</td>\n",
       "      <td>2.000006</td>\n",
       "      <td>-0.096278</td>\n",
       "      <td>1.752810</td>\n",
       "      <td>-0.252515</td>\n",
       "      <td>0.462189</td>\n",
       "      <td>-1.320905</td>\n",
       "      <td>-0.473240</td>\n",
       "      <td>-0.307295</td>\n",
       "      <td>-2.789549</td>\n",
       "      <td>0.578976</td>\n",
       "      <td>-0.837979</td>\n",
       "      <td>0.372843</td>\n",
       "      <td>0.353451</td>\n",
       "      <td>-1.662202</td>\n",
       "      <td>-0.347171</td>\n",
       "      <td>0.0</td>\n",
       "    </tr>\n",
       "    <tr>\n",
       "      <th>2</th>\n",
       "      <td>1.131318</td>\n",
       "      <td>0.139818</td>\n",
       "      <td>0.586921</td>\n",
       "      <td>1.069291</td>\n",
       "      <td>-0.334908</td>\n",
       "      <td>-0.204938</td>\n",
       "      <td>-0.135526</td>\n",
       "      <td>0.043821</td>\n",
       "      <td>-0.121117</td>\n",
       "      <td>0.182139</td>\n",
       "      <td>1.034059</td>\n",
       "      <td>0.846406</td>\n",
       "      <td>0.149111</td>\n",
       "      <td>0.385353</td>\n",
       "      <td>0.414530</td>\n",
       "      <td>0.657300</td>\n",
       "      <td>-0.925449</td>\n",
       "      <td>0.501254</td>\n",
       "      <td>-0.067021</td>\n",
       "      <td>-0.043168</td>\n",
       "      <td>-0.028126</td>\n",
       "      <td>-0.167062</td>\n",
       "      <td>-0.048054</td>\n",
       "      <td>-0.009912</td>\n",
       "      <td>0.417694</td>\n",
       "      <td>-0.479793</td>\n",
       "      <td>0.024360</td>\n",
       "      <td>0.023878</td>\n",
       "      <td>-0.208963</td>\n",
       "      <td>0.0</td>\n",
       "    </tr>\n",
       "    <tr>\n",
       "      <th>3</th>\n",
       "      <td>-0.866956</td>\n",
       "      <td>1.373947</td>\n",
       "      <td>1.948343</td>\n",
       "      <td>2.686750</td>\n",
       "      <td>-0.366790</td>\n",
       "      <td>0.568632</td>\n",
       "      <td>-0.278349</td>\n",
       "      <td>0.739536</td>\n",
       "      <td>-1.655955</td>\n",
       "      <td>0.708396</td>\n",
       "      <td>0.871947</td>\n",
       "      <td>0.586652</td>\n",
       "      <td>0.838078</td>\n",
       "      <td>0.391226</td>\n",
       "      <td>0.844220</td>\n",
       "      <td>0.703376</td>\n",
       "      <td>-0.365869</td>\n",
       "      <td>0.837992</td>\n",
       "      <td>1.036112</td>\n",
       "      <td>0.328626</td>\n",
       "      <td>0.022719</td>\n",
       "      <td>-0.070619</td>\n",
       "      <td>-0.080307</td>\n",
       "      <td>0.000816</td>\n",
       "      <td>0.092167</td>\n",
       "      <td>0.159131</td>\n",
       "      <td>0.157940</td>\n",
       "      <td>-0.014370</td>\n",
       "      <td>-0.253595</td>\n",
       "      <td>0.0</td>\n",
       "    </tr>\n",
       "    <tr>\n",
       "      <th>4</th>\n",
       "      <td>-0.842670</td>\n",
       "      <td>1.401843</td>\n",
       "      <td>0.927235</td>\n",
       "      <td>1.070402</td>\n",
       "      <td>0.843883</td>\n",
       "      <td>0.467333</td>\n",
       "      <td>0.366716</td>\n",
       "      <td>0.616739</td>\n",
       "      <td>-1.586963</td>\n",
       "      <td>0.000041</td>\n",
       "      <td>-0.409240</td>\n",
       "      <td>0.139799</td>\n",
       "      <td>0.319222</td>\n",
       "      <td>0.538952</td>\n",
       "      <td>-0.760940</td>\n",
       "      <td>1.572230</td>\n",
       "      <td>-1.475274</td>\n",
       "      <td>0.748143</td>\n",
       "      <td>-0.725295</td>\n",
       "      <td>-0.208826</td>\n",
       "      <td>0.036573</td>\n",
       "      <td>-0.182581</td>\n",
       "      <td>-0.226834</td>\n",
       "      <td>-1.029794</td>\n",
       "      <td>-0.118762</td>\n",
       "      <td>-0.228960</td>\n",
       "      <td>-0.024250</td>\n",
       "      <td>0.046547</td>\n",
       "      <td>-0.346230</td>\n",
       "      <td>0.0</td>\n",
       "    </tr>\n",
       "  </tbody>\n",
       "</table>\n",
       "</div>"
      ],
      "text/plain": [
       "         V1        V2        V3        V4  ...       V27       V28    Amount  Class\n",
       "0  1.836500 -0.545419 -0.462979  0.537174  ... -0.070917 -0.030486  0.049882    0.0\n",
       "1 -4.289880 -2.576061 -0.092256  1.976405  ...  0.353451 -1.662202 -0.347171    0.0\n",
       "2  1.131318  0.139818  0.586921  1.069291  ...  0.024360  0.023878 -0.208963    0.0\n",
       "3 -0.866956  1.373947  1.948343  2.686750  ...  0.157940 -0.014370 -0.253595    0.0\n",
       "4 -0.842670  1.401843  0.927235  1.070402  ... -0.024250  0.046547 -0.346230    0.0\n",
       "\n",
       "[5 rows x 30 columns]"
      ]
     },
     "execution_count": 6,
     "metadata": {},
     "output_type": "execute_result"
    }
   ],
   "source": [
    "# first few records of the data\n",
    "data.head()"
   ]
  },
  {
   "cell_type": "code",
   "execution_count": 7,
   "id": "49182380",
   "metadata": {
    "colab": {
     "base_uri": "https://localhost:8080/"
    },
    "id": "49182380",
    "outputId": "6493a788-a4e1-4a48-86dc-76376850c73d"
   },
   "outputs": [
    {
     "data": {
      "text/plain": [
       "Index(['V1', 'V2', 'V3', 'V4', 'V5', 'V6', 'V7', 'V8', 'V9', 'V10', 'V11',\n",
       "       'V12', 'V13', 'V14', 'V15', 'V16', 'V17', 'V18', 'V19', 'V20', 'V21',\n",
       "       'V22', 'V23', 'V24', 'V25', 'V26', 'V27', 'V28', 'Amount', 'Class'],\n",
       "      dtype='object')"
      ]
     },
     "execution_count": 7,
     "metadata": {},
     "output_type": "execute_result"
    }
   ],
   "source": [
    "data.columns"
   ]
  },
  {
   "cell_type": "code",
   "execution_count": 8,
   "id": "6074906f",
   "metadata": {
    "colab": {
     "base_uri": "https://localhost:8080/"
    },
    "id": "6074906f",
    "outputId": "bb081932-038c-41cc-ef4e-a1310409edd9"
   },
   "outputs": [
    {
     "data": {
      "text/plain": [
       "V1        float64\n",
       "V2        float64\n",
       "V3        float64\n",
       "V4        float64\n",
       "V5        float64\n",
       "V6        float64\n",
       "V7        float64\n",
       "V8        float64\n",
       "V9        float64\n",
       "V10       float64\n",
       "V11       float64\n",
       "V12       float64\n",
       "V13       float64\n",
       "V14       float64\n",
       "V15       float64\n",
       "V16       float64\n",
       "V17       float64\n",
       "V18       float64\n",
       "V19       float64\n",
       "V20       float64\n",
       "V21       float64\n",
       "V22       float64\n",
       "V23       float64\n",
       "V24       float64\n",
       "V25       float64\n",
       "V26       float64\n",
       "V27       float64\n",
       "V28       float64\n",
       "Amount    float64\n",
       "Class     float64\n",
       "dtype: object"
      ]
     },
     "execution_count": 8,
     "metadata": {},
     "output_type": "execute_result"
    }
   ],
   "source": [
    "data.dtypes"
   ]
  },
  {
   "cell_type": "markdown",
   "id": "92c8f212",
   "metadata": {
    "id": "92c8f212"
   },
   "source": [
    "#### Data distribution w.r.t the target attribute"
   ]
  },
  {
   "cell_type": "code",
   "execution_count": 9,
   "id": "bed4c4fa",
   "metadata": {
    "colab": {
     "base_uri": "https://localhost:8080/"
    },
    "id": "bed4c4fa",
    "outputId": "aa57884c-401c-4c85-abe6-168735ab9e51"
   },
   "outputs": [
    {
     "name": "stdout",
     "output_type": "stream",
     "text": [
      "**Target Distribution***\n",
      "\n",
      "0.0    64147\n",
      "1.0      308\n",
      "Name: Class, dtype: int64\n",
      "\n",
      "\n",
      "\n",
      "***Target Distribution in Percentage***\n",
      "\n",
      "0.9952060320218443\n",
      "0.0047784535186794095\n"
     ]
    }
   ],
   "source": [
    "print(\"**Target Distribution***\\n\")\n",
    "print(pd.value_counts(data['Class']))\n",
    "print(\"\\n\\n\")\n",
    "print(\"***Target Distribution in Percentage***\\n\")\n",
    "print(pd.value_counts(data['Class'])[0]/data['Class'].shape[0])\n",
    "print(pd.value_counts(data['Class'])[1]/data['Class'].shape[0])"
   ]
  },
  {
   "cell_type": "markdown",
   "id": "7690fafc",
   "metadata": {
    "id": "7690fafc"
   },
   "source": [
    "#### Let's visualize the target distribution using a barplot"
   ]
  },
  {
   "cell_type": "code",
   "execution_count": 10,
   "id": "f39ba1b3",
   "metadata": {
    "colab": {
     "base_uri": "https://localhost:8080/",
     "height": 295
    },
    "id": "f39ba1b3",
    "outputId": "0054772f-8427-491b-b2aa-c218c1e8bf40"
   },
   "outputs": [
    {
     "data": {
      "image/png": "[encoded data removed]",
      "text/plain": [
       "<Figure size 432x288 with 1 Axes>"
      ]
     },
     "metadata": {
      "needs_background": "light"
     },
     "output_type": "display_data"
    }
   ],
   "source": [
    "# Drawing a barplot\n",
    "pd.value_counts(data['Class']).plot(kind = 'bar', rot=0)\n",
    "# Giving titles and labels to the plot\n",
    "plt.title(\"Transaction class distribution\")\n",
    "plt.xticks(range(2), [\"Normal\", \"Fraud\"])\n",
    "plt.xlabel(\"Class\")\n",
    "plt.ylabel(\"Frequency\");"
   ]
  },
  {
   "cell_type": "markdown",
   "id": "ken-NLll7lP4",
   "metadata": {
    "id": "ken-NLll7lP4"
   },
   "source": [
    "O = Normal\n",
    "1 = Fraud"
   ]
  },
  {
   "cell_type": "markdown",
   "id": "978bb562",
   "metadata": {
    "id": "978bb562"
   },
   "source": [
    "#### Extracting numpy array from the DataFrame"
   ]
  },
  {
   "cell_type": "code",
   "execution_count": 11,
   "id": "d02116c8",
   "metadata": {
    "id": "d02116c8"
   },
   "outputs": [],
   "source": [
    "data = data.values"
   ]
  },
  {
   "cell_type": "markdown",
   "id": "5d823819",
   "metadata": {
    "id": "5d823819"
   },
   "source": [
    "#### Train test split\n",
    "\n",
    "Splitting the data into train and test, such that train data has only non-fraud records and test data has both. "
   ]
  },
  {
   "cell_type": "code",
   "execution_count": 12,
   "id": "9c54c253",
   "metadata": {
    "id": "9c54c253"
   },
   "outputs": [],
   "source": [
    "data_nf = data[data[:,-1] == 0]\n",
    "test_f  = data[data[:,-1] == 1]\n",
    "\n",
    "train_nf, test_nf = train_test_split(data_nf, test_size=0.2, random_state=123)"
   ]
  },
  {
   "cell_type": "code",
   "execution_count": 13,
   "id": "345a1674",
   "metadata": {
    "colab": {
     "base_uri": "https://localhost:8080/"
    },
    "id": "345a1674",
    "outputId": "a7637f23-8068-41a2-ae93-452fc5513294"
   },
   "outputs": [
    {
     "name": "stdout",
     "output_type": "stream",
     "text": [
      "(64456, 30)\n",
      "(51317, 30)\n",
      "(12830, 30)\n",
      "(308, 30)\n"
     ]
    }
   ],
   "source": [
    "print(data.shape)\n",
    "print(train_nf.shape)\n",
    "print(test_nf.shape)\n",
    "print(test_f.shape)"
   ]
  },
  {
   "cell_type": "markdown",
   "id": "40ee1ed2",
   "metadata": {
    "id": "40ee1ed2"
   },
   "source": [
    "#### Look at the distribution w.r.t target attribute"
   ]
  },
  {
   "cell_type": "code",
   "execution_count": 14,
   "id": "3b478d37",
   "metadata": {
    "colab": {
     "base_uri": "https://localhost:8080/"
    },
    "id": "3b478d37",
    "outputId": "13044541-038a-4676-ad28-1c444105a0a4"
   },
   "outputs": [
    {
     "name": "stdout",
     "output_type": "stream",
     "text": [
      "(array([ 0.,  1., nan]), array([64147,   308,     1]))\n",
      "(array([0.]), array([51317]))\n",
      "(array([0.]), array([12830]))\n",
      "(array([1.]), array([308]))\n"
     ]
    }
   ],
   "source": [
    "print(np.unique(data[:,-1], return_counts=True))\n",
    "print(np.unique(train_nf[:,-1], return_counts=True))\n",
    "print(np.unique(test_nf[:,-1], return_counts=True))\n",
    "print(np.unique(test_f[:,-1], return_counts=True))"
   ]
  },
  {
   "cell_type": "markdown",
   "id": "fa7a6536",
   "metadata": {
    "id": "fa7a6536"
   },
   "source": [
    "#### Extracting the independent features¶"
   ]
  },
  {
   "cell_type": "code",
   "execution_count": 15,
   "id": "935341d1",
   "metadata": {
    "id": "935341d1"
   },
   "outputs": [],
   "source": [
    "X_train_nf = train_nf[:,:-1]\n",
    "X_test_nf = test_nf[:,:-1]\n",
    "X_test_f = test_f[:,:-1]"
   ]
  },
  {
   "cell_type": "markdown",
   "id": "84481213",
   "metadata": {
    "id": "84481213"
   },
   "source": [
    "#### Building an Autoencoder"
   ]
  },
  {
   "cell_type": "code",
   "execution_count": 16,
   "id": "fbf9746c",
   "metadata": {
    "colab": {
     "base_uri": "https://localhost:8080/"
    },
    "id": "fbf9746c",
    "outputId": "76ec4610-916c-455a-fcf2-d4a41ea0874e"
   },
   "outputs": [
    {
     "data": {
      "text/plain": [
       "29"
      ]
     },
     "execution_count": 16,
     "metadata": {},
     "output_type": "execute_result"
    }
   ],
   "source": [
    "input_dim = X_train_nf.shape[1]\n",
    "encoding_dim = 150\n",
    "input_dim"
   ]
  },
  {
   "cell_type": "code",
   "execution_count": 17,
   "id": "bb70d216",
   "metadata": {
    "id": "bb70d216"
   },
   "outputs": [],
   "source": [
    "# Input placeholder\n",
    "input_att = Input(shape=(input_dim,))\n",
    "\n",
    "input_dropout = Dropout(0.2)(input_att)\n",
    " \n",
    "# \"encoded\" is the encoded representation of the input\n",
    "encoded = Dense(encoding_dim, activation='relu')(input_dropout)\n",
    "\n",
    "# \"decoded\" is the lossy reconstruction of the input\n",
    "decoded = Dense(input_dim, activation='linear')(encoded)"
   ]
  },
  {
   "cell_type": "markdown",
   "id": "WU5QkRwH9jCQ",
   "metadata": {
    "id": "WU5QkRwH9jCQ"
   },
   "source": [
    "#### Check the summary of the model"
   ]
  },
  {
   "cell_type": "code",
   "execution_count": 19,
   "id": "a2ad7e63",
   "metadata": {
    "id": "a2ad7e63"
   },
   "outputs": [],
   "source": [
    "autoencoder = Model(input_att, decoded)"
   ]
  },
  {
   "cell_type": "code",
   "execution_count": 20,
   "id": "R7vnW6J_9nLM",
   "metadata": {
    "colab": {
     "base_uri": "https://localhost:8080/"
    },
    "id": "R7vnW6J_9nLM",
    "outputId": "11bcf628-3616-4126-eeef-f38b933aa60e"
   },
   "outputs": [
    {
     "name": "stdout",
     "output_type": "stream",
     "text": [
      "Model: \"model\"\n",
      "_________________________________________________________________\n",
      "Layer (type)                 Output Shape              Param #   \n",
      "=================================================================\n",
      "input_1 (InputLayer)         [(None, 29)]              0         \n",
      "_________________________________________________________________\n",
      "dropout (Dropout)            (None, 29)                0         \n",
      "_________________________________________________________________\n",
      "dense (Dense)                (None, 150)               4500      \n",
      "_________________________________________________________________\n",
      "dense_1 (Dense)              (None, 29)                4379      \n",
      "=================================================================\n",
      "Total params: 8,879\n",
      "Trainable params: 8,879\n",
      "Non-trainable params: 0\n",
      "_________________________________________________________________\n"
     ]
    }
   ],
   "source": [
    "autoencoder.summary()"
   ]
  },
  {
   "cell_type": "markdown",
   "id": "97cba9ed",
   "metadata": {
    "id": "97cba9ed"
   },
   "source": [
    "#### Compile the model"
   ]
  },
  {
   "cell_type": "code",
   "execution_count": 21,
   "id": "3164aa5c",
   "metadata": {
    "id": "3164aa5c"
   },
   "outputs": [],
   "source": [
    "autoencoder.compile(loss='mean_squared_error', optimizer='adam')"
   ]
  },
  {
   "cell_type": "markdown",
   "id": "24137d4c",
   "metadata": {
    "id": "24137d4c"
   },
   "source": [
    "#### Fit the model"
   ]
  },
  {
   "cell_type": "code",
   "execution_count": 22,
   "id": "139b0f51",
   "metadata": {
    "colab": {
     "base_uri": "https://localhost:8080/"
    },
    "id": "139b0f51",
    "outputId": "424575f7-a5e4-45ee-b8c6-0409577c6a2a"
   },
   "outputs": [
    {
     "name": "stdout",
     "output_type": "stream",
     "text": [
      "Epoch 1/100\n",
      "1283/1283 [==============================] - 3s 2ms/step - loss: 0.2729 - val_loss: 0.0557\n",
      "Epoch 2/100\n",
      "1283/1283 [==============================] - 2s 2ms/step - loss: 0.1730 - val_loss: 0.0511\n",
      "Epoch 3/100\n",
      "1283/1283 [==============================] - 2s 2ms/step - loss: 0.1616 - val_loss: 0.0497\n",
      "Epoch 4/100\n",
      "1283/1283 [==============================] - 2s 2ms/step - loss: 0.1473 - val_loss: 0.0603\n",
      "Epoch 5/100\n",
      "1283/1283 [==============================] - 2s 2ms/step - loss: 0.1444 - val_loss: 0.0403\n",
      "Epoch 6/100\n",
      "1283/1283 [==============================] - 2s 2ms/step - loss: 0.1363 - val_loss: 0.0413\n",
      "Epoch 7/100\n",
      "1283/1283 [==============================] - 2s 2ms/step - loss: 0.1324 - val_loss: 0.0428\n",
      "Epoch 8/100\n",
      "1283/1283 [==============================] - 2s 2ms/step - loss: 0.1310 - val_loss: 0.0374\n",
      "Epoch 9/100\n",
      "1283/1283 [==============================] - 2s 2ms/step - loss: 0.1230 - val_loss: 0.0396\n",
      "Epoch 10/100\n",
      "1283/1283 [==============================] - 2s 2ms/step - loss: 0.1258 - val_loss: 0.0463\n",
      "Epoch 11/100\n",
      "1283/1283 [==============================] - 2s 2ms/step - loss: 0.1229 - val_loss: 0.0405\n",
      "Epoch 12/100\n",
      "1283/1283 [==============================] - 2s 2ms/step - loss: 0.1272 - val_loss: 0.0342\n",
      "Epoch 13/100\n",
      "1283/1283 [==============================] - 2s 2ms/step - loss: 0.1157 - val_loss: 0.0377\n",
      "Epoch 14/100\n",
      "1283/1283 [==============================] - 2s 2ms/step - loss: 0.1149 - val_loss: 0.0363\n",
      "Epoch 15/100\n",
      "1283/1283 [==============================] - 2s 2ms/step - loss: 0.1154 - val_loss: 0.0375\n",
      "Epoch 16/100\n",
      "1283/1283 [==============================] - 2s 2ms/step - loss: 0.1137 - val_loss: 0.0362\n",
      "Epoch 17/100\n",
      "1283/1283 [==============================] - 2s 2ms/step - loss: 0.1140 - val_loss: 0.0362\n",
      "Epoch 18/100\n",
      "1283/1283 [==============================] - 2s 2ms/step - loss: 0.1114 - val_loss: 0.0338\n",
      "Epoch 19/100\n",
      "1283/1283 [==============================] - 2s 2ms/step - loss: 0.1138 - val_loss: 0.0418\n",
      "Epoch 20/100\n",
      "1283/1283 [==============================] - 2s 2ms/step - loss: 0.1117 - val_loss: 0.0334\n",
      "Epoch 21/100\n",
      "1283/1283 [==============================] - 2s 2ms/step - loss: 0.1096 - val_loss: 0.0331\n",
      "Epoch 22/100\n",
      "1283/1283 [==============================] - 2s 2ms/step - loss: 0.1130 - val_loss: 0.0406\n",
      "Epoch 23/100\n",
      "1283/1283 [==============================] - 2s 2ms/step - loss: 0.1105 - val_loss: 0.0365\n",
      "Epoch 24/100\n",
      "1283/1283 [==============================] - 2s 2ms/step - loss: 0.1120 - val_loss: 0.0338\n",
      "Epoch 25/100\n",
      "1283/1283 [==============================] - 2s 2ms/step - loss: 0.1089 - val_loss: 0.0329\n",
      "Epoch 26/100\n",
      "1283/1283 [==============================] - 2s 2ms/step - loss: 0.1042 - val_loss: 0.0371\n",
      "Epoch 27/100\n",
      "1283/1283 [==============================] - 2s 2ms/step - loss: 0.1033 - val_loss: 0.0358\n",
      "Epoch 28/100\n",
      "1283/1283 [==============================] - 2s 2ms/step - loss: 0.1066 - val_loss: 0.0329\n",
      "Epoch 29/100\n",
      "1283/1283 [==============================] - 2s 2ms/step - loss: 0.1063 - val_loss: 0.0374\n",
      "Epoch 30/100\n",
      "1283/1283 [==============================] - 2s 2ms/step - loss: 0.1054 - val_loss: 0.0330\n",
      "Epoch 31/100\n",
      "1283/1283 [==============================] - 2s 2ms/step - loss: 0.1108 - val_loss: 0.0424\n",
      "Epoch 32/100\n",
      "1283/1283 [==============================] - 2s 2ms/step - loss: 0.1034 - val_loss: 0.0331\n",
      "Epoch 33/100\n",
      "1283/1283 [==============================] - 2s 2ms/step - loss: 0.1048 - val_loss: 0.0401\n",
      "Epoch 34/100\n",
      "1283/1283 [==============================] - 2s 2ms/step - loss: 0.1047 - val_loss: 0.0335\n",
      "Epoch 35/100\n",
      "1283/1283 [==============================] - 2s 2ms/step - loss: 0.0993 - val_loss: 0.0335\n",
      "Epoch 36/100\n",
      "1283/1283 [==============================] - 2s 2ms/step - loss: 0.1037 - val_loss: 0.0359\n",
      "Epoch 37/100\n",
      "1283/1283 [==============================] - 2s 2ms/step - loss: 0.1034 - val_loss: 0.0379\n",
      "Epoch 38/100\n",
      "1283/1283 [==============================] - 2s 2ms/step - loss: 0.1014 - val_loss: 0.0317\n",
      "Epoch 39/100\n",
      "1283/1283 [==============================] - 2s 2ms/step - loss: 0.1006 - val_loss: 0.0333\n",
      "Epoch 40/100\n",
      "1283/1283 [==============================] - 2s 2ms/step - loss: 0.1051 - val_loss: 0.0381\n",
      "Epoch 41/100\n",
      "1283/1283 [==============================] - 2s 2ms/step - loss: 0.1051 - val_loss: 0.0340\n",
      "Epoch 42/100\n",
      "1283/1283 [==============================] - 2s 2ms/step - loss: 0.1010 - val_loss: 0.0356\n",
      "Epoch 43/100\n",
      "1283/1283 [==============================] - 2s 2ms/step - loss: 0.1021 - val_loss: 0.0322\n",
      "Epoch 44/100\n",
      "1283/1283 [==============================] - 2s 2ms/step - loss: 0.0997 - val_loss: 0.0359\n",
      "Epoch 45/100\n",
      "1283/1283 [==============================] - 2s 2ms/step - loss: 0.0985 - val_loss: 0.0318\n",
      "Epoch 46/100\n",
      "1283/1283 [==============================] - 2s 2ms/step - loss: 0.0984 - val_loss: 0.0338\n",
      "Epoch 47/100\n",
      "1283/1283 [==============================] - 2s 2ms/step - loss: 0.1000 - val_loss: 0.0373\n",
      "Epoch 48/100\n",
      "1283/1283 [==============================] - 2s 2ms/step - loss: 0.0975 - val_loss: 0.0329\n",
      "Epoch 49/100\n",
      "1283/1283 [==============================] - 2s 2ms/step - loss: 0.0997 - val_loss: 0.0384\n",
      "Epoch 50/100\n",
      "1283/1283 [==============================] - 2s 2ms/step - loss: 0.1001 - val_loss: 0.0385\n",
      "Epoch 51/100\n",
      "1283/1283 [==============================] - 2s 2ms/step - loss: 0.0985 - val_loss: 0.0360\n",
      "Epoch 52/100\n",
      "1283/1283 [==============================] - 2s 2ms/step - loss: 0.0969 - val_loss: 0.0334\n",
      "Epoch 53/100\n",
      "1283/1283 [==============================] - 2s 2ms/step - loss: 0.0971 - val_loss: 0.0450\n",
      "Epoch 54/100\n",
      "1283/1283 [==============================] - 2s 2ms/step - loss: 0.1019 - val_loss: 0.0328\n",
      "Epoch 55/100\n",
      "1283/1283 [==============================] - 2s 2ms/step - loss: 0.0979 - val_loss: 0.0383\n",
      "Epoch 56/100\n",
      "1283/1283 [==============================] - 2s 2ms/step - loss: 0.0984 - val_loss: 0.0331\n",
      "Epoch 57/100\n",
      "1283/1283 [==============================] - 2s 2ms/step - loss: 0.0972 - val_loss: 0.0325\n",
      "Epoch 58/100\n",
      "1283/1283 [==============================] - 2s 2ms/step - loss: 0.0989 - val_loss: 0.0330\n",
      "Epoch 59/100\n",
      "1283/1283 [==============================] - 2s 2ms/step - loss: 0.0992 - val_loss: 0.0331\n",
      "Epoch 60/100\n",
      "1283/1283 [==============================] - 2s 2ms/step - loss: 0.1018 - val_loss: 0.0331\n",
      "Epoch 61/100\n",
      "1283/1283 [==============================] - 2s 2ms/step - loss: 0.0982 - val_loss: 0.0327\n",
      "Epoch 62/100\n",
      "1283/1283 [==============================] - 2s 2ms/step - loss: 0.0979 - val_loss: 0.0347\n",
      "Epoch 63/100\n",
      "1283/1283 [==============================] - 2s 2ms/step - loss: 0.0944 - val_loss: 0.0353\n",
      "Epoch 64/100\n",
      "1283/1283 [==============================] - 2s 2ms/step - loss: 0.0980 - val_loss: 0.0378\n",
      "Epoch 65/100\n",
      "1283/1283 [==============================] - 2s 2ms/step - loss: 0.0938 - val_loss: 0.0420\n",
      "Epoch 66/100\n",
      "1283/1283 [==============================] - 2s 2ms/step - loss: 0.0976 - val_loss: 0.0533\n",
      "Epoch 67/100\n",
      "1283/1283 [==============================] - 2s 2ms/step - loss: 0.0987 - val_loss: 0.0344\n",
      "Epoch 68/100\n",
      "1283/1283 [==============================] - 2s 2ms/step - loss: 0.0971 - val_loss: 0.0343\n",
      "Epoch 69/100\n",
      "1283/1283 [==============================] - 2s 2ms/step - loss: 0.0956 - val_loss: 0.0418\n",
      "Epoch 70/100\n",
      "1283/1283 [==============================] - 2s 2ms/step - loss: 0.0959 - val_loss: 0.0358\n",
      "Epoch 71/100\n",
      "1283/1283 [==============================] - 2s 2ms/step - loss: 0.0960 - val_loss: 0.0358\n",
      "Epoch 72/100\n",
      "1283/1283 [==============================] - 2s 2ms/step - loss: 0.0979 - val_loss: 0.0361\n",
      "Epoch 73/100\n",
      "1283/1283 [==============================] - 2s 2ms/step - loss: 0.0941 - val_loss: 0.0355\n",
      "Epoch 74/100\n",
      "1283/1283 [==============================] - 2s 2ms/step - loss: 0.0954 - val_loss: 0.0368\n",
      "Epoch 75/100\n",
      "1283/1283 [==============================] - 2s 2ms/step - loss: 0.0962 - val_loss: 0.0397\n",
      "Epoch 76/100\n",
      "1283/1283 [==============================] - 2s 2ms/step - loss: 0.0967 - val_loss: 0.0389\n",
      "Epoch 77/100\n",
      "1283/1283 [==============================] - 2s 2ms/step - loss: 0.0922 - val_loss: 0.0341\n",
      "Epoch 78/100\n",
      "1283/1283 [==============================] - 2s 2ms/step - loss: 0.0951 - val_loss: 0.0351\n",
      "Epoch 79/100\n",
      "1283/1283 [==============================] - 2s 2ms/step - loss: 0.0970 - val_loss: 0.0470\n",
      "Epoch 80/100\n",
      "1283/1283 [==============================] - 2s 2ms/step - loss: 0.0953 - val_loss: 0.0399\n",
      "Epoch 81/100\n",
      "1283/1283 [==============================] - 2s 2ms/step - loss: 0.0929 - val_loss: 0.0375\n",
      "Epoch 82/100\n",
      "1283/1283 [==============================] - 2s 2ms/step - loss: 0.0969 - val_loss: 0.0363\n",
      "Epoch 83/100\n",
      "1283/1283 [==============================] - 2s 2ms/step - loss: 0.0945 - val_loss: 0.0351\n",
      "Epoch 84/100\n",
      "1283/1283 [==============================] - 2s 2ms/step - loss: 0.0946 - val_loss: 0.0399\n",
      "Epoch 85/100\n",
      "1283/1283 [==============================] - 2s 2ms/step - loss: 0.0937 - val_loss: 0.0371\n",
      "Epoch 86/100\n",
      "1283/1283 [==============================] - 2s 2ms/step - loss: 0.0940 - val_loss: 0.0389\n",
      "Epoch 87/100\n",
      "1283/1283 [==============================] - 2s 2ms/step - loss: 0.0981 - val_loss: 0.0387\n",
      "Epoch 88/100\n",
      "1283/1283 [==============================] - 2s 2ms/step - loss: 0.0958 - val_loss: 0.0386\n",
      "Epoch 89/100\n",
      "1283/1283 [==============================] - 2s 2ms/step - loss: 0.0960 - val_loss: 0.0380\n",
      "Epoch 90/100\n",
      "1283/1283 [==============================] - 2s 2ms/step - loss: 0.1003 - val_loss: 0.0350\n",
      "Epoch 91/100\n",
      "1283/1283 [==============================] - 2s 2ms/step - loss: 0.0926 - val_loss: 0.0390\n",
      "Epoch 92/100\n",
      "1283/1283 [==============================] - 2s 2ms/step - loss: 0.0975 - val_loss: 0.0386\n",
      "Epoch 93/100\n",
      "1283/1283 [==============================] - 2s 2ms/step - loss: 0.0941 - val_loss: 0.0378\n",
      "Epoch 94/100\n",
      "1283/1283 [==============================] - 2s 2ms/step - loss: 0.0965 - val_loss: 0.0383\n",
      "Epoch 95/100\n",
      "1283/1283 [==============================] - 2s 2ms/step - loss: 0.0936 - val_loss: 0.0360\n",
      "Epoch 96/100\n",
      "1283/1283 [==============================] - 2s 2ms/step - loss: 0.0927 - val_loss: 0.0387\n",
      "Epoch 97/100\n",
      "1283/1283 [==============================] - 2s 2ms/step - loss: 0.0964 - val_loss: 0.0369\n",
      "Epoch 98/100\n",
      "1283/1283 [==============================] - 2s 2ms/step - loss: 0.0927 - val_loss: 0.0388\n",
      "Epoch 99/100\n",
      "1283/1283 [==============================] - 2s 2ms/step - loss: 0.0942 - val_loss: 0.0472\n",
      "Epoch 100/100\n",
      "1283/1283 [==============================] - 2s 2ms/step - loss: 0.0944 - val_loss: 0.0386\n"
     ]
    },
    {
     "data": {
      "text/plain": [
       "<keras.callbacks.History at 0x7f1c2fd2db50>"
      ]
     },
     "execution_count": 22,
     "metadata": {},
     "output_type": "execute_result"
    }
   ],
   "source": [
    "autoencoder.fit(X_train_nf, X_train_nf, epochs=100, shuffle=True, validation_split=0.2, verbose=1)"
   ]
  },
  {
   "cell_type": "markdown",
   "id": "ESHuD6gQ80M6",
   "metadata": {
    "id": "ESHuD6gQ80M6"
   },
   "source": [
    "#### Saving a Keras model"
   ]
  },
  {
   "cell_type": "code",
   "execution_count": 23,
   "id": "d9nx4njq8ng5",
   "metadata": {
    "colab": {
     "base_uri": "https://localhost:8080/"
    },
    "id": "d9nx4njq8ng5",
    "outputId": "5023e55e-a087-4959-ce9a-9ed18e5198c9"
   },
   "outputs": [
    {
     "name": "stdout",
     "output_type": "stream",
     "text": [
      "INFO:tensorflow:Assets written to: models/ae1/assets\n"
     ]
    }
   ],
   "source": [
    "autoencoder.save('models/ae1')"
   ]
  },
  {
   "cell_type": "markdown",
   "id": "0tjfgrft84XK",
   "metadata": {
    "id": "0tjfgrft84XK"
   },
   "source": [
    "#### Loading the model back"
   ]
  },
  {
   "cell_type": "code",
   "execution_count": 24,
   "id": "AkRlzLa68_hK",
   "metadata": {
    "id": "AkRlzLa68_hK"
   },
   "outputs": [],
   "source": [
    "from tensorflow import keras\n",
    "autoencoder = keras.models.load_model('models/ae1')"
   ]
  },
  {
   "cell_type": "markdown",
   "id": "286e1565",
   "metadata": {
    "id": "286e1565"
   },
   "source": [
    "#### Evaluate the loss on non-fraud train data"
   ]
  },
  {
   "cell_type": "code",
   "execution_count": 25,
   "id": "a5b8e29a",
   "metadata": {
    "colab": {
     "base_uri": "https://localhost:8080/"
    },
    "id": "a5b8e29a",
    "outputId": "cf270be5-e574-4544-d21b-7313b28d47b7"
   },
   "outputs": [
    {
     "name": "stdout",
     "output_type": "stream",
     "text": [
      "1604/1604 [==============================] - 2s 1ms/step - loss: 0.0379\n"
     ]
    },
    {
     "data": {
      "text/plain": [
       "0.037930332124233246"
      ]
     },
     "execution_count": 25,
     "metadata": {},
     "output_type": "execute_result"
    }
   ],
   "source": [
    "autoencoder.evaluate(X_train_nf, X_train_nf)"
   ]
  },
  {
   "cell_type": "markdown",
   "id": "fac4916b",
   "metadata": {
    "id": "fac4916b"
   },
   "source": [
    "#### Evaluate the loss on non-fraud test data"
   ]
  },
  {
   "cell_type": "code",
   "execution_count": 26,
   "id": "96a5dba3",
   "metadata": {
    "colab": {
     "base_uri": "https://localhost:8080/"
    },
    "id": "96a5dba3",
    "outputId": "6e785116-19eb-442a-ab25-d3c64da23453"
   },
   "outputs": [
    {
     "name": "stdout",
     "output_type": "stream",
     "text": [
      "401/401 [==============================] - 0s 1ms/step - loss: 0.0372\n"
     ]
    },
    {
     "data": {
      "text/plain": [
       "0.03717506304383278"
      ]
     },
     "execution_count": 26,
     "metadata": {},
     "output_type": "execute_result"
    }
   ],
   "source": [
    "autoencoder.evaluate(X_test_nf, X_test_nf)"
   ]
  },
  {
   "cell_type": "markdown",
   "id": "d4ddf5a8",
   "metadata": {
    "id": "d4ddf5a8"
   },
   "source": [
    "#### Evaluate the loss on fraud test data"
   ]
  },
  {
   "cell_type": "code",
   "execution_count": 27,
   "id": "50eda294",
   "metadata": {
    "colab": {
     "base_uri": "https://localhost:8080/"
    },
    "id": "50eda294",
    "outputId": "107515e8-36da-443a-d293-7c33ea26db62"
   },
   "outputs": [
    {
     "name": "stdout",
     "output_type": "stream",
     "text": [
      "10/10 [==============================] - 0s 2ms/step - loss: 1.8185\n"
     ]
    },
    {
     "data": {
      "text/plain": [
       "1.8184670209884644"
      ]
     },
     "execution_count": 27,
     "metadata": {},
     "output_type": "execute_result"
    }
   ],
   "source": [
    "autoencoder.evaluate(X_test_f, X_test_f)"
   ]
  },
  {
   "cell_type": "markdown",
   "id": "f4909f99",
   "metadata": {
    "id": "f4909f99"
   },
   "source": [
    "#### Function to calculate mse for each record"
   ]
  },
  {
   "cell_type": "code",
   "execution_count": 28,
   "id": "e204137c",
   "metadata": {
    "id": "e204137c"
   },
   "outputs": [],
   "source": [
    "def mse_for_each_record(act, pred):\n",
    "    error = act - pred\n",
    "    squared_error = np.square(error)\n",
    "    mean_squared_error = np.mean(squared_error, axis=1)\n",
    "    return mean_squared_error"
   ]
  },
  {
   "cell_type": "markdown",
   "id": "721d7138",
   "metadata": {
    "id": "721d7138"
   },
   "source": [
    "#### Making predictions on the non-fraud train data"
   ]
  },
  {
   "cell_type": "code",
   "execution_count": 29,
   "id": "f8fbb663",
   "metadata": {
    "colab": {
     "base_uri": "https://localhost:8080/"
    },
    "id": "f8fbb663",
    "outputId": "955fb4af-bb3f-4da1-d49d-d4ecfe938b87"
   },
   "outputs": [
    {
     "name": "stdout",
     "output_type": "stream",
     "text": [
      "(51317, 29)\n",
      "(51317,)\n"
     ]
    }
   ],
   "source": [
    "pred_train_nf = autoencoder.predict(X_train_nf)\n",
    "print(pred_train_nf.shape)\n",
    "\n",
    "mse_train_nf = mse_for_each_record(X_train_nf, pred_train_nf)\n",
    "print(mse_train_nf.shape)"
   ]
  },
  {
   "cell_type": "markdown",
   "id": "cea8be93",
   "metadata": {
    "id": "cea8be93"
   },
   "source": [
    "#### Making predictions on the non-fraud test data"
   ]
  },
  {
   "cell_type": "code",
   "execution_count": 30,
   "id": "23ce016a",
   "metadata": {
    "colab": {
     "base_uri": "https://localhost:8080/"
    },
    "id": "23ce016a",
    "outputId": "11a12949-eadb-46bd-a0f2-92908f7c91e9"
   },
   "outputs": [
    {
     "name": "stdout",
     "output_type": "stream",
     "text": [
      "(12830, 29)\n",
      "(12830,)\n"
     ]
    }
   ],
   "source": [
    "pred_test_nf = autoencoder.predict(X_test_nf)\n",
    "print(pred_test_nf.shape)\n",
    "\n",
    "mse_test_nf = mse_for_each_record(X_test_nf, pred_test_nf)\n",
    "print(mse_test_nf.shape)"
   ]
  },
  {
   "cell_type": "markdown",
   "id": "60826c28",
   "metadata": {
    "id": "60826c28"
   },
   "source": [
    "#### Making predictions on the fraud test data"
   ]
  },
  {
   "cell_type": "code",
   "execution_count": 31,
   "id": "abdd590c",
   "metadata": {
    "colab": {
     "base_uri": "https://localhost:8080/"
    },
    "id": "abdd590c",
    "outputId": "307d13d6-177f-4b7b-c294-d04fcb23edd1"
   },
   "outputs": [
    {
     "name": "stdout",
     "output_type": "stream",
     "text": [
      "(308, 29)\n",
      "(308,)\n"
     ]
    }
   ],
   "source": [
    "pred_test_f = autoencoder.predict(X_test_f)\n",
    "print(pred_test_f.shape)\n",
    "\n",
    "mse_test_f = mse_for_each_record(X_test_f, pred_test_f)\n",
    "print(mse_test_f.shape)"
   ]
  },
  {
   "cell_type": "markdown",
   "id": "da959ae9",
   "metadata": {
    "id": "da959ae9"
   },
   "source": [
    "#### Explore and identify right cut-off"
   ]
  },
  {
   "cell_type": "code",
   "execution_count": 32,
   "id": "8ac8b075",
   "metadata": {
    "colab": {
     "base_uri": "https://localhost:8080/",
     "height": 401
    },
    "id": "8ac8b075",
    "outputId": "b35b5fdb-e3b6-4c63-ec91-05bf9ce70794"
   },
   "outputs": [
    {
     "data": {
      "text/plain": [
       "{'boxes': [<matplotlib.lines.Line2D at 0x7f1c2bbc0e10>],\n",
       " 'caps': [<matplotlib.lines.Line2D at 0x7f1c2bc0ff90>,\n",
       "  <matplotlib.lines.Line2D at 0x7f1c2bc0f410>],\n",
       " 'fliers': [<matplotlib.lines.Line2D at 0x7f1c2bcad9d0>],\n",
       " 'means': [],\n",
       " 'medians': [<matplotlib.lines.Line2D at 0x7f1c2bcadc50>],\n",
       " 'whiskers': [<matplotlib.lines.Line2D at 0x7f1c2bbc0150>,\n",
       "  <matplotlib.lines.Line2D at 0x7f1c2bc0fbd0>]}"
      ]
     },
     "execution_count": 32,
     "metadata": {},
     "output_type": "execute_result"
    },
    {
     "data": {
      "image/png": "[encoded data removed]",
      "text/plain": [
       "<Figure size 432x288 with 3 Axes>"
      ]
     },
     "metadata": {
      "needs_background": "light"
     },
     "output_type": "display_data"
    }
   ],
   "source": [
    "# mse box plots of non-fraud train, non-fraud test and fraud test data\n",
    "plt.subplot(1, 3, 1)\n",
    "plt.boxplot(mse_train_nf)\n",
    "\n",
    "plt.subplot(1, 3, 2)\n",
    "plt.boxplot(mse_test_nf)\n",
    "\n",
    "plt.subplot(1, 3, 3)\n",
    "plt.boxplot(mse_test_f)"
   ]
  },
  {
   "cell_type": "code",
   "execution_count": 33,
   "id": "8356b924",
   "metadata": {
    "colab": {
     "base_uri": "https://localhost:8080/"
    },
    "id": "8356b924",
    "outputId": "21a93d19-4f8a-4e2e-e620-243ad023b130"
   },
   "outputs": [
    {
     "name": "stdout",
     "output_type": "stream",
     "text": [
      "-------mse_train_nf-------\n",
      "count    51317.000000\n",
      "mean         0.037930\n",
      "std          0.250271\n",
      "min          0.001510\n",
      "25%          0.010196\n",
      "50%          0.016795\n",
      "75%          0.027703\n",
      "max         24.815616\n",
      "dtype: float64\n",
      "\n",
      "-------mse_test_NF-------\n",
      "count    12830.000000\n",
      "mean         0.037175\n",
      "std          0.189868\n",
      "min          0.001692\n",
      "25%          0.010263\n",
      "50%          0.016839\n",
      "75%          0.027728\n",
      "max         14.581040\n",
      "dtype: float64\n",
      "\n",
      "-------mse_test_f-------\n",
      "count    308.000000\n",
      "mean       1.818467\n",
      "std        2.797170\n",
      "min        0.008440\n",
      "25%        0.549259\n",
      "50%        1.004228\n",
      "75%        1.990687\n",
      "max       21.750461\n",
      "dtype: float64\n"
     ]
    }
   ],
   "source": [
    "# Summary statistics on mse of non-fraud train, non-fraud test and fraud test data\n",
    "print(\"-------mse_train_nf-------\")\n",
    "print(pd.Series(mse_train_nf).describe())\n",
    "print(\"\\n-------mse_test_NF-------\")\n",
    "print(pd.Series(mse_test_nf).describe())\n",
    "print(\"\\n-------mse_test_f-------\")\n",
    "print(pd.Series(mse_test_f).describe())"
   ]
  },
  {
   "cell_type": "markdown",
   "id": "14a57065",
   "metadata": {
    "id": "14a57065"
   },
   "source": [
    "#### Define cut-off error/MSE"
   ]
  },
  {
   "cell_type": "code",
   "execution_count": 34,
   "id": "f64a510e",
   "metadata": {
    "colab": {
     "base_uri": "https://localhost:8080/"
    },
    "id": "f64a510e",
    "outputId": "3673b281-d612-47e9-9ddc-368adf765cc3"
   },
   "outputs": [
    {
     "name": "stdout",
     "output_type": "stream",
     "text": [
      "Cut-off = 0.35\n"
     ]
    }
   ],
   "source": [
    "cut_off = np.round(np.percentile(mse_train_nf,99),2)\n",
    "print(\"Cut-off = {}\".format(cut_off))"
   ]
  },
  {
   "cell_type": "markdown",
   "id": "df29e485",
   "metadata": {
    "id": "df29e485"
   },
   "source": [
    "#### % of correctly predicted non-fraud train, non-fraud test and fraud test records"
   ]
  },
  {
   "cell_type": "code",
   "execution_count": 35,
   "id": "c2337306",
   "metadata": {
    "colab": {
     "base_uri": "https://localhost:8080/"
    },
    "id": "c2337306",
    "outputId": "cc38e8b1-ad2c-422f-e1f7-ec0eaf09dc04"
   },
   "outputs": [
    {
     "name": "stdout",
     "output_type": "stream",
     "text": [
      "Non-fraud train records = 99.0%\n",
      "Non-fraud test records  = 99.0%\n",
      "Fraud test records      = 82.0%\n"
     ]
    }
   ],
   "source": [
    "print(\"Non-fraud train records = {}%\".format(np.round(np.sum(mse_train_nf <= cut_off)/train_nf.shape[0],2)*100))\n",
    "print(\"Non-fraud test records  = {}%\".format(np.round(np.sum(mse_test_nf <= cut_off)/test_nf.shape[0],2)*100))\n",
    "print(\"Fraud test records      = {}%\".format(np.round(np.sum(mse_test_f > cut_off)/test_f.shape[0],2)*100))"
   ]
  }
 ],
 "metadata": {
  "colab": {
   "collapsed_sections": [],
   "name": "20210904_Batch95_DSC 7221_AutoEncoders_Fraud_Detection.ipynb",
   "provenance": []
  },
  "kernelspec": {
   "display_name": "Python 3",
   "language": "python",
   "name": "python3"
  },
  "language_info": {
   "codemirror_mode": {
    "name": "ipython",
    "version": 3
   },
   "file_extension": ".py",
   "mimetype": "text/x-python",
   "name": "python",
   "nbconvert_exporter": "python",
   "pygments_lexer": "ipython3",
   "version": "3.8.8"
  }
 },
 "nbformat": 4,
 "nbformat_minor": 5
}
