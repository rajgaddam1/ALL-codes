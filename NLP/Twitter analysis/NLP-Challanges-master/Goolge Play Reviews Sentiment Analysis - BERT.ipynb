{
 "cells": [
  {
   "cell_type": "markdown",
   "metadata": {
    "colab_type": "text",
    "id": "YTObi12RjoDo"
   },
   "source": [
    "# Sentiment Analysis with BERT"
   ]
  },
  {
   "cell_type": "markdown",
   "metadata": {
    "colab_type": "text",
    "id": "nPruJiErj64W"
   },
   "source": [
    "In this tutorial, you'll learn how to fine-tune BERT for sentiment analysis.\n",
    "\n",
    "You'll do the required text preprocessing (special tokens, padding, and attention masks) and build a Sentiment Classifier using the amazing Transformers library by Hugging Face!\n",
    "\n",
    "You'll learn how to:\n",
    "\n",
    "*   Intuitively understand what BERT is\n",
    "*   Preprocess text data for BERT and build PyTorch Dataset (tokenization, attention masks, and padding)\n",
    "*   Use Transfer Learning to build Sentiment Classifier using the Transformers \n",
    "*   Evaluate the model on test data\n",
    "*   Predict sentiment on raw text\n",
    "\n",
    "library by Hugging Face\n",
    "\n",
    "Let's get started!"
   ]
  },
  {
   "cell_type": "markdown",
   "metadata": {
    "colab_type": "text",
    "id": "vExC4jmLk8P0"
   },
   "source": [
    "What is BERT?\n",
    "BERT stands for Bidirectional Encoder Representations from Transformers. If you don't know what most of that means - you've come to the right place! Let's unpack the main ideas:\n",
    "\n",
    "*   Bidirectional - to understand the text you're looking you'll have to look back (at the previous words) and forward (at the next words)\n",
    "*   Transformers -  The Transformer reads entire sequences of tokens at once. In a sense, the model is non-directional, while LSTMs read sequentially (left-to-right or right-to-left). The attention mechanism allows for learning contextual relations between words (e.g. his in a sentence refers to Jim).\n",
    "*   (Pre-trained) contextualized word embeddings - The ELMO paper introduced a way to encode words based on their meaning/context. Ex: Nails has multiple meanings - fingernails and metal nails.\n",
    "\n",
    "BERT was trained by masking 15% of the tokens with the goal to guess them. An additional objective was to predict the next sentence. Let's look at examples of these tasks:\n",
    "\n",
    "**Masked Language Modeling (Masked LM)**\n",
    "The objective of this task is to guess the masked tokens. Let's look at an example, and try to not make it harder than it has to be:\n",
    "\n",
    "That's [mask] she [mask] -> That's what she said\n",
    "\n",
    "**Next Sentence Prediction (NSP)**\n",
    "Given a pair of two sentences, the task is to say whether or not the second follows the first (binary classification). Let's continue with the example:\n",
    "\n",
    "Input = [CLS] That's [mask] she [mask]. [SEP] Hahaha, nice! [SEP]\n",
    "\n",
    "Label = IsNext\n",
    "\n",
    "Input = [CLS] That's [mask] she [mask]. [SEP] Dwight, you ignorant [mask]! [SEP]\n",
    "\n",
    "Label = NotNext\n",
    "\n",
    "The training corpus was comprised of two entries: Toronto Book Corpus (800M words) and English Wikipedia (2,500M words). While the original Transformer has an encoder (for reading the input) and a decoder (that makes the prediction), BERT uses only the decoder.\n",
    "\n",
    "BERT is simply a pre-trained stack of Transformer Encoders. How many Encoders? We have two versions - with 12 (BERT base) and 24 (BERT Large).\n",
    "\n",
    "Is This Thing Useful in Practice?\n",
    "The BERT paper was released along with the source code and pre-trained models.\n",
    "\n",
    "The best part is that you can do Transfer Learning (thanks to the ideas from OpenAI Transformer) with BERT for many NLP tasks - Classification, Question Answering, Entity Recognition, etc. You can train with small amounts of data and achieve great performance!"
   ]
  },
  {
   "cell_type": "markdown",
   "metadata": {
    "colab_type": "text",
    "id": "26E-6IKzmSZm"
   },
   "source": [
    "**Setup**\n",
    "\n",
    "We'll need [the transformers library](https://huggingface.co/transformers/) by Hugging Face:"
   ]
  },
  {
   "cell_type": "code",
   "execution_count": 2,
   "metadata": {
    "colab": {
     "base_uri": "https://localhost:8080/",
     "height": 641
    },
    "colab_type": "code",
    "executionInfo": {
     "elapsed": 14290,
     "status": "ok",
     "timestamp": 1593576254741,
     "user": {
      "displayName": "divya madamanchi",
      "photoUrl": "https://lh3.googleusercontent.com/a-/AOh14Gi4Wo_2YqozUbUmfyxGgd3wnUsSshF9wyLCv9uZ1g=s64",
      "userId": "04922289493990785984"
     },
     "user_tz": -330
    },
    "id": "uggtSQl9knuz",
    "outputId": "d711104e-f67f-4390-d2b5-624a7ed75c46"
   },
   "outputs": [
    {
     "name": "stdout",
     "output_type": "stream",
     "text": [
      "Collecting transformers\n",
      "\u001b[?25l  Downloading https://files.pythonhosted.org/packages/9c/35/1c3f6e62d81f5f0daff1384e6d5e6c5758682a8357ebc765ece2b9def62b/transformers-3.0.0-py3-none-any.whl (754kB)\n",
      "\u001b[K     |████████████████████████████████| 757kB 2.8MB/s \n",
      "\u001b[?25hCollecting tokenizers==0.8.0-rc4\n",
      "\u001b[?25l  Downloading https://files.pythonhosted.org/packages/e8/bd/e5abec46af977c8a1375c1dca7cb1e5b3ec392ef279067af7f6bc50491a0/tokenizers-0.8.0rc4-cp36-cp36m-manylinux1_x86_64.whl (3.0MB)\n",
      "\u001b[K     |████████████████████████████████| 3.0MB 14.0MB/s \n",
      "\u001b[?25hRequirement already satisfied: numpy in /usr/local/lib/python3.6/dist-packages (from transformers) (1.18.5)\n",
      "Collecting sentencepiece\n",
      "\u001b[?25l  Downloading https://files.pythonhosted.org/packages/d4/a4/d0a884c4300004a78cca907a6ff9a5e9fe4f090f5d95ab341c53d28cbc58/sentencepiece-0.1.91-cp36-cp36m-manylinux1_x86_64.whl (1.1MB)\n",
      "\u001b[K     |████████████████████████████████| 1.1MB 31.3MB/s \n",
      "\u001b[?25hCollecting sacremoses\n",
      "\u001b[?25l  Downloading https://files.pythonhosted.org/packages/7d/34/09d19aff26edcc8eb2a01bed8e98f13a1537005d31e95233fd48216eed10/sacremoses-0.0.43.tar.gz (883kB)\n",
      "\u001b[K     |████████████████████████████████| 890kB 42.3MB/s \n",
      "\u001b[?25hRequirement already satisfied: tqdm>=4.27 in /usr/local/lib/python3.6/dist-packages (from transformers) (4.41.1)\n",
      "Requirement already satisfied: dataclasses; python_version < \"3.7\" in /usr/local/lib/python3.6/dist-packages (from transformers) (0.7)\n",
      "Requirement already satisfied: requests in /usr/local/lib/python3.6/dist-packages (from transformers) (2.23.0)\n",
      "Requirement already satisfied: packaging in /usr/local/lib/python3.6/dist-packages (from transformers) (20.4)\n",
      "Requirement already satisfied: regex!=2019.12.17 in /usr/local/lib/python3.6/dist-packages (from transformers) (2019.12.20)\n",
      "Requirement already satisfied: filelock in /usr/local/lib/python3.6/dist-packages (from transformers) (3.0.12)\n",
      "Requirement already satisfied: six in /usr/local/lib/python3.6/dist-packages (from sacremoses->transformers) (1.12.0)\n",
      "Requirement already satisfied: click in /usr/local/lib/python3.6/dist-packages (from sacremoses->transformers) (7.1.2)\n",
      "Requirement already satisfied: joblib in /usr/local/lib/python3.6/dist-packages (from sacremoses->transformers) (0.15.1)\n",
      "Requirement already satisfied: urllib3!=1.25.0,!=1.25.1,<1.26,>=1.21.1 in /usr/local/lib/python3.6/dist-packages (from requests->transformers) (1.24.3)\n",
      "Requirement already satisfied: certifi>=2017.4.17 in /usr/local/lib/python3.6/dist-packages (from requests->transformers) (2020.6.20)\n",
      "Requirement already satisfied: idna<3,>=2.5 in /usr/local/lib/python3.6/dist-packages (from requests->transformers) (2.9)\n",
      "Requirement already satisfied: chardet<4,>=3.0.2 in /usr/local/lib/python3.6/dist-packages (from requests->transformers) (3.0.4)\n",
      "Requirement already satisfied: pyparsing>=2.0.2 in /usr/local/lib/python3.6/dist-packages (from packaging->transformers) (2.4.7)\n",
      "Building wheels for collected packages: sacremoses\n",
      "  Building wheel for sacremoses (setup.py) ... \u001b[?25l\u001b[?25hdone\n",
      "  Created wheel for sacremoses: filename=sacremoses-0.0.43-cp36-none-any.whl size=893260 sha256=40c6a789e80eab1a6082675b391e2399f88c2f6f0a2dbb0b9ed7ba579df323e2\n",
      "  Stored in directory: /root/.cache/pip/wheels/29/3c/fd/7ce5c3f0666dab31a50123635e6fb5e19ceb42ce38d4e58f45\n",
      "Successfully built sacremoses\n",
      "Installing collected packages: tokenizers, sentencepiece, sacremoses, transformers\n",
      "Successfully installed sacremoses-0.0.43 sentencepiece-0.1.91 tokenizers-0.8.0rc4 transformers-3.0.0\n"
     ]
    }
   ],
   "source": [
    "!python -m pip install transformers"
   ]
  },
  {
   "cell_type": "markdown",
   "metadata": {
    "colab_type": "text",
    "id": "igbRH0FWp_l-"
   },
   "source": [
    "**Importing required libraries**"
   ]
  },
  {
   "cell_type": "code",
   "execution_count": 52,
   "metadata": {
    "colab": {},
    "colab_type": "code",
    "executionInfo": {
     "elapsed": 1173,
     "status": "ok",
     "timestamp": 1593578787197,
     "user": {
      "displayName": "divya madamanchi",
      "photoUrl": "https://lh3.googleusercontent.com/a-/AOh14Gi4Wo_2YqozUbUmfyxGgd3wnUsSshF9wyLCv9uZ1g=s64",
      "userId": "04922289493990785984"
     },
     "user_tz": -330
    },
    "id": "X4S4xQdDk2Y0"
   },
   "outputs": [],
   "source": [
    "import transformers\n",
    "import torch\n",
    "\n",
    "import os\n",
    "import copy\n",
    "import numpy as np\n",
    "import pandas as pd\n",
    "\n",
    "import seaborn as sns\n",
    "from pylab import rcParams\n",
    "import matplotlib.pyplot as plt\n",
    "from matplotlib import rc\n",
    "\n",
    "%matplotlib inline\n",
    "%config InlineBackend.figure_format='retina'\n",
    "sns.set(style='whitegrid', palette='muted', font_scale=1.2)\n",
    "HAPPY_COLORS_PALETTE = [\"#01BEFE\", \"#FFDD00\", \"#FF7D00\", \"#FF006D\", \"#ADFF02\", \"#8F00FF\"]\n",
    "sns.set_palette(sns.color_palette(HAPPY_COLORS_PALETTE))\n",
    "rcParams['figure.figsize'] = 8, 6\n",
    "\n",
    "from sklearn.model_selection import train_test_split\n",
    "from tqdm import tqdm\n",
    "\n",
    "from torch import nn, optim\n",
    "from torch.utils import data\n",
    "from torch.utils.data import Dataset, DataLoader\n",
    "from transformers import BertModel, BertTokenizer, AdamW, get_linear_schedule_with_warmup\n",
    "import torch.nn.functional as F\n",
    "\n",
    "RANDOM_SEED = 42\n",
    "np.random.seed(RANDOM_SEED)\n",
    "torch.manual_seed(RANDOM_SEED)\n",
    "device = torch.device(\"cuda:0\" if torch.cuda.is_available() else \"cpu\")"
   ]
  },
  {
   "cell_type": "markdown",
   "metadata": {
    "colab_type": "text",
    "id": "N1-pQT88p4q7"
   },
   "source": [
    "**Data Exploration**\n",
    "\n",
    "We'll load the Google Play app reviews dataset, that we've web scrapped and put together in the previous part:"
   ]
  },
  {
   "cell_type": "code",
   "execution_count": 4,
   "metadata": {
    "colab": {
     "base_uri": "https://localhost:8080/",
     "height": 159
    },
    "colab_type": "code",
    "executionInfo": {
     "elapsed": 23111,
     "status": "ok",
     "timestamp": 1593576268346,
     "user": {
      "displayName": "divya madamanchi",
      "photoUrl": "https://lh3.googleusercontent.com/a-/AOh14Gi4Wo_2YqozUbUmfyxGgd3wnUsSshF9wyLCv9uZ1g=s64",
      "userId": "04922289493990785984"
     },
     "user_tz": -330
    },
    "id": "tqvFsP4Ro2mz",
    "outputId": "3d96cd50-9e6c-4b28-8eba-eb7397131b2c"
   },
   "outputs": [
    {
     "name": "stdout",
     "output_type": "stream",
     "text": [
      "Downloading...\n",
      "From: https://drive.google.com/uc?id=1S6qMioqPJjyBLpLVz4gmRTnJHnjitnuV\n",
      "To: /content/apps.csv\n",
      "100% 134k/134k [00:00<00:00, 54.6MB/s]\n",
      "Downloading...\n",
      "From: https://drive.google.com/uc?id=1zdmewp7ayS4js4VtrJEHzAheSW-5NBZv\n",
      "To: /content/reviews.csv\n",
      "7.17MB [00:00, 27.1MB/s]\n"
     ]
    }
   ],
   "source": [
    "!gdown --id 1S6qMioqPJjyBLpLVz4gmRTnJHnjitnuV\n",
    "!gdown --id 1zdmewp7ayS4js4VtrJEHzAheSW-5NBZv"
   ]
  },
  {
   "cell_type": "code",
   "execution_count": 5,
   "metadata": {
    "colab": {
     "base_uri": "https://localhost:8080/",
     "height": 629
    },
    "colab_type": "code",
    "executionInfo": {
     "elapsed": 1408,
     "status": "ok",
     "timestamp": 1593576404538,
     "user": {
      "displayName": "divya madamanchi",
      "photoUrl": "https://lh3.googleusercontent.com/a-/AOh14Gi4Wo_2YqozUbUmfyxGgd3wnUsSshF9wyLCv9uZ1g=s64",
      "userId": "04922289493990785984"
     },
     "user_tz": -330
    },
    "id": "17iC1pN4qWTH",
    "outputId": "68bf918a-9061-47fd-cba6-39150a14b845"
   },
   "outputs": [
    {
     "data": {
      "text/html": [
       "<div>\n",
       "<style scoped>\n",
       "    .dataframe tbody tr th:only-of-type {\n",
       "        vertical-align: middle;\n",
       "    }\n",
       "\n",
       "    .dataframe tbody tr th {\n",
       "        vertical-align: top;\n",
       "    }\n",
       "\n",
       "    .dataframe thead th {\n",
       "        text-align: right;\n",
       "    }\n",
       "</style>\n",
       "<table border=\"1\" class=\"dataframe\">\n",
       "  <thead>\n",
       "    <tr style=\"text-align: right;\">\n",
       "      <th></th>\n",
       "      <th>userName</th>\n",
       "      <th>userImage</th>\n",
       "      <th>content</th>\n",
       "      <th>score</th>\n",
       "      <th>thumbsUpCount</th>\n",
       "      <th>reviewCreatedVersion</th>\n",
       "      <th>at</th>\n",
       "      <th>replyContent</th>\n",
       "      <th>repliedAt</th>\n",
       "      <th>sortOrder</th>\n",
       "      <th>appId</th>\n",
       "    </tr>\n",
       "  </thead>\n",
       "  <tbody>\n",
       "    <tr>\n",
       "      <th>0</th>\n",
       "      <td>Andrew Thomas</td>\n",
       "      <td>https://lh3.googleusercontent.com/a-/AOh14GiHd...</td>\n",
       "      <td>Update: After getting a response from the deve...</td>\n",
       "      <td>1</td>\n",
       "      <td>21</td>\n",
       "      <td>4.17.0.3</td>\n",
       "      <td>2020-04-05 22:25:57</td>\n",
       "      <td>According to our TOS, and the term you have ag...</td>\n",
       "      <td>2020-04-05 15:10:24</td>\n",
       "      <td>most_relevant</td>\n",
       "      <td>com.anydo</td>\n",
       "    </tr>\n",
       "    <tr>\n",
       "      <th>1</th>\n",
       "      <td>Craig Haines</td>\n",
       "      <td>https://lh3.googleusercontent.com/-hoe0kwSJgPQ...</td>\n",
       "      <td>Used it for a fair amount of time without any ...</td>\n",
       "      <td>1</td>\n",
       "      <td>11</td>\n",
       "      <td>4.17.0.3</td>\n",
       "      <td>2020-04-04 13:40:01</td>\n",
       "      <td>It sounds like you logged in with a different ...</td>\n",
       "      <td>2020-04-05 15:11:35</td>\n",
       "      <td>most_relevant</td>\n",
       "      <td>com.anydo</td>\n",
       "    </tr>\n",
       "    <tr>\n",
       "      <th>2</th>\n",
       "      <td>steven adkins</td>\n",
       "      <td>https://lh3.googleusercontent.com/a-/AOh14GiXw...</td>\n",
       "      <td>Your app sucks now!!!!! Used to be good but no...</td>\n",
       "      <td>1</td>\n",
       "      <td>17</td>\n",
       "      <td>4.17.0.3</td>\n",
       "      <td>2020-04-01 16:18:13</td>\n",
       "      <td>This sounds odd! We are not aware of any issue...</td>\n",
       "      <td>2020-04-02 16:05:56</td>\n",
       "      <td>most_relevant</td>\n",
       "      <td>com.anydo</td>\n",
       "    </tr>\n",
       "    <tr>\n",
       "      <th>3</th>\n",
       "      <td>Lars Panzerbjørn</td>\n",
       "      <td>https://lh3.googleusercontent.com/a-/AOh14Gg-h...</td>\n",
       "      <td>It seems OK, but very basic. Recurring tasks n...</td>\n",
       "      <td>1</td>\n",
       "      <td>192</td>\n",
       "      <td>4.17.0.2</td>\n",
       "      <td>2020-03-12 08:17:34</td>\n",
       "      <td>We do offer this option as part of the Advance...</td>\n",
       "      <td>2020-03-15 06:20:13</td>\n",
       "      <td>most_relevant</td>\n",
       "      <td>com.anydo</td>\n",
       "    </tr>\n",
       "    <tr>\n",
       "      <th>4</th>\n",
       "      <td>Scott Prewitt</td>\n",
       "      <td>https://lh3.googleusercontent.com/-K-X1-YsVd6U...</td>\n",
       "      <td>Absolutely worthless. This app runs a prohibit...</td>\n",
       "      <td>1</td>\n",
       "      <td>42</td>\n",
       "      <td>4.17.0.2</td>\n",
       "      <td>2020-03-14 17:41:01</td>\n",
       "      <td>We're sorry you feel this way! 90% of the app ...</td>\n",
       "      <td>2020-03-15 23:45:51</td>\n",
       "      <td>most_relevant</td>\n",
       "      <td>com.anydo</td>\n",
       "    </tr>\n",
       "  </tbody>\n",
       "</table>\n",
       "</div>"
      ],
      "text/plain": [
       "           userName  ...      appId\n",
       "0     Andrew Thomas  ...  com.anydo\n",
       "1      Craig Haines  ...  com.anydo\n",
       "2     steven adkins  ...  com.anydo\n",
       "3  Lars Panzerbjørn  ...  com.anydo\n",
       "4     Scott Prewitt  ...  com.anydo\n",
       "\n",
       "[5 rows x 11 columns]"
      ]
     },
     "execution_count": 5,
     "metadata": {
      "tags": []
     },
     "output_type": "execute_result"
    }
   ],
   "source": [
    "df = pd.read_csv(\"reviews.csv\")\n",
    "df.head()"
   ]
  },
  {
   "cell_type": "code",
   "execution_count": 6,
   "metadata": {
    "colab": {
     "base_uri": "https://localhost:8080/",
     "height": 35
    },
    "colab_type": "code",
    "executionInfo": {
     "elapsed": 762,
     "status": "ok",
     "timestamp": 1593576405049,
     "user": {
      "displayName": "divya madamanchi",
      "photoUrl": "https://lh3.googleusercontent.com/a-/AOh14Gi4Wo_2YqozUbUmfyxGgd3wnUsSshF9wyLCv9uZ1g=s64",
      "userId": "04922289493990785984"
     },
     "user_tz": -330
    },
    "id": "i-yevg2Hqao7",
    "outputId": "f85b6b06-a2b8-4d7d-c737-856562c76bdf"
   },
   "outputs": [
    {
     "data": {
      "text/plain": [
       "(15746, 11)"
      ]
     },
     "execution_count": 6,
     "metadata": {
      "tags": []
     },
     "output_type": "execute_result"
    }
   ],
   "source": [
    "df.shape"
   ]
  },
  {
   "cell_type": "code",
   "execution_count": 7,
   "metadata": {
    "colab": {
     "base_uri": "https://localhost:8080/",
     "height": 337
    },
    "colab_type": "code",
    "executionInfo": {
     "elapsed": 1144,
     "status": "ok",
     "timestamp": 1593576406698,
     "user": {
      "displayName": "divya madamanchi",
      "photoUrl": "https://lh3.googleusercontent.com/a-/AOh14Gi4Wo_2YqozUbUmfyxGgd3wnUsSshF9wyLCv9uZ1g=s64",
      "userId": "04922289493990785984"
     },
     "user_tz": -330
    },
    "id": "Wz87oWvWqz65",
    "outputId": "613a67df-1f9d-40c6-e62b-ddcfc4c0e2b6"
   },
   "outputs": [
    {
     "name": "stdout",
     "output_type": "stream",
     "text": [
      "<class 'pandas.core.frame.DataFrame'>\n",
      "RangeIndex: 15746 entries, 0 to 15745\n",
      "Data columns (total 11 columns):\n",
      " #   Column                Non-Null Count  Dtype \n",
      "---  ------                --------------  ----- \n",
      " 0   userName              15746 non-null  object\n",
      " 1   userImage             15746 non-null  object\n",
      " 2   content               15746 non-null  object\n",
      " 3   score                 15746 non-null  int64 \n",
      " 4   thumbsUpCount         15746 non-null  int64 \n",
      " 5   reviewCreatedVersion  13533 non-null  object\n",
      " 6   at                    15746 non-null  object\n",
      " 7   replyContent          7367 non-null   object\n",
      " 8   repliedAt             7367 non-null   object\n",
      " 9   sortOrder             15746 non-null  object\n",
      " 10  appId                 15746 non-null  object\n",
      "dtypes: int64(2), object(9)\n",
      "memory usage: 1.3+ MB\n"
     ]
    }
   ],
   "source": [
    "df.info()"
   ]
  },
  {
   "cell_type": "markdown",
   "metadata": {
    "colab_type": "text",
    "id": "eQ6-puraq6ER"
   },
   "source": [
    "Great, no missing values in the score and review texts! \n",
    "Do we have class imbalance?"
   ]
  },
  {
   "cell_type": "code",
   "execution_count": 8,
   "metadata": {
    "colab": {
     "base_uri": "https://localhost:8080/",
     "height": 415
    },
    "colab_type": "code",
    "executionInfo": {
     "elapsed": 1637,
     "status": "ok",
     "timestamp": 1593576408840,
     "user": {
      "displayName": "divya madamanchi",
      "photoUrl": "https://lh3.googleusercontent.com/a-/AOh14Gi4Wo_2YqozUbUmfyxGgd3wnUsSshF9wyLCv9uZ1g=s64",
      "userId": "04922289493990785984"
     },
     "user_tz": -330
    },
    "id": "U5UpzM6qq2GS",
    "outputId": "c2637973-22cc-41f5-9a42-fdac2d43925f"
   },
   "outputs": [
    {
     "data": {
      "text/plain": [
       "Text(0.5, 0, 'review score')"
      ]
     },
     "execution_count": 8,
     "metadata": {
      "tags": []
     },
     "output_type": "execute_result"
    },
    {
     "data": {
      "image/png": "[encoded data removed]",
      "text/plain": [
       "<Figure size 576x432 with 1 Axes>"
      ]
     },
     "metadata": {
      "image/png": {
       "height": 381,
       "width": 521
      },
      "tags": []
     },
     "output_type": "display_data"
    }
   ],
   "source": [
    "sns.countplot(df.score)\n",
    "plt.xlabel('review score')"
   ]
  },
  {
   "cell_type": "markdown",
   "metadata": {
    "colab_type": "text",
    "id": "SazZxlZDrVqv"
   },
   "source": [
    "That's hugely imbalanced, but it's okay. We're going to convert the dataset into negative, neutral and positive sentiment:"
   ]
  },
  {
   "cell_type": "code",
   "execution_count": 9,
   "metadata": {
    "colab": {},
    "colab_type": "code",
    "executionInfo": {
     "elapsed": 844,
     "status": "ok",
     "timestamp": 1593576409620,
     "user": {
      "displayName": "divya madamanchi",
      "photoUrl": "https://lh3.googleusercontent.com/a-/AOh14Gi4Wo_2YqozUbUmfyxGgd3wnUsSshF9wyLCv9uZ1g=s64",
      "userId": "04922289493990785984"
     },
     "user_tz": -330
    },
    "id": "d3zxxdMRrA4C"
   },
   "outputs": [],
   "source": [
    "def to_sentiment(score):\n",
    "  if score <= 2:\n",
    "    return 0\n",
    "  elif score ==3:\n",
    "    return 1\n",
    "  else:\n",
    "    return 2\n",
    "\n",
    "df['sentiment'] = df.score.apply(to_sentiment)"
   ]
  },
  {
   "cell_type": "code",
   "execution_count": 10,
   "metadata": {
    "colab": {
     "base_uri": "https://localhost:8080/",
     "height": 415
    },
    "colab_type": "code",
    "executionInfo": {
     "elapsed": 2170,
     "status": "ok",
     "timestamp": 1593576411747,
     "user": {
      "displayName": "divya madamanchi",
      "photoUrl": "https://lh3.googleusercontent.com/a-/AOh14Gi4Wo_2YqozUbUmfyxGgd3wnUsSshF9wyLCv9uZ1g=s64",
      "userId": "04922289493990785984"
     },
     "user_tz": -330
    },
    "id": "ZN9P3C-Ir7uj",
    "outputId": "f8087b2f-c15d-4919-8ce5-7d713b653382"
   },
   "outputs": [
    {
     "data": {
      "text/plain": [
       "[Text(0, 0, 'negative'), Text(0, 0, 'neutral'), Text(0, 0, 'positive')]"
      ]
     },
     "execution_count": 10,
     "metadata": {
      "tags": []
     },
     "output_type": "execute_result"
    },
    {
     "data": {
      "image/png": "[encoded data removed]",
      "text/plain": [
       "<Figure size 576x432 with 1 Axes>"
      ]
     },
     "metadata": {
      "image/png": {
       "height": 381,
       "width": 521
      },
      "tags": []
     },
     "output_type": "display_data"
    }
   ],
   "source": [
    "class_names = ['negative', 'neutral', 'positive']\n",
    "ax=sns.countplot(df.sentiment)\n",
    "plt.xlabel('review sentiment')\n",
    "ax.set_xticklabels(class_names)"
   ]
  },
  {
   "cell_type": "markdown",
   "metadata": {
    "colab_type": "text",
    "id": "cVAJcg6LsvBn"
   },
   "source": [
    "It is mostly balanced!"
   ]
  },
  {
   "cell_type": "markdown",
   "metadata": {
    "colab_type": "text",
    "id": "4YU-SSihs5OX"
   },
   "source": [
    "**Data Preprocessing**\n",
    "\n",
    "You might already know that Machine Learning models don't work with raw text. You need to convert text to numbers (of some sort). BERT requires even more attention (good one, right?). Here are the requirements:\n",
    "\n",
    "*   Add special tokens to separate sentences and do classification\n",
    "*   Pass sequences of constant length (introduce padding)\n",
    "*   Create array of 0s (pad token) and 1s (real token) called attention mask\n",
    "\n",
    "The Transformers library provides (you've guessed it) a wide variety of Transformer models (including BERT). It works with TensorFlow and PyTorch! It also includes prebuild tokenizers that do the heavy lifting for us!"
   ]
  },
  {
   "cell_type": "markdown",
   "metadata": {
    "colab_type": "text",
    "id": "bB7pivBWFHY0"
   },
   "source": [
    "**Tokenizing**\n",
    "\n",
    "Using the tokenizer provided by hugging face library which is pretrained using bert-base-uncased model.\n",
    "\n",
    "Let us see how tokenizer works for few examples.\n",
    "\n",
    "For each of the tokens their corresponding ids are sent as input to BERT."
   ]
  },
  {
   "cell_type": "code",
   "execution_count": 11,
   "metadata": {
    "colab": {
     "base_uri": "https://localhost:8080/",
     "height": 67,
     "referenced_widgets": [
      "e369b3c65678476ea30320a7b56c9d66",
      "cfac2254b469455fa4b702a2e2850f9b",
      "927a97f326324026b4214738ee0e137e",
      "fe0de083114446c5998351c51beb0199",
      "06cd79ef5c1a49e6bd559bccc34b8c13",
      "21bd6b3626754a5e89d92cdc00534a67",
      "6c3c31cf5b3f43d098cd0189b9ea33d2",
      "5d16faa78a2d4dcbaeac82b618e4a187"
     ]
    },
    "colab_type": "code",
    "executionInfo": {
     "elapsed": 3571,
     "status": "ok",
     "timestamp": 1593576417091,
     "user": {
      "displayName": "divya madamanchi",
      "photoUrl": "https://lh3.googleusercontent.com/a-/AOh14Gi4Wo_2YqozUbUmfyxGgd3wnUsSshF9wyLCv9uZ1g=s64",
      "userId": "04922289493990785984"
     },
     "user_tz": -330
    },
    "id": "5nqA_TTstW8f",
    "outputId": "89a791b1-4034-4376-8183-bb8fa664c40b"
   },
   "outputs": [
    {
     "data": {
      "application/vnd.jupyter.widget-view+json": {
       "model_id": "e369b3c65678476ea30320a7b56c9d66",
       "version_major": 2,
       "version_minor": 0
      },
      "text/plain": [
       "HBox(children=(FloatProgress(value=0.0, description='Downloading', max=213450.0, style=ProgressStyle(descripti…"
      ]
     },
     "metadata": {
      "tags": []
     },
     "output_type": "display_data"
    },
    {
     "name": "stdout",
     "output_type": "stream",
     "text": [
      "\n"
     ]
    }
   ],
   "source": [
    "tokenizer = transformers.BertTokenizer.from_pretrained('bert-base-cased')"
   ]
  },
  {
   "cell_type": "code",
   "execution_count": 12,
   "metadata": {
    "colab": {
     "base_uri": "https://localhost:8080/",
     "height": 106
    },
    "colab_type": "code",
    "executionInfo": {
     "elapsed": 2561,
     "status": "ok",
     "timestamp": 1593576417098,
     "user": {
      "displayName": "divya madamanchi",
      "photoUrl": "https://lh3.googleusercontent.com/a-/AOh14Gi4Wo_2YqozUbUmfyxGgd3wnUsSshF9wyLCv9uZ1g=s64",
      "userId": "04922289493990785984"
     },
     "user_tz": -330
    },
    "id": "6V-21NVHFAnA",
    "outputId": "cf63ae2f-6875-4628-b786-d36aa6a99d52"
   },
   "outputs": [
    {
     "name": "stdout",
     "output_type": "stream",
     "text": [
      " Sentence: When was I last outside? I am stuck at home for 2 weeks.\n",
      " tokens: ['When', 'was', 'I', 'last', 'outside', '?', 'I', 'am', 'stuck', 'at', 'home', 'for', '2', 'weeks', '.']\n",
      " token_ids: [1332, 1108, 146, 1314, 1796, 136, 146, 1821, 5342, 1120, 1313, 1111, 123, 2277, 119]\n",
      " length of tokens: 15\n",
      " length of token_ids: 15\n"
     ]
    }
   ],
   "source": [
    "sample_txt= \"When was I last outside? I am stuck at home for 2 weeks.\"\n",
    "tokens = tokenizer.tokenize(sample_txt)\n",
    "token_ids = tokenizer.convert_tokens_to_ids(tokens)\n",
    "print(f' Sentence: {sample_txt}')\n",
    "print(f' tokens: {tokens}')\n",
    "print(f' token_ids: {token_ids}')\n",
    "print(f' length of tokens: {len(tokens)}')\n",
    "print(f' length of token_ids: {len(token_ids)}')"
   ]
  },
  {
   "cell_type": "markdown",
   "metadata": {
    "colab_type": "text",
    "id": "ps8LarOIGgDT"
   },
   "source": [
    "**Special Tokens**"
   ]
  },
  {
   "cell_type": "code",
   "execution_count": 13,
   "metadata": {
    "colab": {
     "base_uri": "https://localhost:8080/",
     "height": 35
    },
    "colab_type": "code",
    "executionInfo": {
     "elapsed": 791,
     "status": "ok",
     "timestamp": 1593576417593,
     "user": {
      "displayName": "divya madamanchi",
      "photoUrl": "https://lh3.googleusercontent.com/a-/AOh14Gi4Wo_2YqozUbUmfyxGgd3wnUsSshF9wyLCv9uZ1g=s64",
      "userId": "04922289493990785984"
     },
     "user_tz": -330
    },
    "id": "v6Z20spzHAZ2",
    "outputId": "e83e7b55-8735-40a7-eb59-ef63a745205a"
   },
   "outputs": [
    {
     "data": {
      "text/plain": [
       "('[CLS]', 101)"
      ]
     },
     "execution_count": 13,
     "metadata": {
      "tags": []
     },
     "output_type": "execute_result"
    }
   ],
   "source": [
    "tokenizer.cls_token,tokenizer.cls_token_id"
   ]
  },
  {
   "cell_type": "code",
   "execution_count": 14,
   "metadata": {
    "colab": {
     "base_uri": "https://localhost:8080/",
     "height": 35
    },
    "colab_type": "code",
    "executionInfo": {
     "elapsed": 1199,
     "status": "ok",
     "timestamp": 1593576419220,
     "user": {
      "displayName": "divya madamanchi",
      "photoUrl": "https://lh3.googleusercontent.com/a-/AOh14Gi4Wo_2YqozUbUmfyxGgd3wnUsSshF9wyLCv9uZ1g=s64",
      "userId": "04922289493990785984"
     },
     "user_tz": -330
    },
    "id": "KW6zTyubF7dg",
    "outputId": "f1b031d9-81fc-45c2-af74-d990f24d312d"
   },
   "outputs": [
    {
     "data": {
      "text/plain": [
       "('[SEP]', 102)"
      ]
     },
     "execution_count": 14,
     "metadata": {
      "tags": []
     },
     "output_type": "execute_result"
    }
   ],
   "source": [
    "tokenizer.sep_token,tokenizer.sep_token_id"
   ]
  },
  {
   "cell_type": "code",
   "execution_count": 15,
   "metadata": {
    "colab": {
     "base_uri": "https://localhost:8080/",
     "height": 35
    },
    "colab_type": "code",
    "executionInfo": {
     "elapsed": 1272,
     "status": "ok",
     "timestamp": 1593576421517,
     "user": {
      "displayName": "divya madamanchi",
      "photoUrl": "https://lh3.googleusercontent.com/a-/AOh14Gi4Wo_2YqozUbUmfyxGgd3wnUsSshF9wyLCv9uZ1g=s64",
      "userId": "04922289493990785984"
     },
     "user_tz": -330
    },
    "id": "uBAlpb2_HFZ8",
    "outputId": "5b799a13-f5f9-4abb-b70d-a75eeefb2af1"
   },
   "outputs": [
    {
     "data": {
      "text/plain": [
       "('[PAD]', 0)"
      ]
     },
     "execution_count": 15,
     "metadata": {
      "tags": []
     },
     "output_type": "execute_result"
    }
   ],
   "source": [
    "# says whether a token is a padding token or not\n",
    "tokenizer.pad_token,tokenizer.pad_token_id"
   ]
  },
  {
   "cell_type": "code",
   "execution_count": 16,
   "metadata": {
    "colab": {
     "base_uri": "https://localhost:8080/",
     "height": 35
    },
    "colab_type": "code",
    "executionInfo": {
     "elapsed": 1201,
     "status": "ok",
     "timestamp": 1593576423813,
     "user": {
      "displayName": "divya madamanchi",
      "photoUrl": "https://lh3.googleusercontent.com/a-/AOh14Gi4Wo_2YqozUbUmfyxGgd3wnUsSshF9wyLCv9uZ1g=s64",
      "userId": "04922289493990785984"
     },
     "user_tz": -330
    },
    "id": "emMRVV8sHbVh",
    "outputId": "072d583a-bbb2-4701-9dc5-67acdfbb2761"
   },
   "outputs": [
    {
     "data": {
      "text/plain": [
       "('[UNK]', 100)"
      ]
     },
     "execution_count": 16,
     "metadata": {
      "tags": []
     },
     "output_type": "execute_result"
    }
   ],
   "source": [
    "# says whether a token is an unknown toekn that is not recorgnized by a tokenizer or not\n",
    "tokenizer.unk_token,tokenizer.unk_token_id"
   ]
  },
  {
   "cell_type": "markdown",
   "metadata": {
    "colab_type": "text",
    "id": "wbGbzGztIQAY"
   },
   "source": [
    "**Creating an encode method (using encode_plus) which defines all the required steps for tokenization and data preprocessing the text.**\n",
    "\n",
    "**tokenizer.encode vs tokenizer.encode_plus**\n",
    "\n",
    "The main difference is stemming from the additional information that encode_plus is providing. \n",
    "\n",
    "encode():\n",
    "\n",
    "Converts a string in a sequence of ids (integer), using the tokenizer and vocabulary. Same as doing self.convert_tokens_to_ids(self.tokenize(text)).\n",
    "\n",
    "encode_plus():\n",
    "\n",
    "Returns a dictionary containing the encoded sequence or sequence pair and additional information: the mask for sequence classification and the overflowing elements if a max_length is specified."
   ]
  },
  {
   "cell_type": "markdown",
   "metadata": {
    "colab_type": "text",
    "id": "8dsOm-PsPeIL"
   },
   "source": [
    "**encode_plus** (**text**: Union[str, List[str], List[int]], **text_pair**: Optional[Union[str, List[str], List[int]]] = None, **add_special_tokens**: bool = True, **max_length**: Optional[int] = None, stride: int = 0, truncation_strategy: str = 'longest_first', **pad_to_max_length**: bool = False, is_pretokenized: bool = False, **return_tensors**: Optional[str] = None, **return_token_type_ids**: Optional[bool] = None, **return_attention_mask**: Optional[bool] = None, **return_overflowing_tokens**: bool = False, return_special_tokens_mask: bool = False, return_offsets_mapping: bool = False, **kwargs) → transformers.tokenization_utils.BatchEncoding\n",
    "\n",
    "**Returns a dictionary containing the encoded sequence or sequence pair and additional information: the mask for sequence classification and the overflowing elements if a max_length is specified.**\n",
    "\n",
    "**Parameters:**\n",
    "\n",
    "\n",
    "*   text (str, List[str] or List[int] (the later only for not-fast tokenizers)) – The first sequence to be encoded. This can be a string, a list of strings (tokenized string using the tokenize method) or a list of integers (tokenized string ids using the convert_tokens_to_ids method)\n",
    "\n",
    "*   text_pair (str, List[str] or List[int], optional, defaults to None) – Optional second sequence to be encoded. This can be a string, a list of strings (tokenized string using the tokenize method) or a list of integers (tokenized string ids using the convert_tokens_to_ids method)\n",
    "\n",
    "*   add_special_tokens (bool, optional, defaults to True) – If set to True, the sequences will be encoded with the special tokens relative to their model.\n",
    "\n",
    "*   max_length (int, optional, defaults to None) – If set to a number, will limit the total sequence returned so that it has a maximum length. If there are overflowing tokens, those will be added to the returned dictionary You can set it to the maximal input size of the model with max_length = tokenizer.model_max_length.\n",
    "\n",
    "*   stride (int, optional, defaults to 0) – If set to a number along with max_length, the overflowing tokens returned will contain some tokens from the main sequence returned. The value of this argument defines the number of additional tokens.\n",
    "\n",
    "*   truncation_strategy (str, optional, defaults to longest_first) –\n",
    "String selected in the following options:\n",
    "\n",
    "  1.   ’longest_first’ (default) Iteratively reduce the inputs sequence until the input is under max_length starting from the longest one at each token (when there is a pair of input sequences)\n",
    "  2.   ’only_first’: Only truncate the first sequence\n",
    "  3.   ’only_second’: Only truncate the second sequence\n",
    "  4.   ’do_not_truncate’: Does not truncate (raise an error if the input sequence is longer than max_length)\n",
    "\n",
    "*   pad_to_max_length (bool, optional, defaults to False) –\n",
    "If set to True, the returned sequences will be padded according to the model’s padding side and padding index, up to their max length. If no max length is specified, the padding is done up to the model’s max length. The tokenizer padding sides are handled by the class attribute padding_side which can be set to the following strings:\n",
    "\n",
    "  1.   ’left’: pads on the left of the sequences\n",
    "  2.   ’right’: pads on the right of the sequences\n",
    "  3.   Defaults to False: no padding.\n",
    "\n",
    "*   is_pretokenized (bool, defaults to False) – Set to True to indicate the input is already tokenized\n",
    "\n",
    "*   return_tensors (str, optional, defaults to None) – Can be set to ‘tf’ or ‘pt’ to return respectively TensorFlow tf.constant or PyTorch torch.Tensor instead of a list of python integers.\n",
    "\n",
    "*   return_token_type_ids (bool, optional, defaults to None) –\n",
    "\n",
    "Whether to return token type IDs. If left to the default, will return the token type IDs according to the specific tokenizer’s default, defined by the return_outputs attribute.\n",
    "\n",
    "[What are token type IDs?](https://huggingface.co/transformers/glossary.html#token-type-ids)\n",
    "\n",
    "*   return_attention_mask (bool, optional, defaults to none) –\n",
    "\n",
    "Whether to return the attention mask. If left to the default, will return the attention mask according to the specific tokenizer’s default, defined by the return_outputs attribute.\n",
    "\n",
    "[What are attention masks?](https://huggingface.co/transformers/glossary.html#attention-mask)\n",
    "\n",
    "*   return_overflowing_tokens (bool, optional, defaults to False) – Set to True *   to return overflowing token information (default False).\n",
    "\n",
    "*   return_special_tokens_mask (bool, optional, defaults to False) – Set to True to return special tokens mask information (default False).\n",
    "\n",
    "*   return_offsets_mapping (bool, optional, defaults to False) – Set to True to return (char_start, char_end) for each token (default False). If using Python’s tokenizer, this method will raise NotImplementedError. This one is only available on fast tokenizers inheriting from PreTrainedTokenizerFast.\n",
    "\n",
    "**kwargs – passed to the self.tokenize() method"
   ]
  },
  {
   "cell_type": "code",
   "execution_count": 18,
   "metadata": {
    "colab": {},
    "colab_type": "code",
    "executionInfo": {
     "elapsed": 1399,
     "status": "ok",
     "timestamp": 1593576450754,
     "user": {
      "displayName": "divya madamanchi",
      "photoUrl": "https://lh3.googleusercontent.com/a-/AOh14Gi4Wo_2YqozUbUmfyxGgd3wnUsSshF9wyLCv9uZ1g=s64",
      "userId": "04922289493990785984"
     },
     "user_tz": -330
    },
    "id": "h6pZksE3IF5-"
   },
   "outputs": [],
   "source": [
    "encoding=tokenizer.encode_plus(\n",
    "                               sample_txt,\n",
    "                               max_length=32,\n",
    "                               add_special_tokens=True,\n",
    "                               pad_to_max_length=True,\n",
    "                               return_attention_mask=True,\n",
    "                               return_token_type_ids=False,\n",
    "                               return_tensors='pt',\n",
    "                               truncation=True\n",
    "                               )"
   ]
  },
  {
   "cell_type": "code",
   "execution_count": 19,
   "metadata": {
    "colab": {
     "base_uri": "https://localhost:8080/",
     "height": 35
    },
    "colab_type": "code",
    "executionInfo": {
     "elapsed": 1218,
     "status": "ok",
     "timestamp": 1593576452754,
     "user": {
      "displayName": "divya madamanchi",
      "photoUrl": "https://lh3.googleusercontent.com/a-/AOh14Gi4Wo_2YqozUbUmfyxGgd3wnUsSshF9wyLCv9uZ1g=s64",
      "userId": "04922289493990785984"
     },
     "user_tz": -330
    },
    "id": "Enf0J3EPVZM7",
    "outputId": "ff04bcec-57a1-4027-e7d3-30e9e830ffc6"
   },
   "outputs": [
    {
     "data": {
      "text/plain": [
       "dict_keys(['input_ids', 'attention_mask'])"
      ]
     },
     "execution_count": 19,
     "metadata": {
      "tags": []
     },
     "output_type": "execute_result"
    }
   ],
   "source": [
    "encoding.keys()"
   ]
  },
  {
   "cell_type": "code",
   "execution_count": 20,
   "metadata": {
    "colab": {
     "base_uri": "https://localhost:8080/",
     "height": 70
    },
    "colab_type": "code",
    "executionInfo": {
     "elapsed": 716,
     "status": "ok",
     "timestamp": 1593576454132,
     "user": {
      "displayName": "divya madamanchi",
      "photoUrl": "https://lh3.googleusercontent.com/a-/AOh14Gi4Wo_2YqozUbUmfyxGgd3wnUsSshF9wyLCv9uZ1g=s64",
      "userId": "04922289493990785984"
     },
     "user_tz": -330
    },
    "id": "nNDI7HqpVd7L",
    "outputId": "2db05332-eb48-4381-8da4-150b1114a567"
   },
   "outputs": [
    {
     "data": {
      "text/plain": [
       "tensor([[ 101, 1332, 1108,  146, 1314, 1796,  136,  146, 1821, 5342, 1120, 1313,\n",
       "         1111,  123, 2277,  119,  102,    0,    0,    0,    0,    0,    0,    0,\n",
       "            0,    0,    0,    0,    0,    0,    0,    0]])"
      ]
     },
     "execution_count": 20,
     "metadata": {
      "tags": []
     },
     "output_type": "execute_result"
    }
   ],
   "source": [
    "encoding['input_ids']"
   ]
  },
  {
   "cell_type": "markdown",
   "metadata": {
    "colab_type": "text",
    "id": "5bLjreXoW9Fp"
   },
   "source": [
    "Notice that encode_plus also inserted token_ids of special tokens which are needed along with the sequence to be sent as input to BERT."
   ]
  },
  {
   "cell_type": "code",
   "execution_count": 21,
   "metadata": {
    "colab": {
     "base_uri": "https://localhost:8080/",
     "height": 52
    },
    "colab_type": "code",
    "executionInfo": {
     "elapsed": 1136,
     "status": "ok",
     "timestamp": 1593576457199,
     "user": {
      "displayName": "divya madamanchi",
      "photoUrl": "https://lh3.googleusercontent.com/a-/AOh14Gi4Wo_2YqozUbUmfyxGgd3wnUsSshF9wyLCv9uZ1g=s64",
      "userId": "04922289493990785984"
     },
     "user_tz": -330
    },
    "id": "0fS7jF6CVgFw",
    "outputId": "477f7b2d-d840-43d0-84eb-b779ec390407"
   },
   "outputs": [
    {
     "data": {
      "text/plain": [
       "tensor([[1, 1, 1, 1, 1, 1, 1, 1, 1, 1, 1, 1, 1, 1, 1, 1, 1, 0, 0, 0, 0, 0, 0, 0,\n",
       "         0, 0, 0, 0, 0, 0, 0, 0]])"
      ]
     },
     "execution_count": 21,
     "metadata": {
      "tags": []
     },
     "output_type": "execute_result"
    }
   ],
   "source": [
    "encoding['attention_mask']"
   ]
  },
  {
   "cell_type": "code",
   "execution_count": 22,
   "metadata": {
    "colab": {
     "base_uri": "https://localhost:8080/",
     "height": 52
    },
    "colab_type": "code",
    "executionInfo": {
     "elapsed": 1096,
     "status": "ok",
     "timestamp": 1593576458562,
     "user": {
      "displayName": "divya madamanchi",
      "photoUrl": "https://lh3.googleusercontent.com/a-/AOh14Gi4Wo_2YqozUbUmfyxGgd3wnUsSshF9wyLCv9uZ1g=s64",
      "userId": "04922289493990785984"
     },
     "user_tz": -330
    },
    "id": "vrJ2QUeCVh93",
    "outputId": "8e760c4a-f092-4220-a77c-0955518b69ff"
   },
   "outputs": [
    {
     "name": "stdout",
     "output_type": "stream",
     "text": [
      "32\n",
      "32\n"
     ]
    }
   ],
   "source": [
    "print(len(encoding['input_ids'][0]));print(len(encoding['attention_mask'][0]))"
   ]
  },
  {
   "cell_type": "markdown",
   "metadata": {
    "colab_type": "text",
    "id": "5LEwll8XXSBJ"
   },
   "source": [
    "**Choosing sequence length**\n",
    "\n",
    "One simple way to choose the max_len for the sequences that we are going to encode is by looking at the distribution of length of the sequences and choose the threshold."
   ]
  },
  {
   "cell_type": "code",
   "execution_count": 23,
   "metadata": {
    "colab": {},
    "colab_type": "code",
    "executionInfo": {
     "elapsed": 8973,
     "status": "ok",
     "timestamp": 1593576468851,
     "user": {
      "displayName": "divya madamanchi",
      "photoUrl": "https://lh3.googleusercontent.com/a-/AOh14Gi4Wo_2YqozUbUmfyxGgd3wnUsSshF9wyLCv9uZ1g=s64",
      "userId": "04922289493990785984"
     },
     "user_tz": -330
    },
    "id": "Itbw1xhIVnkC"
   },
   "outputs": [],
   "source": [
    "token_lens=[]\n",
    "for text in df.content:\n",
    "  tokens = tokenizer.encode(text,max_length=512,truncation=True)\n",
    "  token_lens.append(len(tokens))"
   ]
  },
  {
   "cell_type": "code",
   "execution_count": 24,
   "metadata": {
    "colab": {
     "base_uri": "https://localhost:8080/",
     "height": 398
    },
    "colab_type": "code",
    "executionInfo": {
     "elapsed": 6448,
     "status": "ok",
     "timestamp": 1593576469759,
     "user": {
      "displayName": "divya madamanchi",
      "photoUrl": "https://lh3.googleusercontent.com/a-/AOh14Gi4Wo_2YqozUbUmfyxGgd3wnUsSshF9wyLCv9uZ1g=s64",
      "userId": "04922289493990785984"
     },
     "user_tz": -330
    },
    "id": "Yeaz9u9UYsxq",
    "outputId": "df06a25f-7d67-4cb5-9f12-29d4e8c5527a"
   },
   "outputs": [
    {
     "data": {
      "text/plain": [
       "<matplotlib.axes._subplots.AxesSubplot at 0x7fc8a0d98eb8>"
      ]
     },
     "execution_count": 24,
     "metadata": {
      "tags": []
     },
     "output_type": "execute_result"
    },
    {
     "data": {
      "image/png": "[encoded data removed]",
      "text/plain": [
       "<Figure size 576x432 with 1 Axes>"
      ]
     },
     "metadata": {
      "image/png": {
       "height": 363,
       "width": 516
      },
      "tags": []
     },
     "output_type": "display_data"
    }
   ],
   "source": [
    "sns.distplot(token_lens)"
   ]
  },
  {
   "cell_type": "markdown",
   "metadata": {
    "colab_type": "text",
    "id": "sgAD5KtlY4O4"
   },
   "source": [
    "Based on the distribution somewhere around 128 can be a good sequence length. \n",
    "The larger the sequence length the more time it takes for training. \n",
    "\n",
    "So, at the beginning its suggested to go on the aggressive side and give relatively shorter max_length which might clip some of the tokens. \n",
    "\n",
    "A prototype model can be trained faster by experimenting this way. Later we can go back and increase the sequence length to tune the model."
   ]
  },
  {
   "cell_type": "markdown",
   "metadata": {
    "colab_type": "text",
    "id": "H7GJMqy3kf0_"
   },
   "source": [
    "Create a method that takes input sequences and uses a built-in tokenizer which tokenzies and builds a dataset which is in the format supported by pytorch."
   ]
  },
  {
   "cell_type": "code",
   "execution_count": 25,
   "metadata": {
    "colab": {},
    "colab_type": "code",
    "executionInfo": {
     "elapsed": 1308,
     "status": "ok",
     "timestamp": 1593576473303,
     "user": {
      "displayName": "divya madamanchi",
      "photoUrl": "https://lh3.googleusercontent.com/a-/AOh14Gi4Wo_2YqozUbUmfyxGgd3wnUsSshF9wyLCv9uZ1g=s64",
      "userId": "04922289493990785984"
     },
     "user_tz": -330
    },
    "id": "s4NP1o3wYymP"
   },
   "outputs": [],
   "source": [
    "class GPReviewDataset(data.Dataset):\n",
    "# constructor\n",
    "  def __init__(self, review, target, tokenizer, max_len):\n",
    "    self.review = review\n",
    "    self.target = target\n",
    "    self.tokenizer = tokenizer\n",
    "    self.max_len = max_len\n",
    "\n",
    "# To get the number of reviews\n",
    "  def __len__(self):\n",
    "    return (len(self.review))\n",
    "\n",
    "# To get the review of an item\n",
    "  def __getitem__(self, item):\n",
    "    review = str(self.review[item])\n",
    "    target = self.target[item]\n",
    "\n",
    "    encoding=tokenizer.encode_plus(\n",
    "                                   review,\n",
    "                                   max_length=self.max_len,\n",
    "                                   add_special_tokens=True,\n",
    "                                   pad_to_max_length=True,\n",
    "                                   return_attention_mask=True,\n",
    "                                   return_token_type_ids=False,\n",
    "                                   return_tensors='pt',\n",
    "                                   truncation=True\n",
    "                                   )\n",
    "    \n",
    "    return {\n",
    "        'review_text': review,\n",
    "        'input_ids': encoding['input_ids'].flatten(),\n",
    "        'attention_mask': encoding['attention_mask'].flatten(),\n",
    "        'targets' : torch.tensor(target,dtype=torch.long)\n",
    "    }"
   ]
  },
  {
   "cell_type": "code",
   "execution_count": 26,
   "metadata": {
    "colab": {},
    "colab_type": "code",
    "executionInfo": {
     "elapsed": 733,
     "status": "ok",
     "timestamp": 1593576474807,
     "user": {
      "displayName": "divya madamanchi",
      "photoUrl": "https://lh3.googleusercontent.com/a-/AOh14Gi4Wo_2YqozUbUmfyxGgd3wnUsSshF9wyLCv9uZ1g=s64",
      "userId": "04922289493990785984"
     },
     "user_tz": -330
    },
    "id": "-3WEruzS-M0R"
   },
   "outputs": [],
   "source": [
    "df_train, df_test = train_test_split(df, test_size=0.1, random_state=RANDOM_SEED)\n",
    "df_val, df_test = train_test_split(df_test, test_size=0.5, random_state=RANDOM_SEED)"
   ]
  },
  {
   "cell_type": "code",
   "execution_count": 27,
   "metadata": {
    "colab": {
     "base_uri": "https://localhost:8080/",
     "height": 35
    },
    "colab_type": "code",
    "executionInfo": {
     "elapsed": 744,
     "status": "ok",
     "timestamp": 1593576476125,
     "user": {
      "displayName": "divya madamanchi",
      "photoUrl": "https://lh3.googleusercontent.com/a-/AOh14Gi4Wo_2YqozUbUmfyxGgd3wnUsSshF9wyLCv9uZ1g=s64",
      "userId": "04922289493990785984"
     },
     "user_tz": -330
    },
    "id": "63VRLik2Pnsg",
    "outputId": "40d5f8fd-7d8f-4a52-d74a-4753826f1b63"
   },
   "outputs": [
    {
     "data": {
      "text/plain": [
       "((14171, 12), (787, 12), (788, 12))"
      ]
     },
     "execution_count": 27,
     "metadata": {
      "tags": []
     },
     "output_type": "execute_result"
    }
   ],
   "source": [
    "df_train.shape, df_val.shape, df_test.shape"
   ]
  },
  {
   "cell_type": "code",
   "execution_count": 28,
   "metadata": {
    "colab": {},
    "colab_type": "code",
    "executionInfo": {
     "elapsed": 820,
     "status": "ok",
     "timestamp": 1593576477620,
     "user": {
      "displayName": "divya madamanchi",
      "photoUrl": "https://lh3.googleusercontent.com/a-/AOh14Gi4Wo_2YqozUbUmfyxGgd3wnUsSshF9wyLCv9uZ1g=s64",
      "userId": "04922289493990785984"
     },
     "user_tz": -330
    },
    "id": "RB84hD1e6W6p"
   },
   "outputs": [],
   "source": [
    "MAX_LEN = 160\n",
    "BATCH_SIZE = 16\n",
    "EPOCHS = 10"
   ]
  },
  {
   "cell_type": "code",
   "execution_count": 29,
   "metadata": {
    "colab": {},
    "colab_type": "code",
    "executionInfo": {
     "elapsed": 1192,
     "status": "ok",
     "timestamp": 1593576483735,
     "user": {
      "displayName": "divya madamanchi",
      "photoUrl": "https://lh3.googleusercontent.com/a-/AOh14Gi4Wo_2YqozUbUmfyxGgd3wnUsSshF9wyLCv9uZ1g=s64",
      "userId": "04922289493990785984"
     },
     "user_tz": -330
    },
    "id": "EA9SmnWqP46u"
   },
   "outputs": [],
   "source": [
    "def create_data_loader(df, tokenizer, max_len, batch_size):\n",
    "  \n",
    "  # creating an instance of the GPReviewDataset\n",
    "  ds = GPReviewDataset(\n",
    "                       review=df.content.to_numpy(),\n",
    "                       target=df.sentiment.to_numpy(),\n",
    "                       tokenizer=tokenizer,\n",
    "                       max_len=max_len\n",
    "                      )\n",
    "  \n",
    "  return data.DataLoader(\n",
    "                         ds,\n",
    "                         batch_size=batch_size,\n",
    "                         num_workers=4)"
   ]
  },
  {
   "cell_type": "code",
   "execution_count": 30,
   "metadata": {
    "colab": {},
    "colab_type": "code",
    "executionInfo": {
     "elapsed": 730,
     "status": "ok",
     "timestamp": 1593576484279,
     "user": {
      "displayName": "divya madamanchi",
      "photoUrl": "https://lh3.googleusercontent.com/a-/AOh14Gi4Wo_2YqozUbUmfyxGgd3wnUsSshF9wyLCv9uZ1g=s64",
      "userId": "04922289493990785984"
     },
     "user_tz": -330
    },
    "id": "Z5iFeBkuZJMa"
   },
   "outputs": [],
   "source": [
    "train_data_loader = create_data_loader(df_train, tokenizer, MAX_LEN, BATCH_SIZE)\n",
    "val_data_loader = create_data_loader(df_val, tokenizer, MAX_LEN, BATCH_SIZE)\n",
    "test_data_loader = create_data_loader(df_test, tokenizer, MAX_LEN, BATCH_SIZE)"
   ]
  },
  {
   "cell_type": "code",
   "execution_count": 31,
   "metadata": {
    "colab": {
     "base_uri": "https://localhost:8080/",
     "height": 35
    },
    "colab_type": "code",
    "executionInfo": {
     "elapsed": 1371,
     "status": "ok",
     "timestamp": 1593576486473,
     "user": {
      "displayName": "divya madamanchi",
      "photoUrl": "https://lh3.googleusercontent.com/a-/AOh14Gi4Wo_2YqozUbUmfyxGgd3wnUsSshF9wyLCv9uZ1g=s64",
      "userId": "04922289493990785984"
     },
     "user_tz": -330
    },
    "id": "WWPpELKMaG_x",
    "outputId": "cb0dc214-589e-4465-dcd2-4d0f4f5a66a9"
   },
   "outputs": [
    {
     "data": {
      "text/plain": [
       "dict_keys(['review_text', 'input_ids', 'attention_mask', 'targets'])"
      ]
     },
     "execution_count": 31,
     "metadata": {
      "tags": []
     },
     "output_type": "execute_result"
    }
   ],
   "source": [
    "# We can iterate over the data loader and have a look at the inputs. Instead of this we rather have a simpler way by looking at a batch\n",
    "data = next(iter(train_data_loader))\n",
    "data.keys()"
   ]
  },
  {
   "cell_type": "code",
   "execution_count": 32,
   "metadata": {
    "colab": {
     "base_uri": "https://localhost:8080/",
     "height": 70
    },
    "colab_type": "code",
    "executionInfo": {
     "elapsed": 1220,
     "status": "ok",
     "timestamp": 1593576505267,
     "user": {
      "displayName": "divya madamanchi",
      "photoUrl": "https://lh3.googleusercontent.com/a-/AOh14Gi4Wo_2YqozUbUmfyxGgd3wnUsSshF9wyLCv9uZ1g=s64",
      "userId": "04922289493990785984"
     },
     "user_tz": -330
    },
    "id": "zNfoPGhDa_LM",
    "outputId": "ed4dc598-1e98-41b1-b679-88b92021081d"
   },
   "outputs": [
    {
     "name": "stdout",
     "output_type": "stream",
     "text": [
      "torch.Size([16, 160])\n",
      "torch.Size([16, 160])\n",
      "torch.Size([16])\n"
     ]
    }
   ],
   "source": [
    "print(data['input_ids'].shape);print(data['attention_mask'].shape);print(data['targets'].shape);"
   ]
  },
  {
   "cell_type": "markdown",
   "metadata": {
    "colab_type": "text",
    "id": "IT6rxBH9bZFg"
   },
   "source": [
    "For input_ids and attention_mask: \n",
    "\n",
    "Since BATCH_SIZE is 16, we have 16 reviews here and tokens len equal to 160. \n",
    "\n",
    "Similarly, for targets:\n",
    "\n",
    "16 targets are the sentiment values that correspond to 16 reviews."
   ]
  },
  {
   "cell_type": "markdown",
   "metadata": {
    "colab_type": "text",
    "id": "_3jU-GxnBpWC"
   },
   "source": [
    "There are a lot of helpers that make using BERT easy with the Transformers library. Depending on the task you might want to use BertForSequenceClassification, BertForQuestionAnswering or something else.\n",
    "\n",
    "But we’ll use the basic BertModel and build our sentiment classifier on top of it. Let’s load the model:"
   ]
  },
  {
   "cell_type": "code",
   "execution_count": 33,
   "metadata": {
    "colab": {
     "base_uri": "https://localhost:8080/",
     "height": 116,
     "referenced_widgets": [
      "e445c09d197b40978546efc9020367d5",
      "0da02b1ce43047a29373edf61c955527",
      "5855038acbf044b682288d35b7ddc0c8",
      "bf0ec238d5e1418e8cf6abece9970644",
      "b57c122d7ace43a5ba895e45b8de7e7d",
      "e95338a68fb948748c46c83c64db86af",
      "8fb8ffb6f0474af6ad0862b5ff587b4b",
      "c06a5e7fd85846d688913ae1cd7bcbad",
      "f227dc83ce574714889df7950253b0b5",
      "397e32800b934555ae7dcd14562e066d",
      "d4c1c23ed0bb429eb54973dc44a5b889",
      "3b68f04d63514227aab2b1c7a8547cbe",
      "f4035a6036114ce084260c75e317a1cc",
      "90a8b8a09fb24da28e63481489b86693",
      "67921d47de38496897ee96f693ecdc5e",
      "50dbb1b72fa1421fba923ee942984f39"
     ]
    },
    "colab_type": "code",
    "executionInfo": {
     "elapsed": 15758,
     "status": "ok",
     "timestamp": 1593576527135,
     "user": {
      "displayName": "divya madamanchi",
      "photoUrl": "https://lh3.googleusercontent.com/a-/AOh14Gi4Wo_2YqozUbUmfyxGgd3wnUsSshF9wyLCv9uZ1g=s64",
      "userId": "04922289493990785984"
     },
     "user_tz": -330
    },
    "id": "VJ5e997ThwSS",
    "outputId": "f7e4e136-e248-44e5-8bfb-0abee696ecdf"
   },
   "outputs": [
    {
     "data": {
      "application/vnd.jupyter.widget-view+json": {
       "model_id": "e445c09d197b40978546efc9020367d5",
       "version_major": 2,
       "version_minor": 0
      },
      "text/plain": [
       "HBox(children=(FloatProgress(value=0.0, description='Downloading', max=433.0, style=ProgressStyle(description_…"
      ]
     },
     "metadata": {
      "tags": []
     },
     "output_type": "display_data"
    },
    {
     "name": "stdout",
     "output_type": "stream",
     "text": [
      "\n"
     ]
    },
    {
     "data": {
      "application/vnd.jupyter.widget-view+json": {
       "model_id": "f227dc83ce574714889df7950253b0b5",
       "version_major": 2,
       "version_minor": 0
      },
      "text/plain": [
       "HBox(children=(FloatProgress(value=0.0, description='Downloading', max=435779157.0, style=ProgressStyle(descri…"
      ]
     },
     "metadata": {
      "tags": []
     },
     "output_type": "display_data"
    },
    {
     "name": "stdout",
     "output_type": "stream",
     "text": [
      "\n"
     ]
    }
   ],
   "source": [
    "bert_model = BertModel.from_pretrained('bert-base-cased')\n",
    "last_hidden_state, pooled_output = bert_model(\n",
    "                                              input_ids=encoding['input_ids'],\n",
    "                                              attention_mask=encoding['attention_mask']\n",
    ")"
   ]
  },
  {
   "cell_type": "markdown",
   "metadata": {
    "colab_type": "text",
    "id": "f1uNU_7VE-7K"
   },
   "source": [
    "The last_hidden_state is a sequence of hidden states (sequence of outputs of the hidden layer) of the last layer of the model. \n",
    "\n",
    "Obtaining the pooled_output is done by applying the BertPooler on last_hidden_state:\n",
    "\n",
    "Inbuilt class in Huggingface library:\n",
    "\n",
    "class BertPooler(nn.Module):\n",
    "\n",
    "    def __init__(self, config):\n",
    "\n",
    "        super().__init__()\n",
    "\n",
    "        self.dense = nn.Linear(config.hidden_size, config.hidden_size)\n",
    "\n",
    "        self.activation = nn.Tanh()"
   ]
  },
  {
   "cell_type": "code",
   "execution_count": 34,
   "metadata": {
    "colab": {
     "base_uri": "https://localhost:8080/",
     "height": 35
    },
    "colab_type": "code",
    "executionInfo": {
     "elapsed": 13632,
     "status": "ok",
     "timestamp": 1593576527136,
     "user": {
      "displayName": "divya madamanchi",
      "photoUrl": "https://lh3.googleusercontent.com/a-/AOh14Gi4Wo_2YqozUbUmfyxGgd3wnUsSshF9wyLCv9uZ1g=s64",
      "userId": "04922289493990785984"
     },
     "user_tz": -330
    },
    "id": "4YTvIesLD3bD",
    "outputId": "62f15131-1300-4654-e80d-e00ea6cf4710"
   },
   "outputs": [
    {
     "data": {
      "text/plain": [
       "torch.Size([1, 32, 768])"
      ]
     },
     "execution_count": 34,
     "metadata": {
      "tags": []
     },
     "output_type": "execute_result"
    }
   ],
   "source": [
    "last_hidden_state.shape\n",
    "torch.Size([1, 32, 768])"
   ]
  },
  {
   "cell_type": "markdown",
   "metadata": {
    "colab_type": "text",
    "id": "gGbf31TTEyxZ"
   },
   "source": [
    "We have the hidden state for each of our 32 tokens (the length of our example sequence). \n",
    "\n",
    "768 is the number of hidden units in the feedforward-networks. \n",
    "\n",
    "We can verify that by checking the config:"
   ]
  },
  {
   "cell_type": "code",
   "execution_count": 35,
   "metadata": {
    "colab": {
     "base_uri": "https://localhost:8080/",
     "height": 35
    },
    "colab_type": "code",
    "executionInfo": {
     "elapsed": 11114,
     "status": "ok",
     "timestamp": 1593576527137,
     "user": {
      "displayName": "divya madamanchi",
      "photoUrl": "https://lh3.googleusercontent.com/a-/AOh14Gi4Wo_2YqozUbUmfyxGgd3wnUsSshF9wyLCv9uZ1g=s64",
      "userId": "04922289493990785984"
     },
     "user_tz": -330
    },
    "id": "lnNJgup5EkrA",
    "outputId": "743bb1be-5132-4ce3-a135-a10e15d6ba9d"
   },
   "outputs": [
    {
     "data": {
      "text/plain": [
       "768"
      ]
     },
     "execution_count": 35,
     "metadata": {
      "tags": []
     },
     "output_type": "execute_result"
    }
   ],
   "source": [
    "bert_model.config.hidden_size"
   ]
  },
  {
   "cell_type": "markdown",
   "metadata": {
    "colab_type": "text",
    "id": "6cal8W3kGKiB"
   },
   "source": [
    "You can think of the pooled_output as a summary of the content, according to \n",
    "\n",
    "You might try and do better. Let’s look at the shape of the output:"
   ]
  },
  {
   "cell_type": "code",
   "execution_count": 36,
   "metadata": {
    "colab": {
     "base_uri": "https://localhost:8080/",
     "height": 35
    },
    "colab_type": "code",
    "executionInfo": {
     "elapsed": 9094,
     "status": "ok",
     "timestamp": 1593576527138,
     "user": {
      "displayName": "divya madamanchi",
      "photoUrl": "https://lh3.googleusercontent.com/a-/AOh14Gi4Wo_2YqozUbUmfyxGgd3wnUsSshF9wyLCv9uZ1g=s64",
      "userId": "04922289493990785984"
     },
     "user_tz": -330
    },
    "id": "zMi2LPxgE6LI",
    "outputId": "8dfded2d-a23d-4d5d-a48c-412816302c01"
   },
   "outputs": [
    {
     "data": {
      "text/plain": [
       "torch.Size([1, 768])"
      ]
     },
     "execution_count": 36,
     "metadata": {
      "tags": []
     },
     "output_type": "execute_result"
    }
   ],
   "source": [
    "pooled_output.shape"
   ]
  },
  {
   "cell_type": "markdown",
   "metadata": {
    "colab_type": "text",
    "id": "Kv5DA8noGUQs"
   },
   "source": [
    "We can use all of this knowledge to create a classifier that uses the BERT model."
   ]
  },
  {
   "cell_type": "code",
   "execution_count": 37,
   "metadata": {
    "colab": {},
    "colab_type": "code",
    "executionInfo": {
     "elapsed": 6657,
     "status": "ok",
     "timestamp": 1593576527138,
     "user": {
      "displayName": "divya madamanchi",
      "photoUrl": "https://lh3.googleusercontent.com/a-/AOh14Gi4Wo_2YqozUbUmfyxGgd3wnUsSshF9wyLCv9uZ1g=s64",
      "userId": "04922289493990785984"
     },
     "user_tz": -330
    },
    "id": "3LJ6u6XqGPZN"
   },
   "outputs": [],
   "source": [
    "class SentimentClassifier(nn.Module):\n",
    "\n",
    "  def __init__(self, n_classes):\n",
    "    super(SentimentClassifier, self).__init__()\n",
    "    self.bert = BertModel.from_pretrained('bert-base-cased')\n",
    "    self.drop = nn.Dropout(p=0.3)\n",
    "    self.out = nn.Linear(self.bert.config.hidden_size, n_classes)\n",
    "\n",
    "  def forward(self, input_ids, attention_mask):\n",
    "    _, pooled_output = self.bert(\n",
    "      input_ids=input_ids,\n",
    "      attention_mask=attention_mask\n",
    "    )\n",
    "\n",
    "    output = self.drop(pooled_output)\n",
    "    return self.out(output)"
   ]
  },
  {
   "cell_type": "markdown",
   "metadata": {
    "colab_type": "text",
    "id": "m0lFGEH0HA_Z"
   },
   "source": [
    "Our classifier delegates most of the heavy lifting to the BertModel. \n",
    "\n",
    "We use a dropout layer for some regularization and a fully-connected layer for our output. \n",
    "\n",
    "Note that we’re returning the raw output of the last layer since that is required for the cross-entropy loss function in PyTorch to work.\n",
    "\n",
    "This should work like any other PyTorch model. Let’s create an instance and move it to the GPU"
   ]
  },
  {
   "cell_type": "code",
   "execution_count": 38,
   "metadata": {
    "colab": {},
    "colab_type": "code",
    "executionInfo": {
     "elapsed": 19891,
     "status": "ok",
     "timestamp": 1593576547706,
     "user": {
      "displayName": "divya madamanchi",
      "photoUrl": "https://lh3.googleusercontent.com/a-/AOh14Gi4Wo_2YqozUbUmfyxGgd3wnUsSshF9wyLCv9uZ1g=s64",
      "userId": "04922289493990785984"
     },
     "user_tz": -330
    },
    "id": "3a5QfXNDGeLz"
   },
   "outputs": [],
   "source": [
    "model = SentimentClassifier(len(class_names))\n",
    "model = model.to(device)"
   ]
  },
  {
   "cell_type": "markdown",
   "metadata": {
    "colab_type": "text",
    "id": "2hR69svqH8IO"
   },
   "source": [
    "We’ll move the example batch of our training data to the GPU:"
   ]
  },
  {
   "cell_type": "code",
   "execution_count": 39,
   "metadata": {
    "colab": {
     "base_uri": "https://localhost:8080/",
     "height": 70
    },
    "colab_type": "code",
    "executionInfo": {
     "elapsed": 15135,
     "status": "ok",
     "timestamp": 1593576547707,
     "user": {
      "displayName": "divya madamanchi",
      "photoUrl": "https://lh3.googleusercontent.com/a-/AOh14Gi4Wo_2YqozUbUmfyxGgd3wnUsSshF9wyLCv9uZ1g=s64",
      "userId": "04922289493990785984"
     },
     "user_tz": -330
    },
    "id": "yKKiUcyxHlap",
    "outputId": "ab0c647a-a377-4891-dfa9-71118e156c4c"
   },
   "outputs": [
    {
     "name": "stdout",
     "output_type": "stream",
     "text": [
      "torch.Size([16, 160])\n",
      "torch.Size([16, 160])\n"
     ]
    },
    {
     "data": {
      "text/plain": [
       "torch.Size([16, 160])"
      ]
     },
     "execution_count": 39,
     "metadata": {
      "tags": []
     },
     "output_type": "execute_result"
    }
   ],
   "source": [
    "input_ids = data['input_ids'].to(device)\n",
    "attention_mask = data['attention_mask'].to(device)\n",
    "print(input_ids.shape) # batch size x seq length\n",
    "print(attention_mask.shape) # batch size x seq length\n",
    "torch.Size([16, 160])\n",
    "torch.Size([16, 160])"
   ]
  },
  {
   "cell_type": "markdown",
   "metadata": {
    "colab_type": "text",
    "id": "-EO0fHQGIer-"
   },
   "source": [
    "To get the predicted probabilities from our trained model, we’ll apply the softmax function to the outputs:"
   ]
  },
  {
   "cell_type": "code",
   "execution_count": 40,
   "metadata": {
    "colab": {
     "base_uri": "https://localhost:8080/",
     "height": 301
    },
    "colab_type": "code",
    "executionInfo": {
     "elapsed": 10322,
     "status": "ok",
     "timestamp": 1593576547708,
     "user": {
      "displayName": "divya madamanchi",
      "photoUrl": "https://lh3.googleusercontent.com/a-/AOh14Gi4Wo_2YqozUbUmfyxGgd3wnUsSshF9wyLCv9uZ1g=s64",
      "userId": "04922289493990785984"
     },
     "user_tz": -330
    },
    "id": "Ed8KOP84IADf",
    "outputId": "7c8aa470-1fc3-4ef0-f8eb-949c19ef4e83"
   },
   "outputs": [
    {
     "data": {
      "text/plain": [
       "tensor([[0.4167, 0.1629, 0.4204],\n",
       "        [0.5268, 0.1343, 0.3389],\n",
       "        [0.3120, 0.1510, 0.5370],\n",
       "        [0.5324, 0.1180, 0.3496],\n",
       "        [0.6053, 0.1680, 0.2267],\n",
       "        [0.3334, 0.1828, 0.4838],\n",
       "        [0.4221, 0.1138, 0.4641],\n",
       "        [0.3167, 0.2619, 0.4215],\n",
       "        [0.3325, 0.1465, 0.5211],\n",
       "        [0.2637, 0.1996, 0.5367],\n",
       "        [0.4092, 0.1467, 0.4441],\n",
       "        [0.3765, 0.2127, 0.4107],\n",
       "        [0.5731, 0.0732, 0.3537],\n",
       "        [0.4752, 0.1724, 0.3525],\n",
       "        [0.3837, 0.1831, 0.4332],\n",
       "        [0.3463, 0.2110, 0.4427]], device='cuda:0', grad_fn=<SoftmaxBackward>)"
      ]
     },
     "execution_count": 40,
     "metadata": {
      "tags": []
     },
     "output_type": "execute_result"
    }
   ],
   "source": [
    "F.softmax(model(input_ids, attention_mask), dim=1)"
   ]
  },
  {
   "cell_type": "markdown",
   "metadata": {
    "colab_type": "text",
    "id": "yFaE9k4mJEME"
   },
   "source": [
    "<b>Training</b>\n",
    "\n",
    "To reproduce the training procedure from the BERT paper, we’ll use the AdamW optimizer provided by Hugging Face. \n",
    "\n",
    "It corrects weight decay. We’ll also use a linear scheduler with no warmup steps:"
   ]
  },
  {
   "cell_type": "code",
   "execution_count": 41,
   "metadata": {
    "colab": {},
    "colab_type": "code",
    "executionInfo": {
     "elapsed": 1669,
     "status": "ok",
     "timestamp": 1593576547708,
     "user": {
      "displayName": "divya madamanchi",
      "photoUrl": "https://lh3.googleusercontent.com/a-/AOh14Gi4Wo_2YqozUbUmfyxGgd3wnUsSshF9wyLCv9uZ1g=s64",
      "userId": "04922289493990785984"
     },
     "user_tz": -330
    },
    "id": "ejC7vsJAIr93"
   },
   "outputs": [],
   "source": [
    "EPOCHS = 10\n",
    "optimizer = AdamW(model.parameters(), lr=2e-5, correct_bias=False)\n",
    "total_steps = len(train_data_loader) * EPOCHS\n",
    "scheduler = get_linear_schedule_with_warmup(\n",
    "                                            optimizer,\n",
    "                                            num_warmup_steps=0,\n",
    "                                            num_training_steps=total_steps\n",
    "                                           )\n",
    "loss_fn = nn.CrossEntropyLoss().to(device)"
   ]
  },
  {
   "cell_type": "markdown",
   "metadata": {
    "colab_type": "text",
    "id": "p8IVdaW8JXqP"
   },
   "source": [
    "Let’s continue with writing a helper function for training our model for one epoch:"
   ]
  },
  {
   "cell_type": "code",
   "execution_count": 42,
   "metadata": {
    "colab": {},
    "colab_type": "code",
    "executionInfo": {
     "elapsed": 1154,
     "status": "ok",
     "timestamp": 1593576553463,
     "user": {
      "displayName": "divya madamanchi",
      "photoUrl": "https://lh3.googleusercontent.com/a-/AOh14Gi4Wo_2YqozUbUmfyxGgd3wnUsSshF9wyLCv9uZ1g=s64",
      "userId": "04922289493990785984"
     },
     "user_tz": -330
    },
    "id": "ks63u6ZHJRi9"
   },
   "outputs": [],
   "source": [
    "def train_epoch(\n",
    "  model,\n",
    "  data_loader,\n",
    "  loss_fn,\n",
    "  optimizer,\n",
    "  device,\n",
    "  scheduler,\n",
    "  n_examples\n",
    "):\n",
    "  model = model.train()\n",
    "  losses = []\n",
    "  correct_predictions = 0\n",
    "  for d in data_loader:\n",
    "    input_ids = d[\"input_ids\"].to(device)\n",
    "    attention_mask = d[\"attention_mask\"].to(device)\n",
    "    targets = d[\"targets\"].to(device)\n",
    "    outputs = model(\n",
    "      input_ids=input_ids,\n",
    "      attention_mask=attention_mask\n",
    "    )\n",
    "    _, preds = torch.max(outputs, dim=1)\n",
    "    loss = loss_fn(outputs, targets)\n",
    "    correct_predictions += torch.sum(preds == targets)\n",
    "    losses.append(loss.item())\n",
    "    loss.backward()\n",
    "    nn.utils.clip_grad_norm_(model.parameters(), max_norm=1.0)\n",
    "    optimizer.step()\n",
    "    scheduler.step()\n",
    "    optimizer.zero_grad()\n",
    "  return correct_predictions.double() / n_examples, np.mean(losses)"
   ]
  },
  {
   "cell_type": "markdown",
   "metadata": {
    "colab_type": "text",
    "id": "1AvqT08mJi1i"
   },
   "source": [
    "Training the model should look familiar, except for two things. \n",
    "\n",
    "The scheduler gets called every time a batch is fed to the model. \n",
    "\n",
    "We’re avoiding exploding gradients by clipping the gradients of the model using clipgrad_norm."
   ]
  },
  {
   "cell_type": "markdown",
   "metadata": {
    "colab_type": "text",
    "id": "oz_6FAnqJqHO"
   },
   "source": [
    "Let’s write another one that helps us evaluate the model on a given data loader:"
   ]
  },
  {
   "cell_type": "code",
   "execution_count": 43,
   "metadata": {
    "colab": {},
    "colab_type": "code",
    "executionInfo": {
     "elapsed": 1189,
     "status": "ok",
     "timestamp": 1593576560458,
     "user": {
      "displayName": "divya madamanchi",
      "photoUrl": "https://lh3.googleusercontent.com/a-/AOh14Gi4Wo_2YqozUbUmfyxGgd3wnUsSshF9wyLCv9uZ1g=s64",
      "userId": "04922289493990785984"
     },
     "user_tz": -330
    },
    "id": "OWjOK7nHJdOZ"
   },
   "outputs": [],
   "source": [
    "def eval_model(model, data_loader, loss_fn, device, n_examples):\n",
    "  model = model.eval()\n",
    "  losses = []\n",
    "  correct_predictions = 0\n",
    "  with torch.no_grad():\n",
    "    for d in data_loader:\n",
    "      input_ids = d[\"input_ids\"].to(device)\n",
    "      attention_mask = d[\"attention_mask\"].to(device)\n",
    "      targets = d[\"targets\"].to(device)\n",
    "      outputs = model(\n",
    "        input_ids=input_ids,\n",
    "        attention_mask=attention_mask\n",
    "      )\n",
    "      _, preds = torch.max(outputs, dim=1)\n",
    "      loss = loss_fn(outputs, targets)\n",
    "      correct_predictions += torch.sum(preds == targets)\n",
    "      losses.append(loss.item())\n",
    "  return correct_predictions.double() / n_examples, np.mean(losses)"
   ]
  },
  {
   "cell_type": "markdown",
   "metadata": {
    "colab_type": "text",
    "id": "YI6rRQZ7J2Zb"
   },
   "source": [
    "Using those two, we can write our training loop. We’ll also store the training history:"
   ]
  },
  {
   "cell_type": "code",
   "execution_count": 76,
   "metadata": {
    "colab": {
     "base_uri": "https://localhost:8080/",
     "height": 941
    },
    "colab_type": "code",
    "executionInfo": {
     "elapsed": 6413730,
     "status": "ok",
     "timestamp": 1593557489477,
     "user": {
      "displayName": "divya madamanchi",
      "photoUrl": "https://lh3.googleusercontent.com/a-/AOh14Gi4Wo_2YqozUbUmfyxGgd3wnUsSshF9wyLCv9uZ1g=s64",
      "userId": "04922289493990785984"
     },
     "user_tz": -330
    },
    "id": "YRLagr0mJy1F",
    "outputId": "69b1891a-7ac3-413d-9ae5-8ccca1641d54"
   },
   "outputs": [
    {
     "name": "stdout",
     "output_type": "stream",
     "text": [
      "Epoch 1/10\n",
      "----------\n",
      "Train loss 0.7421758737978494 accuracy 0.659233646178816\n",
      "Val   loss 0.5847507223486901 accuracy 0.7636594663278272\n",
      "\n",
      "Epoch 2/10\n",
      "----------\n",
      "Train loss 0.42195024685282473 accuracy 0.8373438712864301\n",
      "Val   loss 0.5173206329345703 accuracy 0.8398983481575604\n",
      "\n",
      "Epoch 3/10\n",
      "----------\n",
      "Train loss 0.23003165924639923 accuracy 0.9288688165972762\n",
      "Val   loss 0.6139717100560665 accuracy 0.8640406607369759\n",
      "\n",
      "Epoch 4/10\n",
      "----------\n",
      "Train loss 0.16254195039902664 accuracy 0.9540611107190742\n",
      "Val   loss 0.729137781560421 accuracy 0.8678526048284626\n",
      "\n",
      "Epoch 5/10\n",
      "----------\n",
      "Train loss 0.12220647735163805 accuracy 0.9669748077058783\n",
      "Val   loss 0.8423944738507271 accuracy 0.8576874205844981\n",
      "\n",
      "Epoch 6/10\n",
      "----------\n",
      "Train loss 0.08489101926709944 accuracy 0.9770658386846377\n",
      "Val   loss 0.8022563126683235 accuracy 0.8703939008894537\n",
      "\n",
      "Epoch 7/10\n",
      "----------\n",
      "Train loss 0.06562914470584882 accuracy 0.9807353044950956\n",
      "Val   loss 0.848752261698246 accuracy 0.8716645489199493\n",
      "\n",
      "Epoch 8/10\n",
      "----------\n",
      "Train loss 0.05917739380849 accuracy 0.9824289040999225\n",
      "Val   loss 0.8592656749486923 accuracy 0.8653113087674714\n",
      "\n",
      "Epoch 9/10\n",
      "----------\n",
      "Train loss 0.04349701751116033 accuracy 0.9853927034083693\n",
      "Val   loss 0.8369050619006156 accuracy 0.8742058449809403\n",
      "\n",
      "Epoch 10/10\n",
      "----------\n",
      "Train loss 0.03905058389794477 accuracy 0.9866629031119893\n",
      "Val   loss 0.8461261141300201 accuracy 0.8742058449809403\n",
      "\n",
      "CPU times: user 1h 18min 56s, sys: 46min 59s, total: 2h 5min 55s\n",
      "Wall time: 2h 6min 23s\n"
     ]
    }
   ],
   "source": [
    "%%time\n",
    "from collections import defaultdict\n",
    "history = defaultdict(list)\n",
    "best_accuracy = 0\n",
    "for epoch in range(EPOCHS):\n",
    "  print(f'Epoch {epoch + 1}/{EPOCHS}')\n",
    "  print('-' * 10)\n",
    "  train_acc, train_loss = train_epoch(\n",
    "    model,\n",
    "    train_data_loader,\n",
    "    loss_fn,\n",
    "    optimizer,\n",
    "    device,\n",
    "    scheduler,\n",
    "    len(df_train)\n",
    "  )\n",
    "  print(f'Train loss {train_loss} accuracy {train_acc}')\n",
    "  val_acc, val_loss = eval_model(\n",
    "    model,\n",
    "    val_data_loader,\n",
    "    loss_fn,\n",
    "    device,\n",
    "    len(df_val)\n",
    "  )\n",
    "  print(f'Val   loss {val_loss} accuracy {val_acc}')\n",
    "  print()\n",
    "  history['train_acc'].append(train_acc)\n",
    "  history['train_loss'].append(train_loss)\n",
    "  history['val_acc'].append(val_acc)\n",
    "  history['val_loss'].append(val_loss)\n",
    "  if val_acc > best_accuracy:\n",
    "    torch.save(model.state_dict(), 'best_model_state.bin')\n",
    "    best_accuracy = val_acc"
   ]
  },
  {
   "cell_type": "markdown",
   "metadata": {
    "colab_type": "text",
    "id": "8EykKoJbKX5d"
   },
   "source": [
    "Note that we’re storing the state of the best model, indicated by the highest validation accuracy.\n",
    "\n"
   ]
  },
  {
   "cell_type": "code",
   "execution_count": 48,
   "metadata": {
    "colab": {
     "base_uri": "https://localhost:8080/",
     "height": 106
    },
    "colab_type": "code",
    "executionInfo": {
     "elapsed": 27056,
     "status": "ok",
     "timestamp": 1593578607322,
     "user": {
      "displayName": "divya madamanchi",
      "photoUrl": "https://lh3.googleusercontent.com/a-/AOh14Gi4Wo_2YqozUbUmfyxGgd3wnUsSshF9wyLCv9uZ1g=s64",
      "userId": "04922289493990785984"
     },
     "user_tz": -330
    },
    "id": "4U5w1lVMkUpo",
    "outputId": "85cf75cd-ba61-40f9-b400-bb2ed2bfb7bc"
   },
   "outputs": [
    {
     "name": "stdout",
     "output_type": "stream",
     "text": [
      "/content/drive/My Drive\n",
      "Downloading...\n",
      "From: https://drive.google.com/uc?id=1V8itWtowCYnb2Bc9KlK9SxGff9WwmogA\n",
      "To: /content/drive/My Drive/best_model_state.bin\n",
      "433MB [00:06, 69.2MB/s]\n"
     ]
    }
   ],
   "source": [
    "# Loading a pretrained and saved model\n",
    "os.chdir(r\"/content/drive/My Drive/\")\n",
    "#!gdown --id 1V8itWtowCYnb2Bc9KlK9SxGff9WwmogA\n",
    "model = SentimentClassifier(len(class_names))\n",
    "model.load_state_dict(torch.load('best_model_state.bin'))\n",
    "model = model.to(device)"
   ]
  },
  {
   "cell_type": "markdown",
   "metadata": {
    "colab_type": "text",
    "id": "WwN7HlghkPlC"
   },
   "source": [
    "We can look at the training vs validation accuracy:"
   ]
  },
  {
   "cell_type": "code",
   "execution_count": 50,
   "metadata": {
    "colab": {},
    "colab_type": "code",
    "executionInfo": {
     "elapsed": 1710,
     "status": "ok",
     "timestamp": 1593578663913,
     "user": {
      "displayName": "divya madamanchi",
      "photoUrl": "https://lh3.googleusercontent.com/a-/AOh14Gi4Wo_2YqozUbUmfyxGgd3wnUsSshF9wyLCv9uZ1g=s64",
      "userId": "04922289493990785984"
     },
     "user_tz": -330
    },
    "id": "n6x_JIohKDn_"
   },
   "outputs": [],
   "source": [
    "plt.plot(history['train_acc'], label='train accuracy')\n",
    "plt.plot(history['val_acc'], label='validation accuracy')\n",
    "plt.title('Training history')\n",
    "plt.ylabel('Accuracy')\n",
    "plt.xlabel('Epoch')\n",
    "plt.legend()\n",
    "plt.ylim([0, 1]);"
   ]
  },
  {
   "cell_type": "markdown",
   "metadata": {
    "colab_type": "text",
    "id": "KroANdKdKl_x"
   },
   "source": [
    "You might try to fine-tune the parameters a bit more, but this will be good enough for us."
   ]
  },
  {
   "cell_type": "markdown",
   "metadata": {
    "colab_type": "text",
    "id": "nVcMWXgUKxay"
   },
   "source": [
    "<b> Evaluation </b>\n",
    "\n",
    "Calculating the accuracy on the test data:"
   ]
  },
  {
   "cell_type": "code",
   "execution_count": 51,
   "metadata": {
    "colab": {
     "base_uri": "https://localhost:8080/",
     "height": 35
    },
    "colab_type": "code",
    "executionInfo": {
     "elapsed": 18131,
     "status": "ok",
     "timestamp": 1593578706887,
     "user": {
      "displayName": "divya madamanchi",
      "photoUrl": "https://lh3.googleusercontent.com/a-/AOh14Gi4Wo_2YqozUbUmfyxGgd3wnUsSshF9wyLCv9uZ1g=s64",
      "userId": "04922289493990785984"
     },
     "user_tz": -330
    },
    "id": "n1ipB0IWKnFU",
    "outputId": "798a087e-0369-47dc-a7de-338d866b207d"
   },
   "outputs": [
    {
     "data": {
      "text/plain": [
       "0.883248730964467"
      ]
     },
     "execution_count": 51,
     "metadata": {
      "tags": []
     },
     "output_type": "execute_result"
    }
   ],
   "source": [
    "test_acc, _ = eval_model(\n",
    "  model,\n",
    "  test_data_loader,\n",
    "  loss_fn,\n",
    "  device,\n",
    "  len(df_test)\n",
    ")\n",
    "\n",
    "test_acc.item()"
   ]
  },
  {
   "cell_type": "markdown",
   "metadata": {
    "colab_type": "text",
    "id": "SJn-lYDiK_6L"
   },
   "source": [
    "The accuracy is about 1% lower on the test set. Our model seems to generalize well.\n",
    "\n",
    "We’ll define a helper function to get the predictions from our model:"
   ]
  },
  {
   "cell_type": "code",
   "execution_count": 53,
   "metadata": {
    "colab": {},
    "colab_type": "code",
    "executionInfo": {
     "elapsed": 1181,
     "status": "ok",
     "timestamp": 1593578813087,
     "user": {
      "displayName": "divya madamanchi",
      "photoUrl": "https://lh3.googleusercontent.com/a-/AOh14Gi4Wo_2YqozUbUmfyxGgd3wnUsSshF9wyLCv9uZ1g=s64",
      "userId": "04922289493990785984"
     },
     "user_tz": -330
    },
    "id": "UnhfqT_dLAqr"
   },
   "outputs": [],
   "source": [
    "def get_predictions(model, data_loader):\n",
    "  model = model.eval()\n",
    "  review_texts = []\n",
    "  predictions = []\n",
    "  prediction_probs = []\n",
    "  real_values = []\n",
    "  with torch.no_grad():\n",
    "    for d in data_loader:\n",
    "      texts = d[\"review_text\"]\n",
    "      input_ids = d[\"input_ids\"].to(device)\n",
    "      attention_mask = d[\"attention_mask\"].to(device)\n",
    "      targets = d[\"targets\"].to(device)\n",
    "      outputs = model(\n",
    "        input_ids=input_ids,\n",
    "        attention_mask=attention_mask\n",
    "      )\n",
    "      _, preds = torch.max(outputs, dim=1)\n",
    "      review_texts.extend(texts)\n",
    "      predictions.extend(preds)\n",
    "      prediction_probs.extend(outputs)\n",
    "      real_values.extend(targets)\n",
    "  predictions = torch.stack(predictions).cpu()\n",
    "  prediction_probs = torch.stack(prediction_probs).cpu()\n",
    "  real_values = torch.stack(real_values).cpu()\n",
    "  return review_texts, predictions, prediction_probs, real_values"
   ]
  },
  {
   "cell_type": "markdown",
   "metadata": {
    "colab_type": "text",
    "id": "tETlz9NnLK4R"
   },
   "source": [
    "This is similar to the evaluation function, except that we’re storing the text of the reviews and the predicted probabilities:"
   ]
  },
  {
   "cell_type": "code",
   "execution_count": 54,
   "metadata": {
    "colab": {},
    "colab_type": "code",
    "executionInfo": {
     "elapsed": 16831,
     "status": "ok",
     "timestamp": 1593578831208,
     "user": {
      "displayName": "divya madamanchi",
      "photoUrl": "https://lh3.googleusercontent.com/a-/AOh14Gi4Wo_2YqozUbUmfyxGgd3wnUsSshF9wyLCv9uZ1g=s64",
      "userId": "04922289493990785984"
     },
     "user_tz": -330
    },
    "id": "C_R225F-LLhL"
   },
   "outputs": [],
   "source": [
    "y_review_texts, y_pred, y_pred_probs, y_test = get_predictions(\n",
    "  model,\n",
    "  test_data_loader\n",
    ")"
   ]
  },
  {
   "cell_type": "markdown",
   "metadata": {
    "colab_type": "text",
    "id": "pbj3C1x6LPfD"
   },
   "source": [
    "Let’s have a look at the classification report"
   ]
  },
  {
   "cell_type": "code",
   "execution_count": 55,
   "metadata": {
    "colab": {
     "base_uri": "https://localhost:8080/",
     "height": 195
    },
    "colab_type": "code",
    "executionInfo": {
     "elapsed": 11628,
     "status": "ok",
     "timestamp": 1593578831210,
     "user": {
      "displayName": "divya madamanchi",
      "photoUrl": "https://lh3.googleusercontent.com/a-/AOh14Gi4Wo_2YqozUbUmfyxGgd3wnUsSshF9wyLCv9uZ1g=s64",
      "userId": "04922289493990785984"
     },
     "user_tz": -330
    },
    "id": "LDKIyjc5LZE8",
    "outputId": "bc808bfc-1eba-4c01-ab19-0268ba27df23"
   },
   "outputs": [
    {
     "name": "stdout",
     "output_type": "stream",
     "text": [
      "              precision    recall  f1-score   support\n",
      "\n",
      "    negative       0.89      0.87      0.88       245\n",
      "     neutral       0.83      0.85      0.84       254\n",
      "    positive       0.92      0.93      0.92       289\n",
      "\n",
      "    accuracy                           0.88       788\n",
      "   macro avg       0.88      0.88      0.88       788\n",
      "weighted avg       0.88      0.88      0.88       788\n",
      "\n"
     ]
    }
   ],
   "source": [
    "from sklearn.metrics import confusion_matrix, classification_report\n",
    "print(classification_report(y_test, y_pred, target_names=class_names))"
   ]
  },
  {
   "cell_type": "markdown",
   "metadata": {
    "colab_type": "text",
    "id": "c5zlywl4LbA2"
   },
   "source": [
    "Looks like it is really hard to classify neutral (3 stars) reviews. \n",
    "\n",
    "And I can tell you from experience, looking at many reviews, those are hard to classify.\n",
    "\n",
    "We’ll continue with the confusion matrix:"
   ]
  },
  {
   "cell_type": "code",
   "execution_count": 56,
   "metadata": {
    "colab": {
     "base_uri": "https://localhost:8080/",
     "height": 425
    },
    "colab_type": "code",
    "executionInfo": {
     "elapsed": 1767,
     "status": "ok",
     "timestamp": 1593578837024,
     "user": {
      "displayName": "divya madamanchi",
      "photoUrl": "https://lh3.googleusercontent.com/a-/AOh14Gi4Wo_2YqozUbUmfyxGgd3wnUsSshF9wyLCv9uZ1g=s64",
      "userId": "04922289493990785984"
     },
     "user_tz": -330
    },
    "id": "ZQdNDDx1Lfcs",
    "outputId": "32ee4b58-6f6a-4250-8acb-b86f0174c4af"
   },
   "outputs": [
    {
     "data": {
      "image/png": "[encoded data removed]",
      "text/plain": [
       "<Figure size 576x432 with 2 Axes>"
      ]
     },
     "metadata": {
      "image/png": {
       "height": 408,
       "width": 530
      },
      "tags": []
     },
     "output_type": "display_data"
    }
   ],
   "source": [
    "def show_confusion_matrix(confusion_matrix):\n",
    "  hmap = sns.heatmap(confusion_matrix, annot=True, fmt=\"d\", cmap=\"Blues\")\n",
    "  hmap.yaxis.set_ticklabels(hmap.yaxis.get_ticklabels(), rotation=0, ha='right')\n",
    "  hmap.xaxis.set_ticklabels(hmap.xaxis.get_ticklabels(), rotation=30, ha='right')\n",
    "  plt.ylabel('True sentiment')\n",
    "  plt.xlabel('Predicted sentiment');\n",
    "cm = confusion_matrix(y_test, y_pred)\n",
    "df_cm = pd.DataFrame(cm, index=class_names, columns=class_names)\n",
    "show_confusion_matrix(df_cm)"
   ]
  },
  {
   "cell_type": "markdown",
   "metadata": {
    "colab_type": "text",
    "id": "a_ajnor-Li62"
   },
   "source": [
    "This confirms that our model is having difficulty classifying neutral reviews. It mistakes those for negative and positive at a roughly equal frequency.\n",
    "\n",
    "That’s a good overview of the performance of our model. But let’s have a look at an example from our test data:"
   ]
  },
  {
   "cell_type": "code",
   "execution_count": 59,
   "metadata": {
    "colab": {
     "base_uri": "https://localhost:8080/",
     "height": 195
    },
    "colab_type": "code",
    "executionInfo": {
     "elapsed": 1211,
     "status": "ok",
     "timestamp": 1593578936515,
     "user": {
      "displayName": "divya madamanchi",
      "photoUrl": "https://lh3.googleusercontent.com/a-/AOh14Gi4Wo_2YqozUbUmfyxGgd3wnUsSshF9wyLCv9uZ1g=s64",
      "userId": "04922289493990785984"
     },
     "user_tz": -330
    },
    "id": "GiPoKlhSLmlJ",
    "outputId": "5a38e0fa-5c55-4da3-eeee-a5081748137d"
   },
   "outputs": [
    {
     "name": "stdout",
     "output_type": "stream",
     "text": [
      "I used to use Habitica, and I must say this is a great step up. I'd\n",
      "like to see more social features, such as sharing tasks - only one\n",
      "person has to perform said task for it to be checked off, but only\n",
      "giving that person the experience and gold. Otherwise, the price for\n",
      "subscription is too steep, thus resulting in a sub-perfect score. I\n",
      "could easily justify $0.99/month or eternal subscription for $15. If\n",
      "that price could be met, as well as fine tuning, this would be easily\n",
      "worth 5 stars.\n",
      "\n",
      "True sentiment: neutral\n"
     ]
    }
   ],
   "source": [
    "from textwrap import wrap\n",
    "idx = 2\n",
    "review_text = y_review_texts[idx]\n",
    "true_sentiment = y_test[idx]\n",
    "pred_df = pd.DataFrame({\n",
    "  'class_names': class_names,\n",
    "  'values': y_pred_probs[idx]\n",
    "})\n",
    "print(\"\\n\".join(wrap(review_text)))\n",
    "print()\n",
    "print(f'True sentiment: {class_names[true_sentiment]}')"
   ]
  },
  {
   "cell_type": "markdown",
   "metadata": {
    "colab_type": "text",
    "id": "-GQsl01gLsd4"
   },
   "source": [
    "Now we can look at the confidence of each sentiment of our model:"
   ]
  },
  {
   "cell_type": "code",
   "execution_count": 60,
   "metadata": {
    "colab": {
     "base_uri": "https://localhost:8080/",
     "height": 398
    },
    "colab_type": "code",
    "executionInfo": {
     "elapsed": 1401,
     "status": "ok",
     "timestamp": 1593578939791,
     "user": {
      "displayName": "divya madamanchi",
      "photoUrl": "https://lh3.googleusercontent.com/a-/AOh14Gi4Wo_2YqozUbUmfyxGgd3wnUsSshF9wyLCv9uZ1g=s64",
      "userId": "04922289493990785984"
     },
     "user_tz": -330
    },
    "id": "d3NL3nECLuMQ",
    "outputId": "722d9470-38b2-4a1c-e95a-c0e2c9821574"
   },
   "outputs": [
    {
     "data": {
      "image/png": "[encoded data removed]",
      "text/plain": [
       "<Figure size 576x432 with 1 Axes>"
      ]
     },
     "metadata": {
      "image/png": {
       "height": 381,
       "width": 556
      },
      "tags": []
     },
     "output_type": "display_data"
    }
   ],
   "source": [
    "sns.barplot(x='values', y='class_names', data=pred_df, orient='h')\n",
    "plt.ylabel('sentiment')\n",
    "plt.xlabel('probability')\n",
    "plt.xlim([0, 1]);"
   ]
  },
  {
   "cell_type": "markdown",
   "metadata": {
    "colab_type": "text",
    "id": "yoo8Yc4dLxwF"
   },
   "source": [
    "<b> Predicting on Raw Text </b>\n",
    "\n",
    "Let’s use our model to predict the sentiment of some raw text:"
   ]
  },
  {
   "cell_type": "code",
   "execution_count": 61,
   "metadata": {
    "colab": {},
    "colab_type": "code",
    "executionInfo": {
     "elapsed": 1229,
     "status": "ok",
     "timestamp": 1593578942734,
     "user": {
      "displayName": "divya madamanchi",
      "photoUrl": "https://lh3.googleusercontent.com/a-/AOh14Gi4Wo_2YqozUbUmfyxGgd3wnUsSshF9wyLCv9uZ1g=s64",
      "userId": "04922289493990785984"
     },
     "user_tz": -330
    },
    "id": "ZSGwVHXdL12L"
   },
   "outputs": [],
   "source": [
    "review_text = \"I love completing my todos! Best app ever!!!\""
   ]
  },
  {
   "cell_type": "markdown",
   "metadata": {
    "colab_type": "text",
    "id": "2qSTPPs5L6RZ"
   },
   "source": [
    "We have to use the tokenizer to encode the text:"
   ]
  },
  {
   "cell_type": "code",
   "execution_count": 62,
   "metadata": {
    "colab": {
     "base_uri": "https://localhost:8080/",
     "height": 55
    },
    "colab_type": "code",
    "executionInfo": {
     "elapsed": 1188,
     "status": "ok",
     "timestamp": 1593578945389,
     "user": {
      "displayName": "divya madamanchi",
      "photoUrl": "https://lh3.googleusercontent.com/a-/AOh14Gi4Wo_2YqozUbUmfyxGgd3wnUsSshF9wyLCv9uZ1g=s64",
      "userId": "04922289493990785984"
     },
     "user_tz": -330
    },
    "id": "U42JZyXlL3fZ",
    "outputId": "d0e63fe5-fddf-4e66-8d50-12383526465f"
   },
   "outputs": [
    {
     "name": "stderr",
     "output_type": "stream",
     "text": [
      "Truncation was not explicitely activated but `max_length` is provided a specific value, please use `truncation=True` to explicitely truncate examples to max length. Defaulting to 'only_first' truncation strategy. If you encode pairs of sequences (GLUE-style) with the tokenizer you may want to check this is the right behavior.\n"
     ]
    }
   ],
   "source": [
    "encoded_review = tokenizer.encode_plus(\n",
    "  review_text,\n",
    "  max_length=MAX_LEN,\n",
    "  add_special_tokens=True,\n",
    "  return_token_type_ids=False,\n",
    "  pad_to_max_length=True,\n",
    "  return_attention_mask=True,\n",
    "  return_tensors='pt',\n",
    ")"
   ]
  },
  {
   "cell_type": "markdown",
   "metadata": {
    "colab_type": "text",
    "id": "djn9IdJAL_XF"
   },
   "source": [
    "Let’s get the predictions from our model:"
   ]
  },
  {
   "cell_type": "code",
   "execution_count": 63,
   "metadata": {
    "colab": {
     "base_uri": "https://localhost:8080/",
     "height": 52
    },
    "colab_type": "code",
    "executionInfo": {
     "elapsed": 1213,
     "status": "ok",
     "timestamp": 1593578949327,
     "user": {
      "displayName": "divya madamanchi",
      "photoUrl": "https://lh3.googleusercontent.com/a-/AOh14Gi4Wo_2YqozUbUmfyxGgd3wnUsSshF9wyLCv9uZ1g=s64",
      "userId": "04922289493990785984"
     },
     "user_tz": -330
    },
    "id": "8kma_AqCL_w4",
    "outputId": "4070840b-e9e7-42cb-8d31-d9d28c5080b9"
   },
   "outputs": [
    {
     "name": "stdout",
     "output_type": "stream",
     "text": [
      "Review text: I love completing my todos! Best app ever!!!\n",
      "Sentiment  : positive\n"
     ]
    }
   ],
   "source": [
    "input_ids = encoded_review['input_ids'].to(device)\n",
    "attention_mask = encoded_review['attention_mask'].to(device)\n",
    "output = model(input_ids, attention_mask)\n",
    "_, prediction = torch.max(output, dim=1)\n",
    "print(f'Review text: {review_text}')\n",
    "print(f'Sentiment  : {class_names[prediction]}')"
   ]
  },
  {
   "cell_type": "markdown",
   "metadata": {
    "colab_type": "text",
    "id": "HU5g_U-xMISE"
   },
   "source": [
    "<b> Summary: </b>\n",
    "\n",
    "We built a custom classifier using the Hugging Face library and trained it on our app reviews dataset!\n",
    "\n",
    "We have learned how to:\n",
    "\n",
    "1.   Intuitively understand what BERT is\n",
    "2.   Preprocess text data for BERT and build PyTorch Dataset (tokenization, attention masks, and padding)\n",
    "3.   Use Transfer Learning to build Sentiment Classifier using the Transformers library by Hugging Face\n",
    "4.   Evaluate the model on test data\n",
    "5.   Predict sentiment on raw text\n"
   ]
  }
 ],
 "metadata": {
  "accelerator": "GPU",
  "colab": {
   "authorship_tag": "ABX9TyP1syXRA5jig36OkHjOtFDO",
   "collapsed_sections": [],
   "mount_file_id": "1nSJb5puL4beTPchnDBsdWmxZWHTKm-Rd",
   "name": "BERT Sentiment Analysis.ipynb",
   "provenance": [
    {
     "file_id": "1jFQ6KcZp3q-VKRfH9EVQCPuxEKrBBrAO",
     "timestamp": 1593330498581
    },
    {
     "file_id": "1QoNV7yD6jp4XDSxo8G_Auj4biifOJN7A",
     "timestamp": 1593254588731
    }
   ],
   "toc_visible": true
  },
  "kernelspec": {
   "display_name": "Python 3",
   "language": "python",
   "name": "python3"
  },
  "language_info": {
   "codemirror_mode": {
    "name": "ipython",
    "version": 3
   },
   "file_extension": ".py",
   "mimetype": "text/x-python",
   "name": "python",
   "nbconvert_exporter": "python",
   "pygments_lexer": "ipython3",
   "version": "3.8.8"
  },
  "widgets": {
   "application/vnd.jupyter.widget-state+json": {
    "06cd79ef5c1a49e6bd559bccc34b8c13": {
     "model_module": "@jupyter-widgets/controls",
     "model_name": "ProgressStyleModel",
     "state": {
      "_model_module": "@jupyter-widgets/controls",
      "_model_module_version": "1.5.0",
      "_model_name": "ProgressStyleModel",
      "_view_count": null,
      "_view_module": "@jupyter-widgets/base",
      "_view_module_version": "1.2.0",
      "_view_name": "StyleView",
      "bar_color": null,
      "description_width": "initial"
     }
    },
    "0da02b1ce43047a29373edf61c955527": {
     "model_module": "@jupyter-widgets/base",
     "model_name": "LayoutModel",
     "state": {
      "_model_module": "@jupyter-widgets/base",
      "_model_module_version": "1.2.0",
      "_model_name": "LayoutModel",
      "_view_count": null,
      "_view_module": "@jupyter-widgets/base",
      "_view_module_version": "1.2.0",
      "_view_name": "LayoutView",
      "align_content": null,
      "align_items": null,
      "align_self": null,
      "border": null,
      "bottom": null,
      "display": null,
      "flex": null,
      "flex_flow": null,
      "grid_area": null,
      "grid_auto_columns": null,
      "grid_auto_flow": null,
      "grid_auto_rows": null,
      "grid_column": null,
      "grid_gap": null,
      "grid_row": null,
      "grid_template_areas": null,
      "grid_template_columns": null,
      "grid_template_rows": null,
      "height": null,
      "justify_content": null,
      "justify_items": null,
      "left": null,
      "margin": null,
      "max_height": null,
      "max_width": null,
      "min_height": null,
      "min_width": null,
      "object_fit": null,
      "object_position": null,
      "order": null,
      "overflow": null,
      "overflow_x": null,
      "overflow_y": null,
      "padding": null,
      "right": null,
      "top": null,
      "visibility": null,
      "width": null
     }
    },
    "21bd6b3626754a5e89d92cdc00534a67": {
     "model_module": "@jupyter-widgets/base",
     "model_name": "LayoutModel",
     "state": {
      "_model_module": "@jupyter-widgets/base",
      "_model_module_version": "1.2.0",
      "_model_name": "LayoutModel",
      "_view_count": null,
      "_view_module": "@jupyter-widgets/base",
      "_view_module_version": "1.2.0",
      "_view_name": "LayoutView",
      "align_content": null,
      "align_items": null,
      "align_self": null,
      "border": null,
      "bottom": null,
      "display": null,
      "flex": null,
      "flex_flow": null,
      "grid_area": null,
      "grid_auto_columns": null,
      "grid_auto_flow": null,
      "grid_auto_rows": null,
      "grid_column": null,
      "grid_gap": null,
      "grid_row": null,
      "grid_template_areas": null,
      "grid_template_columns": null,
      "grid_template_rows": null,
      "height": null,
      "justify_content": null,
      "justify_items": null,
      "left": null,
      "margin": null,
      "max_height": null,
      "max_width": null,
      "min_height": null,
      "min_width": null,
      "object_fit": null,
      "object_position": null,
      "order": null,
      "overflow": null,
      "overflow_x": null,
      "overflow_y": null,
      "padding": null,
      "right": null,
      "top": null,
      "visibility": null,
      "width": null
     }
    },
    "397e32800b934555ae7dcd14562e066d": {
     "model_module": "@jupyter-widgets/base",
     "model_name": "LayoutModel",
     "state": {
      "_model_module": "@jupyter-widgets/base",
      "_model_module_version": "1.2.0",
      "_model_name": "LayoutModel",
      "_view_count": null,
      "_view_module": "@jupyter-widgets/base",
      "_view_module_version": "1.2.0",
      "_view_name": "LayoutView",
      "align_content": null,
      "align_items": null,
      "align_self": null,
      "border": null,
      "bottom": null,
      "display": null,
      "flex": null,
      "flex_flow": null,
      "grid_area": null,
      "grid_auto_columns": null,
      "grid_auto_flow": null,
      "grid_auto_rows": null,
      "grid_column": null,
      "grid_gap": null,
      "grid_row": null,
      "grid_template_areas": null,
      "grid_template_columns": null,
      "grid_template_rows": null,
      "height": null,
      "justify_content": null,
      "justify_items": null,
      "left": null,
      "margin": null,
      "max_height": null,
      "max_width": null,
      "min_height": null,
      "min_width": null,
      "object_fit": null,
      "object_position": null,
      "order": null,
      "overflow": null,
      "overflow_x": null,
      "overflow_y": null,
      "padding": null,
      "right": null,
      "top": null,
      "visibility": null,
      "width": null
     }
    },
    "3b68f04d63514227aab2b1c7a8547cbe": {
     "model_module": "@jupyter-widgets/controls",
     "model_name": "HTMLModel",
     "state": {
      "_dom_classes": [],
      "_model_module": "@jupyter-widgets/controls",
      "_model_module_version": "1.5.0",
      "_model_name": "HTMLModel",
      "_view_count": null,
      "_view_module": "@jupyter-widgets/controls",
      "_view_module_version": "1.5.0",
      "_view_name": "HTMLView",
      "description": "",
      "description_tooltip": null,
      "layout": "IPY_MODEL_50dbb1b72fa1421fba923ee942984f39",
      "placeholder": "​",
      "style": "IPY_MODEL_67921d47de38496897ee96f693ecdc5e",
      "value": " 436M/436M [00:17&lt;00:00, 25.4MB/s]"
     }
    },
    "50dbb1b72fa1421fba923ee942984f39": {
     "model_module": "@jupyter-widgets/base",
     "model_name": "LayoutModel",
     "state": {
      "_model_module": "@jupyter-widgets/base",
      "_model_module_version": "1.2.0",
      "_model_name": "LayoutModel",
      "_view_count": null,
      "_view_module": "@jupyter-widgets/base",
      "_view_module_version": "1.2.0",
      "_view_name": "LayoutView",
      "align_content": null,
      "align_items": null,
      "align_self": null,
      "border": null,
      "bottom": null,
      "display": null,
      "flex": null,
      "flex_flow": null,
      "grid_area": null,
      "grid_auto_columns": null,
      "grid_auto_flow": null,
      "grid_auto_rows": null,
      "grid_column": null,
      "grid_gap": null,
      "grid_row": null,
      "grid_template_areas": null,
      "grid_template_columns": null,
      "grid_template_rows": null,
      "height": null,
      "justify_content": null,
      "justify_items": null,
      "left": null,
      "margin": null,
      "max_height": null,
      "max_width": null,
      "min_height": null,
      "min_width": null,
      "object_fit": null,
      "object_position": null,
      "order": null,
      "overflow": null,
      "overflow_x": null,
      "overflow_y": null,
      "padding": null,
      "right": null,
      "top": null,
      "visibility": null,
      "width": null
     }
    },
    "5855038acbf044b682288d35b7ddc0c8": {
     "model_module": "@jupyter-widgets/controls",
     "model_name": "FloatProgressModel",
     "state": {
      "_dom_classes": [],
      "_model_module": "@jupyter-widgets/controls",
      "_model_module_version": "1.5.0",
      "_model_name": "FloatProgressModel",
      "_view_count": null,
      "_view_module": "@jupyter-widgets/controls",
      "_view_module_version": "1.5.0",
      "_view_name": "ProgressView",
      "bar_style": "success",
      "description": "Downloading: 100%",
      "description_tooltip": null,
      "layout": "IPY_MODEL_e95338a68fb948748c46c83c64db86af",
      "max": 433,
      "min": 0,
      "orientation": "horizontal",
      "style": "IPY_MODEL_b57c122d7ace43a5ba895e45b8de7e7d",
      "value": 433
     }
    },
    "5d16faa78a2d4dcbaeac82b618e4a187": {
     "model_module": "@jupyter-widgets/base",
     "model_name": "LayoutModel",
     "state": {
      "_model_module": "@jupyter-widgets/base",
      "_model_module_version": "1.2.0",
      "_model_name": "LayoutModel",
      "_view_count": null,
      "_view_module": "@jupyter-widgets/base",
      "_view_module_version": "1.2.0",
      "_view_name": "LayoutView",
      "align_content": null,
      "align_items": null,
      "align_self": null,
      "border": null,
      "bottom": null,
      "display": null,
      "flex": null,
      "flex_flow": null,
      "grid_area": null,
      "grid_auto_columns": null,
      "grid_auto_flow": null,
      "grid_auto_rows": null,
      "grid_column": null,
      "grid_gap": null,
      "grid_row": null,
      "grid_template_areas": null,
      "grid_template_columns": null,
      "grid_template_rows": null,
      "height": null,
      "justify_content": null,
      "justify_items": null,
      "left": null,
      "margin": null,
      "max_height": null,
      "max_width": null,
      "min_height": null,
      "min_width": null,
      "object_fit": null,
      "object_position": null,
      "order": null,
      "overflow": null,
      "overflow_x": null,
      "overflow_y": null,
      "padding": null,
      "right": null,
      "top": null,
      "visibility": null,
      "width": null
     }
    },
    "67921d47de38496897ee96f693ecdc5e": {
     "model_module": "@jupyter-widgets/controls",
     "model_name": "DescriptionStyleModel",
     "state": {
      "_model_module": "@jupyter-widgets/controls",
      "_model_module_version": "1.5.0",
      "_model_name": "DescriptionStyleModel",
      "_view_count": null,
      "_view_module": "@jupyter-widgets/base",
      "_view_module_version": "1.2.0",
      "_view_name": "StyleView",
      "description_width": ""
     }
    },
    "6c3c31cf5b3f43d098cd0189b9ea33d2": {
     "model_module": "@jupyter-widgets/controls",
     "model_name": "DescriptionStyleModel",
     "state": {
      "_model_module": "@jupyter-widgets/controls",
      "_model_module_version": "1.5.0",
      "_model_name": "DescriptionStyleModel",
      "_view_count": null,
      "_view_module": "@jupyter-widgets/base",
      "_view_module_version": "1.2.0",
      "_view_name": "StyleView",
      "description_width": ""
     }
    },
    "8fb8ffb6f0474af6ad0862b5ff587b4b": {
     "model_module": "@jupyter-widgets/controls",
     "model_name": "DescriptionStyleModel",
     "state": {
      "_model_module": "@jupyter-widgets/controls",
      "_model_module_version": "1.5.0",
      "_model_name": "DescriptionStyleModel",
      "_view_count": null,
      "_view_module": "@jupyter-widgets/base",
      "_view_module_version": "1.2.0",
      "_view_name": "StyleView",
      "description_width": ""
     }
    },
    "90a8b8a09fb24da28e63481489b86693": {
     "model_module": "@jupyter-widgets/base",
     "model_name": "LayoutModel",
     "state": {
      "_model_module": "@jupyter-widgets/base",
      "_model_module_version": "1.2.0",
      "_model_name": "LayoutModel",
      "_view_count": null,
      "_view_module": "@jupyter-widgets/base",
      "_view_module_version": "1.2.0",
      "_view_name": "LayoutView",
      "align_content": null,
      "align_items": null,
      "align_self": null,
      "border": null,
      "bottom": null,
      "display": null,
      "flex": null,
      "flex_flow": null,
      "grid_area": null,
      "grid_auto_columns": null,
      "grid_auto_flow": null,
      "grid_auto_rows": null,
      "grid_column": null,
      "grid_gap": null,
      "grid_row": null,
      "grid_template_areas": null,
      "grid_template_columns": null,
      "grid_template_rows": null,
      "height": null,
      "justify_content": null,
      "justify_items": null,
      "left": null,
      "margin": null,
      "max_height": null,
      "max_width": null,
      "min_height": null,
      "min_width": null,
      "object_fit": null,
      "object_position": null,
      "order": null,
      "overflow": null,
      "overflow_x": null,
      "overflow_y": null,
      "padding": null,
      "right": null,
      "top": null,
      "visibility": null,
      "width": null
     }
    },
    "927a97f326324026b4214738ee0e137e": {
     "model_module": "@jupyter-widgets/controls",
     "model_name": "FloatProgressModel",
     "state": {
      "_dom_classes": [],
      "_model_module": "@jupyter-widgets/controls",
      "_model_module_version": "1.5.0",
      "_model_name": "FloatProgressModel",
      "_view_count": null,
      "_view_module": "@jupyter-widgets/controls",
      "_view_module_version": "1.5.0",
      "_view_name": "ProgressView",
      "bar_style": "success",
      "description": "Downloading: 100%",
      "description_tooltip": null,
      "layout": "IPY_MODEL_21bd6b3626754a5e89d92cdc00534a67",
      "max": 213450,
      "min": 0,
      "orientation": "horizontal",
      "style": "IPY_MODEL_06cd79ef5c1a49e6bd559bccc34b8c13",
      "value": 213450
     }
    },
    "b57c122d7ace43a5ba895e45b8de7e7d": {
     "model_module": "@jupyter-widgets/controls",
     "model_name": "ProgressStyleModel",
     "state": {
      "_model_module": "@jupyter-widgets/controls",
      "_model_module_version": "1.5.0",
      "_model_name": "ProgressStyleModel",
      "_view_count": null,
      "_view_module": "@jupyter-widgets/base",
      "_view_module_version": "1.2.0",
      "_view_name": "StyleView",
      "bar_color": null,
      "description_width": "initial"
     }
    },
    "bf0ec238d5e1418e8cf6abece9970644": {
     "model_module": "@jupyter-widgets/controls",
     "model_name": "HTMLModel",
     "state": {
      "_dom_classes": [],
      "_model_module": "@jupyter-widgets/controls",
      "_model_module_version": "1.5.0",
      "_model_name": "HTMLModel",
      "_view_count": null,
      "_view_module": "@jupyter-widgets/controls",
      "_view_module_version": "1.5.0",
      "_view_name": "HTMLView",
      "description": "",
      "description_tooltip": null,
      "layout": "IPY_MODEL_c06a5e7fd85846d688913ae1cd7bcbad",
      "placeholder": "​",
      "style": "IPY_MODEL_8fb8ffb6f0474af6ad0862b5ff587b4b",
      "value": " 433/433 [00:00&lt;00:00, 544B/s]"
     }
    },
    "c06a5e7fd85846d688913ae1cd7bcbad": {
     "model_module": "@jupyter-widgets/base",
     "model_name": "LayoutModel",
     "state": {
      "_model_module": "@jupyter-widgets/base",
      "_model_module_version": "1.2.0",
      "_model_name": "LayoutModel",
      "_view_count": null,
      "_view_module": "@jupyter-widgets/base",
      "_view_module_version": "1.2.0",
      "_view_name": "LayoutView",
      "align_content": null,
      "align_items": null,
      "align_self": null,
      "border": null,
      "bottom": null,
      "display": null,
      "flex": null,
      "flex_flow": null,
      "grid_area": null,
      "grid_auto_columns": null,
      "grid_auto_flow": null,
      "grid_auto_rows": null,
      "grid_column": null,
      "grid_gap": null,
      "grid_row": null,
      "grid_template_areas": null,
      "grid_template_columns": null,
      "grid_template_rows": null,
      "height": null,
      "justify_content": null,
      "justify_items": null,
      "left": null,
      "margin": null,
      "max_height": null,
      "max_width": null,
      "min_height": null,
      "min_width": null,
      "object_fit": null,
      "object_position": null,
      "order": null,
      "overflow": null,
      "overflow_x": null,
      "overflow_y": null,
      "padding": null,
      "right": null,
      "top": null,
      "visibility": null,
      "width": null
     }
    },
    "cfac2254b469455fa4b702a2e2850f9b": {
     "model_module": "@jupyter-widgets/base",
     "model_name": "LayoutModel",
     "state": {
      "_model_module": "@jupyter-widgets/base",
      "_model_module_version": "1.2.0",
      "_model_name": "LayoutModel",
      "_view_count": null,
      "_view_module": "@jupyter-widgets/base",
      "_view_module_version": "1.2.0",
      "_view_name": "LayoutView",
      "align_content": null,
      "align_items": null,
      "align_self": null,
      "border": null,
      "bottom": null,
      "display": null,
      "flex": null,
      "flex_flow": null,
      "grid_area": null,
      "grid_auto_columns": null,
      "grid_auto_flow": null,
      "grid_auto_rows": null,
      "grid_column": null,
      "grid_gap": null,
      "grid_row": null,
      "grid_template_areas": null,
      "grid_template_columns": null,
      "grid_template_rows": null,
      "height": null,
      "justify_content": null,
      "justify_items": null,
      "left": null,
      "margin": null,
      "max_height": null,
      "max_width": null,
      "min_height": null,
      "min_width": null,
      "object_fit": null,
      "object_position": null,
      "order": null,
      "overflow": null,
      "overflow_x": null,
      "overflow_y": null,
      "padding": null,
      "right": null,
      "top": null,
      "visibility": null,
      "width": null
     }
    },
    "d4c1c23ed0bb429eb54973dc44a5b889": {
     "model_module": "@jupyter-widgets/controls",
     "model_name": "FloatProgressModel",
     "state": {
      "_dom_classes": [],
      "_model_module": "@jupyter-widgets/controls",
      "_model_module_version": "1.5.0",
      "_model_name": "FloatProgressModel",
      "_view_count": null,
      "_view_module": "@jupyter-widgets/controls",
      "_view_module_version": "1.5.0",
      "_view_name": "ProgressView",
      "bar_style": "success",
      "description": "Downloading: 100%",
      "description_tooltip": null,
      "layout": "IPY_MODEL_90a8b8a09fb24da28e63481489b86693",
      "max": 435779157,
      "min": 0,
      "orientation": "horizontal",
      "style": "IPY_MODEL_f4035a6036114ce084260c75e317a1cc",
      "value": 435779157
     }
    },
    "e369b3c65678476ea30320a7b56c9d66": {
     "model_module": "@jupyter-widgets/controls",
     "model_name": "HBoxModel",
     "state": {
      "_dom_classes": [],
      "_model_module": "@jupyter-widgets/controls",
      "_model_module_version": "1.5.0",
      "_model_name": "HBoxModel",
      "_view_count": null,
      "_view_module": "@jupyter-widgets/controls",
      "_view_module_version": "1.5.0",
      "_view_name": "HBoxView",
      "box_style": "",
      "children": [
       "IPY_MODEL_927a97f326324026b4214738ee0e137e",
       "IPY_MODEL_fe0de083114446c5998351c51beb0199"
      ],
      "layout": "IPY_MODEL_cfac2254b469455fa4b702a2e2850f9b"
     }
    },
    "e445c09d197b40978546efc9020367d5": {
     "model_module": "@jupyter-widgets/controls",
     "model_name": "HBoxModel",
     "state": {
      "_dom_classes": [],
      "_model_module": "@jupyter-widgets/controls",
      "_model_module_version": "1.5.0",
      "_model_name": "HBoxModel",
      "_view_count": null,
      "_view_module": "@jupyter-widgets/controls",
      "_view_module_version": "1.5.0",
      "_view_name": "HBoxView",
      "box_style": "",
      "children": [
       "IPY_MODEL_5855038acbf044b682288d35b7ddc0c8",
       "IPY_MODEL_bf0ec238d5e1418e8cf6abece9970644"
      ],
      "layout": "IPY_MODEL_0da02b1ce43047a29373edf61c955527"
     }
    },
    "e95338a68fb948748c46c83c64db86af": {
     "model_module": "@jupyter-widgets/base",
     "model_name": "LayoutModel",
     "state": {
      "_model_module": "@jupyter-widgets/base",
      "_model_module_version": "1.2.0",
      "_model_name": "LayoutModel",
      "_view_count": null,
      "_view_module": "@jupyter-widgets/base",
      "_view_module_version": "1.2.0",
      "_view_name": "LayoutView",
      "align_content": null,
      "align_items": null,
      "align_self": null,
      "border": null,
      "bottom": null,
      "display": null,
      "flex": null,
      "flex_flow": null,
      "grid_area": null,
      "grid_auto_columns": null,
      "grid_auto_flow": null,
      "grid_auto_rows": null,
      "grid_column": null,
      "grid_gap": null,
      "grid_row": null,
      "grid_template_areas": null,
      "grid_template_columns": null,
      "grid_template_rows": null,
      "height": null,
      "justify_content": null,
      "justify_items": null,
      "left": null,
      "margin": null,
      "max_height": null,
      "max_width": null,
      "min_height": null,
      "min_width": null,
      "object_fit": null,
      "object_position": null,
      "order": null,
      "overflow": null,
      "overflow_x": null,
      "overflow_y": null,
      "padding": null,
      "right": null,
      "top": null,
      "visibility": null,
      "width": null
     }
    },
    "f227dc83ce574714889df7950253b0b5": {
     "model_module": "@jupyter-widgets/controls",
     "model_name": "HBoxModel",
     "state": {
      "_dom_classes": [],
      "_model_module": "@jupyter-widgets/controls",
      "_model_module_version": "1.5.0",
      "_model_name": "HBoxModel",
      "_view_count": null,
      "_view_module": "@jupyter-widgets/controls",
      "_view_module_version": "1.5.0",
      "_view_name": "HBoxView",
      "box_style": "",
      "children": [
       "IPY_MODEL_d4c1c23ed0bb429eb54973dc44a5b889",
       "IPY_MODEL_3b68f04d63514227aab2b1c7a8547cbe"
      ],
      "layout": "IPY_MODEL_397e32800b934555ae7dcd14562e066d"
     }
    },
    "f4035a6036114ce084260c75e317a1cc": {
     "model_module": "@jupyter-widgets/controls",
     "model_name": "ProgressStyleModel",
     "state": {
      "_model_module": "@jupyter-widgets/controls",
      "_model_module_version": "1.5.0",
      "_model_name": "ProgressStyleModel",
      "_view_count": null,
      "_view_module": "@jupyter-widgets/base",
      "_view_module_version": "1.2.0",
      "_view_name": "StyleView",
      "bar_color": null,
      "description_width": "initial"
     }
    },
    "fe0de083114446c5998351c51beb0199": {
     "model_module": "@jupyter-widgets/controls",
     "model_name": "HTMLModel",
     "state": {
      "_dom_classes": [],
      "_model_module": "@jupyter-widgets/controls",
      "_model_module_version": "1.5.0",
      "_model_name": "HTMLModel",
      "_view_count": null,
      "_view_module": "@jupyter-widgets/controls",
      "_view_module_version": "1.5.0",
      "_view_name": "HTMLView",
      "description": "",
      "description_tooltip": null,
      "layout": "IPY_MODEL_5d16faa78a2d4dcbaeac82b618e4a187",
      "placeholder": "​",
      "style": "IPY_MODEL_6c3c31cf5b3f43d098cd0189b9ea33d2",
      "value": " 213k/213k [00:00&lt;00:00, 274kB/s]"
     }
    }
   }
  }
 },
 "nbformat": 4,
 "nbformat_minor": 1
}
