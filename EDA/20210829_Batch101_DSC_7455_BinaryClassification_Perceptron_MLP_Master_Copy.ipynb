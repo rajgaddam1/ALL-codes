{
  "nbformat": 4,
  "nbformat_minor": 5,
  "metadata": {
    "kernelspec": {
      "display_name": "Python 3",
      "language": "python",
      "name": "python3"
    },
    "language_info": {
      "codemirror_mode": {
        "name": "ipython",
        "version": 3
      },
      "file_extension": ".py",
      "mimetype": "text/x-python",
      "name": "python",
      "nbconvert_exporter": "python",
      "pygments_lexer": "ipython3",
      "version": "3.7.6"
    },
    "colab": {
      "name": "20210829_Batch101_DSC 7455_BinaryClassification_Perceptron_MLP_Master Copy.ipynb",
      "provenance": [],
      "collapsed_sections": []
    }
  },
  "cells": [
    {
      "cell_type": "code",
      "metadata": {
        "colab": {
          "base_uri": "https://localhost:8080/"
        },
        "id": "6s0OIiQlcU8u",
        "outputId": "09b618a2-a54a-43ed-a404-4b0e96a235e2"
      },
      "source": [
        "from google.colab import drive\n",
        "drive.mount('/content/drive')"
      ],
      "id": "6s0OIiQlcU8u",
      "execution_count": 1,
      "outputs": [
        {
          "output_type": "stream",
          "name": "stdout",
          "text": [
            "Drive already mounted at /content/drive; to attempt to forcibly remount, call drive.mount(\"/content/drive\", force_remount=True).\n"
          ]
        }
      ]
    },
    {
      "cell_type": "markdown",
      "metadata": {
        "id": "da9096d4"
      },
      "source": [
        "### Binary Classification using a Perceptron and MLP"
      ],
      "id": "da9096d4"
    },
    {
      "cell_type": "code",
      "metadata": {
        "id": "4481f592"
      },
      "source": [
        "# Loading the required libraries\n",
        "import os\n",
        "import pandas as pd\n",
        "import numpy as np\n",
        "\n",
        "from sklearn.model_selection import train_test_split\n",
        "from sklearn.metrics import confusion_matrix, roc_curve, auc\n",
        "\n",
        "from keras.models import Sequential\n",
        "from keras.layers import Dense\n",
        "import matplotlib.pyplot as plt"
      ],
      "id": "4481f592",
      "execution_count": 2,
      "outputs": []
    },
    {
      "cell_type": "code",
      "metadata": {
        "id": "41ef0328"
      },
      "source": [
        "# To filter/truncate warnings\n",
        "import warnings\n",
        "warnings.filterwarnings('ignore')"
      ],
      "id": "41ef0328",
      "execution_count": 3,
      "outputs": []
    },
    {
      "cell_type": "markdown",
      "metadata": {
        "id": "5f487415"
      },
      "source": [
        "#### Loading the data"
      ],
      "id": "5f487415"
    },
    {
      "cell_type": "code",
      "metadata": {
        "colab": {
          "base_uri": "https://localhost:8080/"
        },
        "id": "LvWUrh5xd9qy",
        "outputId": "c9a83c32-9bc1-44ab-d598-dd5dbfe5a19a"
      },
      "source": [
        "os.chdir(r\"/content/drive/MyDrive/ANN/\")\n",
        "!pwd"
      ],
      "id": "LvWUrh5xd9qy",
      "execution_count": 4,
      "outputs": [
        {
          "output_type": "stream",
          "name": "stdout",
          "text": [
            "/content/drive/MyDrive/ANN\n"
          ]
        }
      ]
    },
    {
      "cell_type": "code",
      "metadata": {
        "id": "8b21fc45"
      },
      "source": [
        "data = pd.read_csv(\"BackOrders.csv\", header = 0)"
      ],
      "id": "8b21fc45",
      "execution_count": 5,
      "outputs": []
    },
    {
      "cell_type": "markdown",
      "metadata": {
        "id": "4cb583b5"
      },
      "source": [
        "#### Understand the Data"
      ],
      "id": "4cb583b5"
    },
    {
      "cell_type": "code",
      "metadata": {
        "colab": {
          "base_uri": "https://localhost:8080/"
        },
        "id": "155c6236",
        "outputId": "d645eba9-eb46-4013-9bae-267c295f92f9"
      },
      "source": [
        "# Check number of rows and columns\n",
        "data.shape"
      ],
      "id": "155c6236",
      "execution_count": 6,
      "outputs": [
        {
          "output_type": "execute_result",
          "data": {
            "text/plain": [
              "(61589, 23)"
            ]
          },
          "metadata": {},
          "execution_count": 6
        }
      ]
    },
    {
      "cell_type": "code",
      "metadata": {
        "colab": {
          "base_uri": "https://localhost:8080/"
        },
        "id": "1be18c94",
        "outputId": "5e7293eb-861c-41ca-abdf-03fd21889a0b"
      },
      "source": [
        "# Display columns\n",
        "data.columns"
      ],
      "id": "1be18c94",
      "execution_count": 7,
      "outputs": [
        {
          "output_type": "execute_result",
          "data": {
            "text/plain": [
              "Index(['sku', 'national_inv', 'lead_time', 'in_transit_qty',\n",
              "       'forecast_3_month', 'forecast_6_month', 'forecast_9_month',\n",
              "       'sales_1_month', 'sales_3_month', 'sales_6_month', 'sales_9_month',\n",
              "       'min_bank', 'potential_issue', 'pieces_past_due', 'perf_6_month_avg',\n",
              "       'perf_12_month_avg', 'local_bo_qty', 'deck_risk', 'oe_constraint',\n",
              "       'ppap_risk', 'stop_auto_buy', 'rev_stop', 'went_on_backorder'],\n",
              "      dtype='object')"
            ]
          },
          "metadata": {},
          "execution_count": 7
        }
      ]
    },
    {
      "cell_type": "code",
      "metadata": {
        "colab": {
          "base_uri": "https://localhost:8080/",
          "height": 193
        },
        "id": "22bb52b2",
        "outputId": "ba094b66-c221-45e5-e946-216823069180"
      },
      "source": [
        "# Check the top 4 rows of the data\n",
        "data[:4]"
      ],
      "id": "22bb52b2",
      "execution_count": 8,
      "outputs": [
        {
          "output_type": "execute_result",
          "data": {
            "text/html": [
              "<div>\n",
              "<style scoped>\n",
              "    .dataframe tbody tr th:only-of-type {\n",
              "        vertical-align: middle;\n",
              "    }\n",
              "\n",
              "    .dataframe tbody tr th {\n",
              "        vertical-align: top;\n",
              "    }\n",
              "\n",
              "    .dataframe thead th {\n",
              "        text-align: right;\n",
              "    }\n",
              "</style>\n",
              "<table border=\"1\" class=\"dataframe\">\n",
              "  <thead>\n",
              "    <tr style=\"text-align: right;\">\n",
              "      <th></th>\n",
              "      <th>sku</th>\n",
              "      <th>national_inv</th>\n",
              "      <th>lead_time</th>\n",
              "      <th>in_transit_qty</th>\n",
              "      <th>forecast_3_month</th>\n",
              "      <th>forecast_6_month</th>\n",
              "      <th>forecast_9_month</th>\n",
              "      <th>sales_1_month</th>\n",
              "      <th>sales_3_month</th>\n",
              "      <th>sales_6_month</th>\n",
              "      <th>sales_9_month</th>\n",
              "      <th>min_bank</th>\n",
              "      <th>potential_issue</th>\n",
              "      <th>pieces_past_due</th>\n",
              "      <th>perf_6_month_avg</th>\n",
              "      <th>perf_12_month_avg</th>\n",
              "      <th>local_bo_qty</th>\n",
              "      <th>deck_risk</th>\n",
              "      <th>oe_constraint</th>\n",
              "      <th>ppap_risk</th>\n",
              "      <th>stop_auto_buy</th>\n",
              "      <th>rev_stop</th>\n",
              "      <th>went_on_backorder</th>\n",
              "    </tr>\n",
              "  </thead>\n",
              "  <tbody>\n",
              "    <tr>\n",
              "      <th>0</th>\n",
              "      <td>1888279</td>\n",
              "      <td>117</td>\n",
              "      <td>NaN</td>\n",
              "      <td>0</td>\n",
              "      <td>0</td>\n",
              "      <td>0</td>\n",
              "      <td>0</td>\n",
              "      <td>0</td>\n",
              "      <td>0</td>\n",
              "      <td>15</td>\n",
              "      <td>15</td>\n",
              "      <td>1</td>\n",
              "      <td>No</td>\n",
              "      <td>0</td>\n",
              "      <td>-99.00</td>\n",
              "      <td>-99.00</td>\n",
              "      <td>0</td>\n",
              "      <td>No</td>\n",
              "      <td>No</td>\n",
              "      <td>Yes</td>\n",
              "      <td>Yes</td>\n",
              "      <td>No</td>\n",
              "      <td>No</td>\n",
              "    </tr>\n",
              "    <tr>\n",
              "      <th>1</th>\n",
              "      <td>1870557</td>\n",
              "      <td>7</td>\n",
              "      <td>2.0</td>\n",
              "      <td>0</td>\n",
              "      <td>0</td>\n",
              "      <td>0</td>\n",
              "      <td>0</td>\n",
              "      <td>0</td>\n",
              "      <td>0</td>\n",
              "      <td>0</td>\n",
              "      <td>0</td>\n",
              "      <td>0</td>\n",
              "      <td>No</td>\n",
              "      <td>0</td>\n",
              "      <td>0.50</td>\n",
              "      <td>0.28</td>\n",
              "      <td>0</td>\n",
              "      <td>Yes</td>\n",
              "      <td>No</td>\n",
              "      <td>No</td>\n",
              "      <td>Yes</td>\n",
              "      <td>No</td>\n",
              "      <td>No</td>\n",
              "    </tr>\n",
              "    <tr>\n",
              "      <th>2</th>\n",
              "      <td>1475481</td>\n",
              "      <td>258</td>\n",
              "      <td>15.0</td>\n",
              "      <td>10</td>\n",
              "      <td>10</td>\n",
              "      <td>77</td>\n",
              "      <td>184</td>\n",
              "      <td>46</td>\n",
              "      <td>132</td>\n",
              "      <td>256</td>\n",
              "      <td>365</td>\n",
              "      <td>47</td>\n",
              "      <td>No</td>\n",
              "      <td>0</td>\n",
              "      <td>0.54</td>\n",
              "      <td>0.70</td>\n",
              "      <td>0</td>\n",
              "      <td>No</td>\n",
              "      <td>No</td>\n",
              "      <td>No</td>\n",
              "      <td>Yes</td>\n",
              "      <td>No</td>\n",
              "      <td>No</td>\n",
              "    </tr>\n",
              "    <tr>\n",
              "      <th>3</th>\n",
              "      <td>1758220</td>\n",
              "      <td>46</td>\n",
              "      <td>2.0</td>\n",
              "      <td>0</td>\n",
              "      <td>0</td>\n",
              "      <td>0</td>\n",
              "      <td>0</td>\n",
              "      <td>1</td>\n",
              "      <td>2</td>\n",
              "      <td>6</td>\n",
              "      <td>9</td>\n",
              "      <td>1</td>\n",
              "      <td>No</td>\n",
              "      <td>0</td>\n",
              "      <td>0.75</td>\n",
              "      <td>0.90</td>\n",
              "      <td>0</td>\n",
              "      <td>Yes</td>\n",
              "      <td>No</td>\n",
              "      <td>No</td>\n",
              "      <td>Yes</td>\n",
              "      <td>No</td>\n",
              "      <td>No</td>\n",
              "    </tr>\n",
              "  </tbody>\n",
              "</table>\n",
              "</div>"
            ],
            "text/plain": [
              "       sku  national_inv  lead_time  ...  stop_auto_buy  rev_stop  went_on_backorder\n",
              "0  1888279           117        NaN  ...            Yes        No                 No\n",
              "1  1870557             7        2.0  ...            Yes        No                 No\n",
              "2  1475481           258       15.0  ...            Yes        No                 No\n",
              "3  1758220            46        2.0  ...            Yes        No                 No\n",
              "\n",
              "[4 rows x 23 columns]"
            ]
          },
          "metadata": {},
          "execution_count": 8
        }
      ]
    },
    {
      "cell_type": "code",
      "metadata": {
        "colab": {
          "base_uri": "https://localhost:8080/",
          "height": 317
        },
        "id": "05f9fbd1",
        "outputId": "ec2d956c-b6e1-4d90-c12b-7ef9387f0de5"
      },
      "source": [
        "# Summary statistics of each column\n",
        "data.describe()"
      ],
      "id": "05f9fbd1",
      "execution_count": 9,
      "outputs": [
        {
          "output_type": "execute_result",
          "data": {
            "text/html": [
              "<div>\n",
              "<style scoped>\n",
              "    .dataframe tbody tr th:only-of-type {\n",
              "        vertical-align: middle;\n",
              "    }\n",
              "\n",
              "    .dataframe tbody tr th {\n",
              "        vertical-align: top;\n",
              "    }\n",
              "\n",
              "    .dataframe thead th {\n",
              "        text-align: right;\n",
              "    }\n",
              "</style>\n",
              "<table border=\"1\" class=\"dataframe\">\n",
              "  <thead>\n",
              "    <tr style=\"text-align: right;\">\n",
              "      <th></th>\n",
              "      <th>sku</th>\n",
              "      <th>national_inv</th>\n",
              "      <th>lead_time</th>\n",
              "      <th>in_transit_qty</th>\n",
              "      <th>forecast_3_month</th>\n",
              "      <th>forecast_6_month</th>\n",
              "      <th>forecast_9_month</th>\n",
              "      <th>sales_1_month</th>\n",
              "      <th>sales_3_month</th>\n",
              "      <th>sales_6_month</th>\n",
              "      <th>sales_9_month</th>\n",
              "      <th>min_bank</th>\n",
              "      <th>pieces_past_due</th>\n",
              "      <th>perf_6_month_avg</th>\n",
              "      <th>perf_12_month_avg</th>\n",
              "      <th>local_bo_qty</th>\n",
              "    </tr>\n",
              "  </thead>\n",
              "  <tbody>\n",
              "    <tr>\n",
              "      <th>count</th>\n",
              "      <td>6.158900e+04</td>\n",
              "      <td>61589.000000</td>\n",
              "      <td>58186.000000</td>\n",
              "      <td>61589.000000</td>\n",
              "      <td>6.158900e+04</td>\n",
              "      <td>6.158900e+04</td>\n",
              "      <td>6.158900e+04</td>\n",
              "      <td>61589.000000</td>\n",
              "      <td>61589.000000</td>\n",
              "      <td>6.158900e+04</td>\n",
              "      <td>6.158900e+04</td>\n",
              "      <td>61589.000000</td>\n",
              "      <td>61589.000000</td>\n",
              "      <td>61589.000000</td>\n",
              "      <td>61589.000000</td>\n",
              "      <td>61589.000000</td>\n",
              "    </tr>\n",
              "    <tr>\n",
              "      <th>mean</th>\n",
              "      <td>2.037188e+06</td>\n",
              "      <td>287.721882</td>\n",
              "      <td>7.559619</td>\n",
              "      <td>30.192843</td>\n",
              "      <td>1.692728e+02</td>\n",
              "      <td>3.150413e+02</td>\n",
              "      <td>4.535760e+02</td>\n",
              "      <td>44.742957</td>\n",
              "      <td>150.732631</td>\n",
              "      <td>2.835465e+02</td>\n",
              "      <td>4.196427e+02</td>\n",
              "      <td>43.087256</td>\n",
              "      <td>1.605400</td>\n",
              "      <td>-6.264182</td>\n",
              "      <td>-5.863664</td>\n",
              "      <td>1.205361</td>\n",
              "    </tr>\n",
              "    <tr>\n",
              "      <th>std</th>\n",
              "      <td>6.564178e+05</td>\n",
              "      <td>4233.906931</td>\n",
              "      <td>6.498952</td>\n",
              "      <td>792.869253</td>\n",
              "      <td>5.286742e+03</td>\n",
              "      <td>9.774362e+03</td>\n",
              "      <td>1.420201e+04</td>\n",
              "      <td>1373.805831</td>\n",
              "      <td>5224.959649</td>\n",
              "      <td>8.872270e+03</td>\n",
              "      <td>1.269858e+04</td>\n",
              "      <td>959.614135</td>\n",
              "      <td>42.309229</td>\n",
              "      <td>25.537906</td>\n",
              "      <td>24.844514</td>\n",
              "      <td>29.981155</td>\n",
              "    </tr>\n",
              "    <tr>\n",
              "      <th>min</th>\n",
              "      <td>1.068628e+06</td>\n",
              "      <td>-2999.000000</td>\n",
              "      <td>0.000000</td>\n",
              "      <td>0.000000</td>\n",
              "      <td>0.000000e+00</td>\n",
              "      <td>0.000000e+00</td>\n",
              "      <td>0.000000e+00</td>\n",
              "      <td>0.000000</td>\n",
              "      <td>0.000000</td>\n",
              "      <td>0.000000e+00</td>\n",
              "      <td>0.000000e+00</td>\n",
              "      <td>0.000000</td>\n",
              "      <td>0.000000</td>\n",
              "      <td>-99.000000</td>\n",
              "      <td>-99.000000</td>\n",
              "      <td>0.000000</td>\n",
              "    </tr>\n",
              "    <tr>\n",
              "      <th>25%</th>\n",
              "      <td>1.498574e+06</td>\n",
              "      <td>3.000000</td>\n",
              "      <td>4.000000</td>\n",
              "      <td>0.000000</td>\n",
              "      <td>0.000000e+00</td>\n",
              "      <td>0.000000e+00</td>\n",
              "      <td>0.000000e+00</td>\n",
              "      <td>0.000000</td>\n",
              "      <td>0.000000</td>\n",
              "      <td>0.000000e+00</td>\n",
              "      <td>0.000000e+00</td>\n",
              "      <td>0.000000</td>\n",
              "      <td>0.000000</td>\n",
              "      <td>0.620000</td>\n",
              "      <td>0.640000</td>\n",
              "      <td>0.000000</td>\n",
              "    </tr>\n",
              "    <tr>\n",
              "      <th>50%</th>\n",
              "      <td>1.898033e+06</td>\n",
              "      <td>10.000000</td>\n",
              "      <td>8.000000</td>\n",
              "      <td>0.000000</td>\n",
              "      <td>0.000000e+00</td>\n",
              "      <td>0.000000e+00</td>\n",
              "      <td>0.000000e+00</td>\n",
              "      <td>0.000000</td>\n",
              "      <td>2.000000</td>\n",
              "      <td>4.000000e+00</td>\n",
              "      <td>6.000000e+00</td>\n",
              "      <td>0.000000</td>\n",
              "      <td>0.000000</td>\n",
              "      <td>0.820000</td>\n",
              "      <td>0.800000</td>\n",
              "      <td>0.000000</td>\n",
              "    </tr>\n",
              "    <tr>\n",
              "      <th>75%</th>\n",
              "      <td>2.314826e+06</td>\n",
              "      <td>57.000000</td>\n",
              "      <td>8.000000</td>\n",
              "      <td>0.000000</td>\n",
              "      <td>1.200000e+01</td>\n",
              "      <td>2.500000e+01</td>\n",
              "      <td>3.600000e+01</td>\n",
              "      <td>6.000000</td>\n",
              "      <td>17.000000</td>\n",
              "      <td>3.400000e+01</td>\n",
              "      <td>5.100000e+01</td>\n",
              "      <td>3.000000</td>\n",
              "      <td>0.000000</td>\n",
              "      <td>0.960000</td>\n",
              "      <td>0.950000</td>\n",
              "      <td>0.000000</td>\n",
              "    </tr>\n",
              "    <tr>\n",
              "      <th>max</th>\n",
              "      <td>3.284895e+06</td>\n",
              "      <td>673445.000000</td>\n",
              "      <td>52.000000</td>\n",
              "      <td>170976.000000</td>\n",
              "      <td>1.126656e+06</td>\n",
              "      <td>2.094336e+06</td>\n",
              "      <td>3.062016e+06</td>\n",
              "      <td>295197.000000</td>\n",
              "      <td>934593.000000</td>\n",
              "      <td>1.799099e+06</td>\n",
              "      <td>2.631590e+06</td>\n",
              "      <td>192978.000000</td>\n",
              "      <td>7392.000000</td>\n",
              "      <td>1.000000</td>\n",
              "      <td>1.000000</td>\n",
              "      <td>2999.000000</td>\n",
              "    </tr>\n",
              "  </tbody>\n",
              "</table>\n",
              "</div>"
            ],
            "text/plain": [
              "                sku   national_inv  ...  perf_12_month_avg  local_bo_qty\n",
              "count  6.158900e+04   61589.000000  ...       61589.000000  61589.000000\n",
              "mean   2.037188e+06     287.721882  ...          -5.863664      1.205361\n",
              "std    6.564178e+05    4233.906931  ...          24.844514     29.981155\n",
              "min    1.068628e+06   -2999.000000  ...         -99.000000      0.000000\n",
              "25%    1.498574e+06       3.000000  ...           0.640000      0.000000\n",
              "50%    1.898033e+06      10.000000  ...           0.800000      0.000000\n",
              "75%    2.314826e+06      57.000000  ...           0.950000      0.000000\n",
              "max    3.284895e+06  673445.000000  ...           1.000000   2999.000000\n",
              "\n",
              "[8 rows x 16 columns]"
            ]
          },
          "metadata": {},
          "execution_count": 9
        }
      ]
    },
    {
      "cell_type": "code",
      "metadata": {
        "colab": {
          "base_uri": "https://localhost:8080/"
        },
        "id": "ad52fc70",
        "outputId": "fd21145b-050a-42cd-8779-848531d0ab6d"
      },
      "source": [
        "# Check data type of each attribute\n",
        "data.dtypes"
      ],
      "id": "ad52fc70",
      "execution_count": 10,
      "outputs": [
        {
          "output_type": "execute_result",
          "data": {
            "text/plain": [
              "sku                    int64\n",
              "national_inv           int64\n",
              "lead_time            float64\n",
              "in_transit_qty         int64\n",
              "forecast_3_month       int64\n",
              "forecast_6_month       int64\n",
              "forecast_9_month       int64\n",
              "sales_1_month          int64\n",
              "sales_3_month          int64\n",
              "sales_6_month          int64\n",
              "sales_9_month          int64\n",
              "min_bank               int64\n",
              "potential_issue       object\n",
              "pieces_past_due        int64\n",
              "perf_6_month_avg     float64\n",
              "perf_12_month_avg    float64\n",
              "local_bo_qty           int64\n",
              "deck_risk             object\n",
              "oe_constraint         object\n",
              "ppap_risk             object\n",
              "stop_auto_buy         object\n",
              "rev_stop              object\n",
              "went_on_backorder     object\n",
              "dtype: object"
            ]
          },
          "metadata": {},
          "execution_count": 10
        }
      ]
    },
    {
      "cell_type": "code",
      "metadata": {
        "id": "tEOjUokSf6GR"
      },
      "source": [
        "def understand_data(data) :\n",
        "    return(pd.DataFrame({\"Datatype\":data.dtypes,\n",
        "                         \"No of NAs\":data.isna().sum(),\n",
        "                         \"No of Levels\":data.apply(lambda x: x.nunique(),axis=0),\n",
        "                         \"Levels\":data.apply(lambda x: str(x.unique()),axis=0)}))"
      ],
      "id": "tEOjUokSf6GR",
      "execution_count": 11,
      "outputs": []
    },
    {
      "cell_type": "code",
      "metadata": {
        "colab": {
          "base_uri": "https://localhost:8080/",
          "height": 762
        },
        "id": "4Vh82x4Kf-ij",
        "outputId": "132804de-967d-43b2-fed9-052f3bc99bba"
      },
      "source": [
        "understand_data(data)"
      ],
      "id": "4Vh82x4Kf-ij",
      "execution_count": 12,
      "outputs": [
        {
          "output_type": "execute_result",
          "data": {
            "text/html": [
              "<div>\n",
              "<style scoped>\n",
              "    .dataframe tbody tr th:only-of-type {\n",
              "        vertical-align: middle;\n",
              "    }\n",
              "\n",
              "    .dataframe tbody tr th {\n",
              "        vertical-align: top;\n",
              "    }\n",
              "\n",
              "    .dataframe thead th {\n",
              "        text-align: right;\n",
              "    }\n",
              "</style>\n",
              "<table border=\"1\" class=\"dataframe\">\n",
              "  <thead>\n",
              "    <tr style=\"text-align: right;\">\n",
              "      <th></th>\n",
              "      <th>Datatype</th>\n",
              "      <th>No of NAs</th>\n",
              "      <th>No of Levels</th>\n",
              "      <th>Levels</th>\n",
              "    </tr>\n",
              "  </thead>\n",
              "  <tbody>\n",
              "    <tr>\n",
              "      <th>sku</th>\n",
              "      <td>int64</td>\n",
              "      <td>0</td>\n",
              "      <td>61589</td>\n",
              "      <td>[1888279 1870557 1475481 ... 1909363 1845783 1...</td>\n",
              "    </tr>\n",
              "    <tr>\n",
              "      <th>national_inv</th>\n",
              "      <td>int64</td>\n",
              "      <td>0</td>\n",
              "      <td>2916</td>\n",
              "      <td>[ 117    7  258 ... 2701 6362  -84]</td>\n",
              "    </tr>\n",
              "    <tr>\n",
              "      <th>lead_time</th>\n",
              "      <td>float64</td>\n",
              "      <td>3403</td>\n",
              "      <td>28</td>\n",
              "      <td>[nan  2. 15. 12.  8.  9.  4. 10. 16. 52.  0.  ...</td>\n",
              "    </tr>\n",
              "    <tr>\n",
              "      <th>in_transit_qty</th>\n",
              "      <td>int64</td>\n",
              "      <td>0</td>\n",
              "      <td>908</td>\n",
              "      <td>[     0     10    562     11    812      1    ...</td>\n",
              "    </tr>\n",
              "    <tr>\n",
              "      <th>forecast_3_month</th>\n",
              "      <td>int64</td>\n",
              "      <td>0</td>\n",
              "      <td>1623</td>\n",
              "      <td>[   0   10    4 ... 1206 1205  715]</td>\n",
              "    </tr>\n",
              "    <tr>\n",
              "      <th>forecast_6_month</th>\n",
              "      <td>int64</td>\n",
              "      <td>0</td>\n",
              "      <td>2195</td>\n",
              "      <td>[   0   77    6 ... 1205 6830 1573]</td>\n",
              "    </tr>\n",
              "    <tr>\n",
              "      <th>forecast_9_month</th>\n",
              "      <td>int64</td>\n",
              "      <td>0</td>\n",
              "      <td>2664</td>\n",
              "      <td>[    0   184    10 ...   976 12415  2431]</td>\n",
              "    </tr>\n",
              "    <tr>\n",
              "      <th>sales_1_month</th>\n",
              "      <td>int64</td>\n",
              "      <td>0</td>\n",
              "      <td>1092</td>\n",
              "      <td>[   0   46    1 ... 2065  342 1796]</td>\n",
              "    </tr>\n",
              "    <tr>\n",
              "      <th>sales_3_month</th>\n",
              "      <td>int64</td>\n",
              "      <td>0</td>\n",
              "      <td>1928</td>\n",
              "      <td>[   0  132    2 ...  792 6664 1715]</td>\n",
              "    </tr>\n",
              "    <tr>\n",
              "      <th>sales_6_month</th>\n",
              "      <td>int64</td>\n",
              "      <td>0</td>\n",
              "      <td>2679</td>\n",
              "      <td>[   15     0   256 ... 11606  2252  3425]</td>\n",
              "    </tr>\n",
              "    <tr>\n",
              "      <th>sales_9_month</th>\n",
              "      <td>int64</td>\n",
              "      <td>0</td>\n",
              "      <td>3220</td>\n",
              "      <td>[   15     0   365 ... 19180  2691  4864]</td>\n",
              "    </tr>\n",
              "    <tr>\n",
              "      <th>min_bank</th>\n",
              "      <td>int64</td>\n",
              "      <td>0</td>\n",
              "      <td>1098</td>\n",
              "      <td>[   1    0   47 ... 1702  743 2043]</td>\n",
              "    </tr>\n",
              "    <tr>\n",
              "      <th>potential_issue</th>\n",
              "      <td>object</td>\n",
              "      <td>0</td>\n",
              "      <td>2</td>\n",
              "      <td>['No' 'Yes']</td>\n",
              "    </tr>\n",
              "    <tr>\n",
              "      <th>pieces_past_due</th>\n",
              "      <td>int64</td>\n",
              "      <td>0</td>\n",
              "      <td>190</td>\n",
              "      <td>[   0    7   70   18   11   32    5  200    2 ...</td>\n",
              "    </tr>\n",
              "    <tr>\n",
              "      <th>perf_6_month_avg</th>\n",
              "      <td>float64</td>\n",
              "      <td>0</td>\n",
              "      <td>102</td>\n",
              "      <td>[-9.9e+01  5.0e-01  5.4e-01  7.5e-01  9.7e-01 ...</td>\n",
              "    </tr>\n",
              "    <tr>\n",
              "      <th>perf_12_month_avg</th>\n",
              "      <td>float64</td>\n",
              "      <td>0</td>\n",
              "      <td>102</td>\n",
              "      <td>[-9.9e+01  2.8e-01  7.0e-01  9.0e-01  9.2e-01 ...</td>\n",
              "    </tr>\n",
              "    <tr>\n",
              "      <th>local_bo_qty</th>\n",
              "      <td>int64</td>\n",
              "      <td>0</td>\n",
              "      <td>201</td>\n",
              "      <td>[   0   32    1    2    8   65    4    6   20 ...</td>\n",
              "    </tr>\n",
              "    <tr>\n",
              "      <th>deck_risk</th>\n",
              "      <td>object</td>\n",
              "      <td>0</td>\n",
              "      <td>2</td>\n",
              "      <td>['No' 'Yes']</td>\n",
              "    </tr>\n",
              "    <tr>\n",
              "      <th>oe_constraint</th>\n",
              "      <td>object</td>\n",
              "      <td>0</td>\n",
              "      <td>2</td>\n",
              "      <td>['No' 'Yes']</td>\n",
              "    </tr>\n",
              "    <tr>\n",
              "      <th>ppap_risk</th>\n",
              "      <td>object</td>\n",
              "      <td>0</td>\n",
              "      <td>2</td>\n",
              "      <td>['Yes' 'No']</td>\n",
              "    </tr>\n",
              "    <tr>\n",
              "      <th>stop_auto_buy</th>\n",
              "      <td>object</td>\n",
              "      <td>0</td>\n",
              "      <td>2</td>\n",
              "      <td>['Yes' 'No']</td>\n",
              "    </tr>\n",
              "    <tr>\n",
              "      <th>rev_stop</th>\n",
              "      <td>object</td>\n",
              "      <td>0</td>\n",
              "      <td>2</td>\n",
              "      <td>['No' 'Yes']</td>\n",
              "    </tr>\n",
              "    <tr>\n",
              "      <th>went_on_backorder</th>\n",
              "      <td>object</td>\n",
              "      <td>0</td>\n",
              "      <td>2</td>\n",
              "      <td>['No' 'Yes']</td>\n",
              "    </tr>\n",
              "  </tbody>\n",
              "</table>\n",
              "</div>"
            ],
            "text/plain": [
              "                  Datatype  ...                                             Levels\n",
              "sku                  int64  ...  [1888279 1870557 1475481 ... 1909363 1845783 1...\n",
              "national_inv         int64  ...                [ 117    7  258 ... 2701 6362  -84]\n",
              "lead_time          float64  ...  [nan  2. 15. 12.  8.  9.  4. 10. 16. 52.  0.  ...\n",
              "in_transit_qty       int64  ...  [     0     10    562     11    812      1    ...\n",
              "forecast_3_month     int64  ...                [   0   10    4 ... 1206 1205  715]\n",
              "forecast_6_month     int64  ...                [   0   77    6 ... 1205 6830 1573]\n",
              "forecast_9_month     int64  ...          [    0   184    10 ...   976 12415  2431]\n",
              "sales_1_month        int64  ...                [   0   46    1 ... 2065  342 1796]\n",
              "sales_3_month        int64  ...                [   0  132    2 ...  792 6664 1715]\n",
              "sales_6_month        int64  ...          [   15     0   256 ... 11606  2252  3425]\n",
              "sales_9_month        int64  ...          [   15     0   365 ... 19180  2691  4864]\n",
              "min_bank             int64  ...                [   1    0   47 ... 1702  743 2043]\n",
              "potential_issue     object  ...                                       ['No' 'Yes']\n",
              "pieces_past_due      int64  ...  [   0    7   70   18   11   32    5  200    2 ...\n",
              "perf_6_month_avg   float64  ...  [-9.9e+01  5.0e-01  5.4e-01  7.5e-01  9.7e-01 ...\n",
              "perf_12_month_avg  float64  ...  [-9.9e+01  2.8e-01  7.0e-01  9.0e-01  9.2e-01 ...\n",
              "local_bo_qty         int64  ...  [   0   32    1    2    8   65    4    6   20 ...\n",
              "deck_risk           object  ...                                       ['No' 'Yes']\n",
              "oe_constraint       object  ...                                       ['No' 'Yes']\n",
              "ppap_risk           object  ...                                       ['Yes' 'No']\n",
              "stop_auto_buy       object  ...                                       ['Yes' 'No']\n",
              "rev_stop            object  ...                                       ['No' 'Yes']\n",
              "went_on_backorder   object  ...                                       ['No' 'Yes']\n",
              "\n",
              "[23 rows x 4 columns]"
            ]
          },
          "metadata": {},
          "execution_count": 12
        }
      ]
    },
    {
      "cell_type": "markdown",
      "metadata": {
        "id": "64450b28"
      },
      "source": [
        "**Observations**\n",
        "\n",
        "sku is Categorical but is interpreted as int64                                                                         \n",
        "potential_issue, deck_risk, oe_constraint, ppap_risk, stop_auto_buy, rev_stop, and went_on_backorder are also categorical but is interpreted as object. "
      ],
      "id": "64450b28"
    },
    {
      "cell_type": "markdown",
      "metadata": {
        "id": "ef92876d"
      },
      "source": [
        "**Convert all the attributes to appropriate type**"
      ],
      "id": "ef92876d"
    },
    {
      "cell_type": "markdown",
      "metadata": {
        "id": "92bb67b5"
      },
      "source": [
        "Using astype('category') to convert potential_issue, deck_risk, oe_constraint, ppap_risk, stop_auto_buy, rev_stop, and went_on_backorder attributes to categorical attributes."
      ],
      "id": "92bb67b5"
    },
    {
      "cell_type": "code",
      "metadata": {
        "id": "a1bb2563"
      },
      "source": [
        "for col in ['sku', 'potential_issue', 'deck_risk', 'oe_constraint', 'ppap_risk', 'stop_auto_buy', 'rev_stop', 'went_on_backorder']:\n",
        "    data[col] = data[col].astype('category')"
      ],
      "id": "a1bb2563",
      "execution_count": 13,
      "outputs": []
    },
    {
      "cell_type": "code",
      "metadata": {
        "colab": {
          "base_uri": "https://localhost:8080/"
        },
        "id": "66b31fa4",
        "outputId": "442cb8be-45b8-4412-f63e-43110ca0b944"
      },
      "source": [
        "# Display data type of each variable after dataype conversion\n",
        "data.dtypes"
      ],
      "id": "66b31fa4",
      "execution_count": 14,
      "outputs": [
        {
          "output_type": "execute_result",
          "data": {
            "text/plain": [
              "sku                  category\n",
              "national_inv            int64\n",
              "lead_time             float64\n",
              "in_transit_qty          int64\n",
              "forecast_3_month        int64\n",
              "forecast_6_month        int64\n",
              "forecast_9_month        int64\n",
              "sales_1_month           int64\n",
              "sales_3_month           int64\n",
              "sales_6_month           int64\n",
              "sales_9_month           int64\n",
              "min_bank                int64\n",
              "potential_issue      category\n",
              "pieces_past_due         int64\n",
              "perf_6_month_avg      float64\n",
              "perf_12_month_avg     float64\n",
              "local_bo_qty            int64\n",
              "deck_risk            category\n",
              "oe_constraint        category\n",
              "ppap_risk            category\n",
              "stop_auto_buy        category\n",
              "rev_stop             category\n",
              "went_on_backorder    category\n",
              "dtype: object"
            ]
          },
          "metadata": {},
          "execution_count": 14
        }
      ]
    },
    {
      "cell_type": "code",
      "metadata": {
        "colab": {
          "base_uri": "https://localhost:8080/"
        },
        "id": "k2ew3brlhqAY",
        "outputId": "05160233-64a7-4890-fda8-ae17e3cd9055"
      },
      "source": [
        "# Analyze sku attribute\n",
        "np.unique(data.sku, return_counts = True)"
      ],
      "id": "k2ew3brlhqAY",
      "execution_count": 15,
      "outputs": [
        {
          "output_type": "execute_result",
          "data": {
            "text/plain": [
              "(array([1068628, 1111587, 1111623, ..., 3284776, 3284852, 3284895]),\n",
              " array([1, 1, 1, ..., 1, 1, 1]))"
            ]
          },
          "metadata": {},
          "execution_count": 15
        }
      ]
    },
    {
      "cell_type": "code",
      "metadata": {
        "colab": {
          "base_uri": "https://localhost:8080/"
        },
        "id": "59f70af7",
        "outputId": "4818818a-c72f-4474-8950-903a8b692314"
      },
      "source": [
        "# Analyze sku attribute\n",
        "print(np.size(np.unique(data.sku, return_counts = True)[0]));\n",
        "print(data.shape[0])"
      ],
      "id": "59f70af7",
      "execution_count": 16,
      "outputs": [
        {
          "output_type": "stream",
          "name": "stdout",
          "text": [
            "61589\n",
            "61589\n"
          ]
        }
      ]
    },
    {
      "cell_type": "markdown",
      "metadata": {
        "id": "ab77540f"
      },
      "source": [
        "Notice that it is some kind of an ID column with all distinct values. It will not be useful in model building"
      ],
      "id": "ab77540f"
    },
    {
      "cell_type": "code",
      "metadata": {
        "id": "0951bae5"
      },
      "source": [
        "# Delete sku attribute\n",
        "data.drop('sku', axis=1, inplace = True)"
      ],
      "id": "0951bae5",
      "execution_count": 17,
      "outputs": []
    },
    {
      "cell_type": "markdown",
      "metadata": {
        "id": "75ad8537"
      },
      "source": [
        "**Missing Values**"
      ],
      "id": "75ad8537"
    },
    {
      "cell_type": "code",
      "metadata": {
        "colab": {
          "base_uri": "https://localhost:8080/"
        },
        "id": "4afdf33e",
        "outputId": "2ceefb2d-4307-4a3d-81dc-7b8fee45f636"
      },
      "source": [
        "data.isnull().sum()"
      ],
      "id": "4afdf33e",
      "execution_count": 18,
      "outputs": [
        {
          "output_type": "execute_result",
          "data": {
            "text/plain": [
              "national_inv            0\n",
              "lead_time            3403\n",
              "in_transit_qty          0\n",
              "forecast_3_month        0\n",
              "forecast_6_month        0\n",
              "forecast_9_month        0\n",
              "sales_1_month           0\n",
              "sales_3_month           0\n",
              "sales_6_month           0\n",
              "sales_9_month           0\n",
              "min_bank                0\n",
              "potential_issue         0\n",
              "pieces_past_due         0\n",
              "perf_6_month_avg        0\n",
              "perf_12_month_avg       0\n",
              "local_bo_qty            0\n",
              "deck_risk               0\n",
              "oe_constraint           0\n",
              "ppap_risk               0\n",
              "stop_auto_buy           0\n",
              "rev_stop                0\n",
              "went_on_backorder       0\n",
              "dtype: int64"
            ]
          },
          "metadata": {},
          "execution_count": 18
        }
      ]
    },
    {
      "cell_type": "code",
      "metadata": {
        "colab": {
          "base_uri": "https://localhost:8080/"
        },
        "id": "5e1f0966",
        "outputId": "332bbeb0-8941-4ff9-d22b-8f350b2da7be"
      },
      "source": [
        "print (data.shape)"
      ],
      "id": "5e1f0966",
      "execution_count": 19,
      "outputs": [
        {
          "output_type": "stream",
          "name": "stdout",
          "text": [
            "(61589, 22)\n"
          ]
        }
      ]
    },
    {
      "cell_type": "code",
      "metadata": {
        "id": "b4c47dd8"
      },
      "source": [
        "# Since the number of missing values is about 5%. For initial analysis we shall ignore all these records\n",
        "data = data.dropna(axis=0)"
      ],
      "id": "b4c47dd8",
      "execution_count": 20,
      "outputs": []
    },
    {
      "cell_type": "code",
      "metadata": {
        "colab": {
          "base_uri": "https://localhost:8080/"
        },
        "id": "45f4f875",
        "outputId": "f56c0792-44e2-4237-90ee-afb53c6f7e8c"
      },
      "source": [
        "print(data.isnull().sum())\n",
        "print(data.shape)"
      ],
      "id": "45f4f875",
      "execution_count": 21,
      "outputs": [
        {
          "output_type": "stream",
          "name": "stdout",
          "text": [
            "national_inv         0\n",
            "lead_time            0\n",
            "in_transit_qty       0\n",
            "forecast_3_month     0\n",
            "forecast_6_month     0\n",
            "forecast_9_month     0\n",
            "sales_1_month        0\n",
            "sales_3_month        0\n",
            "sales_6_month        0\n",
            "sales_9_month        0\n",
            "min_bank             0\n",
            "potential_issue      0\n",
            "pieces_past_due      0\n",
            "perf_6_month_avg     0\n",
            "perf_12_month_avg    0\n",
            "local_bo_qty         0\n",
            "deck_risk            0\n",
            "oe_constraint        0\n",
            "ppap_risk            0\n",
            "stop_auto_buy        0\n",
            "rev_stop             0\n",
            "went_on_backorder    0\n",
            "dtype: int64\n",
            "(58186, 22)\n"
          ]
        }
      ]
    },
    {
      "cell_type": "markdown",
      "metadata": {
        "id": "18e1f351"
      },
      "source": [
        "**Converting Categorical to Numeric**\n",
        "\n",
        "For some of the models all the independent attribute should be of type numeric. But this data set has some categorial attributes.\n",
        "\n",
        "'pandas.get_dummies' To convert convert categorical variable into dummy/indicator variables"
      ],
      "id": "18e1f351"
    },
    {
      "cell_type": "markdown",
      "metadata": {
        "id": "8748ccaa"
      },
      "source": [
        "**Creating dummy variables**\n",
        "\n",
        "If we have k levels in a category, then we create k-1 dummy variables as the last one would be redundant. So we use the parameter drop_first in pd.get_dummies function that drops the first level in each of the category"
      ],
      "id": "8748ccaa"
    },
    {
      "cell_type": "code",
      "metadata": {
        "colab": {
          "base_uri": "https://localhost:8080/"
        },
        "id": "404e388e",
        "outputId": "5842a2d7-20ed-4639-9cfe-66ee464ec4cf"
      },
      "source": [
        "categorical_Attributes = data.select_dtypes(include = ['category']).columns\n",
        "categorical_Attributes"
      ],
      "id": "404e388e",
      "execution_count": 22,
      "outputs": [
        {
          "output_type": "execute_result",
          "data": {
            "text/plain": [
              "Index(['potential_issue', 'deck_risk', 'oe_constraint', 'ppap_risk',\n",
              "       'stop_auto_buy', 'rev_stop', 'went_on_backorder'],\n",
              "      dtype='object')"
            ]
          },
          "metadata": {},
          "execution_count": 22
        }
      ]
    },
    {
      "cell_type": "code",
      "metadata": {
        "id": "a969f332"
      },
      "source": [
        "data = pd.get_dummies(columns = categorical_Attributes, \n",
        "                      data = data, \n",
        "                      prefix = categorical_Attributes, \n",
        "                      prefix_sep = \"_\",\n",
        "                      drop_first = True)"
      ],
      "id": "a969f332",
      "execution_count": 23,
      "outputs": []
    },
    {
      "cell_type": "code",
      "metadata": {
        "colab": {
          "base_uri": "https://localhost:8080/"
        },
        "id": "d17512bb",
        "outputId": "0fbd7cbe-1a9d-47ec-dd55-b8b6bc767ec3"
      },
      "source": [
        "print (data.select_dtypes(include = ['uint8']).columns)"
      ],
      "id": "d17512bb",
      "execution_count": 24,
      "outputs": [
        {
          "output_type": "stream",
          "name": "stdout",
          "text": [
            "Index(['potential_issue_Yes', 'deck_risk_Yes', 'oe_constraint_Yes',\n",
            "       'ppap_risk_Yes', 'stop_auto_buy_Yes', 'rev_stop_Yes',\n",
            "       'went_on_backorder_Yes'],\n",
            "      dtype='object')\n"
          ]
        }
      ]
    },
    {
      "cell_type": "code",
      "metadata": {
        "colab": {
          "base_uri": "https://localhost:8080/",
          "height": 224
        },
        "id": "78269435",
        "outputId": "0f04567e-5e27-4ec9-c65a-8ce354b76d25"
      },
      "source": [
        "data.head()"
      ],
      "id": "78269435",
      "execution_count": 25,
      "outputs": [
        {
          "output_type": "execute_result",
          "data": {
            "text/html": [
              "<div>\n",
              "<style scoped>\n",
              "    .dataframe tbody tr th:only-of-type {\n",
              "        vertical-align: middle;\n",
              "    }\n",
              "\n",
              "    .dataframe tbody tr th {\n",
              "        vertical-align: top;\n",
              "    }\n",
              "\n",
              "    .dataframe thead th {\n",
              "        text-align: right;\n",
              "    }\n",
              "</style>\n",
              "<table border=\"1\" class=\"dataframe\">\n",
              "  <thead>\n",
              "    <tr style=\"text-align: right;\">\n",
              "      <th></th>\n",
              "      <th>national_inv</th>\n",
              "      <th>lead_time</th>\n",
              "      <th>in_transit_qty</th>\n",
              "      <th>forecast_3_month</th>\n",
              "      <th>forecast_6_month</th>\n",
              "      <th>forecast_9_month</th>\n",
              "      <th>sales_1_month</th>\n",
              "      <th>sales_3_month</th>\n",
              "      <th>sales_6_month</th>\n",
              "      <th>sales_9_month</th>\n",
              "      <th>min_bank</th>\n",
              "      <th>pieces_past_due</th>\n",
              "      <th>perf_6_month_avg</th>\n",
              "      <th>perf_12_month_avg</th>\n",
              "      <th>local_bo_qty</th>\n",
              "      <th>potential_issue_Yes</th>\n",
              "      <th>deck_risk_Yes</th>\n",
              "      <th>oe_constraint_Yes</th>\n",
              "      <th>ppap_risk_Yes</th>\n",
              "      <th>stop_auto_buy_Yes</th>\n",
              "      <th>rev_stop_Yes</th>\n",
              "      <th>went_on_backorder_Yes</th>\n",
              "    </tr>\n",
              "  </thead>\n",
              "  <tbody>\n",
              "    <tr>\n",
              "      <th>1</th>\n",
              "      <td>7</td>\n",
              "      <td>2.0</td>\n",
              "      <td>0</td>\n",
              "      <td>0</td>\n",
              "      <td>0</td>\n",
              "      <td>0</td>\n",
              "      <td>0</td>\n",
              "      <td>0</td>\n",
              "      <td>0</td>\n",
              "      <td>0</td>\n",
              "      <td>0</td>\n",
              "      <td>0</td>\n",
              "      <td>0.50</td>\n",
              "      <td>0.28</td>\n",
              "      <td>0</td>\n",
              "      <td>0</td>\n",
              "      <td>1</td>\n",
              "      <td>0</td>\n",
              "      <td>0</td>\n",
              "      <td>1</td>\n",
              "      <td>0</td>\n",
              "      <td>0</td>\n",
              "    </tr>\n",
              "    <tr>\n",
              "      <th>2</th>\n",
              "      <td>258</td>\n",
              "      <td>15.0</td>\n",
              "      <td>10</td>\n",
              "      <td>10</td>\n",
              "      <td>77</td>\n",
              "      <td>184</td>\n",
              "      <td>46</td>\n",
              "      <td>132</td>\n",
              "      <td>256</td>\n",
              "      <td>365</td>\n",
              "      <td>47</td>\n",
              "      <td>0</td>\n",
              "      <td>0.54</td>\n",
              "      <td>0.70</td>\n",
              "      <td>0</td>\n",
              "      <td>0</td>\n",
              "      <td>0</td>\n",
              "      <td>0</td>\n",
              "      <td>0</td>\n",
              "      <td>1</td>\n",
              "      <td>0</td>\n",
              "      <td>0</td>\n",
              "    </tr>\n",
              "    <tr>\n",
              "      <th>3</th>\n",
              "      <td>46</td>\n",
              "      <td>2.0</td>\n",
              "      <td>0</td>\n",
              "      <td>0</td>\n",
              "      <td>0</td>\n",
              "      <td>0</td>\n",
              "      <td>1</td>\n",
              "      <td>2</td>\n",
              "      <td>6</td>\n",
              "      <td>9</td>\n",
              "      <td>1</td>\n",
              "      <td>0</td>\n",
              "      <td>0.75</td>\n",
              "      <td>0.90</td>\n",
              "      <td>0</td>\n",
              "      <td>0</td>\n",
              "      <td>1</td>\n",
              "      <td>0</td>\n",
              "      <td>0</td>\n",
              "      <td>1</td>\n",
              "      <td>0</td>\n",
              "      <td>0</td>\n",
              "    </tr>\n",
              "    <tr>\n",
              "      <th>4</th>\n",
              "      <td>2</td>\n",
              "      <td>2.0</td>\n",
              "      <td>0</td>\n",
              "      <td>4</td>\n",
              "      <td>6</td>\n",
              "      <td>10</td>\n",
              "      <td>2</td>\n",
              "      <td>2</td>\n",
              "      <td>5</td>\n",
              "      <td>6</td>\n",
              "      <td>0</td>\n",
              "      <td>0</td>\n",
              "      <td>0.97</td>\n",
              "      <td>0.92</td>\n",
              "      <td>0</td>\n",
              "      <td>0</td>\n",
              "      <td>0</td>\n",
              "      <td>0</td>\n",
              "      <td>0</td>\n",
              "      <td>1</td>\n",
              "      <td>0</td>\n",
              "      <td>0</td>\n",
              "    </tr>\n",
              "    <tr>\n",
              "      <th>5</th>\n",
              "      <td>297</td>\n",
              "      <td>12.0</td>\n",
              "      <td>0</td>\n",
              "      <td>0</td>\n",
              "      <td>0</td>\n",
              "      <td>0</td>\n",
              "      <td>5</td>\n",
              "      <td>6</td>\n",
              "      <td>44</td>\n",
              "      <td>57</td>\n",
              "      <td>3</td>\n",
              "      <td>0</td>\n",
              "      <td>0.58</td>\n",
              "      <td>0.75</td>\n",
              "      <td>0</td>\n",
              "      <td>0</td>\n",
              "      <td>1</td>\n",
              "      <td>0</td>\n",
              "      <td>0</td>\n",
              "      <td>1</td>\n",
              "      <td>0</td>\n",
              "      <td>0</td>\n",
              "    </tr>\n",
              "  </tbody>\n",
              "</table>\n",
              "</div>"
            ],
            "text/plain": [
              "   national_inv  lead_time  ...  rev_stop_Yes  went_on_backorder_Yes\n",
              "1             7        2.0  ...             0                      0\n",
              "2           258       15.0  ...             0                      0\n",
              "3            46        2.0  ...             0                      0\n",
              "4             2        2.0  ...             0                      0\n",
              "5           297       12.0  ...             0                      0\n",
              "\n",
              "[5 rows x 22 columns]"
            ]
          },
          "metadata": {},
          "execution_count": 25
        }
      ]
    },
    {
      "cell_type": "markdown",
      "metadata": {
        "id": "0e633554"
      },
      "source": [
        "**Target attribute distribution**"
      ],
      "id": "0e633554"
    },
    {
      "cell_type": "code",
      "metadata": {
        "colab": {
          "base_uri": "https://localhost:8080/"
        },
        "id": "a39f2c2c",
        "outputId": "832c3700-86cf-4d35-f368-881e86e0d27c"
      },
      "source": [
        "pd.value_counts(data['went_on_backorder_Yes'])"
      ],
      "id": "a39f2c2c",
      "execution_count": 26,
      "outputs": [
        {
          "output_type": "execute_result",
          "data": {
            "text/plain": [
              "0    47217\n",
              "1    10969\n",
              "Name: went_on_backorder_Yes, dtype: int64"
            ]
          },
          "metadata": {},
          "execution_count": 26
        }
      ]
    },
    {
      "cell_type": "markdown",
      "metadata": {
        "id": "ef54218a"
      },
      "source": [
        "**Split the data in to train and test**\n",
        "\n",
        "sklearn.model_selection.train_test_split                                                                               \n",
        "Split arrays or matrices into random train and test subsets"
      ],
      "id": "ef54218a"
    },
    {
      "cell_type": "code",
      "metadata": {
        "id": "8441f923"
      },
      "source": [
        "# Performing train test split on the data\n",
        "X, y = data.loc[:,data.columns!='went_on_backorder_Yes'].values, data.loc[:,'went_on_backorder_Yes'].values\n",
        "X_train, X_test, y_train, y_test = train_test_split(X, y, test_size = 0.3, random_state = 123)"
      ],
      "id": "8441f923",
      "execution_count": 27,
      "outputs": []
    },
    {
      "cell_type": "code",
      "metadata": {
        "colab": {
          "base_uri": "https://localhost:8080/"
        },
        "id": "401de24e",
        "outputId": "851bbe57-03b0-4934-8daf-32bc4b08cf5c"
      },
      "source": [
        "# To get the distribution in the target in train and test\n",
        "print(pd.value_counts(y_train))\n",
        "print(pd.value_counts(y_test))"
      ],
      "id": "401de24e",
      "execution_count": 28,
      "outputs": [
        {
          "output_type": "stream",
          "name": "stdout",
          "text": [
            "0    33067\n",
            "1     7663\n",
            "dtype: int64\n",
            "0    14150\n",
            "1     3306\n",
            "dtype: int64\n"
          ]
        }
      ]
    },
    {
      "cell_type": "markdown",
      "metadata": {
        "id": "4735cb69"
      },
      "source": [
        "**Perceptron Model Building¶**"
      ],
      "id": "4735cb69"
    },
    {
      "cell_type": "code",
      "metadata": {
        "id": "1843f7a2"
      },
      "source": [
        "perceptron_model = Sequential()\n",
        "\n",
        "perceptron_model.add(Dense(1, input_dim = 21, activation = 'sigmoid', kernel_initializer = 'normal'))"
      ],
      "id": "1843f7a2",
      "execution_count": 29,
      "outputs": []
    },
    {
      "cell_type": "markdown",
      "metadata": {
        "id": "6PuUowY0wihQ"
      },
      "source": [
        "Once the model is created, we can config the model with losses and metrics with model.compile(), train the model with model.fit() and  use the model to do prediction with model.predict()."
      ],
      "id": "6PuUowY0wihQ"
    },
    {
      "cell_type": "markdown",
      "metadata": {
        "id": "FFXoO63hyJMT"
      },
      "source": [
        "Remember training a network means finding the best set of weights to map inputs to outputs in our dataset.\n",
        "\n",
        "We must specify the loss function to use to evaluate a set of weights, the optimizer is used to search through different weights for the network and any optional metrics we would like to collect and report during training."
      ],
      "id": "FFXoO63hyJMT"
    },
    {
      "cell_type": "code",
      "metadata": {
        "id": "7efb3245"
      },
      "source": [
        "perceptron_model.compile(optimizer = 'adam', loss = 'binary_crossentropy', metrics = ['accuracy'])"
      ],
      "id": "7efb3245",
      "execution_count": 30,
      "outputs": []
    },
    {
      "cell_type": "markdown",
      "metadata": {
        "id": "B0F6DpNo05KV"
      },
      "source": [
        "We can train or fit our model on our loaded data by calling the fit() function on the model.\n",
        "\n",
        "Training occurs over epochs and each epoch is split into batches.\n",
        "\n",
        "Epoch: One pass through all of the rows in the training dataset.\n",
        "Batch: One or more samples considered by the model within an epoch before weights are updated."
      ],
      "id": "B0F6DpNo05KV"
    },
    {
      "cell_type": "code",
      "metadata": {
        "colab": {
          "base_uri": "https://localhost:8080/"
        },
        "id": "6d540f0e",
        "outputId": "9bf913a2-a1e5-4806-ddf0-922e69de9528"
      },
      "source": [
        "perceptron_model.fit(X_train, y_train, epochs = 30, batch_size = 64)"
      ],
      "id": "6d540f0e",
      "execution_count": 31,
      "outputs": [
        {
          "output_type": "stream",
          "name": "stdout",
          "text": [
            "Epoch 1/30\n",
            "637/637 [==============================] - 1s 880us/step - loss: 1.4140 - accuracy: 0.8303\n",
            "Epoch 2/30\n",
            "637/637 [==============================] - 1s 812us/step - loss: 1.1188 - accuracy: 0.8274\n",
            "Epoch 3/30\n",
            "637/637 [==============================] - 1s 842us/step - loss: 0.8444 - accuracy: 0.8265\n",
            "Epoch 4/30\n",
            "637/637 [==============================] - 1s 783us/step - loss: 0.8820 - accuracy: 0.8239\n",
            "Epoch 5/30\n",
            "637/637 [==============================] - 1s 838us/step - loss: 0.8889 - accuracy: 0.8291\n",
            "Epoch 6/30\n",
            "637/637 [==============================] - 1s 806us/step - loss: 0.7518 - accuracy: 0.8267\n",
            "Epoch 7/30\n",
            "637/637 [==============================] - 1s 812us/step - loss: 0.8723 - accuracy: 0.8228\n",
            "Epoch 8/30\n",
            "637/637 [==============================] - 0s 760us/step - loss: 0.7373 - accuracy: 0.8241\n",
            "Epoch 9/30\n",
            "637/637 [==============================] - 0s 781us/step - loss: 1.5828 - accuracy: 0.8220\n",
            "Epoch 10/30\n",
            "637/637 [==============================] - 1s 785us/step - loss: 1.1198 - accuracy: 0.8268\n",
            "Epoch 11/30\n",
            "637/637 [==============================] - 1s 802us/step - loss: 0.6662 - accuracy: 0.8265\n",
            "Epoch 12/30\n",
            "637/637 [==============================] - 0s 770us/step - loss: 1.0201 - accuracy: 0.8220\n",
            "Epoch 13/30\n",
            "637/637 [==============================] - 0s 767us/step - loss: 0.6385 - accuracy: 0.8249\n",
            "Epoch 14/30\n",
            "637/637 [==============================] - 0s 775us/step - loss: 0.8697 - accuracy: 0.8232\n",
            "Epoch 15/30\n",
            "637/637 [==============================] - 1s 786us/step - loss: 0.8770 - accuracy: 0.8237\n",
            "Epoch 16/30\n",
            "637/637 [==============================] - 1s 789us/step - loss: 0.6637 - accuracy: 0.8236\n",
            "Epoch 17/30\n",
            "637/637 [==============================] - 1s 809us/step - loss: 1.6362 - accuracy: 0.8232\n",
            "Epoch 18/30\n",
            "637/637 [==============================] - 0s 781us/step - loss: 3.2290 - accuracy: 0.8099\n",
            "Epoch 19/30\n",
            "637/637 [==============================] - 1s 821us/step - loss: 1.1824 - accuracy: 0.8267\n",
            "Epoch 20/30\n",
            "637/637 [==============================] - 1s 811us/step - loss: 0.8760 - accuracy: 0.8318\n",
            "Epoch 21/30\n",
            "637/637 [==============================] - 0s 782us/step - loss: 0.6288 - accuracy: 0.8334\n",
            "Epoch 22/30\n",
            "637/637 [==============================] - 1s 775us/step - loss: 0.9193 - accuracy: 0.8265\n",
            "Epoch 23/30\n",
            "637/637 [==============================] - 1s 792us/step - loss: 0.5766 - accuracy: 0.8276\n",
            "Epoch 24/30\n",
            "637/637 [==============================] - 1s 796us/step - loss: 0.8712 - accuracy: 0.8199\n",
            "Epoch 25/30\n",
            "637/637 [==============================] - 1s 787us/step - loss: 0.6693 - accuracy: 0.8228\n",
            "Epoch 26/30\n",
            "637/637 [==============================] - 0s 775us/step - loss: 0.9210 - accuracy: 0.8221\n",
            "Epoch 27/30\n",
            "637/637 [==============================] - 1s 790us/step - loss: 0.8986 - accuracy: 0.8233\n",
            "Epoch 28/30\n",
            "637/637 [==============================] - 1s 793us/step - loss: 0.8840 - accuracy: 0.8215\n",
            "Epoch 29/30\n",
            "637/637 [==============================] - 1s 808us/step - loss: 1.1758 - accuracy: 0.8212\n",
            "Epoch 30/30\n",
            "637/637 [==============================] - 1s 790us/step - loss: 1.2724 - accuracy: 0.8268\n"
          ]
        },
        {
          "output_type": "execute_result",
          "data": {
            "text/plain": [
              "<keras.callbacks.History at 0x7f22cde8d2d0>"
            ]
          },
          "metadata": {},
          "execution_count": 31
        }
      ]
    },
    {
      "cell_type": "markdown",
      "metadata": {
        "id": "ee43fa70"
      },
      "source": [
        "**Predictions**"
      ],
      "id": "ee43fa70"
    },
    {
      "cell_type": "code",
      "metadata": {
        "id": "50ffae2e"
      },
      "source": [
        "train_pred = perceptron_model.predict(X_train)\n",
        "test_pred = perceptron_model.predict(X_test)"
      ],
      "id": "50ffae2e",
      "execution_count": 32,
      "outputs": []
    },
    {
      "cell_type": "code",
      "metadata": {
        "id": "D6GLOP8RyX1c"
      },
      "source": [
        "train_pred = np.where(train_pred >= 0.5, 1, 0)\n",
        "test_pred = np.where(test_pred >= 0.5, 1, 0)"
      ],
      "id": "D6GLOP8RyX1c",
      "execution_count": 33,
      "outputs": []
    },
    {
      "cell_type": "code",
      "metadata": {
        "colab": {
          "base_uri": "https://localhost:8080/"
        },
        "id": "bZlvC5oIywRh",
        "outputId": "cc53c758-88f2-4754-9cf5-348f7e97259e"
      },
      "source": [
        "print(np.unique(y_train, return_counts = True))\n",
        "print(np.unique(train_pred, return_counts = True))\n",
        "print(np.unique(y_test, return_counts = True))\n",
        "print(np.unique(test_pred, return_counts = True))"
      ],
      "id": "bZlvC5oIywRh",
      "execution_count": 34,
      "outputs": [
        {
          "output_type": "stream",
          "name": "stdout",
          "text": [
            "(array([0, 1], dtype=uint8), array([33067,  7663]))\n",
            "(array([0, 1]), array([38986,  1744]))\n",
            "(array([0, 1], dtype=uint8), array([14150,  3306]))\n",
            "(array([0, 1]), array([16698,   758]))\n"
          ]
        }
      ]
    },
    {
      "cell_type": "markdown",
      "metadata": {
        "id": "29ec81df"
      },
      "source": [
        "**Getting evaluation metrics for evaluating the model performance**"
      ],
      "id": "29ec81df"
    },
    {
      "cell_type": "code",
      "metadata": {
        "colab": {
          "base_uri": "https://localhost:8080/"
        },
        "id": "c09e1dae",
        "outputId": "4c0a252c-8e64-469e-efaf-1db0d433687a"
      },
      "source": [
        "print(\"Train data target \\n\", pd.value_counts(y_train))\n",
        "confusion_matrix_train = confusion_matrix(y_train, train_pred)\n",
        "print(\"\\n Confusion matrix \\n\", confusion_matrix_train)\n",
        "\n",
        "print(\"\\n Test data target \\n\", pd.value_counts(y_test))\n",
        "confusion_matrix_test = confusion_matrix(y_test, test_pred)\n",
        "print(\"\\n Confusion matrix \\n\", confusion_matrix_test)"
      ],
      "id": "c09e1dae",
      "execution_count": 35,
      "outputs": [
        {
          "output_type": "stream",
          "name": "stdout",
          "text": [
            "Train data target \n",
            " 0    33067\n",
            "1     7663\n",
            "dtype: int64\n",
            "\n",
            " Confusion matrix \n",
            " [[32555   512]\n",
            " [ 6431  1232]]\n",
            "\n",
            " Test data target \n",
            " 0    14150\n",
            "1     3306\n",
            "dtype: int64\n",
            "\n",
            " Confusion matrix \n",
            " [[13913   237]\n",
            " [ 2785   521]]\n"
          ]
        }
      ]
    },
    {
      "cell_type": "markdown",
      "metadata": {
        "id": "12157527"
      },
      "source": [
        "**Calculate Accuracy, True Positive Rate and True Negative Rates**"
      ],
      "id": "12157527"
    },
    {
      "cell_type": "code",
      "metadata": {
        "colab": {
          "base_uri": "https://localhost:8080/"
        },
        "id": "a86efa7b",
        "outputId": "c4d18ed5-24ec-4436-a9a8-40aecf1fd519"
      },
      "source": [
        "Accuracy_Train=(confusion_matrix_train[0,0]+confusion_matrix_train[1,1])/(confusion_matrix_train[0,0]+\n",
        "                                                                          confusion_matrix_train[0,1]+\n",
        "                                                                          confusion_matrix_train[1,0]+\n",
        "                                                                          confusion_matrix_train[1,1])\n",
        "TNR_Train= confusion_matrix_train[0,0]/(confusion_matrix_train[0,0]+confusion_matrix_train[0,1])\n",
        "TPR_Train= confusion_matrix_train[1,1]/(confusion_matrix_train[1,0]+confusion_matrix_train[1,1])\n",
        "\n",
        "print(\"Train TNR: \",TNR_Train)\n",
        "print(\"Train TPR: \",TPR_Train)\n",
        "print(\"Train Accuracy: \",Accuracy_Train)"
      ],
      "id": "a86efa7b",
      "execution_count": 36,
      "outputs": [
        {
          "output_type": "stream",
          "name": "stdout",
          "text": [
            "Train TNR:  0.9845162851180935\n",
            "Train TPR:  0.1607725433903171\n",
            "Train Accuracy:  0.8295359685735331\n"
          ]
        }
      ]
    },
    {
      "cell_type": "code",
      "metadata": {
        "colab": {
          "base_uri": "https://localhost:8080/"
        },
        "id": "265ae52f",
        "outputId": "6ef92a48-453c-44aa-d582-92d55916ebd3"
      },
      "source": [
        "Accuracy_Test=(confusion_matrix_test[0,0]+confusion_matrix_test[1,1])/(confusion_matrix_test[0,0]+confusion_matrix_test[0,1]+confusion_matrix_test[1,0]+confusion_matrix_test[1,1])\n",
        "TNR_Test= confusion_matrix_test[0,0]/(confusion_matrix_test[0,0] +confusion_matrix_test[0,1])\n",
        "TPR_Test= confusion_matrix_test[1,1]/(confusion_matrix_test[1,0] +confusion_matrix_test[1,1])\n",
        "\n",
        "print(\"Test TNR: \",TNR_Test)\n",
        "print(\"Test TPR: \",TPR_Test)\n",
        "print(\"Test Accuracy: \",Accuracy_Test)"
      ],
      "id": "265ae52f",
      "execution_count": 37,
      "outputs": [
        {
          "output_type": "stream",
          "name": "stdout",
          "text": [
            "Test TNR:  0.9832508833922261\n",
            "Test TPR:  0.15759225650332728\n",
            "Test Accuracy:  0.8268790100824931\n"
          ]
        }
      ]
    },
    {
      "cell_type": "markdown",
      "metadata": {
        "id": "a9de47e0"
      },
      "source": [
        "**MLP Model Building**"
      ],
      "id": "a9de47e0"
    },
    {
      "cell_type": "code",
      "metadata": {
        "id": "f894a2bc"
      },
      "source": [
        "mlp_model = Sequential()\n",
        "\n",
        "mlp_model.add(Dense(12, input_dim = 21, activation='relu', kernel_initializer = 'normal'))\n",
        "mlp_model.add(Dense(1, activation = 'sigmoid', kernel_initializer = 'normal'))"
      ],
      "id": "f894a2bc",
      "execution_count": 38,
      "outputs": []
    },
    {
      "cell_type": "code",
      "metadata": {
        "id": "fa967b42"
      },
      "source": [
        "mlp_model.compile(loss = 'binary_crossentropy', optimizer = 'adam', metrics = ['accuracy'])"
      ],
      "id": "fa967b42",
      "execution_count": 39,
      "outputs": []
    },
    {
      "cell_type": "code",
      "metadata": {
        "colab": {
          "base_uri": "https://localhost:8080/"
        },
        "id": "4d9537f0",
        "outputId": "3ef75765-5fb4-498f-c10a-05d2ca157505"
      },
      "source": [
        "mlp_model.fit(X_train, y_train, epochs = 30, batch_size = 64)"
      ],
      "id": "4d9537f0",
      "execution_count": 40,
      "outputs": [
        {
          "output_type": "stream",
          "name": "stdout",
          "text": [
            "Epoch 1/30\n",
            "637/637 [==============================] - 1s 927us/step - loss: 0.7163 - accuracy: 0.8186\n",
            "Epoch 2/30\n",
            "637/637 [==============================] - 1s 981us/step - loss: 0.4701 - accuracy: 0.8366\n",
            "Epoch 3/30\n",
            "637/637 [==============================] - 1s 981us/step - loss: 0.4519 - accuracy: 0.8514\n",
            "Epoch 4/30\n",
            "637/637 [==============================] - 1s 903us/step - loss: 0.4110 - accuracy: 0.8506\n",
            "Epoch 5/30\n",
            "637/637 [==============================] - 1s 989us/step - loss: 0.3608 - accuracy: 0.8584\n",
            "Epoch 6/30\n",
            "637/637 [==============================] - 1s 944us/step - loss: 0.3672 - accuracy: 0.8748\n",
            "Epoch 7/30\n",
            "637/637 [==============================] - 1s 997us/step - loss: 0.3710 - accuracy: 0.8675\n",
            "Epoch 8/30\n",
            "637/637 [==============================] - 1s 969us/step - loss: 0.3615 - accuracy: 0.8630\n",
            "Epoch 9/30\n",
            "637/637 [==============================] - 1s 1ms/step - loss: 0.3347 - accuracy: 0.8657\n",
            "Epoch 10/30\n",
            "637/637 [==============================] - 1s 963us/step - loss: 0.3318 - accuracy: 0.8699\n",
            "Epoch 11/30\n",
            "637/637 [==============================] - 1s 961us/step - loss: 0.3264 - accuracy: 0.8726\n",
            "Epoch 12/30\n",
            "637/637 [==============================] - 1s 966us/step - loss: 0.3211 - accuracy: 0.8706\n",
            "Epoch 13/30\n",
            "637/637 [==============================] - 1s 941us/step - loss: 0.3087 - accuracy: 0.8712\n",
            "Epoch 14/30\n",
            "637/637 [==============================] - 1s 963us/step - loss: 0.3006 - accuracy: 0.8775\n",
            "Epoch 15/30\n",
            "637/637 [==============================] - 1s 950us/step - loss: 0.2955 - accuracy: 0.8800\n",
            "Epoch 16/30\n",
            "637/637 [==============================] - 1s 967us/step - loss: 0.2889 - accuracy: 0.8779\n",
            "Epoch 17/30\n",
            "637/637 [==============================] - 1s 957us/step - loss: 0.2899 - accuracy: 0.8826\n",
            "Epoch 18/30\n",
            "637/637 [==============================] - 1s 944us/step - loss: 0.2824 - accuracy: 0.8843\n",
            "Epoch 19/30\n",
            "637/637 [==============================] - 1s 924us/step - loss: 0.3486 - accuracy: 0.8725\n",
            "Epoch 20/30\n",
            "637/637 [==============================] - 1s 941us/step - loss: 0.2924 - accuracy: 0.8750\n",
            "Epoch 21/30\n",
            "637/637 [==============================] - 1s 951us/step - loss: 0.2865 - accuracy: 0.8784\n",
            "Epoch 22/30\n",
            "637/637 [==============================] - 1s 920us/step - loss: 0.2866 - accuracy: 0.8796\n",
            "Epoch 23/30\n",
            "637/637 [==============================] - 1s 942us/step - loss: 0.2889 - accuracy: 0.8803\n",
            "Epoch 24/30\n",
            "637/637 [==============================] - 1s 967us/step - loss: 0.3085 - accuracy: 0.8775\n",
            "Epoch 25/30\n",
            "637/637 [==============================] - 1s 945us/step - loss: 0.2803 - accuracy: 0.8780\n",
            "Epoch 26/30\n",
            "637/637 [==============================] - 1s 930us/step - loss: 0.2799 - accuracy: 0.8806\n",
            "Epoch 27/30\n",
            "637/637 [==============================] - 1s 974us/step - loss: 0.2807 - accuracy: 0.8806\n",
            "Epoch 28/30\n",
            "637/637 [==============================] - 1s 948us/step - loss: 0.2761 - accuracy: 0.8836\n",
            "Epoch 29/30\n",
            "637/637 [==============================] - 1s 926us/step - loss: 0.2758 - accuracy: 0.8824\n",
            "Epoch 30/30\n",
            "637/637 [==============================] - 1s 943us/step - loss: 0.2741 - accuracy: 0.8879\n"
          ]
        },
        {
          "output_type": "execute_result",
          "data": {
            "text/plain": [
              "<keras.callbacks.History at 0x7f22cdd80cd0>"
            ]
          },
          "metadata": {},
          "execution_count": 40
        }
      ]
    },
    {
      "cell_type": "markdown",
      "metadata": {
        "id": "85e9d4c1"
      },
      "source": [
        "**Predictions**"
      ],
      "id": "85e9d4c1"
    },
    {
      "cell_type": "code",
      "metadata": {
        "id": "f83187be"
      },
      "source": [
        "test_pred = mlp_model.predict(X_test)\n",
        "train_pred = mlp_model.predict(X_train)"
      ],
      "id": "f83187be",
      "execution_count": 41,
      "outputs": []
    },
    {
      "cell_type": "code",
      "metadata": {
        "id": "c37qghmi0W8H"
      },
      "source": [
        "train_pred = np.where(train_pred >= 0.5, 1, 0)\n",
        "test_pred = np.where(test_pred >= 0.5, 1, 0)"
      ],
      "id": "c37qghmi0W8H",
      "execution_count": 42,
      "outputs": []
    },
    {
      "cell_type": "code",
      "metadata": {
        "colab": {
          "base_uri": "https://localhost:8080/"
        },
        "id": "lxRK66iw0YFO",
        "outputId": "2ace5d1a-483c-4108-88a0-65e959f1688d"
      },
      "source": [
        "print(np.unique(y_train, return_counts = True))\n",
        "print(np.unique(train_pred, return_counts = True))\n",
        "print(np.unique(y_test, return_counts = True))\n",
        "print(np.unique(test_pred, return_counts = True))"
      ],
      "id": "lxRK66iw0YFO",
      "execution_count": 43,
      "outputs": [
        {
          "output_type": "stream",
          "name": "stdout",
          "text": [
            "(array([0, 1], dtype=uint8), array([33067,  7663]))\n",
            "(array([0, 1]), array([34409,  6321]))\n",
            "(array([0, 1], dtype=uint8), array([14150,  3306]))\n",
            "(array([0, 1]), array([14719,  2737]))\n"
          ]
        }
      ]
    },
    {
      "cell_type": "markdown",
      "metadata": {
        "id": "9473460d"
      },
      "source": [
        "**Getting evaluation metrics for evaluating the model performance**"
      ],
      "id": "9473460d"
    },
    {
      "cell_type": "code",
      "metadata": {
        "colab": {
          "base_uri": "https://localhost:8080/"
        },
        "id": "ecbcb3bc",
        "outputId": "a79fe18f-65e0-4271-fc01-24f2ffea86a0"
      },
      "source": [
        "print(\"Train data target \\n\", pd.value_counts(y_train))\n",
        "confusion_matrix_train = confusion_matrix(y_train, train_pred)\n",
        "print(\"\\n Confusion matrix \\n\", confusion_matrix_train)\n",
        "\n",
        "print(\"\\n Test data target \\n\", pd.value_counts(y_test))\n",
        "confusion_matrix_test = confusion_matrix(y_test, test_pred)\n",
        "print(\"\\n Confusion matrix \\n\", confusion_matrix_test)"
      ],
      "id": "ecbcb3bc",
      "execution_count": 44,
      "outputs": [
        {
          "output_type": "stream",
          "name": "stdout",
          "text": [
            "Train data target \n",
            " 0    33067\n",
            "1     7663\n",
            "dtype: int64\n",
            "\n",
            " Confusion matrix \n",
            " [[31537  1530]\n",
            " [ 2872  4791]]\n",
            "\n",
            " Test data target \n",
            " 0    14150\n",
            "1     3306\n",
            "dtype: int64\n",
            "\n",
            " Confusion matrix \n",
            " [[13487   663]\n",
            " [ 1232  2074]]\n"
          ]
        }
      ]
    },
    {
      "cell_type": "markdown",
      "metadata": {
        "id": "3eb387a1"
      },
      "source": [
        "**Calculate Accuracy, True Positive Rate and True Negative Rates**"
      ],
      "id": "3eb387a1"
    },
    {
      "cell_type": "code",
      "metadata": {
        "colab": {
          "base_uri": "https://localhost:8080/"
        },
        "id": "e8d6030c",
        "outputId": "6eb61e73-6c2b-4041-a8f9-e698743e8120"
      },
      "source": [
        "Accuracy_Train = (confusion_matrix_train[0,0] + confusion_matrix_train[1,1])/\\\n",
        "                 (confusion_matrix_train[0,0] + confusion_matrix_train[0,1] + confusion_matrix_train[1,0] + confusion_matrix_train[1,1])\n",
        "TNR_Train = confusion_matrix_train[0,0] / (confusion_matrix_train[0,0] + confusion_matrix_train[0,1])\n",
        "TPR_Train = confusion_matrix_train[1,1] / (confusion_matrix_train[1,0] + confusion_matrix_train[1,1])\n",
        "\n",
        "print(\"Train TNR: \", TNR_Train)\n",
        "print(\"Train TPR: \", TPR_Train)\n",
        "print(\"Train Accuracy: \", Accuracy_Train)"
      ],
      "id": "e8d6030c",
      "execution_count": 45,
      "outputs": [
        {
          "output_type": "stream",
          "name": "stdout",
          "text": [
            "Train TNR:  0.953730305138053\n",
            "Train TPR:  0.6252120579407543\n",
            "Train Accuracy:  0.8919224159096489\n"
          ]
        }
      ]
    },
    {
      "cell_type": "code",
      "metadata": {
        "colab": {
          "base_uri": "https://localhost:8080/"
        },
        "id": "43c70430",
        "outputId": "e7954a7d-8c5e-4649-cdc9-5e9a6a29979f"
      },
      "source": [
        "Accuracy_Test = (confusion_matrix_test[0,0] + confusion_matrix_test[1,1])/\\\n",
        "                (confusion_matrix_test[0,0] + confusion_matrix_test[0,1] + confusion_matrix_test[1,0] + confusion_matrix_test[1,1])\n",
        "TNR_Test = confusion_matrix_test[0,0] / (confusion_matrix_test[0,0] + confusion_matrix_test[0,1])\n",
        "TPR_Test = confusion_matrix_test[1,1] / (confusion_matrix_test[1,0] + confusion_matrix_test[1,1])\n",
        "\n",
        "print(\"Test TNR: \", TNR_Test)\n",
        "print(\"Test TPR: \", TPR_Test)\n",
        "print(\"Test Accuracy: \", Accuracy_Test)"
      ],
      "id": "43c70430",
      "execution_count": 46,
      "outputs": [
        {
          "output_type": "stream",
          "name": "stdout",
          "text": [
            "Test TNR:  0.9531448763250884\n",
            "Test TPR:  0.6273442226255294\n",
            "Test Accuracy:  0.8914413382218148\n"
          ]
        }
      ]
    },
    {
      "cell_type": "code",
      "metadata": {
        "id": "9c51e448"
      },
      "source": [
        "# Notice that the TPR is very bad using a single perceptron & this improved significantly when we used a MLP architecture."
      ],
      "id": "9c51e448",
      "execution_count": 47,
      "outputs": []
    }
  ]
}